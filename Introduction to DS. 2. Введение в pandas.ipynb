{
 "cells": [
  {
   "cell_type": "markdown",
   "metadata": {},
   "source": [
    "# Библиотека Pandas\n",
    "\n",
    "<p><img src=\"https://www.pngarts.com/files/1/Baby-Panda-PNG-Download-Image.png\" style=\"width:200px; float:left\"> </p>\n",
    "\n",
    "<a href=\"http://pandas.pydata.org/\">Pandas</a> - библиотека для обработки и анализа данных. Предназначена для данных разной природы - матричных, панельных данных, временных рядов. Претендует на звание самого мощного и гибкого средства для анализа данных с открытым исходным кодом.\n"
   ]
  },
  {
   "cell_type": "markdown",
   "metadata": {},
   "source": [
    "Загрузка любой библиотеки выглядит следующим образом: <br /> \n",
    "**import** название [**as** псевдоним]\n",
    "\n",
    "Обычно список импортируемых библиотек задается в самом начале ноутбука"
   ]
  },
  {
   "cell_type": "code",
   "execution_count": null,
   "metadata": {
    "collapsed": true
   },
   "outputs": [],
   "source": [
    "# загрузили библиотеку и задали ее псевдоним, по которому далее к ней будем обращаться: pd\n",
    "import pandas as pd"
   ]
  },
  {
   "cell_type": "markdown",
   "metadata": {},
   "source": [
    "## Классы в Pandas"
   ]
  },
  {
   "cell_type": "markdown",
   "metadata": {},
   "source": [
    "В пандас есть два типа структур данных:\n",
    "- `Series`: одномерный массив с именованными индексами (чаще всего, данные одного типа)\n",
    "- `DataFrame`: двухмерный массив, имеет табличную структуру, легко изменяется по размерам, может содержать в себе данные разных типов\n",
    "\n",
    "Оба типа можно создавать вручную с помощью функций из самой библиотеки:\n",
    "- `pandas.Series(data=None, index=None, dtype=None)`\n",
    "- `pandas.DataFrame(data=None, index=None, columns=None, dtype=None)`\n",
    "\n",
    "- **data** - данные, которые надо записать в структуру\n",
    "- **index** - индексы строк\n",
    "- **columns** - названия столбцов\n",
    "- **dtype** - тип данных\n",
    "\n",
    "Кроме `data`, остальные параметры опциональны"
   ]
  },
  {
   "cell_type": "code",
   "execution_count": null,
   "metadata": {},
   "outputs": [],
   "source": [
    "pd.Series([1, 2, 3, 5, 8, 13.5, 'asd', pd.datetime(2018, 1, 13)])"
   ]
  },
  {
   "cell_type": "code",
   "execution_count": null,
   "metadata": {},
   "outputs": [],
   "source": [
    "#можно задать словарь\n",
    "\n",
    "d = dict({\n",
    "    'City': ['MSK', 'SPB', 'NN', 'SPB'],\n",
    "    'Temperature': [-3, +2, -3, +2],\n",
    "    'State': ['Cloudy', 'Clear', 'Snow', 'Clear'],\n",
    "    'Date':[pd.datetime(2017, 1, 16), pd.datetime(2017, 1, 13), pd.datetime(2017, 3, 13), pd.datetime(2017, 1, 1)]\n",
    "})\n",
    "\n",
    "pd.DataFrame(d)"
   ]
  },
  {
   "cell_type": "code",
   "execution_count": null,
   "metadata": {
    "scrolled": true
   },
   "outputs": [],
   "source": [
    "# можно задать список\n",
    "weather = pd.DataFrame([['MSK', 'SPB', 'NN', 'SPB'],[-3, +2, -3, +2],\n",
    "                        ['Cloudy', 'Clear', 'Snow', 'Clear'],\n",
    "                        [pd.datetime(2017, 1, 16), pd.datetime(2017, 1, 13), pd.datetime(2017, 3, 13), pd.datetime(2017, 1, 1)]], \n",
    "                       index = ['City', 'Temperature', 'State', 'Date'])\n",
    "weather"
   ]
  },
  {
   "cell_type": "code",
   "execution_count": null,
   "metadata": {},
   "outputs": [],
   "source": [
    "# траспонируем таблицу, чтобы получить в интересующем нас виде\n",
    "weather = weather.transpose()\n",
    "weather"
   ]
  },
  {
   "cell_type": "markdown",
   "metadata": {},
   "source": [
    "В библиотеке есть:\n",
    "\n",
    "- **функции**: маленькие программы, выполняющие серию команд\n",
    "- **методы**: функции, присущие исключительно объекту класса\n",
    "\n",
    "weather - это объект класса DataFrame <br />\n",
    "transpose() - это метод класса DataFrame, примененный к объекту weather <br />"
   ]
  },
  {
   "cell_type": "markdown",
   "metadata": {},
   "source": [
    "## Загрузка и запись данных\n",
    "Функции типа .read_формат и \n",
    ".to формат считывают и записывают данные соответственно. <br /> Полный список можно найти в документации:\n",
    "http://pandas.pydata.org/pandas-docs/stable/io.html\n",
    "\n",
    "Научимся считывать данные в формате csv (comma separated value) функцией:\n",
    "\n",
    "- <a href=\"http://pandas.pydata.org/pandas-docs/stable/generated/pandas.read_csv.html#pandas.read_csv\"> pd.read_csv()</a>: \n",
    "\n",
    "Аргументов у нее очень много, критически важные:\n",
    " - **filepath_or_buffer** - текстовая строка с названием (адресом) файла\n",
    " - **sep** - разделитель между данными\n",
    " - **header** - номер строки, в которой в файле указаны названия столбцов, None, если нет\n",
    " - **names** - список с названиями колонок\n",
    " - **index_col** - или номер столбца, или список,  или ничего - названия строк\n",
    " \n",
    " <a href=\"https://docs.google.com/spreadsheets/d/1tvaY9HyAyUwidqpZj11x_CVhlXHprnDog7JHou_3Tho/edit?usp=sharing\"> Скачайте данные </a>"
   ]
  },
  {
   "cell_type": "code",
   "execution_count": null,
   "metadata": {},
   "outputs": [],
   "source": [
    "# Скорее всего, данные в папке загрузки. \n",
    "# Если текущий ноутбук лежит у вас на компьютере в папке, отличной от папки, куда загрузились данные, нужно указать полный путь\n",
    "# Если оба файла в одной папке, достаточно указать FoodConsumptionInEurope.csv\n",
    "\n",
    "# у меня они в разных папках\n",
    "foodCons = pd.read_csv('data/FoodConsumptionInEurope.csv')\n",
    "# Выведем на печать\n",
    "foodCons"
   ]
  },
  {
   "cell_type": "code",
   "execution_count": null,
   "metadata": {},
   "outputs": [],
   "source": [
    "# Cчитаем так, чтобы первый столбец стал названием строк\n",
    "foodCons = pd.read_csv('data/FoodConsumptionInEurope.csv', index_col = 0)\n",
    "foodCons"
   ]
  },
  {
   "cell_type": "code",
   "execution_count": null,
   "metadata": {
    "scrolled": true
   },
   "outputs": [],
   "source": [
    "# транспонируем и применим метод head, чтобы посмотреть на первую строчку\n",
    "foodCons = foodCons.transpose()\n",
    "foodCons"
   ]
  },
  {
   "cell_type": "code",
   "execution_count": null,
   "metadata": {
    "collapsed": true
   },
   "outputs": [],
   "source": [
    "# Запишем в папку рядом с вашим ноутбуком переделанный файл\n",
    "foodCons.to_csv('Food.csv')"
   ]
  },
  {
   "cell_type": "markdown",
   "metadata": {},
   "source": [
    "## Просмотр данных\n",
    "Методы:\n",
    "- head(): первые записи\n",
    "- tail(): последние записи\n",
    "- describe(): таблича с описательными статистиками"
   ]
  },
  {
   "cell_type": "code",
   "execution_count": null,
   "metadata": {},
   "outputs": [],
   "source": [
    "foodCons.head(1)"
   ]
  },
  {
   "cell_type": "code",
   "execution_count": null,
   "metadata": {},
   "outputs": [],
   "source": [
    "foodCons.tail(3)"
   ]
  },
  {
   "cell_type": "code",
   "execution_count": null,
   "metadata": {
    "scrolled": true
   },
   "outputs": [],
   "source": [
    "foodCons.describe()"
   ]
  },
  {
   "cell_type": "markdown",
   "metadata": {},
   "source": [
    "## Сортировка данных в таблице\n",
    "Методы:\n",
    "- sort_index - сортировка либо по столбцам, либо по строкам\n",
    "- sort_values - сортировка по значению"
   ]
  },
  {
   "cell_type": "code",
   "execution_count": null,
   "metadata": {},
   "outputs": [],
   "source": [
    "foodCons.sort_index(axis = 'index', ascending = False)"
   ]
  },
  {
   "cell_type": "code",
   "execution_count": null,
   "metadata": {},
   "outputs": [],
   "source": [
    "foodCons.sort_index(axis = 'columns', ascending = True)"
   ]
  },
  {
   "cell_type": "code",
   "execution_count": null,
   "metadata": {
    "scrolled": true
   },
   "outputs": [],
   "source": [
    "foodCons.sort_values(by = 'Eggs', ascending = True)"
   ]
  },
  {
   "cell_type": "markdown",
   "metadata": {},
   "source": [
    "## Выбор данных из датафрейма"
   ]
  },
  {
   "cell_type": "code",
   "execution_count": null,
   "metadata": {},
   "outputs": [],
   "source": [
    "#Выбор по столбцу\n",
    "#foodCons['RedMeat']\n",
    "foodCons.RedMeat"
   ]
  },
  {
   "cell_type": "code",
   "execution_count": null,
   "metadata": {},
   "outputs": [],
   "source": [
    "#Выбор по строкам\n",
    "foodCons[0:2]"
   ]
  },
  {
   "cell_type": "code",
   "execution_count": null,
   "metadata": {
    "scrolled": true
   },
   "outputs": [],
   "source": [
    "foodCons['Albania':'Belgium']"
   ]
  },
  {
   "cell_type": "code",
   "execution_count": null,
   "metadata": {},
   "outputs": [],
   "source": [
    "#Выбор строки по названию\n",
    "foodCons.loc['Austria']"
   ]
  },
  {
   "cell_type": "code",
   "execution_count": null,
   "metadata": {},
   "outputs": [],
   "source": [
    "#пара столбцов\n",
    "foodCons.loc[:, ['RedMeat', 'Eggs']]"
   ]
  },
  {
   "cell_type": "code",
   "execution_count": null,
   "metadata": {
    "scrolled": true
   },
   "outputs": [],
   "source": [
    "#пара столбцов\n",
    "foodCons.loc[['Austria','Belgium'], ['RedMeat', 'Eggs']]"
   ]
  },
  {
   "cell_type": "code",
   "execution_count": null,
   "metadata": {
    "scrolled": true
   },
   "outputs": [],
   "source": [
    "#пара столбцов\n",
    "foodCons.loc['Austria', 'RedMeat']"
   ]
  },
  {
   "cell_type": "code",
   "execution_count": null,
   "metadata": {},
   "outputs": [],
   "source": [
    "#Выбор строки по номеру\n",
    "foodCons.iloc[1]"
   ]
  },
  {
   "cell_type": "code",
   "execution_count": null,
   "metadata": {},
   "outputs": [],
   "source": [
    "#Выбор одного элемента\n",
    "foodCons.iloc[1,0]"
   ]
  },
  {
   "cell_type": "code",
   "execution_count": null,
   "metadata": {},
   "outputs": [],
   "source": [
    "foodCons.iloc[0:3,1:4]"
   ]
  },
  {
   "cell_type": "code",
   "execution_count": null,
   "metadata": {},
   "outputs": [],
   "source": [
    "foodCons.iloc[:,1]"
   ]
  },
  {
   "cell_type": "code",
   "execution_count": null,
   "metadata": {
    "scrolled": true
   },
   "outputs": [],
   "source": [
    "foodCons.iloc[1,:]"
   ]
  },
  {
   "cell_type": "markdown",
   "metadata": {},
   "source": [
    "## Выбор с условием\n",
    "\n",
    "Допустим, что нам нужны не только целом столбцы или \"слайсы\" данных, но данные, соответствующие определенным условиям"
   ]
  },
  {
   "cell_type": "code",
   "execution_count": null,
   "metadata": {},
   "outputs": [],
   "source": [
    "foodCons[foodCons > 5]"
   ]
  },
  {
   "cell_type": "code",
   "execution_count": null,
   "metadata": {},
   "outputs": [],
   "source": [
    "foodCons[foodCons['RedMeat'] > 5]"
   ]
  },
  {
   "cell_type": "code",
   "execution_count": null,
   "metadata": {},
   "outputs": [],
   "source": [
    "foodCons[foodCons['RedMeat'] > 5]['Eggs']"
   ]
  },
  {
   "cell_type": "markdown",
   "metadata": {},
   "source": [
    "## Вставка/Замена данных"
   ]
  },
  {
   "cell_type": "code",
   "execution_count": null,
   "metadata": {},
   "outputs": [],
   "source": [
    "foodCons.at['Austria', 'RedMeat'] = 9\n",
    "foodCons.loc['Austria']"
   ]
  },
  {
   "cell_type": "code",
   "execution_count": null,
   "metadata": {},
   "outputs": [],
   "source": [
    "foodCons.iat[1, 0] = 8.9\n",
    "foodCons.iloc[1,:]"
   ]
  },
  {
   "cell_type": "markdown",
   "metadata": {},
   "source": [
    "## Борьба с пропущенными значениями\n",
    "- pd.isna(DataFrame) - есть ли пропущенные\n",
    "- fillna(value = x) - заполнить пропуски данными\n",
    "- dropna(axis, how) - удалить строки или столбцы; how = 'any' - если хотя бы в одной ячейке есть пропуск; how = 'all' - если во всех ячейках есть пропуски"
   ]
  },
  {
   "cell_type": "code",
   "execution_count": null,
   "metadata": {},
   "outputs": [],
   "source": [
    "#сделаем так, чтобы в данных появились дыры\n",
    "foodCons = pd.read_csv('Food.csv', index_col = 0)\n",
    "foodCopy = foodCons[foodCons > 4]\n",
    "foodCopy"
   ]
  },
  {
   "cell_type": "code",
   "execution_count": null,
   "metadata": {},
   "outputs": [],
   "source": [
    "#Проверка на пропущенные значения\n",
    "pd.isnull(foodCopy)"
   ]
  },
  {
   "cell_type": "code",
   "execution_count": null,
   "metadata": {
    "scrolled": true
   },
   "outputs": [],
   "source": [
    "foodCopy.fillna(value = 0)"
   ]
  },
  {
   "cell_type": "code",
   "execution_count": null,
   "metadata": {},
   "outputs": [],
   "source": [
    "foodCopy = foodCons[foodCons > 8]\n",
    "foodCopy.dropna(axis = 1, how = 'any')"
   ]
  },
  {
   "cell_type": "markdown",
   "metadata": {},
   "source": [
    "## Вставка столбцов и строк\n",
    "Столбцы вставляются очень просто. \n",
    "Например, добавим столбец с регионами Европы\n",
    "\n",
    "Европейские регионы: <br />\n",
    "- Северная Европа: 0 <br />\n",
    "- Южная Европа: 1 <br />\n",
    "- Западная Европа: 2 <br />\n",
    "- Восточная Европа: 3 <br />"
   ]
  },
  {
   "cell_type": "code",
   "execution_count": null,
   "metadata": {},
   "outputs": [],
   "source": [
    "foodCons['Region'] = [1, 2, 2, 3, 3, 0, 2, 0, 2, 1, 3, 2, 1, 2, 0, 3, 1, 3, 1, 0, 2, 2, 3, 2]\n",
    "foodCons"
   ]
  },
  {
   "cell_type": "markdown",
   "metadata": {},
   "source": [
    "А строчки - методом append"
   ]
  },
  {
   "cell_type": "code",
   "execution_count": null,
   "metadata": {
    "scrolled": true
   },
   "outputs": [],
   "source": [
    "s = foodCons.iloc[3]\n",
    "foodCons.append(s)"
   ]
  },
  {
   "cell_type": "markdown",
   "metadata": {},
   "source": [
    "## Группировка данных\n",
    "Метод groupby группирует по столбцу"
   ]
  },
  {
   "cell_type": "code",
   "execution_count": null,
   "metadata": {
    "scrolled": true
   },
   "outputs": [],
   "source": [
    "foodCons.groupby('Region').sum()"
   ]
  },
  {
   "cell_type": "markdown",
   "metadata": {},
   "source": [
    "## Задача\n",
    "Скачайте данные по <a href=https://www.dropbox.com/s/f2e3afgxw90qluw/yob2015.txt?dl=0>ссылке</a>. <br />\n",
    "В файле представлена информация об именах новорожденных в США в 2015 году в формате: \"name, gender, count\"\n",
    "\n",
    "0. Данные в формате .txt, но отлично считываются изученной функцией для чтения :)\n",
    "1. Укажите наименования заголовков Name, Gender, Count\n",
    "2. Выведите первые 10 строк\n",
    "3. Посчитайте, сколько всего новорожденных\n",
    "4. Посчитайте, сколько новорожденных девочек\n",
    "5. Посчитайте долю девочек среди новорожденных и округлите до двух знаков после запятой"
   ]
  },
  {
   "cell_type": "markdown",
   "metadata": {},
   "source": [
    "# Итоги\n",
    "\n",
    "## Библиотека pandas:\n",
    "\n",
    "###  Функции для создания объектов\n",
    "- pd.Series()\n",
    "- pd.DataFrame()\n",
    "- pd.read_csv()\n",
    "- pd.isna()\n",
    "\n",
    "### Методы\n",
    "- pd.DataFrame.transpose()\n",
    "- pd.DataFrame.head()\n",
    "- pd.DataFrame.tail()\n",
    "- pd.DataFrame.rename()\n",
    "- pd.DataFrame.loc()\n",
    "- pd.DataFrame.iloc()\n",
    "- pd.DataFrame.fillna()\n",
    "- pd.DataFrame.dropna()\n",
    "- pd.DataFrame.append()\n",
    "- pd.DataFrame.sum()"
   ]
  }
 ],
 "metadata": {
  "kernelspec": {
   "display_name": "Python 3",
   "language": "python",
   "name": "python3"
  },
  "language_info": {
   "codemirror_mode": {
    "name": "ipython",
    "version": 3
   },
   "file_extension": ".py",
   "mimetype": "text/x-python",
   "name": "python",
   "nbconvert_exporter": "python",
   "pygments_lexer": "ipython3",
   "version": "3.6.1"
  },
  "varInspector": {
   "cols": {
    "lenName": 16,
    "lenType": 16,
    "lenVar": 40
   },
   "kernels_config": {
    "python": {
     "delete_cmd_postfix": "",
     "delete_cmd_prefix": "del ",
     "library": "var_list.py",
     "varRefreshCmd": "print(var_dic_list())"
    },
    "r": {
     "delete_cmd_postfix": ") ",
     "delete_cmd_prefix": "rm(",
     "library": "var_list.r",
     "varRefreshCmd": "cat(var_dic_list()) "
    }
   },
   "types_to_exclude": [
    "module",
    "function",
    "builtin_function_or_method",
    "instance",
    "_Feature"
   ],
   "window_display": false
  }
 },
 "nbformat": 4,
 "nbformat_minor": 2
}
