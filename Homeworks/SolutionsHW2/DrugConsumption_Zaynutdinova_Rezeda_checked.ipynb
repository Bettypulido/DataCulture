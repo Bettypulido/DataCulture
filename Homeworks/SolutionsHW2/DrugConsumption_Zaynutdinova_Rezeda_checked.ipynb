{
 "cells": [
  {
   "cell_type": "markdown",
   "metadata": {},
   "source": [
    "Домашнее задание, часть 2.\n"
   ]
  },
  {
   "cell_type": "markdown",
   "metadata": {},
   "source": [
    "### Комментарий к решению\n",
    "Да никаких особых комментариев, все сделано идеально, так что заслуженные 20 баллов :) "
   ]
  },
  {
   "cell_type": "code",
   "execution_count": 1,
   "metadata": {
    "collapsed": true
   },
   "outputs": [],
   "source": [
    "import pandas as pd\n",
    "import matplotlib.pyplot as plt\n",
    "#import seaborn as sns\n",
    "%matplotlib inline"
   ]
  },
  {
   "cell_type": "code",
   "execution_count": 2,
   "metadata": {
    "collapsed": true
   },
   "outputs": [],
   "source": [
    "data = pd.read_csv('../datasets/Zaynutdinova_Rezeda_drug_consumption.data.txt',header=None)"
   ]
  },
  {
   "cell_type": "code",
   "execution_count": 4,
   "metadata": {
    "collapsed": true
   },
   "outputs": [],
   "source": [
    "data = pd.read_csv('Zaynutdinova_Rezeda_drug_consumption_data.txt',header=None)"
   ]
  },
  {
   "cell_type": "code",
   "execution_count": 3,
   "metadata": {
    "scrolled": true
   },
   "outputs": [
    {
     "data": {
      "text/html": [
       "<div>\n",
       "<style>\n",
       "    .dataframe thead tr:only-child th {\n",
       "        text-align: right;\n",
       "    }\n",
       "\n",
       "    .dataframe thead th {\n",
       "        text-align: left;\n",
       "    }\n",
       "\n",
       "    .dataframe tbody tr th {\n",
       "        vertical-align: top;\n",
       "    }\n",
       "</style>\n",
       "<table border=\"1\" class=\"dataframe\">\n",
       "  <thead>\n",
       "    <tr style=\"text-align: right;\">\n",
       "      <th></th>\n",
       "      <th>ID</th>\n",
       "      <th>Age</th>\n",
       "      <th>Gender</th>\n",
       "      <th>Education</th>\n",
       "      <th>Country</th>\n",
       "      <th>Ethnicity</th>\n",
       "      <th>Nscore(Neuroticism)</th>\n",
       "      <th>Escore(Extraversion)</th>\n",
       "      <th>Oscore(Openness)</th>\n",
       "      <th>Ascore(Agreeableness)</th>\n",
       "      <th>...</th>\n",
       "      <th>Ecstasy</th>\n",
       "      <th>Heroin</th>\n",
       "      <th>Ketamine</th>\n",
       "      <th>Legalh</th>\n",
       "      <th>LSD</th>\n",
       "      <th>Meth</th>\n",
       "      <th>Mushrooms</th>\n",
       "      <th>Nicotine</th>\n",
       "      <th>Semer</th>\n",
       "      <th>VSA</th>\n",
       "    </tr>\n",
       "  </thead>\n",
       "  <tbody>\n",
       "    <tr>\n",
       "      <th>0</th>\n",
       "      <td>1</td>\n",
       "      <td>0.49788</td>\n",
       "      <td>0.48246</td>\n",
       "      <td>-0.05921</td>\n",
       "      <td>0.96082</td>\n",
       "      <td>0.12600</td>\n",
       "      <td>0.31287</td>\n",
       "      <td>-0.57545</td>\n",
       "      <td>-0.58331</td>\n",
       "      <td>-0.91699</td>\n",
       "      <td>...</td>\n",
       "      <td>CL0</td>\n",
       "      <td>CL0</td>\n",
       "      <td>CL0</td>\n",
       "      <td>CL0</td>\n",
       "      <td>CL0</td>\n",
       "      <td>CL0</td>\n",
       "      <td>CL0</td>\n",
       "      <td>CL2</td>\n",
       "      <td>CL0</td>\n",
       "      <td>CL0</td>\n",
       "    </tr>\n",
       "    <tr>\n",
       "      <th>1</th>\n",
       "      <td>2</td>\n",
       "      <td>-0.07854</td>\n",
       "      <td>-0.48246</td>\n",
       "      <td>1.98437</td>\n",
       "      <td>0.96082</td>\n",
       "      <td>-0.31685</td>\n",
       "      <td>-0.67825</td>\n",
       "      <td>1.93886</td>\n",
       "      <td>1.43533</td>\n",
       "      <td>0.76096</td>\n",
       "      <td>...</td>\n",
       "      <td>CL4</td>\n",
       "      <td>CL0</td>\n",
       "      <td>CL2</td>\n",
       "      <td>CL0</td>\n",
       "      <td>CL2</td>\n",
       "      <td>CL3</td>\n",
       "      <td>CL0</td>\n",
       "      <td>CL4</td>\n",
       "      <td>CL0</td>\n",
       "      <td>CL0</td>\n",
       "    </tr>\n",
       "    <tr>\n",
       "      <th>2</th>\n",
       "      <td>3</td>\n",
       "      <td>0.49788</td>\n",
       "      <td>-0.48246</td>\n",
       "      <td>-0.05921</td>\n",
       "      <td>0.96082</td>\n",
       "      <td>-0.31685</td>\n",
       "      <td>-0.46725</td>\n",
       "      <td>0.80523</td>\n",
       "      <td>-0.84732</td>\n",
       "      <td>-1.62090</td>\n",
       "      <td>...</td>\n",
       "      <td>CL0</td>\n",
       "      <td>CL0</td>\n",
       "      <td>CL0</td>\n",
       "      <td>CL0</td>\n",
       "      <td>CL0</td>\n",
       "      <td>CL0</td>\n",
       "      <td>CL1</td>\n",
       "      <td>CL0</td>\n",
       "      <td>CL0</td>\n",
       "      <td>CL0</td>\n",
       "    </tr>\n",
       "  </tbody>\n",
       "</table>\n",
       "<p>3 rows × 32 columns</p>\n",
       "</div>"
      ],
      "text/plain": [
       "   ID      Age   Gender  Education  Country  Ethnicity  Nscore(Neuroticism)  \\\n",
       "0   1  0.49788  0.48246   -0.05921  0.96082    0.12600              0.31287   \n",
       "1   2 -0.07854 -0.48246    1.98437  0.96082   -0.31685             -0.67825   \n",
       "2   3  0.49788 -0.48246   -0.05921  0.96082   -0.31685             -0.46725   \n",
       "\n",
       "   Escore(Extraversion)  Oscore(Openness)  Ascore(Agreeableness) ...   \\\n",
       "0              -0.57545          -0.58331               -0.91699 ...    \n",
       "1               1.93886           1.43533                0.76096 ...    \n",
       "2               0.80523          -0.84732               -1.62090 ...    \n",
       "\n",
       "   Ecstasy  Heroin  Ketamine Legalh  LSD Meth Mushrooms Nicotine Semer  VSA  \n",
       "0      CL0     CL0       CL0    CL0  CL0  CL0       CL0      CL2   CL0  CL0  \n",
       "1      CL4     CL0       CL2    CL0  CL2  CL3       CL0      CL4   CL0  CL0  \n",
       "2      CL0     CL0       CL0    CL0  CL0  CL0       CL1      CL0   CL0  CL0  \n",
       "\n",
       "[3 rows x 32 columns]"
      ]
     },
     "execution_count": 3,
     "metadata": {},
     "output_type": "execute_result"
    }
   ],
   "source": [
    "# Так как я начала делать это домашнее задание в новом ноутбуке, мне необходимо здесь сначала переименовать столбцы\n",
    "\n",
    "data.columns = ['ID','Age','Gender','Education','Country','Ethnicity','Nscore(Neuroticism)','Escore(Extraversion)','Oscore(Openness)','Ascore(Agreeableness)','Cscore(Conscientiousness)','Impulsiveness','Sensation seeing','Alcohol','Amphet','Amyl','Benzos','Caff','Cannabis','Choc','Coke','Crack','Ecstasy','Heroin','Ketamine','Legalh','LSD','Meth','Mushrooms','Nicotine','Semer','VSA']\n",
    "data.head(3)"
   ]
  },
  {
   "cell_type": "markdown",
   "metadata": {},
   "source": [
    "Итак, теперь собственно к самому заданию.\n",
    "Передо мной стоит задача классификации - мне необходимо спрогнозировать употреблял ли человек экстази (да или нет)."
   ]
  },
  {
   "cell_type": "markdown",
   "metadata": {},
   "source": [
    "Подготовка данных"
   ]
  },
  {
   "cell_type": "code",
   "execution_count": 4,
   "metadata": {
    "collapsed": true
   },
   "outputs": [],
   "source": [
    "# Для начала уберём ненужные переменные\n",
    "# Помимо всех наркотиков кроме экстази, я убрала и переменную ID, так как это всего лишь порядковый номер наблюдения, который не представляет интереса нашему прогнозу\n",
    "\n",
    "columns = ['ID', 'Alcohol', 'Amphet', 'Amyl', 'Benzos', \n",
    "           'Caff', 'Cannabis', 'Choc', 'Coke', 'Crack', \n",
    "           'Heroin', 'Ketamine', 'Legalh', 'LSD', 'Meth', \n",
    "           'Mushrooms', 'Nicotine', 'Semer', 'VSA']\n",
    "data.drop(columns, axis=1, inplace=True)"
   ]
  },
  {
   "cell_type": "code",
   "execution_count": 5,
   "metadata": {},
   "outputs": [
    {
     "data": {
      "text/plain": [
       "Age                          0\n",
       "Gender                       0\n",
       "Education                    0\n",
       "Country                      0\n",
       "Ethnicity                    0\n",
       "Nscore(Neuroticism)          0\n",
       "Escore(Extraversion)         0\n",
       "Oscore(Openness)             0\n",
       "Ascore(Agreeableness)        0\n",
       "Cscore(Conscientiousness)    0\n",
       "Impulsiveness                0\n",
       "Sensation seeing             0\n",
       "Ecstasy                      0\n",
       "dtype: int64"
      ]
     },
     "execution_count": 5,
     "metadata": {},
     "output_type": "execute_result"
    }
   ],
   "source": [
    "# Теперь посмотрим есть ли у нас пропуски в переменных\n",
    "\n",
    "data.isnull().sum()\n",
    "\n",
    "# К счастью, их не оказалось"
   ]
  },
  {
   "cell_type": "markdown",
   "metadata": {},
   "source": [
    "Теперь создадим новые переменные с помощью One Hot Encoding"
   ]
  },
  {
   "cell_type": "code",
   "execution_count": 6,
   "metadata": {},
   "outputs": [
    {
     "data": {
      "text/plain": [
       "7"
      ]
     },
     "execution_count": 6,
     "metadata": {},
     "output_type": "execute_result"
    }
   ],
   "source": [
    "# Для начала подсчитаем, сколько уникальных значений принимает данная переменная\n",
    "\n",
    "len(data['Ecstasy'].unique())\n",
    "\n",
    "# 7 < 20, значит могу смело делать OHE"
   ]
  },
  {
   "cell_type": "code",
   "execution_count": 7,
   "metadata": {
    "collapsed": true
   },
   "outputs": [],
   "source": [
    "# OHE\n",
    "\n",
    "dummies = pd.get_dummies(data['Ecstasy'], prefix='Ecstasy')\n",
    "data = pd.concat([data, dummies], axis=1)\n",
    "data.drop(['Ecstasy'], axis=1, inplace=True)\n",
    "\n",
    "# Я не выкидываю первый столбец, так как именно он будет являться моей целевой переменной"
   ]
  },
  {
   "cell_type": "markdown",
   "metadata": {},
   "source": [
    "Итак, целевой переменной для нас будет являться Ecstasy_CL0, которая показывает, что человек никогда не употрелял алкоголь (1) или что хоть раз пробовал (0)."
   ]
  },
  {
   "cell_type": "code",
   "execution_count": 8,
   "metadata": {
    "collapsed": true
   },
   "outputs": [],
   "source": [
    "# Уберём лишние переменные, явно связнные с целевой\n",
    "# Убираю все переменные, показывающие, когда человек последний раз употреблял экстази\n",
    "\n",
    "data.drop(['Ecstasy_CL1', 'Ecstasy_CL2', 'Ecstasy_CL3', 'Ecstasy_CL4', 'Ecstasy_CL5', 'Ecstasy_CL6'], axis=1, inplace=True)"
   ]
  },
  {
   "cell_type": "code",
   "execution_count": 9,
   "metadata": {},
   "outputs": [
    {
     "data": {
      "text/plain": [
       "<matplotlib.axes._subplots.AxesSubplot at 0x115c6b1d0>"
      ]
     },
     "execution_count": 9,
     "metadata": {},
     "output_type": "execute_result"
    },
    {
     "data": {
      "image/png": "[encoded data removed]",
      "text/plain": [
       "<matplotlib.figure.Figure at 0x115c73a20>"
      ]
     },
     "metadata": {},
     "output_type": "display_data"
    }
   ],
   "source": [
    "# И посмотрим на распределение целевой переменной\n",
    "\n",
    "data.Ecstasy_CL0.hist()"
   ]
  },
  {
   "cell_type": "markdown",
   "metadata": {},
   "source": [
    "А теперь моделирование!"
   ]
  },
  {
   "cell_type": "code",
   "execution_count": 10,
   "metadata": {
    "collapsed": true
   },
   "outputs": [],
   "source": [
    "# Разобьём выборку на тренировочную и тестовую\n",
    "\n",
    "y = data['Ecstasy_CL0'].values\n",
    "X = data.drop('Ecstasy_CL0',axis=1).values\n",
    "\n",
    "from sklearn.model_selection import train_test_split\n",
    "data_train, data_test = train_test_split(data, test_size = 0.3)\n",
    "\n",
    "y_train = data_train['Ecstasy_CL0']\n",
    "y_test = data_test['Ecstasy_CL0']\n",
    "\n",
    "X_train = data_train.drop(['Ecstasy_CL0'], axis=1)\n",
    "X_test = data_test.drop(['Ecstasy_CL0'], axis=1)"
   ]
  },
  {
   "cell_type": "code",
   "execution_count": 11,
   "metadata": {},
   "outputs": [
    {
     "name": "stdout",
     "output_type": "stream",
     "text": [
      "(1319, 13)\n",
      "(566, 13)\n"
     ]
    }
   ],
   "source": [
    "# Посмотрим на размер каждой\n",
    "\n",
    "print(data_train.shape) \n",
    "print(data_test.shape)"
   ]
  },
  {
   "cell_type": "markdown",
   "metadata": {},
   "source": [
    "А теперь, собственно, модели"
   ]
  },
  {
   "cell_type": "code",
   "execution_count": 12,
   "metadata": {
    "collapsed": true
   },
   "outputs": [],
   "source": [
    "# Первая модель - случайный лес\n",
    "\n",
    "from sklearn.ensemble import RandomForestClassifier\n",
    "rfc = RandomForestClassifier(n_estimators=500) \n",
    "rfc.fit(X_train, y_train)\n",
    "y_predicted = rfc.predict(X_test)\n",
    "y_proba = rfc.predict_proba(X_test)\n"
   ]
  },
  {
   "cell_type": "code",
   "execution_count": 13,
   "metadata": {},
   "outputs": [
    {
     "data": {
      "text/plain": [
       "<matplotlib.axes._subplots.AxesSubplot at 0x118903518>"
      ]
     },
     "execution_count": 13,
     "metadata": {},
     "output_type": "execute_result"
    },
    {
     "data": {
      "image/png": "[encoded data removed]",
      "text/plain": [
       "<matplotlib.figure.Figure at 0x118903d30>"
      ]
     },
     "metadata": {},
     "output_type": "display_data"
    }
   ],
   "source": [
    "# Посморим на важность признаков\n",
    "\n",
    "featureImportance = pd.DataFrame({\"feature\": data.drop('Ecstasy_CL0',axis=1).columns, \n",
    "                                  \"importance\": rfc.feature_importances_})\n",
    "\n",
    "featureImportance.set_index('feature', inplace=True)\n",
    "featureImportance.sort_values([\"importance\"], ascending=False, inplace=True)\n",
    "featureImportance[\"importance\"].plot('bar')"
   ]
  },
  {
   "cell_type": "code",
   "execution_count": 14,
   "metadata": {},
   "outputs": [
    {
     "data": {
      "text/plain": [
       "RandomForestClassifier(bootstrap=True, class_weight=None, criterion='gini',\n",
       "            max_depth=None, max_features='auto', max_leaf_nodes=None,\n",
       "            min_impurity_decrease=0.0, min_impurity_split=None,\n",
       "            min_samples_leaf=1, min_samples_split=2,\n",
       "            min_weight_fraction_leaf=0.0, n_estimators=500, n_jobs=1,\n",
       "            oob_score=False, random_state=42, verbose=0, warm_start=False)"
      ]
     },
     "execution_count": 14,
     "metadata": {},
     "output_type": "execute_result"
    }
   ],
   "source": [
    "# Сделаем дополнительную настройку параметров\n",
    "\n",
    "from sklearn.model_selection import GridSearchCV\n",
    "\n",
    "parameters = {\n",
    "              'n_estimators': [500, 700, 1000, 1500],           \n",
    "                 \n",
    "             } \n",
    "\n",
    "rfc = RandomForestClassifier(random_state=42)   \n",
    "\n",
    "gcv = GridSearchCV(rfc, parameters, n_jobs= -1) \n",
    "gcv.fit(X, y)\n",
    "gcv.best_estimator_\n"
   ]
  },
  {
   "cell_type": "code",
   "execution_count": 15,
   "metadata": {},
   "outputs": [
    {
     "name": "stdout",
     "output_type": "stream",
     "text": [
      "Accuracy = 0.696113074204947\n",
      "Precision = 0.735593220338983\n",
      "Recall = 0.6977491961414791\n",
      "F1_score = 0.7161716171617161\n",
      "AUC = 0.756345753735578\n"
     ]
    },
    {
     "data": {
      "image/png": "[encoded data removed]",
      "text/plain": [
       "<matplotlib.figure.Figure at 0x118aff358>"
      ]
     },
     "metadata": {},
     "output_type": "display_data"
    }
   ],
   "source": [
    "# Посмотрим на метрики качества\n",
    "\n",
    "from sklearn.metrics import accuracy_score, precision_score, recall_score, f1_score, roc_auc_score, roc_curve\n",
    "\n",
    "print('Accuracy =', accuracy_score(y_test, y_predicted))\n",
    "print('Precision =', precision_score(y_test, y_predicted))\n",
    "print('Recall =', recall_score(y_test, y_predicted))\n",
    "print('F1_score =', f1_score(y_test, y_predicted))\n",
    "print('AUC =', roc_auc_score(y_test, y_proba[:,1]))\n",
    "\n",
    "fpr, tpr, thresholds = roc_curve(y_test, y_proba[:,1])\n",
    "\n",
    "plt.plot(fpr, tpr, label='ROC curve ')\n",
    "plt.plot([0, 1], [0, 1])\n",
    "plt.xlim([0.0, 1.0])\n",
    "plt.ylim([0.0, 1.05])\n",
    "plt.xlabel('False Positive Rate')\n",
    "plt.ylabel('True Positive Rate')\n",
    "plt.title('ROC curve')\n",
    "plt.show()"
   ]
  },
  {
   "cell_type": "code",
   "execution_count": 16,
   "metadata": {
    "collapsed": true
   },
   "outputs": [],
   "source": [
    "# Вторая модель - логистическая регрессия\n",
    "\n",
    "from sklearn.linear_model import LogisticRegression\n",
    "logit = LogisticRegression()\n",
    "logit.fit(X_train, y_train)\n",
    "y_predicted = logit.predict(X_test)\n",
    "y_proba = logit.predict_proba(X_test)\n"
   ]
  },
  {
   "cell_type": "code",
   "execution_count": 17,
   "metadata": {},
   "outputs": [
    {
     "name": "stdout",
     "output_type": "stream",
     "text": [
      "Accuracy = 0.6996466431095406\n",
      "Precision = 0.7169230769230769\n",
      "Recall = 0.7491961414790996\n",
      "F1_score = 0.7327044025157232\n",
      "AUC = 0.7465355273942373\n"
     ]
    },
    {
     "data": {
      "image/png": "[encoded data removed]",
      "text/plain": [
       "<matplotlib.figure.Figure at 0x11893ef60>"
      ]
     },
     "metadata": {},
     "output_type": "display_data"
    }
   ],
   "source": [
    "# Посмотрим на метрики качества \n",
    "\n",
    "\n",
    "print('Accuracy =', accuracy_score(y_test, y_predicted))\n",
    "print('Precision =', precision_score(y_test, y_predicted))\n",
    "print('Recall =', recall_score(y_test, y_predicted))\n",
    "print('F1_score =', f1_score(y_test, y_predicted))\n",
    "print('AUC =', roc_auc_score(y_test, y_proba[:,1]))\n",
    "\n",
    "fpr, tpr, thresholds = roc_curve(y_test, y_proba[:,1])\n",
    "\n",
    "plt.plot(fpr, tpr, label='ROC curve ')\n",
    "plt.plot([0, 1], [0, 1])\n",
    "plt.xlim([0.0, 1.0])\n",
    "plt.ylim([0.0, 1.05])\n",
    "plt.xlabel('False Positive Rate')\n",
    "plt.ylabel('True Positive Rate')\n",
    "plt.title('ROC curve')\n",
    "plt.show()"
   ]
  },
  {
   "cell_type": "markdown",
   "metadata": {},
   "source": [
    "### Комментарий к решению\n",
    "У логита тоже можно было посмотреть на важность признаков и более того - даже посмотреть, как они влияют на вероятность употребления наркотика - так мужчины явно более склонны к его употреблению, возраст тоже повышает шансы"
   ]
  },
  {
   "cell_type": "code",
   "execution_count": 18,
   "metadata": {},
   "outputs": [
    {
     "data": {
      "image/png": "[encoded data removed]",
      "text/plain": [
       "<matplotlib.figure.Figure at 0x118e1eda0>"
      ]
     },
     "metadata": {},
     "output_type": "display_data"
    }
   ],
   "source": [
    "featureImportance = pd.DataFrame({\"feature\": data.drop('Ecstasy_CL0',axis=1).columns, \n",
    "                                  \"importance\": logit.coef_[0]})\n",
    "\n",
    "featureImportance.set_index('feature', inplace=True)\n",
    "featureImportance.sort_values([\"importance\"], ascending=False, inplace=True)\n",
    "featureImportance[\"importance\"].plot('bar');"
   ]
  }
 ],
 "metadata": {
  "kernelspec": {
   "display_name": "Python 3",
   "language": "python",
   "name": "python3"
  },
  "language_info": {
   "codemirror_mode": {
    "name": "ipython",
    "version": 3
   },
   "file_extension": ".py",
   "mimetype": "text/x-python",
   "name": "python",
   "nbconvert_exporter": "python",
   "pygments_lexer": "ipython3",
   "version": "3.6.1"
  },
  "varInspector": {
   "cols": {
    "lenName": 16,
    "lenType": 16,
    "lenVar": 40
   },
   "kernels_config": {
    "python": {
     "delete_cmd_postfix": "",
     "delete_cmd_prefix": "del ",
     "library": "var_list.py",
     "varRefreshCmd": "print(var_dic_list())"
    },
    "r": {
     "delete_cmd_postfix": ") ",
     "delete_cmd_prefix": "rm(",
     "library": "var_list.r",
     "varRefreshCmd": "cat(var_dic_list()) "
    }
   },
   "types_to_exclude": [
    "module",
    "function",
    "builtin_function_or_method",
    "instance",
    "_Feature"
   ],
   "window_display": false
  }
 },
 "nbformat": 4,
 "nbformat_minor": 2
}
