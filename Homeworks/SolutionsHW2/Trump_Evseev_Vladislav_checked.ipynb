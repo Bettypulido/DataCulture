{
 "cells": [
  {
   "cell_type": "markdown",
   "metadata": {},
   "source": [
    "# Part 1, exploratory data analysis (EDA)\n",
    "\n",
    "Вопросы:\n",
    "\n",
    "1. [1 балл] Загрузка данных и предобработка - загрузите датасет так, чтобы нулевой столбец выступал в качестве индекса датафрейма. Посмотрите на его `head` и `tail`. Похоже, у нас есть одна лишняя переменная - `id`, которая совершенно не информативна и будет нам только мешать, давайте сразу её уберем.\n",
    "2. [1 балл] Какое среднее число лайков в датасете? А медианное?\n",
    "3. [1 балл] Какой источник (автор) создал больше всего мемов? \n",
    "4. [2 балла] Создайте переменные, отвечающие за месяц, день, час и день недели, в которые мем появлялся. В какой год было создано больше всего мемов? \n",
    "5. [1 балл] Визуализация - Постройте гистограммы всех числовых переменных датасета при помощи одной команды. Для удобства отображения задайте размер графика `figsize` равным (25, 20).\n",
    "6. [3 балла] Похоже, что наши созданные переменные не очень хорошо смотреть на одном общем графике. Давайте потсроим отдельные для каждого. Постройте гистограмму для месяца выхода мема, указав число число разбиений равное 12 (по количеству месяцев в году). В какой месяц наплодили максимальное число мемов? Почему? Теперь постройте гистограмму для часа дня, указав логичное число разбиений. Как вы можете объяснить получившийся вид графика?\n",
    "7. [1 балл] Вопрос-сюрприз! Попробуйте самостоятельно придумать какой-нибудь осмысленный вопрос для вашего датасета и ответьте на  него. Инициатива не наказуема ;)"
   ]
  },
  {
   "cell_type": "code",
   "execution_count": 52,
   "metadata": {
    "collapsed": true
   },
   "outputs": [],
   "source": [
    "import pandas as pd\n",
    "import matplotlib.pyplot as plt\n",
    "import seaborn as sns\n",
    "%matplotlib inline"
   ]
  },
  {
   "cell_type": "code",
   "execution_count": 53,
   "metadata": {
    "collapsed": true
   },
   "outputs": [],
   "source": [
    "Trump = pd.read_csv('Evseev_Vladislav_Trump.csv', index_col = 0)"
   ]
  },
  {
   "cell_type": "code",
   "execution_count": 54,
   "metadata": {},
   "outputs": [
    {
     "data": {
      "text/html": [
       "<div>\n",
       "<style scoped>\n",
       "    .dataframe tbody tr th:only-of-type {\n",
       "        vertical-align: middle;\n",
       "    }\n",
       "\n",
       "    .dataframe tbody tr th {\n",
       "        vertical-align: top;\n",
       "    }\n",
       "\n",
       "    .dataframe thead th {\n",
       "        text-align: right;\n",
       "    }\n",
       "</style>\n",
       "<table border=\"1\" class=\"dataframe\">\n",
       "  <thead>\n",
       "    <tr style=\"text-align: right;\">\n",
       "      <th></th>\n",
       "      <th>timestamp</th>\n",
       "      <th>id</th>\n",
       "      <th>link</th>\n",
       "      <th>caption</th>\n",
       "      <th>author</th>\n",
       "      <th>network</th>\n",
       "      <th>likes</th>\n",
       "    </tr>\n",
       "  </thead>\n",
       "  <tbody>\n",
       "    <tr>\n",
       "      <th>0</th>\n",
       "      <td>8/1/16 20:56</td>\n",
       "      <td>1742494</td>\n",
       "      <td>http://imgur.com/a/lNHED</td>\n",
       "      <td>Son killed by\\n country, in a\\n in a\\n war sta...</td>\n",
       "      <td>forwardsfromgrandma</td>\n",
       "      <td>imgur</td>\n",
       "      <td>-20</td>\n",
       "    </tr>\n",
       "    <tr>\n",
       "      <th>1</th>\n",
       "      <td>6/8/16 1:38</td>\n",
       "      <td>741754</td>\n",
       "      <td>http://imgur.com/qkpY5by</td>\n",
       "      <td>THERE'S ONLY ONE GENDER\\n TRUMP IS A HERO\\n VE...</td>\n",
       "      <td>shittyadviceanimals</td>\n",
       "      <td>imgur</td>\n",
       "      <td>-18</td>\n",
       "    </tr>\n",
       "    <tr>\n",
       "      <th>2</th>\n",
       "      <td>9/5/16 13:51</td>\n",
       "      <td>2278706</td>\n",
       "      <td>http://imgur.com/a/Cm6ls</td>\n",
       "      <td>TRUMP LOVES TRUMP, AND\\n DOES WHAT HIS FOLLOWE...</td>\n",
       "      <td>politicalhumor</td>\n",
       "      <td>imgur</td>\n",
       "      <td>-17</td>\n",
       "    </tr>\n",
       "    <tr>\n",
       "      <th>3</th>\n",
       "      <td>9/27/16 23:21</td>\n",
       "      <td>2576782</td>\n",
       "      <td>http://imgur.com/X6zBaIM</td>\n",
       "      <td>Hey Trump! How did you cacth\\n up to me in the...</td>\n",
       "      <td>politicalhumor</td>\n",
       "      <td>imgur</td>\n",
       "      <td>-14</td>\n",
       "    </tr>\n",
       "    <tr>\n",
       "      <th>4</th>\n",
       "      <td>4/20/16 20:07</td>\n",
       "      <td>316381</td>\n",
       "      <td>http://imgur.com/LgPKrP1</td>\n",
       "      <td>WANTED TRUMP FOR\\n PRESIDENT\\n TRUMPIKICKED HI...</td>\n",
       "      <td>NaN</td>\n",
       "      <td>imgur</td>\n",
       "      <td>-14</td>\n",
       "    </tr>\n",
       "  </tbody>\n",
       "</table>\n",
       "</div>"
      ],
      "text/plain": [
       "       timestamp       id                      link  \\\n",
       "0   8/1/16 20:56  1742494  http://imgur.com/a/lNHED   \n",
       "1    6/8/16 1:38   741754  http://imgur.com/qkpY5by   \n",
       "2   9/5/16 13:51  2278706  http://imgur.com/a/Cm6ls   \n",
       "3  9/27/16 23:21  2576782  http://imgur.com/X6zBaIM   \n",
       "4  4/20/16 20:07   316381  http://imgur.com/LgPKrP1   \n",
       "\n",
       "                                             caption               author  \\\n",
       "0  Son killed by\\n country, in a\\n in a\\n war sta...  forwardsfromgrandma   \n",
       "1  THERE'S ONLY ONE GENDER\\n TRUMP IS A HERO\\n VE...  shittyadviceanimals   \n",
       "2  TRUMP LOVES TRUMP, AND\\n DOES WHAT HIS FOLLOWE...       politicalhumor   \n",
       "3  Hey Trump! How did you cacth\\n up to me in the...       politicalhumor   \n",
       "4  WANTED TRUMP FOR\\n PRESIDENT\\n TRUMPIKICKED HI...                  NaN   \n",
       "\n",
       "  network  likes  \n",
       "0   imgur    -20  \n",
       "1   imgur    -18  \n",
       "2   imgur    -17  \n",
       "3   imgur    -14  \n",
       "4   imgur    -14  "
      ]
     },
     "execution_count": 54,
     "metadata": {},
     "output_type": "execute_result"
    }
   ],
   "source": [
    "Trump.head()"
   ]
  },
  {
   "cell_type": "code",
   "execution_count": 55,
   "metadata": {},
   "outputs": [
    {
     "data": {
      "text/html": [
       "<div>\n",
       "<style scoped>\n",
       "    .dataframe tbody tr th:only-of-type {\n",
       "        vertical-align: middle;\n",
       "    }\n",
       "\n",
       "    .dataframe tbody tr th {\n",
       "        vertical-align: top;\n",
       "    }\n",
       "\n",
       "    .dataframe thead th {\n",
       "        text-align: right;\n",
       "    }\n",
       "</style>\n",
       "<table border=\"1\" class=\"dataframe\">\n",
       "  <thead>\n",
       "    <tr style=\"text-align: right;\">\n",
       "      <th></th>\n",
       "      <th>timestamp</th>\n",
       "      <th>id</th>\n",
       "      <th>link</th>\n",
       "      <th>caption</th>\n",
       "      <th>author</th>\n",
       "      <th>network</th>\n",
       "      <th>likes</th>\n",
       "    </tr>\n",
       "  </thead>\n",
       "  <tbody>\n",
       "    <tr>\n",
       "      <th>15888</th>\n",
       "      <td>4/14/16 10:44</td>\n",
       "      <td>260974</td>\n",
       "      <td>https://instagram.com/p/BELYHjLzg5b</td>\n",
       "      <td>like for justin\\n ignore for donald trump</td>\n",
       "      <td>1599034994</td>\n",
       "      <td>instagram</td>\n",
       "      <td>179247</td>\n",
       "    </tr>\n",
       "    <tr>\n",
       "      <th>15889</th>\n",
       "      <td>1/7/16 17:39</td>\n",
       "      <td>619599</td>\n",
       "      <td>https://instagram.com/p/BAPxuKMjbCU</td>\n",
       "      <td>Who's more presidential?\\n LIKE DJ Khaled\\n IG...</td>\n",
       "      <td>1160610875</td>\n",
       "      <td>instagram</td>\n",
       "      <td>189256</td>\n",
       "    </tr>\n",
       "    <tr>\n",
       "      <th>15890</th>\n",
       "      <td>4/4/16 1:47</td>\n",
       "      <td>146633</td>\n",
       "      <td>https://instagram.com/p/BDwqwD-FXhZ</td>\n",
       "      <td>I'm just saying, if trump wins were\\n doomed!\\...</td>\n",
       "      <td>1419706373</td>\n",
       "      <td>instagram</td>\n",
       "      <td>203460</td>\n",
       "    </tr>\n",
       "    <tr>\n",
       "      <th>15891</th>\n",
       "      <td>1/30/16 11:47</td>\n",
       "      <td>801619</td>\n",
       "      <td>https://instagram.com/p/BBKXt5yCbtt</td>\n",
       "      <td>Who would be a better\\n president\\n Like Potat...</td>\n",
       "      <td>1476135621</td>\n",
       "      <td>instagram</td>\n",
       "      <td>215972</td>\n",
       "    </tr>\n",
       "    <tr>\n",
       "      <th>15892</th>\n",
       "      <td>10/13/16 22:04</td>\n",
       "      <td>2944701</td>\n",
       "      <td>https://instagram.com/p/BLhOm04jUwD</td>\n",
       "      <td>isteal Tweets\\n @ich Arnold\\n If Donald Trump ...</td>\n",
       "      <td>1419706373</td>\n",
       "      <td>instagram</td>\n",
       "      <td>272678</td>\n",
       "    </tr>\n",
       "  </tbody>\n",
       "</table>\n",
       "</div>"
      ],
      "text/plain": [
       "            timestamp       id                                 link  \\\n",
       "15888   4/14/16 10:44   260974  https://instagram.com/p/BELYHjLzg5b   \n",
       "15889    1/7/16 17:39   619599  https://instagram.com/p/BAPxuKMjbCU   \n",
       "15890     4/4/16 1:47   146633  https://instagram.com/p/BDwqwD-FXhZ   \n",
       "15891   1/30/16 11:47   801619  https://instagram.com/p/BBKXt5yCbtt   \n",
       "15892  10/13/16 22:04  2944701  https://instagram.com/p/BLhOm04jUwD   \n",
       "\n",
       "                                                 caption      author  \\\n",
       "15888          like for justin\\n ignore for donald trump  1599034994   \n",
       "15889  Who's more presidential?\\n LIKE DJ Khaled\\n IG...  1160610875   \n",
       "15890  I'm just saying, if trump wins were\\n doomed!\\...  1419706373   \n",
       "15891  Who would be a better\\n president\\n Like Potat...  1476135621   \n",
       "15892  isteal Tweets\\n @ich Arnold\\n If Donald Trump ...  1419706373   \n",
       "\n",
       "         network   likes  \n",
       "15888  instagram  179247  \n",
       "15889  instagram  189256  \n",
       "15890  instagram  203460  \n",
       "15891  instagram  215972  \n",
       "15892  instagram  272678  "
      ]
     },
     "execution_count": 55,
     "metadata": {},
     "output_type": "execute_result"
    }
   ],
   "source": [
    "Trump.tail()"
   ]
  },
  {
   "cell_type": "code",
   "execution_count": 56,
   "metadata": {
    "collapsed": true
   },
   "outputs": [],
   "source": [
    "# выкидываем лишнюю переменную\n",
    "Trump = Trump.drop(['id'], axis=1)"
   ]
  },
  {
   "cell_type": "code",
   "execution_count": 57,
   "metadata": {},
   "outputs": [
    {
     "data": {
      "text/plain": [
       "1522.4004278613227"
      ]
     },
     "execution_count": 57,
     "metadata": {},
     "output_type": "execute_result"
    }
   ],
   "source": [
    "Trump.likes. mean()"
   ]
  },
  {
   "cell_type": "code",
   "execution_count": 58,
   "metadata": {},
   "outputs": [
    {
     "data": {
      "text/plain": [
       "42.0"
      ]
     },
     "execution_count": 58,
     "metadata": {},
     "output_type": "execute_result"
    }
   ],
   "source": [
    "Trump.likes.median()"
   ]
  },
  {
   "cell_type": "code",
   "execution_count": 59,
   "metadata": {},
   "outputs": [
    {
     "data": {
      "text/plain": [
       "0    politicalhumor\n",
       "dtype: object"
      ]
     },
     "execution_count": 59,
     "metadata": {},
     "output_type": "execute_result"
    }
   ],
   "source": [
    "Trump. author. mode()"
   ]
  },
  {
   "cell_type": "code",
   "execution_count": 60,
   "metadata": {
    "collapsed": true
   },
   "outputs": [],
   "source": [
    "# переводим таймстэмпы в формат datetime, чтобы с ними было удобнее работать в дальнейшем\n",
    "Trump['timestamp'] = Trump.timestamp.apply(lambda x: pd.to_datetime(x))"
   ]
  },
  {
   "cell_type": "code",
   "execution_count": 61,
   "metadata": {
    "collapsed": true
   },
   "outputs": [],
   "source": [
    "# создаем переменную \"год\", в который вышел мемчик\n",
    "Trump['Year'] = Trump.timestamp.apply(lambda x: x.year)\n",
    "\n",
    "# аналогично создайте переменные Month, Day, Hour, Weekday\n",
    "Trump['Month'] = Trump.timestamp.apply(lambda x: x.month)\n",
    "Trump['Day'] = Trump.timestamp.apply(lambda x: x.day)\n",
    "Trump['Hour'] = Trump.timestamp.apply(lambda x: x.hour)\n",
    "Trump['Weekday'] = Trump.timestamp.apply(lambda x: x.weekday)"
   ]
  },
  {
   "cell_type": "code",
   "execution_count": 62,
   "metadata": {},
   "outputs": [
    {
     "name": "stderr",
     "output_type": "stream",
     "text": [
      "C:\\Users\\Lenovo\\Anaconda3\\lib\\site-packages\\IPython\\core\\interactiveshell.py:2910: UserWarning: To output multiple subplots, the figure containing the passed axes is being cleared\n",
      "  exec(code_obj, self.user_global_ns, self.user_ns)\n"
     ]
    },
    {
     "data": {
      "text/plain": [
       "array([[<matplotlib.axes._subplots.AxesSubplot object at 0x000001BC019B9DD8>,\n",
       "        <matplotlib.axes._subplots.AxesSubplot object at 0x000001BC025B2198>],\n",
       "       [<matplotlib.axes._subplots.AxesSubplot object at 0x000001BC0236ED30>,\n",
       "        <matplotlib.axes._subplots.AxesSubplot object at 0x000001BC02FA3390>],\n",
       "       [<matplotlib.axes._subplots.AxesSubplot object at 0x000001BC02FC29B0>,\n",
       "        <matplotlib.axes._subplots.AxesSubplot object at 0x000001BC02FC29E8>]],\n",
       "      dtype=object)"
      ]
     },
     "execution_count": 62,
     "metadata": {},
     "output_type": "execute_result"
    },
    {
     "data": {
      "image/png": "[encoded data removed]",
      "text/plain": [
       "<matplotlib.figure.Figure at 0x1bc019b9908>"
      ]
     },
     "metadata": {},
     "output_type": "display_data"
    }
   ],
   "source": [
    "fig = plt.figure(figsize = (25,20)) \n",
    "ax = fig.gca() \n",
    "Trump.hist(ax = ax)"
   ]
  },
  {
   "cell_type": "code",
   "execution_count": 63,
   "metadata": {},
   "outputs": [
    {
     "data": {
      "text/plain": [
       "<matplotlib.axes._subplots.AxesSubplot at 0x1bc03184978>"
      ]
     },
     "execution_count": 63,
     "metadata": {},
     "output_type": "execute_result"
    },
    {
     "data": {
      "image/png": "[encoded data removed]",
      "text/plain": [
       "<matplotlib.figure.Figure at 0x1bc03184ac8>"
      ]
     },
     "metadata": {},
     "output_type": "display_data"
    }
   ],
   "source": [
    "fig = plt.figure(figsize = (25,20)) \n",
    "ax = fig.gca() \n",
    "Trump['Month'].hist(ax = ax )"
   ]
  },
  {
   "cell_type": "code",
   "execution_count": 64,
   "metadata": {},
   "outputs": [
    {
     "data": {
      "text/plain": [
       "<matplotlib.axes._subplots.AxesSubplot at 0x1bc0308a7b8>"
      ]
     },
     "execution_count": 64,
     "metadata": {},
     "output_type": "execute_result"
    },
    {
     "data": {
      "image/png": "[encoded data removed]",
      "text/plain": [
       "<matplotlib.figure.Figure at 0x1bc031b32e8>"
      ]
     },
     "metadata": {},
     "output_type": "display_data"
    }
   ],
   "source": [
    "Trump['Month'].hist(bins=12)"
   ]
  },
  {
   "cell_type": "markdown",
   "metadata": {},
   "source": [
    "<STRONG>Какое максимальное количество лайков получила запись<STRONG>"
   ]
  },
  {
   "cell_type": "code",
   "execution_count": 65,
   "metadata": {},
   "outputs": [
    {
     "data": {
      "text/plain": [
       "272678"
      ]
     },
     "execution_count": 65,
     "metadata": {},
     "output_type": "execute_result"
    }
   ],
   "source": [
    "Trump.likes.max()"
   ]
  },
  {
   "cell_type": "code",
   "execution_count": 66,
   "metadata": {},
   "outputs": [
    {
     "data": {
      "text/plain": [
       "timestamp      0\n",
       "link           0\n",
       "caption        0\n",
       "author       210\n",
       "network        0\n",
       "likes          0\n",
       "Year           0\n",
       "Month          0\n",
       "Day            0\n",
       "Hour           0\n",
       "Weekday        0\n",
       "dtype: int64"
      ]
     },
     "execution_count": 66,
     "metadata": {},
     "output_type": "execute_result"
    }
   ],
   "source": [
    "Trump.isnull().sum()"
   ]
  },
  {
   "cell_type": "code",
   "execution_count": 67,
   "metadata": {},
   "outputs": [
    {
     "data": {
      "text/html": [
       "<div>\n",
       "<style scoped>\n",
       "    .dataframe tbody tr th:only-of-type {\n",
       "        vertical-align: middle;\n",
       "    }\n",
       "\n",
       "    .dataframe tbody tr th {\n",
       "        vertical-align: top;\n",
       "    }\n",
       "\n",
       "    .dataframe thead th {\n",
       "        text-align: right;\n",
       "    }\n",
       "</style>\n",
       "<table border=\"1\" class=\"dataframe\">\n",
       "  <thead>\n",
       "    <tr style=\"text-align: right;\">\n",
       "      <th></th>\n",
       "      <th>timestamp</th>\n",
       "      <th>link</th>\n",
       "      <th>caption</th>\n",
       "      <th>author</th>\n",
       "      <th>network</th>\n",
       "      <th>likes</th>\n",
       "      <th>Year</th>\n",
       "      <th>Month</th>\n",
       "      <th>Day</th>\n",
       "      <th>Hour</th>\n",
       "      <th>Weekday</th>\n",
       "    </tr>\n",
       "  </thead>\n",
       "  <tbody>\n",
       "    <tr>\n",
       "      <th>0</th>\n",
       "      <td>2016-08-01 20:56:00</td>\n",
       "      <td>http://imgur.com/a/lNHED</td>\n",
       "      <td>Son killed by\\n country, in a\\n in a\\n war sta...</td>\n",
       "      <td>forwardsfromgrandma</td>\n",
       "      <td>imgur</td>\n",
       "      <td>-20</td>\n",
       "      <td>2016</td>\n",
       "      <td>8</td>\n",
       "      <td>1</td>\n",
       "      <td>20</td>\n",
       "      <td>&lt;built-in method weekday of Timestamp object a...</td>\n",
       "    </tr>\n",
       "    <tr>\n",
       "      <th>1</th>\n",
       "      <td>2016-06-08 01:38:00</td>\n",
       "      <td>http://imgur.com/qkpY5by</td>\n",
       "      <td>THERE'S ONLY ONE GENDER\\n TRUMP IS A HERO\\n VE...</td>\n",
       "      <td>shittyadviceanimals</td>\n",
       "      <td>imgur</td>\n",
       "      <td>-18</td>\n",
       "      <td>2016</td>\n",
       "      <td>6</td>\n",
       "      <td>8</td>\n",
       "      <td>1</td>\n",
       "      <td>&lt;built-in method weekday of Timestamp object a...</td>\n",
       "    </tr>\n",
       "    <tr>\n",
       "      <th>2</th>\n",
       "      <td>2016-09-05 13:51:00</td>\n",
       "      <td>http://imgur.com/a/Cm6ls</td>\n",
       "      <td>TRUMP LOVES TRUMP, AND\\n DOES WHAT HIS FOLLOWE...</td>\n",
       "      <td>politicalhumor</td>\n",
       "      <td>imgur</td>\n",
       "      <td>-17</td>\n",
       "      <td>2016</td>\n",
       "      <td>9</td>\n",
       "      <td>5</td>\n",
       "      <td>13</td>\n",
       "      <td>&lt;built-in method weekday of Timestamp object a...</td>\n",
       "    </tr>\n",
       "    <tr>\n",
       "      <th>3</th>\n",
       "      <td>2016-09-27 23:21:00</td>\n",
       "      <td>http://imgur.com/X6zBaIM</td>\n",
       "      <td>Hey Trump! How did you cacth\\n up to me in the...</td>\n",
       "      <td>politicalhumor</td>\n",
       "      <td>imgur</td>\n",
       "      <td>-14</td>\n",
       "      <td>2016</td>\n",
       "      <td>9</td>\n",
       "      <td>27</td>\n",
       "      <td>23</td>\n",
       "      <td>&lt;built-in method weekday of Timestamp object a...</td>\n",
       "    </tr>\n",
       "    <tr>\n",
       "      <th>4</th>\n",
       "      <td>2016-04-20 20:07:00</td>\n",
       "      <td>http://imgur.com/LgPKrP1</td>\n",
       "      <td>WANTED TRUMP FOR\\n PRESIDENT\\n TRUMPIKICKED HI...</td>\n",
       "      <td>NaN</td>\n",
       "      <td>imgur</td>\n",
       "      <td>-14</td>\n",
       "      <td>2016</td>\n",
       "      <td>4</td>\n",
       "      <td>20</td>\n",
       "      <td>20</td>\n",
       "      <td>&lt;built-in method weekday of Timestamp object a...</td>\n",
       "    </tr>\n",
       "  </tbody>\n",
       "</table>\n",
       "</div>"
      ],
      "text/plain": [
       "            timestamp                      link  \\\n",
       "0 2016-08-01 20:56:00  http://imgur.com/a/lNHED   \n",
       "1 2016-06-08 01:38:00  http://imgur.com/qkpY5by   \n",
       "2 2016-09-05 13:51:00  http://imgur.com/a/Cm6ls   \n",
       "3 2016-09-27 23:21:00  http://imgur.com/X6zBaIM   \n",
       "4 2016-04-20 20:07:00  http://imgur.com/LgPKrP1   \n",
       "\n",
       "                                             caption               author  \\\n",
       "0  Son killed by\\n country, in a\\n in a\\n war sta...  forwardsfromgrandma   \n",
       "1  THERE'S ONLY ONE GENDER\\n TRUMP IS A HERO\\n VE...  shittyadviceanimals   \n",
       "2  TRUMP LOVES TRUMP, AND\\n DOES WHAT HIS FOLLOWE...       politicalhumor   \n",
       "3  Hey Trump! How did you cacth\\n up to me in the...       politicalhumor   \n",
       "4  WANTED TRUMP FOR\\n PRESIDENT\\n TRUMPIKICKED HI...                  NaN   \n",
       "\n",
       "  network  likes  Year  Month  Day  Hour  \\\n",
       "0   imgur    -20  2016      8    1    20   \n",
       "1   imgur    -18  2016      6    8     1   \n",
       "2   imgur    -17  2016      9    5    13   \n",
       "3   imgur    -14  2016      9   27    23   \n",
       "4   imgur    -14  2016      4   20    20   \n",
       "\n",
       "                                             Weekday  \n",
       "0  <built-in method weekday of Timestamp object a...  \n",
       "1  <built-in method weekday of Timestamp object a...  \n",
       "2  <built-in method weekday of Timestamp object a...  \n",
       "3  <built-in method weekday of Timestamp object a...  \n",
       "4  <built-in method weekday of Timestamp object a...  "
      ]
     },
     "execution_count": 67,
     "metadata": {},
     "output_type": "execute_result"
    }
   ],
   "source": [
    "Trump.head()"
   ]
  },
  {
   "cell_type": "code",
   "execution_count": 68,
   "metadata": {
    "collapsed": true
   },
   "outputs": [],
   "source": [
    "#выкидываем не нужные данные\n",
    "Trump = Trump.drop(['link'], axis=1)\n",
    "Trump = Trump.drop(['timestamp'], axis=1)\n",
    "Trump = Trump.drop(['author'], axis=1)\n",
    "Trump = Trump.drop(['network'], axis=1)\n",
    "Trump = Trump.drop(['Year'], axis=1)"
   ]
  },
  {
   "cell_type": "code",
   "execution_count": 69,
   "metadata": {
    "collapsed": true
   },
   "outputs": [],
   "source": [
    "Trump = Trump.drop(['Month'], axis=1)\n",
    "Trump = Trump.drop(['Day'], axis=1)\n",
    "Trump = Trump.drop(['Hour'], axis=1)\n",
    "Trump = Trump.drop(['Weekday'], axis=1)"
   ]
  },
  {
   "cell_type": "code",
   "execution_count": 70,
   "metadata": {},
   "outputs": [
    {
     "data": {
      "text/html": [
       "<div>\n",
       "<style scoped>\n",
       "    .dataframe tbody tr th:only-of-type {\n",
       "        vertical-align: middle;\n",
       "    }\n",
       "\n",
       "    .dataframe tbody tr th {\n",
       "        vertical-align: top;\n",
       "    }\n",
       "\n",
       "    .dataframe thead th {\n",
       "        text-align: right;\n",
       "    }\n",
       "</style>\n",
       "<table border=\"1\" class=\"dataframe\">\n",
       "  <thead>\n",
       "    <tr style=\"text-align: right;\">\n",
       "      <th></th>\n",
       "      <th>caption</th>\n",
       "      <th>likes</th>\n",
       "    </tr>\n",
       "  </thead>\n",
       "  <tbody>\n",
       "    <tr>\n",
       "      <th>0</th>\n",
       "      <td>Son killed by\\n country, in a\\n in a\\n war sta...</td>\n",
       "      <td>-20</td>\n",
       "    </tr>\n",
       "    <tr>\n",
       "      <th>1</th>\n",
       "      <td>THERE'S ONLY ONE GENDER\\n TRUMP IS A HERO\\n VE...</td>\n",
       "      <td>-18</td>\n",
       "    </tr>\n",
       "    <tr>\n",
       "      <th>2</th>\n",
       "      <td>TRUMP LOVES TRUMP, AND\\n DOES WHAT HIS FOLLOWE...</td>\n",
       "      <td>-17</td>\n",
       "    </tr>\n",
       "    <tr>\n",
       "      <th>3</th>\n",
       "      <td>Hey Trump! How did you cacth\\n up to me in the...</td>\n",
       "      <td>-14</td>\n",
       "    </tr>\n",
       "    <tr>\n",
       "      <th>4</th>\n",
       "      <td>WANTED TRUMP FOR\\n PRESIDENT\\n TRUMPIKICKED HI...</td>\n",
       "      <td>-14</td>\n",
       "    </tr>\n",
       "  </tbody>\n",
       "</table>\n",
       "</div>"
      ],
      "text/plain": [
       "                                             caption  likes\n",
       "0  Son killed by\\n country, in a\\n in a\\n war sta...    -20\n",
       "1  THERE'S ONLY ONE GENDER\\n TRUMP IS A HERO\\n VE...    -18\n",
       "2  TRUMP LOVES TRUMP, AND\\n DOES WHAT HIS FOLLOWE...    -17\n",
       "3  Hey Trump! How did you cacth\\n up to me in the...    -14\n",
       "4  WANTED TRUMP FOR\\n PRESIDENT\\n TRUMPIKICKED HI...    -14"
      ]
     },
     "execution_count": 70,
     "metadata": {},
     "output_type": "execute_result"
    }
   ],
   "source": [
    "# еще раз взглянем на начало датасет\n",
    "Trump.head()"
   ]
  },
  {
   "cell_type": "code",
   "execution_count": 71,
   "metadata": {
    "collapsed": true
   },
   "outputs": [],
   "source": [
    "Trump['caption'] = Trump['caption'].str.lower()"
   ]
  },
  {
   "cell_type": "code",
   "execution_count": 72,
   "metadata": {
    "collapsed": true
   },
   "outputs": [],
   "source": [
    "# импортируем нужный нам метод\n",
    "from sklearn.feature_extraction.text import TfidfVectorizer"
   ]
  },
  {
   "cell_type": "code",
   "execution_count": 73,
   "metadata": {
    "collapsed": true
   },
   "outputs": [],
   "source": [
    "# объявляем его\n",
    "tf_vectorizer = TfidfVectorizer(ngram_range=(1, 2), min_df=0.001, norm='l2', stop_words='english')"
   ]
  },
  {
   "cell_type": "code",
   "execution_count": 74,
   "metadata": {
    "collapsed": true
   },
   "outputs": [],
   "source": [
    "# выбираем для нашей матрицы признаков ТОЛЬКО столбец с текстом\n",
    "X = Trump['caption']"
   ]
  },
  {
   "cell_type": "code",
   "execution_count": 75,
   "metadata": {
    "collapsed": true
   },
   "outputs": [],
   "source": [
    "# импортим пакет для работы с матрицами\n",
    "import numpy as np"
   ]
  },
  {
   "cell_type": "code",
   "execution_count": 76,
   "metadata": {
    "collapsed": true
   },
   "outputs": [],
   "source": [
    "import matplotlib.pyplot as plt   # уже смутно знакомый вам пакет для картинок :3\n",
    "import seaborn as sns             # ещё один пакет для картинок \n",
    "\n",
    "%matplotlib inline"
   ]
  },
  {
   "cell_type": "code",
   "execution_count": 77,
   "metadata": {
    "collapsed": true
   },
   "outputs": [],
   "source": [
    "# так как мы хотим прологарифмировать лайки, нам надо сделать так, чтобы среди них не было отрицательных чисел и равных нулю\n",
    "Trump.dropna(subset=['likes'], inplace = True)\n",
    "Trump['likes'] = np.log(Trump['likes'] + np.abs(Trump['likes'].min()) +1)"
   ]
  },
  {
   "cell_type": "code",
   "execution_count": 78,
   "metadata": {
    "collapsed": true
   },
   "outputs": [],
   "source": [
    "# выбираем целевую переменную\n",
    "y = Trump['likes']"
   ]
  },
  {
   "cell_type": "code",
   "execution_count": 79,
   "metadata": {},
   "outputs": [
    {
     "data": {
      "text/plain": [
       "<matplotlib.axes._subplots.AxesSubplot at 0x1bc7ecb07f0>"
      ]
     },
     "execution_count": 79,
     "metadata": {},
     "output_type": "execute_result"
    },
    {
     "data": {
      "image/png": "[encoded data removed]",
      "text/plain": [
       "<matplotlib.figure.Figure at 0x1bc027ebcf8>"
      ]
     },
     "metadata": {},
     "output_type": "display_data"
    }
   ],
   "source": [
    "# построим лайковую гистограмму\n",
    "Trump.likes.hist()"
   ]
  },
  {
   "cell_type": "code",
   "execution_count": 80,
   "metadata": {
    "collapsed": true
   },
   "outputs": [],
   "source": [
    "# прогоняем через преобразование и получаем готовую матрицу признаков\n",
    "X = tf_vectorizer.fit_transform(X)"
   ]
  },
  {
   "cell_type": "code",
   "execution_count": 81,
   "metadata": {
    "collapsed": true
   },
   "outputs": [],
   "source": [
    "# Теперь делим данные на тренировочные и тестовые\n",
    "from sklearn.model_selection import train_test_split"
   ]
  },
  {
   "cell_type": "code",
   "execution_count": 82,
   "metadata": {
    "collapsed": true
   },
   "outputs": [],
   "source": [
    "X_train, X_test, y_train, y_test = train_test_split(X, y, test_size=0.30)"
   ]
  },
  {
   "cell_type": "code",
   "execution_count": 83,
   "metadata": {},
   "outputs": [
    {
     "name": "stdout",
     "output_type": "stream",
     "text": [
      "(11125, 5770)\n",
      "(4768, 5770)\n",
      "(11125,)\n",
      "(4768,)\n"
     ]
    }
   ],
   "source": [
    "print(X_train.shape) \n",
    "print(X_test.shape)\n",
    "print(y_train.shape)\n",
    "print(y_test.shape)"
   ]
  },
  {
   "cell_type": "code",
   "execution_count": 84,
   "metadata": {
    "collapsed": true
   },
   "outputs": [],
   "source": [
    "# импортим случайный лес и объявляем его\n",
    "from sklearn.ensemble import RandomForestRegressor"
   ]
  },
  {
   "cell_type": "code",
   "execution_count": 85,
   "metadata": {
    "collapsed": true
   },
   "outputs": [],
   "source": [
    "rf = RandomForestRegressor()"
   ]
  },
  {
   "cell_type": "code",
   "execution_count": 86,
   "metadata": {},
   "outputs": [
    {
     "data": {
      "text/plain": [
       "RandomForestRegressor(bootstrap=True, criterion='mse', max_depth=None,\n",
       "           max_features='auto', max_leaf_nodes=None,\n",
       "           min_impurity_decrease=0.0, min_impurity_split=None,\n",
       "           min_samples_leaf=1, min_samples_split=2,\n",
       "           min_weight_fraction_leaf=0.0, n_estimators=10, n_jobs=1,\n",
       "           oob_score=False, random_state=None, verbose=0, warm_start=False)"
      ]
     },
     "execution_count": 86,
     "metadata": {},
     "output_type": "execute_result"
    }
   ],
   "source": [
    "rf.fit(X_train, y_train)"
   ]
  },
  {
   "cell_type": "code",
   "execution_count": 87,
   "metadata": {},
   "outputs": [
    {
     "data": {
      "text/plain": [
       "<matplotlib.axes._subplots.AxesSubplot at 0x1bc048e10b8>"
      ]
     },
     "execution_count": 87,
     "metadata": {},
     "output_type": "execute_result"
    },
    {
     "data": {
      "image/png": "[encoded data removed]",
      "text/plain": [
       "<matplotlib.figure.Figure at 0x1bc048e1278>"
      ]
     },
     "metadata": {},
     "output_type": "display_data"
    }
   ],
   "source": [
    "# Пытаемся  посмотреть на важность слов\n",
    "featureImportance = pd.DataFrame({\"feature\": tf_vectorizer.get_feature_names(), \n",
    "                                  \"importance\": rf.feature_importances_})\n",
    "featureImportance.set_index('feature', inplace=True)\n",
    "featureImportance.sort_values([\"importance\"], ascending=False, inplace=True)\n",
    "featureImportance[\"importance\"].head(30).plot('bar', figsize=(12,5))"
   ]
  },
  {
   "cell_type": "code",
   "execution_count": 88,
   "metadata": {
    "collapsed": true
   },
   "outputs": [],
   "source": [
    "# посмотрим регрессионные метрики\n",
    "from sklearn import metrics\n",
    "\n",
    "def print_metrics(y_test,y_pred):\n",
    "    print('MAE:', metrics.mean_absolute_error(y_test, y_pred))\n",
    "    print('RMSE:', np.sqrt(metrics.mean_squared_error(y_test, y_pred)))\n",
    "    print('R2:',  metrics.r2_score(y_test, y_pred))"
   ]
  },
  {
   "cell_type": "code",
   "execution_count": 89,
   "metadata": {},
   "outputs": [
    {
     "data": {
      "text/plain": [
       "array([4.79623233, 4.79623233, 4.79623233, 4.79623233, 4.79623233])"
      ]
     },
     "execution_count": 89,
     "metadata": {},
     "output_type": "execute_result"
    }
   ],
   "source": [
    "y_mean = np.mean(y_train)                     \n",
    "y_pred_naive = np.ones(len(y_test)) * y_mean  \n",
    "y_pred_naive[:5]"
   ]
  },
  {
   "cell_type": "code",
   "execution_count": 90,
   "metadata": {},
   "outputs": [
    {
     "name": "stdout",
     "output_type": "stream",
     "text": [
      "MAE: 1.5829219318959395\n",
      "RMSE: 1.9071069955471693\n",
      "R2: -0.00011325387473015702\n"
     ]
    }
   ],
   "source": [
    "print_metrics(y_test, y_pred_naive)"
   ]
  },
  {
   "cell_type": "code",
   "execution_count": 91,
   "metadata": {
    "collapsed": true
   },
   "outputs": [],
   "source": [
    "y_pred = rf.predict(X_test)"
   ]
  },
  {
   "cell_type": "code",
   "execution_count": 92,
   "metadata": {},
   "outputs": [
    {
     "name": "stdout",
     "output_type": "stream",
     "text": [
      "MAE: 1.4045577928827182\n",
      "RMSE: 1.8738361114764297\n",
      "R2: 0.03447778041501992\n"
     ]
    }
   ],
   "source": [
    "print_metrics(y_test, y_pred)"
   ]
  },
  {
   "cell_type": "code",
   "execution_count": 93,
   "metadata": {
    "collapsed": true
   },
   "outputs": [],
   "source": [
    "from sklearn.linear_model import LinearRegression\n",
    "model_regression = LinearRegression()\n",
    "model_regression.fit(X_train, y_train)\n",
    "y_pred_regr = model_regression.predict(X_test)"
   ]
  },
  {
   "cell_type": "code",
   "execution_count": 94,
   "metadata": {},
   "outputs": [
    {
     "name": "stdout",
     "output_type": "stream",
     "text": [
      "MAE: 2.068952625312374\n",
      "RMSE: 2.791359778601938\n",
      "R2: -1.1425486745197522\n"
     ]
    }
   ],
   "source": [
    "print_metrics(y_test, y_pred_regr)"
   ]
  },
  {
   "cell_type": "code",
   "execution_count": 95,
   "metadata": {},
   "outputs": [
    {
     "name": "stdout",
     "output_type": "stream",
     "text": [
      "MAE: 1.4051461004497587\n",
      "RMSE: 1.7791870174988813\n",
      "R2: 0.12955313358550125\n"
     ]
    }
   ],
   "source": [
    "from sklearn.linear_model import Ridge\n",
    "model_regression = Ridge() \n",
    "model_regression.fit(X_train, y_train)\n",
    "y_pred_regr = model_regression.predict(X_test)\n",
    "print_metrics(y_test, y_pred_regr)"
   ]
  },
  {
   "cell_type": "code",
   "execution_count": 96,
   "metadata": {
    "collapsed": true
   },
   "outputs": [],
   "source": [
    "featureImportance = pd.DataFrame({\"feature\": tf_vectorizer.get_feature_names(), \n",
    "                                  \"importance\": model_regression.coef_})\n",
    "\n",
    "featureImportance.set_index('feature', inplace=True)\n",
    "featureImportance.sort_values([\"importance\"], ascending=False, inplace=True)"
   ]
  },
  {
   "cell_type": "code",
   "execution_count": 97,
   "metadata": {
    "collapsed": true
   },
   "outputs": [],
   "source": [
    "def plotImportance(featureImportance, top_words=20):\n",
    "    \"\"\"\n",
    "        Plot importance of words in linear model\n",
    "        \n",
    "        featureImportance: pd.DataFrame\n",
    "            data with coefs values\n",
    "        \n",
    "        top_words: int\n",
    "            how many words to plot on both negative and positive sides\n",
    "    \"\"\"\n",
    "    featureImportance = featureImportance.head(top_words).append(featureImportance.tail(top_words))\n",
    "    x = np.arange(len(featureImportance))\n",
    "    y = featureImportance.importance\n",
    "\n",
    "    mask1 = y < 0\n",
    "    mask2 = y >= 0\n",
    "\n",
    "    plt.figure(figsize=(18, 8))\n",
    "    plt.bar(x[mask1], y[mask1], color = 'red')\n",
    "    plt.bar(x[mask2], y[mask2], color = 'blue')\n",
    "    plt.xticks(np.arange(len(featureImportance)), \n",
    "                   featureImportance.index, rotation=90, ha=\"right\", fontsize=11)\n",
    "    plt.show()"
   ]
  },
  {
   "cell_type": "code",
   "execution_count": 98,
   "metadata": {},
   "outputs": [
    {
     "data": {
      "image/png": "[encoded data removed]",
      "text/plain": [
       "<matplotlib.figure.Figure at 0x1bc026c9e48>"
      ]
     },
     "metadata": {},
     "output_type": "display_data"
    }
   ],
   "source": [
    "plotImportance(featureImportance)"
   ]
  }
 ],
 "metadata": {
  "kernelspec": {
   "display_name": "Python 3",
   "language": "python",
   "name": "python3"
  },
  "language_info": {
   "codemirror_mode": {
    "name": "ipython",
    "version": 3
   },
   "file_extension": ".py",
   "mimetype": "text/x-python",
   "name": "python",
   "nbconvert_exporter": "python",
   "pygments_lexer": "ipython3",
   "version": "3.6.1"
  },
  "varInspector": {
   "cols": {
    "lenName": 16,
    "lenType": 16,
    "lenVar": 40
   },
   "kernels_config": {
    "python": {
     "delete_cmd_postfix": "",
     "delete_cmd_prefix": "del ",
     "library": "var_list.py",
     "varRefreshCmd": "print(var_dic_list())"
    },
    "r": {
     "delete_cmd_postfix": ") ",
     "delete_cmd_prefix": "rm(",
     "library": "var_list.r",
     "varRefreshCmd": "cat(var_dic_list()) "
    }
   },
   "types_to_exclude": [
    "module",
    "function",
    "builtin_function_or_method",
    "instance",
    "_Feature"
   ],
   "window_display": false
  }
 },
 "nbformat": 4,
 "nbformat_minor": 2
}
