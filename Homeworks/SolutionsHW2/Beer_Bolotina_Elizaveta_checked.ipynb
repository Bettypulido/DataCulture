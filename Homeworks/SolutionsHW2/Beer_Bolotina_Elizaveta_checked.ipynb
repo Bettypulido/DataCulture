{
 "cells": [
  {
   "cell_type": "markdown",
   "metadata": {},
   "source": [
    "<img src=\"http://i3.stat01.com/1/4577/45766688/afacdb/pivo-quot-zhigulevskoe-barnoe-quot.jpg\" height=\"1000\" width=\"530\">"
   ]
  },
  {
   "cell_type": "markdown",
   "metadata": {},
   "source": [
    "\n",
    "## С утра принял - весь день свободен!"
   ]
  },
  {
   "cell_type": "code",
   "execution_count": 62,
   "metadata": {
    "collapsed": true
   },
   "outputs": [],
   "source": [
    "import pandas as pd\n",
    "import numpy as np\n",
    "import matplotlib.pyplot as plt\n",
    "import seaborn as sns\n",
    "%matplotlib inline\n"
   ]
  },
  {
   "cell_type": "code",
   "execution_count": 63,
   "metadata": {
    "collapsed": true
   },
   "outputs": [],
   "source": [
    "import warnings\n",
    "warnings.filterwarnings('ignore')"
   ]
  },
  {
   "cell_type": "code",
   "execution_count": 64,
   "metadata": {},
   "outputs": [
    {
     "name": "stdout",
     "output_type": "stream",
     "text": [
      "Размер выборки: (73861, 23)\n"
     ]
    },
    {
     "data": {
      "text/html": [
       "<div>\n",
       "<style scoped>\n",
       "    .dataframe tbody tr th:only-of-type {\n",
       "        vertical-align: middle;\n",
       "    }\n",
       "\n",
       "    .dataframe tbody tr th {\n",
       "        vertical-align: top;\n",
       "    }\n",
       "\n",
       "    .dataframe thead th {\n",
       "        text-align: right;\n",
       "    }\n",
       "</style>\n",
       "<table border=\"1\" class=\"dataframe\">\n",
       "  <thead>\n",
       "    <tr style=\"text-align: right;\">\n",
       "      <th></th>\n",
       "      <th>Name</th>\n",
       "      <th>Style</th>\n",
       "      <th>OG</th>\n",
       "      <th>FG</th>\n",
       "      <th>ABV</th>\n",
       "      <th>IBU</th>\n",
       "      <th>Color</th>\n",
       "      <th>BoilSize</th>\n",
       "      <th>BoilTime</th>\n",
       "      <th>BoilGravity</th>\n",
       "    </tr>\n",
       "  </thead>\n",
       "  <tbody>\n",
       "    <tr>\n",
       "      <th>0</th>\n",
       "      <td>Vanilla Cream Ale</td>\n",
       "      <td>Cream Ale</td>\n",
       "      <td>1.055</td>\n",
       "      <td>1.013</td>\n",
       "      <td>5.48</td>\n",
       "      <td>17.65</td>\n",
       "      <td>4.83</td>\n",
       "      <td>28.39</td>\n",
       "      <td>75</td>\n",
       "      <td>1.038</td>\n",
       "    </tr>\n",
       "    <tr>\n",
       "      <th>1</th>\n",
       "      <td>Southern Tier Pumking clone</td>\n",
       "      <td>Holiday/Winter Special Spiced Beer</td>\n",
       "      <td>1.083</td>\n",
       "      <td>1.021</td>\n",
       "      <td>8.16</td>\n",
       "      <td>60.65</td>\n",
       "      <td>15.64</td>\n",
       "      <td>24.61</td>\n",
       "      <td>60</td>\n",
       "      <td>1.070</td>\n",
       "    </tr>\n",
       "    <tr>\n",
       "      <th>2</th>\n",
       "      <td>Zombie Dust Clone - EXTRACT</td>\n",
       "      <td>American IPA</td>\n",
       "      <td>1.063</td>\n",
       "      <td>1.018</td>\n",
       "      <td>5.91</td>\n",
       "      <td>59.25</td>\n",
       "      <td>8.98</td>\n",
       "      <td>22.71</td>\n",
       "      <td>60</td>\n",
       "      <td>NaN</td>\n",
       "    </tr>\n",
       "    <tr>\n",
       "      <th>3</th>\n",
       "      <td>Zombie Dust Clone - ALL GRAIN</td>\n",
       "      <td>American IPA</td>\n",
       "      <td>1.061</td>\n",
       "      <td>1.017</td>\n",
       "      <td>5.80</td>\n",
       "      <td>54.48</td>\n",
       "      <td>8.50</td>\n",
       "      <td>26.50</td>\n",
       "      <td>60</td>\n",
       "      <td>NaN</td>\n",
       "    </tr>\n",
       "    <tr>\n",
       "      <th>4</th>\n",
       "      <td>Bakke Brygg Belgisk Blonde 50 l</td>\n",
       "      <td>Belgian Blond Ale</td>\n",
       "      <td>1.060</td>\n",
       "      <td>1.010</td>\n",
       "      <td>6.48</td>\n",
       "      <td>17.84</td>\n",
       "      <td>4.57</td>\n",
       "      <td>60.00</td>\n",
       "      <td>90</td>\n",
       "      <td>1.050</td>\n",
       "    </tr>\n",
       "  </tbody>\n",
       "</table>\n",
       "</div>"
      ],
      "text/plain": [
       "                              Name                               Style     OG  \\\n",
       "0                Vanilla Cream Ale                           Cream Ale  1.055   \n",
       "1      Southern Tier Pumking clone  Holiday/Winter Special Spiced Beer  1.083   \n",
       "2      Zombie Dust Clone - EXTRACT                        American IPA  1.063   \n",
       "3    Zombie Dust Clone - ALL GRAIN                        American IPA  1.061   \n",
       "4  Bakke Brygg Belgisk Blonde 50 l                   Belgian Blond Ale  1.060   \n",
       "\n",
       "      FG   ABV    IBU  Color  BoilSize  BoilTime  BoilGravity  \n",
       "0  1.013  5.48  17.65   4.83     28.39        75        1.038  \n",
       "1  1.021  8.16  60.65  15.64     24.61        60        1.070  \n",
       "2  1.018  5.91  59.25   8.98     22.71        60          NaN  \n",
       "3  1.017  5.80  54.48   8.50     26.50        60          NaN  \n",
       "4  1.010  6.48  17.84   4.57     60.00        90        1.050  "
      ]
     },
     "execution_count": 64,
     "metadata": {},
     "output_type": "execute_result"
    }
   ],
   "source": [
    "data = pd.read_csv('C:/Users/Elizaveta/Desktop/DataCulture-master/liza/Bolotina_Elisaveta_recipeData.csv')\n",
    "print('Размер выборки:', data.shape) \n",
    "data = data.drop (['BeerID','StyleID','UserId'], axis=1)\n",
    "data = data.drop(['URL','Size(L)', 'Efficiency', 'MashThickness', 'SugarScale', 'BrewMethod', 'PitchRate','PrimaryTemp', 'PrimingMethod', 'PrimingAmount'], axis=1)\n",
    "data.head()"
   ]
  },
  {
   "cell_type": "markdown",
   "metadata": {},
   "source": [
    "## 1. Предобработка данных\n"
   ]
  },
  {
   "cell_type": "code",
   "execution_count": 65,
   "metadata": {
    "collapsed": true
   },
   "outputs": [],
   "source": [
    "data = data[~data.Style.isnull()]\n",
    "def transformStyle(style):\n",
    "    \n",
    "    if style.find('IPA') > -1:\n",
    "        style = 'IPA'\n",
    "    elif style.find('Porter') > -1:\n",
    "        style = 'Porter'\n",
    "    elif style.find('Stout') > -1:\n",
    "        style = 'Stout'\n",
    "    elif style.find('Ale') > -1:\n",
    "        style = 'Ale'\n",
    "    elif style.find('Lager') > -1:\n",
    "        style = 'Lager'\n",
    "    elif style.find('Witbier') > -1:\n",
    "        style = 'Witbier'\n",
    "    elif style.find('Saison') > -1:\n",
    "        style = 'Saison'\n",
    "    else:\n",
    "        style = 'Other'\n",
    "    return style\n",
    "\n",
    "# создаем новый столбец с закодированными значениями\n",
    "data['Style_transformed'] = data.Style.apply(lambda x: transformStyle(x))\n"
   ]
  },
  {
   "cell_type": "code",
   "execution_count": 66,
   "metadata": {},
   "outputs": [
    {
     "data": {
      "text/plain": [
       "0      Ale\n",
       "1    Other\n",
       "2      IPA\n",
       "3      IPA\n",
       "4      Ale\n",
       "Name: Style_transformed, dtype: object"
      ]
     },
     "execution_count": 66,
     "metadata": {},
     "output_type": "execute_result"
    }
   ],
   "source": [
    "data['Style_transformed'].head()"
   ]
  },
  {
   "cell_type": "code",
   "execution_count": 67,
   "metadata": {
    "collapsed": true
   },
   "outputs": [],
   "source": [
    "target_var = ['Style_transformed'] \n",
    "contin_var = ['OG','FG','ABV','IBU','Color','BoilSize','BoilGravity']\n",
    "categor_var = ['BoilTime']\n"
   ]
  },
  {
   "cell_type": "code",
   "execution_count": 68,
   "metadata": {},
   "outputs": [
    {
     "name": "stdout",
     "output_type": "stream",
     "text": [
      "<class 'pandas.core.frame.DataFrame'>\n",
      "Int64Index: 73265 entries, 0 to 73860\n",
      "Data columns (total 11 columns):\n",
      "Name                 73264 non-null object\n",
      "Style                73265 non-null object\n",
      "OG                   73265 non-null float64\n",
      "FG                   73265 non-null float64\n",
      "ABV                  73265 non-null float64\n",
      "IBU                  73265 non-null float64\n",
      "Color                73265 non-null float64\n",
      "BoilSize             73265 non-null float64\n",
      "BoilTime             73265 non-null int64\n",
      "BoilGravity          70517 non-null float64\n",
      "Style_transformed    73265 non-null object\n",
      "dtypes: float64(7), int64(1), object(3)\n",
      "memory usage: 6.7+ MB\n"
     ]
    }
   ],
   "source": [
    "data.info()"
   ]
  },
  {
   "cell_type": "code",
   "execution_count": 69,
   "metadata": {},
   "outputs": [
    {
     "data": {
      "text/plain": [
       "Name                    1\n",
       "Style                   0\n",
       "OG                      0\n",
       "FG                      0\n",
       "ABV                     0\n",
       "IBU                     0\n",
       "Color                   0\n",
       "BoilSize                0\n",
       "BoilTime                0\n",
       "BoilGravity          2748\n",
       "Style_transformed       0\n",
       "dtype: int64"
      ]
     },
     "execution_count": 69,
     "metadata": {},
     "output_type": "execute_result"
    }
   ],
   "source": [
    "data.isnull().sum()"
   ]
  },
  {
   "cell_type": "code",
   "execution_count": 70,
   "metadata": {},
   "outputs": [
    {
     "data": {
      "text/plain": [
       "Name                 0.000014\n",
       "Style                0.000000\n",
       "OG                   0.000000\n",
       "FG                   0.000000\n",
       "ABV                  0.000000\n",
       "IBU                  0.000000\n",
       "Color                0.000000\n",
       "BoilSize             0.000000\n",
       "BoilTime             0.000000\n",
       "BoilGravity          0.037508\n",
       "Style_transformed    0.000000\n",
       "dtype: float64"
      ]
     },
     "execution_count": 70,
     "metadata": {},
     "output_type": "execute_result"
    }
   ],
   "source": [
    "data.isnull().sum()/len(data)"
   ]
  },
  {
   "cell_type": "markdown",
   "metadata": {},
   "source": [
    "## Категориальные переменные\n"
   ]
  },
  {
   "cell_type": "code",
   "execution_count": 71,
   "metadata": {},
   "outputs": [
    {
     "data": {
      "text/html": [
       "<div>\n",
       "<style scoped>\n",
       "    .dataframe tbody tr th:only-of-type {\n",
       "        vertical-align: middle;\n",
       "    }\n",
       "\n",
       "    .dataframe tbody tr th {\n",
       "        vertical-align: top;\n",
       "    }\n",
       "\n",
       "    .dataframe thead th {\n",
       "        text-align: right;\n",
       "    }\n",
       "</style>\n",
       "<table border=\"1\" class=\"dataframe\">\n",
       "  <thead>\n",
       "    <tr style=\"text-align: right;\">\n",
       "      <th></th>\n",
       "      <th>BoilTime</th>\n",
       "    </tr>\n",
       "  </thead>\n",
       "  <tbody>\n",
       "    <tr>\n",
       "      <th>0</th>\n",
       "      <td>75</td>\n",
       "    </tr>\n",
       "    <tr>\n",
       "      <th>1</th>\n",
       "      <td>60</td>\n",
       "    </tr>\n",
       "    <tr>\n",
       "      <th>2</th>\n",
       "      <td>60</td>\n",
       "    </tr>\n",
       "    <tr>\n",
       "      <th>3</th>\n",
       "      <td>60</td>\n",
       "    </tr>\n",
       "    <tr>\n",
       "      <th>4</th>\n",
       "      <td>90</td>\n",
       "    </tr>\n",
       "  </tbody>\n",
       "</table>\n",
       "</div>"
      ],
      "text/plain": [
       "   BoilTime\n",
       "0        75\n",
       "1        60\n",
       "2        60\n",
       "3        60\n",
       "4        90"
      ]
     },
     "execution_count": 71,
     "metadata": {},
     "output_type": "execute_result"
    }
   ],
   "source": [
    "data[categor_var].head()"
   ]
  },
  {
   "cell_type": "code",
   "execution_count": 72,
   "metadata": {},
   "outputs": [
    {
     "data": {
      "text/plain": [
       "75"
      ]
     },
     "execution_count": 72,
     "metadata": {},
     "output_type": "execute_result"
    }
   ],
   "source": [
    "len(data['BoilTime'].unique())"
   ]
  },
  {
   "cell_type": "code",
   "execution_count": 73,
   "metadata": {
    "collapsed": true
   },
   "outputs": [],
   "source": [
    "frequency_encoding = dict(data['BoilTime'].value_counts()/len(data))\n",
    "data['BoilTime'] = data['BoilTime'].map(frequency_encoding)"
   ]
  },
  {
   "cell_type": "code",
   "execution_count": 74,
   "metadata": {},
   "outputs": [
    {
     "data": {
      "text/html": [
       "<div>\n",
       "<style scoped>\n",
       "    .dataframe tbody tr th:only-of-type {\n",
       "        vertical-align: middle;\n",
       "    }\n",
       "\n",
       "    .dataframe tbody tr th {\n",
       "        vertical-align: top;\n",
       "    }\n",
       "\n",
       "    .dataframe thead th {\n",
       "        text-align: right;\n",
       "    }\n",
       "</style>\n",
       "<table border=\"1\" class=\"dataframe\">\n",
       "  <thead>\n",
       "    <tr style=\"text-align: right;\">\n",
       "      <th></th>\n",
       "      <th>BoilTime</th>\n",
       "    </tr>\n",
       "  </thead>\n",
       "  <tbody>\n",
       "    <tr>\n",
       "      <th>0</th>\n",
       "      <td>0.028868</td>\n",
       "    </tr>\n",
       "    <tr>\n",
       "      <th>1</th>\n",
       "      <td>0.748516</td>\n",
       "    </tr>\n",
       "    <tr>\n",
       "      <th>2</th>\n",
       "      <td>0.748516</td>\n",
       "    </tr>\n",
       "    <tr>\n",
       "      <th>3</th>\n",
       "      <td>0.748516</td>\n",
       "    </tr>\n",
       "    <tr>\n",
       "      <th>4</th>\n",
       "      <td>0.154535</td>\n",
       "    </tr>\n",
       "  </tbody>\n",
       "</table>\n",
       "</div>"
      ],
      "text/plain": [
       "   BoilTime\n",
       "0  0.028868\n",
       "1  0.748516\n",
       "2  0.748516\n",
       "3  0.748516\n",
       "4  0.154535"
      ]
     },
     "execution_count": 74,
     "metadata": {},
     "output_type": "execute_result"
    }
   ],
   "source": [
    "data_categor = data[categor_var]\n",
    "data[categor_var].head()"
   ]
  },
  {
   "cell_type": "code",
   "execution_count": 75,
   "metadata": {},
   "outputs": [
    {
     "data": {
      "text/plain": [
       "BoilTime    0\n",
       "dtype: int64"
      ]
     },
     "execution_count": 75,
     "metadata": {},
     "output_type": "execute_result"
    }
   ],
   "source": [
    "data_categor.isnull().sum()"
   ]
  },
  {
   "cell_type": "markdown",
   "metadata": {},
   "source": [
    "\n",
    "\n",
    "## Целевая  переменная \n"
   ]
  },
  {
   "cell_type": "code",
   "execution_count": 76,
   "metadata": {},
   "outputs": [
    {
     "data": {
      "text/html": [
       "<div>\n",
       "<style scoped>\n",
       "    .dataframe tbody tr th:only-of-type {\n",
       "        vertical-align: middle;\n",
       "    }\n",
       "\n",
       "    .dataframe tbody tr th {\n",
       "        vertical-align: top;\n",
       "    }\n",
       "\n",
       "    .dataframe thead th {\n",
       "        text-align: right;\n",
       "    }\n",
       "</style>\n",
       "<table border=\"1\" class=\"dataframe\">\n",
       "  <thead>\n",
       "    <tr style=\"text-align: right;\">\n",
       "      <th></th>\n",
       "      <th>Style_transformed</th>\n",
       "    </tr>\n",
       "  </thead>\n",
       "  <tbody>\n",
       "    <tr>\n",
       "      <th>0</th>\n",
       "      <td>Ale</td>\n",
       "    </tr>\n",
       "    <tr>\n",
       "      <th>1</th>\n",
       "      <td>Other</td>\n",
       "    </tr>\n",
       "    <tr>\n",
       "      <th>2</th>\n",
       "      <td>IPA</td>\n",
       "    </tr>\n",
       "    <tr>\n",
       "      <th>3</th>\n",
       "      <td>IPA</td>\n",
       "    </tr>\n",
       "    <tr>\n",
       "      <th>4</th>\n",
       "      <td>Ale</td>\n",
       "    </tr>\n",
       "  </tbody>\n",
       "</table>\n",
       "</div>"
      ],
      "text/plain": [
       "  Style_transformed\n",
       "0               Ale\n",
       "1             Other\n",
       "2               IPA\n",
       "3               IPA\n",
       "4               Ale"
      ]
     },
     "execution_count": 76,
     "metadata": {},
     "output_type": "execute_result"
    }
   ],
   "source": [
    "data_target = data[target_var]  \n",
    "data_target.head()"
   ]
  },
  {
   "cell_type": "markdown",
   "metadata": {},
   "source": [
    "## Непрерывные  переменные\n"
   ]
  },
  {
   "cell_type": "code",
   "execution_count": 77,
   "metadata": {},
   "outputs": [
    {
     "data": {
      "text/html": [
       "<div>\n",
       "<style scoped>\n",
       "    .dataframe tbody tr th:only-of-type {\n",
       "        vertical-align: middle;\n",
       "    }\n",
       "\n",
       "    .dataframe tbody tr th {\n",
       "        vertical-align: top;\n",
       "    }\n",
       "\n",
       "    .dataframe thead th {\n",
       "        text-align: right;\n",
       "    }\n",
       "</style>\n",
       "<table border=\"1\" class=\"dataframe\">\n",
       "  <thead>\n",
       "    <tr style=\"text-align: right;\">\n",
       "      <th></th>\n",
       "      <th>OG</th>\n",
       "      <th>FG</th>\n",
       "      <th>ABV</th>\n",
       "      <th>IBU</th>\n",
       "      <th>Color</th>\n",
       "      <th>BoilSize</th>\n",
       "      <th>BoilGravity</th>\n",
       "    </tr>\n",
       "  </thead>\n",
       "  <tbody>\n",
       "    <tr>\n",
       "      <th>0</th>\n",
       "      <td>1.055</td>\n",
       "      <td>1.013</td>\n",
       "      <td>5.48</td>\n",
       "      <td>17.65</td>\n",
       "      <td>4.83</td>\n",
       "      <td>28.39</td>\n",
       "      <td>1.038</td>\n",
       "    </tr>\n",
       "    <tr>\n",
       "      <th>1</th>\n",
       "      <td>1.083</td>\n",
       "      <td>1.021</td>\n",
       "      <td>8.16</td>\n",
       "      <td>60.65</td>\n",
       "      <td>15.64</td>\n",
       "      <td>24.61</td>\n",
       "      <td>1.070</td>\n",
       "    </tr>\n",
       "    <tr>\n",
       "      <th>2</th>\n",
       "      <td>1.063</td>\n",
       "      <td>1.018</td>\n",
       "      <td>5.91</td>\n",
       "      <td>59.25</td>\n",
       "      <td>8.98</td>\n",
       "      <td>22.71</td>\n",
       "      <td>NaN</td>\n",
       "    </tr>\n",
       "    <tr>\n",
       "      <th>3</th>\n",
       "      <td>1.061</td>\n",
       "      <td>1.017</td>\n",
       "      <td>5.80</td>\n",
       "      <td>54.48</td>\n",
       "      <td>8.50</td>\n",
       "      <td>26.50</td>\n",
       "      <td>NaN</td>\n",
       "    </tr>\n",
       "    <tr>\n",
       "      <th>4</th>\n",
       "      <td>1.060</td>\n",
       "      <td>1.010</td>\n",
       "      <td>6.48</td>\n",
       "      <td>17.84</td>\n",
       "      <td>4.57</td>\n",
       "      <td>60.00</td>\n",
       "      <td>1.050</td>\n",
       "    </tr>\n",
       "  </tbody>\n",
       "</table>\n",
       "</div>"
      ],
      "text/plain": [
       "      OG     FG   ABV    IBU  Color  BoilSize  BoilGravity\n",
       "0  1.055  1.013  5.48  17.65   4.83     28.39        1.038\n",
       "1  1.083  1.021  8.16  60.65  15.64     24.61        1.070\n",
       "2  1.063  1.018  5.91  59.25   8.98     22.71          NaN\n",
       "3  1.061  1.017  5.80  54.48   8.50     26.50          NaN\n",
       "4  1.060  1.010  6.48  17.84   4.57     60.00        1.050"
      ]
     },
     "execution_count": 77,
     "metadata": {},
     "output_type": "execute_result"
    }
   ],
   "source": [
    "data_contin = data[contin_var]\n",
    "data_contin.head()"
   ]
  },
  {
   "cell_type": "code",
   "execution_count": 78,
   "metadata": {},
   "outputs": [
    {
     "data": {
      "text/plain": [
       "OG                0\n",
       "FG                0\n",
       "ABV               0\n",
       "IBU               0\n",
       "Color             0\n",
       "BoilSize          0\n",
       "BoilGravity    2748\n",
       "dtype: int64"
      ]
     },
     "execution_count": 78,
     "metadata": {},
     "output_type": "execute_result"
    }
   ],
   "source": [
    "data_contin.isnull().sum()"
   ]
  },
  {
   "cell_type": "code",
   "execution_count": 79,
   "metadata": {
    "collapsed": true
   },
   "outputs": [],
   "source": [
    "data_contin['BoilGravity'] = data_contin['BoilGravity'].fillna(data_contin['BoilGravity'].median())"
   ]
  },
  {
   "cell_type": "code",
   "execution_count": 80,
   "metadata": {},
   "outputs": [
    {
     "data": {
      "text/html": [
       "<div>\n",
       "<style scoped>\n",
       "    .dataframe tbody tr th:only-of-type {\n",
       "        vertical-align: middle;\n",
       "    }\n",
       "\n",
       "    .dataframe tbody tr th {\n",
       "        vertical-align: top;\n",
       "    }\n",
       "\n",
       "    .dataframe thead th {\n",
       "        text-align: right;\n",
       "    }\n",
       "</style>\n",
       "<table border=\"1\" class=\"dataframe\">\n",
       "  <thead>\n",
       "    <tr style=\"text-align: right;\">\n",
       "      <th></th>\n",
       "      <th>OG</th>\n",
       "      <th>FG</th>\n",
       "      <th>ABV</th>\n",
       "      <th>IBU</th>\n",
       "      <th>Color</th>\n",
       "      <th>BoilSize</th>\n",
       "      <th>BoilGravity</th>\n",
       "    </tr>\n",
       "  </thead>\n",
       "  <tbody>\n",
       "    <tr>\n",
       "      <th>0</th>\n",
       "      <td>1.055</td>\n",
       "      <td>1.013</td>\n",
       "      <td>5.48</td>\n",
       "      <td>17.65</td>\n",
       "      <td>4.83</td>\n",
       "      <td>28.39</td>\n",
       "      <td>1.038</td>\n",
       "    </tr>\n",
       "    <tr>\n",
       "      <th>1</th>\n",
       "      <td>1.083</td>\n",
       "      <td>1.021</td>\n",
       "      <td>8.16</td>\n",
       "      <td>60.65</td>\n",
       "      <td>15.64</td>\n",
       "      <td>24.61</td>\n",
       "      <td>1.070</td>\n",
       "    </tr>\n",
       "    <tr>\n",
       "      <th>2</th>\n",
       "      <td>1.063</td>\n",
       "      <td>1.018</td>\n",
       "      <td>5.91</td>\n",
       "      <td>59.25</td>\n",
       "      <td>8.98</td>\n",
       "      <td>22.71</td>\n",
       "      <td>1.047</td>\n",
       "    </tr>\n",
       "    <tr>\n",
       "      <th>3</th>\n",
       "      <td>1.061</td>\n",
       "      <td>1.017</td>\n",
       "      <td>5.80</td>\n",
       "      <td>54.48</td>\n",
       "      <td>8.50</td>\n",
       "      <td>26.50</td>\n",
       "      <td>1.047</td>\n",
       "    </tr>\n",
       "    <tr>\n",
       "      <th>4</th>\n",
       "      <td>1.060</td>\n",
       "      <td>1.010</td>\n",
       "      <td>6.48</td>\n",
       "      <td>17.84</td>\n",
       "      <td>4.57</td>\n",
       "      <td>60.00</td>\n",
       "      <td>1.050</td>\n",
       "    </tr>\n",
       "  </tbody>\n",
       "</table>\n",
       "</div>"
      ],
      "text/plain": [
       "      OG     FG   ABV    IBU  Color  BoilSize  BoilGravity\n",
       "0  1.055  1.013  5.48  17.65   4.83     28.39        1.038\n",
       "1  1.083  1.021  8.16  60.65  15.64     24.61        1.070\n",
       "2  1.063  1.018  5.91  59.25   8.98     22.71        1.047\n",
       "3  1.061  1.017  5.80  54.48   8.50     26.50        1.047\n",
       "4  1.060  1.010  6.48  17.84   4.57     60.00        1.050"
      ]
     },
     "execution_count": 80,
     "metadata": {},
     "output_type": "execute_result"
    }
   ],
   "source": [
    "data_contin.head()"
   ]
  },
  {
   "cell_type": "code",
   "execution_count": 81,
   "metadata": {},
   "outputs": [
    {
     "data": {
      "image/png": "[encoded data removed]",
      "text/plain": [
       "<matplotlib.figure.Figure at 0xd084be0>"
      ]
     },
     "metadata": {},
     "output_type": "display_data"
    }
   ],
   "source": [
    "data.drop('BoilGravity',axis=1).hist(figsize=(20, 12));"
   ]
  },
  {
   "cell_type": "code",
   "execution_count": 82,
   "metadata": {},
   "outputs": [
    {
     "data": {
      "image/png": "[encoded data removed]",
      "text/plain": [
       "<matplotlib.figure.Figure at 0xacbd780>"
      ]
     },
     "metadata": {},
     "output_type": "display_data"
    }
   ],
   "source": [
    "plt.figure(figsize=(12, 10))\n",
    "sns.heatmap(data.corr(), annot=True);"
   ]
  },
  {
   "cell_type": "code",
   "execution_count": 83,
   "metadata": {},
   "outputs": [
    {
     "data": {
      "text/html": [
       "<div>\n",
       "<style scoped>\n",
       "    .dataframe tbody tr th:only-of-type {\n",
       "        vertical-align: middle;\n",
       "    }\n",
       "\n",
       "    .dataframe tbody tr th {\n",
       "        vertical-align: top;\n",
       "    }\n",
       "\n",
       "    .dataframe thead th {\n",
       "        text-align: right;\n",
       "    }\n",
       "</style>\n",
       "<table border=\"1\" class=\"dataframe\">\n",
       "  <thead>\n",
       "    <tr style=\"text-align: right;\">\n",
       "      <th></th>\n",
       "      <th>OG</th>\n",
       "      <th>FG</th>\n",
       "      <th>ABV</th>\n",
       "      <th>IBU</th>\n",
       "      <th>Color</th>\n",
       "      <th>BoilSize</th>\n",
       "      <th>BoilGravity</th>\n",
       "    </tr>\n",
       "  </thead>\n",
       "  <tbody>\n",
       "    <tr>\n",
       "      <th>0</th>\n",
       "      <td>1.055</td>\n",
       "      <td>1.013</td>\n",
       "      <td>5.48</td>\n",
       "      <td>17.65</td>\n",
       "      <td>4.83</td>\n",
       "      <td>28.39</td>\n",
       "      <td>1.038</td>\n",
       "    </tr>\n",
       "    <tr>\n",
       "      <th>1</th>\n",
       "      <td>1.083</td>\n",
       "      <td>1.021</td>\n",
       "      <td>8.16</td>\n",
       "      <td>60.65</td>\n",
       "      <td>15.64</td>\n",
       "      <td>24.61</td>\n",
       "      <td>1.070</td>\n",
       "    </tr>\n",
       "    <tr>\n",
       "      <th>2</th>\n",
       "      <td>1.063</td>\n",
       "      <td>1.018</td>\n",
       "      <td>5.91</td>\n",
       "      <td>59.25</td>\n",
       "      <td>8.98</td>\n",
       "      <td>22.71</td>\n",
       "      <td>1.047</td>\n",
       "    </tr>\n",
       "    <tr>\n",
       "      <th>3</th>\n",
       "      <td>1.061</td>\n",
       "      <td>1.017</td>\n",
       "      <td>5.80</td>\n",
       "      <td>54.48</td>\n",
       "      <td>8.50</td>\n",
       "      <td>26.50</td>\n",
       "      <td>1.047</td>\n",
       "    </tr>\n",
       "    <tr>\n",
       "      <th>4</th>\n",
       "      <td>1.060</td>\n",
       "      <td>1.010</td>\n",
       "      <td>6.48</td>\n",
       "      <td>17.84</td>\n",
       "      <td>4.57</td>\n",
       "      <td>60.00</td>\n",
       "      <td>1.050</td>\n",
       "    </tr>\n",
       "  </tbody>\n",
       "</table>\n",
       "</div>"
      ],
      "text/plain": [
       "      OG     FG   ABV    IBU  Color  BoilSize  BoilGravity\n",
       "0  1.055  1.013  5.48  17.65   4.83     28.39        1.038\n",
       "1  1.083  1.021  8.16  60.65  15.64     24.61        1.070\n",
       "2  1.063  1.018  5.91  59.25   8.98     22.71        1.047\n",
       "3  1.061  1.017  5.80  54.48   8.50     26.50        1.047\n",
       "4  1.060  1.010  6.48  17.84   4.57     60.00        1.050"
      ]
     },
     "execution_count": 83,
     "metadata": {},
     "output_type": "execute_result"
    }
   ],
   "source": [
    "data_contin.head()"
   ]
  },
  {
   "cell_type": "code",
   "execution_count": 84,
   "metadata": {},
   "outputs": [
    {
     "data": {
      "text/plain": [
       "OG             0\n",
       "FG             0\n",
       "ABV            0\n",
       "IBU            0\n",
       "Color          0\n",
       "BoilSize       0\n",
       "BoilGravity    0\n",
       "dtype: int64"
      ]
     },
     "execution_count": 84,
     "metadata": {},
     "output_type": "execute_result"
    }
   ],
   "source": [
    "data_contin.isnull().sum()"
   ]
  },
  {
   "cell_type": "code",
   "execution_count": 85,
   "metadata": {},
   "outputs": [
    {
     "data": {
      "text/html": [
       "<div>\n",
       "<style scoped>\n",
       "    .dataframe tbody tr th:only-of-type {\n",
       "        vertical-align: middle;\n",
       "    }\n",
       "\n",
       "    .dataframe tbody tr th {\n",
       "        vertical-align: top;\n",
       "    }\n",
       "\n",
       "    .dataframe thead th {\n",
       "        text-align: right;\n",
       "    }\n",
       "</style>\n",
       "<table border=\"1\" class=\"dataframe\">\n",
       "  <thead>\n",
       "    <tr style=\"text-align: right;\">\n",
       "      <th></th>\n",
       "      <th>Style_transformed</th>\n",
       "      <th>OG</th>\n",
       "      <th>FG</th>\n",
       "      <th>ABV</th>\n",
       "      <th>IBU</th>\n",
       "      <th>Color</th>\n",
       "      <th>BoilSize</th>\n",
       "      <th>BoilGravity</th>\n",
       "      <th>BoilTime</th>\n",
       "    </tr>\n",
       "  </thead>\n",
       "  <tbody>\n",
       "    <tr>\n",
       "      <th>0</th>\n",
       "      <td>Ale</td>\n",
       "      <td>1.055</td>\n",
       "      <td>1.013</td>\n",
       "      <td>5.48</td>\n",
       "      <td>17.65</td>\n",
       "      <td>4.83</td>\n",
       "      <td>28.39</td>\n",
       "      <td>1.038</td>\n",
       "      <td>0.028868</td>\n",
       "    </tr>\n",
       "    <tr>\n",
       "      <th>1</th>\n",
       "      <td>Other</td>\n",
       "      <td>1.083</td>\n",
       "      <td>1.021</td>\n",
       "      <td>8.16</td>\n",
       "      <td>60.65</td>\n",
       "      <td>15.64</td>\n",
       "      <td>24.61</td>\n",
       "      <td>1.070</td>\n",
       "      <td>0.748516</td>\n",
       "    </tr>\n",
       "    <tr>\n",
       "      <th>2</th>\n",
       "      <td>IPA</td>\n",
       "      <td>1.063</td>\n",
       "      <td>1.018</td>\n",
       "      <td>5.91</td>\n",
       "      <td>59.25</td>\n",
       "      <td>8.98</td>\n",
       "      <td>22.71</td>\n",
       "      <td>1.047</td>\n",
       "      <td>0.748516</td>\n",
       "    </tr>\n",
       "    <tr>\n",
       "      <th>3</th>\n",
       "      <td>IPA</td>\n",
       "      <td>1.061</td>\n",
       "      <td>1.017</td>\n",
       "      <td>5.80</td>\n",
       "      <td>54.48</td>\n",
       "      <td>8.50</td>\n",
       "      <td>26.50</td>\n",
       "      <td>1.047</td>\n",
       "      <td>0.748516</td>\n",
       "    </tr>\n",
       "    <tr>\n",
       "      <th>4</th>\n",
       "      <td>Ale</td>\n",
       "      <td>1.060</td>\n",
       "      <td>1.010</td>\n",
       "      <td>6.48</td>\n",
       "      <td>17.84</td>\n",
       "      <td>4.57</td>\n",
       "      <td>60.00</td>\n",
       "      <td>1.050</td>\n",
       "      <td>0.154535</td>\n",
       "    </tr>\n",
       "  </tbody>\n",
       "</table>\n",
       "</div>"
      ],
      "text/plain": [
       "  Style_transformed     OG     FG   ABV    IBU  Color  BoilSize  BoilGravity  \\\n",
       "0               Ale  1.055  1.013  5.48  17.65   4.83     28.39        1.038   \n",
       "1             Other  1.083  1.021  8.16  60.65  15.64     24.61        1.070   \n",
       "2               IPA  1.063  1.018  5.91  59.25   8.98     22.71        1.047   \n",
       "3               IPA  1.061  1.017  5.80  54.48   8.50     26.50        1.047   \n",
       "4               Ale  1.060  1.010  6.48  17.84   4.57     60.00        1.050   \n",
       "\n",
       "   BoilTime  \n",
       "0  0.028868  \n",
       "1  0.748516  \n",
       "2  0.748516  \n",
       "3  0.748516  \n",
       "4  0.154535  "
      ]
     },
     "execution_count": 85,
     "metadata": {},
     "output_type": "execute_result"
    }
   ],
   "source": [
    "data = pd.concat([data_target, data_contin, data_categor], axis=1)\n",
    "data.head()"
   ]
  },
  {
   "cell_type": "code",
   "execution_count": 86,
   "metadata": {
    "collapsed": true
   },
   "outputs": [],
   "source": [
    "from sklearn.model_selection import train_test_split\n",
    "data_train, data_test = train_test_split(data, test_size = 0.3)\n",
    "\n",
    "y_train = data_train['Style_transformed']\n",
    "y_test = data_test['Style_transformed']\n",
    "\n",
    "X_train = data_train.drop(['Style_transformed'], axis=1)\n",
    "X_test = data_test.drop(['Style_transformed'], axis=1)"
   ]
  },
  {
   "cell_type": "markdown",
   "metadata": {},
   "source": [
    "## Метод ближайшего соседа "
   ]
  },
  {
   "cell_type": "code",
   "execution_count": 87,
   "metadata": {},
   "outputs": [
    {
     "data": {
      "text/plain": [
       "KNeighborsClassifier(algorithm='auto', leaf_size=30, metric='minkowski',\n",
       "           metric_params=None, n_jobs=1, n_neighbors=1, p=2,\n",
       "           weights='uniform')"
      ]
     },
     "execution_count": 87,
     "metadata": {},
     "output_type": "execute_result"
    }
   ],
   "source": [
    "from sklearn.neighbors import KNeighborsClassifier\n",
    "\n",
    "clf_knn = KNeighborsClassifier(n_neighbors=1)\n",
    "clf_knn.fit(X_train, y_train)"
   ]
  },
  {
   "cell_type": "code",
   "execution_count": 88,
   "metadata": {},
   "outputs": [
    {
     "data": {
      "text/plain": [
       "array(['IPA', 'Porter', 'IPA', ..., 'Other', 'Lager', 'Lager'],\n",
       "      dtype=object)"
      ]
     },
     "execution_count": 88,
     "metadata": {},
     "output_type": "execute_result"
    }
   ],
   "source": [
    "y_predicted = clf_knn.predict(X_test)\n",
    "y_predicted"
   ]
  },
  {
   "cell_type": "code",
   "execution_count": 89,
   "metadata": {
    "collapsed": true
   },
   "outputs": [],
   "source": [
    "from sklearn import metrics  "
   ]
  },
  {
   "cell_type": "code",
   "execution_count": 90,
   "metadata": {},
   "outputs": [
    {
     "name": "stdout",
     "output_type": "stream",
     "text": [
      "             precision    recall  f1-score   support\n",
      "\n",
      "        Ale       0.40      0.40      0.40      5714\n",
      "        IPA       0.64      0.65      0.64      5120\n",
      "      Lager       0.12      0.12      0.12      1213\n",
      "      Other       0.45      0.44      0.45      6238\n",
      "     Porter       0.26      0.27      0.27       778\n",
      "     Saison       0.13      0.13      0.13       801\n",
      "      Stout       0.62      0.60      0.61      1811\n",
      "    Witbier       0.13      0.15      0.14       305\n",
      "\n",
      "avg / total       0.45      0.45      0.45     21980\n",
      "\n"
     ]
    }
   ],
   "source": [
    "print(metrics.classification_report(y_test, y_predicted))"
   ]
  },
  {
   "cell_type": "code",
   "execution_count": 91,
   "metadata": {
    "collapsed": true
   },
   "outputs": [],
   "source": [
    "clf_knn = KNeighborsClassifier(n_neighbors=7)\n",
    "clf_knn.fit(X_train, y_train)\n",
    "y_predicted = clf_knn.predict(X_test)"
   ]
  },
  {
   "cell_type": "code",
   "execution_count": 92,
   "metadata": {},
   "outputs": [
    {
     "name": "stdout",
     "output_type": "stream",
     "text": [
      "             precision    recall  f1-score   support\n",
      "\n",
      "        Ale       0.43      0.51      0.47      5714\n",
      "        IPA       0.67      0.76      0.71      5120\n",
      "      Lager       0.22      0.07      0.11      1213\n",
      "      Other       0.50      0.49      0.50      6238\n",
      "     Porter       0.35      0.29      0.32       778\n",
      "     Saison       0.19      0.04      0.07       801\n",
      "      Stout       0.65      0.72      0.68      1811\n",
      "    Witbier       0.18      0.06      0.09       305\n",
      "\n",
      "avg / total       0.50      0.53      0.51     21980\n",
      "\n"
     ]
    }
   ],
   "source": [
    "print(metrics.classification_report(y_test, y_predicted))"
   ]
  },
  {
   "cell_type": "code",
   "execution_count": 93,
   "metadata": {},
   "outputs": [
    {
     "data": {
      "text/plain": [
       "array(['IPA', 'Stout', 'IPA', 'Ale', 'IPA', 'Other', 'Other', 'Other',\n",
       "       'IPA', 'Stout'], dtype=object)"
      ]
     },
     "execution_count": 93,
     "metadata": {},
     "output_type": "execute_result"
    }
   ],
   "source": [
    "y = clf_knn.predict(X_test)\n",
    "y[:10]"
   ]
  },
  {
   "cell_type": "code",
   "execution_count": 94,
   "metadata": {
    "collapsed": true
   },
   "outputs": [],
   "source": [
    "from sklearn.preprocessing import LabelEncoder\n",
    "\n",
    "encoder = LabelEncoder()\n",
    "\n",
    "y_labels_train = encoder.fit_transform(y_train)\n",
    "y_labels_test = encoder.transform(y_test)"
   ]
  },
  {
   "cell_type": "code",
   "execution_count": 95,
   "metadata": {},
   "outputs": [
    {
     "name": "stdout",
     "output_type": "stream",
     "text": [
      "             precision    recall  f1-score   support\n",
      "\n",
      "        Ale       0.43      0.51      0.47      5714\n",
      "        IPA       0.67      0.76      0.71      5120\n",
      "      Lager       0.22      0.07      0.11      1213\n",
      "      Other       0.50      0.49      0.50      6238\n",
      "     Porter       0.35      0.29      0.32       778\n",
      "     Saison       0.19      0.04      0.07       801\n",
      "      Stout       0.65      0.72      0.68      1811\n",
      "    Witbier       0.18      0.06      0.09       305\n",
      "\n",
      "avg / total       0.50      0.53      0.51     21980\n",
      "\n"
     ]
    }
   ],
   "source": [
    "print(metrics.classification_report(y_test, y_predicted))"
   ]
  },
  {
   "cell_type": "markdown",
   "metadata": {},
   "source": [
    "## Леса да деревья "
   ]
  },
  {
   "cell_type": "code",
   "execution_count": 96,
   "metadata": {
    "collapsed": true
   },
   "outputs": [],
   "source": [
    "from sklearn.tree import DecisionTreeClassifier # подгрузили дерево"
   ]
  },
  {
   "cell_type": "code",
   "execution_count": 97,
   "metadata": {
    "collapsed": true
   },
   "outputs": [],
   "source": [
    "clf_tree = DecisionTreeClassifier()     # объявили дерево\n",
    "clf_tree.fit(X_train, y_train)          # научили дерево\n",
    "y_predicted = clf_tree.predict(X_test)  # предсказали метки класса\n",
    "y_proba = clf_tree.predict_proba(X_test)"
   ]
  },
  {
   "cell_type": "code",
   "execution_count": 98,
   "metadata": {},
   "outputs": [
    {
     "name": "stdout",
     "output_type": "stream",
     "text": [
      "             precision    recall  f1-score   support\n",
      "\n",
      "        Ale       0.41      0.41      0.41      5714\n",
      "        IPA       0.65      0.64      0.64      5120\n",
      "      Lager       0.14      0.15      0.14      1213\n",
      "      Other       0.47      0.47      0.47      6238\n",
      "     Porter       0.32      0.33      0.33       778\n",
      "     Saison       0.21      0.21      0.21       801\n",
      "      Stout       0.65      0.60      0.62      1811\n",
      "    Witbier       0.13      0.14      0.14       305\n",
      "\n",
      "avg / total       0.47      0.47      0.47     21980\n",
      "\n"
     ]
    },
    {
     "data": {
      "image/png": "[encoded data removed]",
      "text/plain": [
       "<matplotlib.figure.Figure at 0xd8687b8>"
      ]
     },
     "metadata": {},
     "output_type": "display_data"
    }
   ],
   "source": [
    "print(metrics.classification_report(y_test, y_predicted))\n",
    "\n",
    "# Рисуем картиночку\n",
    "\n",
    "plt.plot([0, 1], [0, 1])\n",
    "plt.xlim([0.0, 1.0])\n",
    "plt.ylim([0.0, 1.05])\n",
    "plt.xlabel('False Positive Rate')\n",
    "plt.ylabel('True Positive Rate')\n",
    "plt.title('ROC curve')\n",
    "plt.show()\n"
   ]
  },
  {
   "cell_type": "code",
   "execution_count": 99,
   "metadata": {},
   "outputs": [
    {
     "data": {
      "image/png": "[encoded data removed]",
      "text/plain": [
       "<matplotlib.figure.Figure at 0xe9d77f0>"
      ]
     },
     "metadata": {},
     "output_type": "display_data"
    }
   ],
   "source": [
    "import seaborn as sns\n",
    "from sklearn.metrics import confusion_matrix\n",
    "array = confusion_matrix(y_test, y_predicted)\n",
    "df_cm = pd.DataFrame(array)\n",
    "plt.figure(figsize = (6,6))\n",
    "sns.heatmap(df_cm, annot=True, fmt='g', cbar=False)\n",
    "plt.ylabel(\"Actual\")\n",
    "plt.xlabel(\"Predicted\");"
   ]
  },
  {
   "cell_type": "code",
   "execution_count": 100,
   "metadata": {},
   "outputs": [
    {
     "data": {
      "text/html": [
       "<div>\n",
       "<style scoped>\n",
       "    .dataframe tbody tr th:only-of-type {\n",
       "        vertical-align: middle;\n",
       "    }\n",
       "\n",
       "    .dataframe tbody tr th {\n",
       "        vertical-align: top;\n",
       "    }\n",
       "\n",
       "    .dataframe thead th {\n",
       "        text-align: right;\n",
       "    }\n",
       "</style>\n",
       "<table border=\"1\" class=\"dataframe\">\n",
       "  <thead>\n",
       "    <tr style=\"text-align: right;\">\n",
       "      <th></th>\n",
       "      <th>importance</th>\n",
       "    </tr>\n",
       "    <tr>\n",
       "      <th>feature</th>\n",
       "      <th></th>\n",
       "    </tr>\n",
       "  </thead>\n",
       "  <tbody>\n",
       "    <tr>\n",
       "      <th>IBU</th>\n",
       "      <td>0.252732</td>\n",
       "    </tr>\n",
       "    <tr>\n",
       "      <th>Color</th>\n",
       "      <td>0.247427</td>\n",
       "    </tr>\n",
       "    <tr>\n",
       "      <th>ABV</th>\n",
       "      <td>0.139189</td>\n",
       "    </tr>\n",
       "    <tr>\n",
       "      <th>BoilSize</th>\n",
       "      <td>0.100273</td>\n",
       "    </tr>\n",
       "    <tr>\n",
       "      <th>BoilGravity</th>\n",
       "      <td>0.093351</td>\n",
       "    </tr>\n",
       "    <tr>\n",
       "      <th>OG</th>\n",
       "      <td>0.076797</td>\n",
       "    </tr>\n",
       "    <tr>\n",
       "      <th>FG</th>\n",
       "      <td>0.063819</td>\n",
       "    </tr>\n",
       "    <tr>\n",
       "      <th>BoilTime</th>\n",
       "      <td>0.026412</td>\n",
       "    </tr>\n",
       "  </tbody>\n",
       "</table>\n",
       "</div>"
      ],
      "text/plain": [
       "             importance\n",
       "feature                \n",
       "IBU            0.252732\n",
       "Color          0.247427\n",
       "ABV            0.139189\n",
       "BoilSize       0.100273\n",
       "BoilGravity    0.093351\n",
       "OG             0.076797\n",
       "FG             0.063819\n",
       "BoilTime       0.026412"
      ]
     },
     "execution_count": 100,
     "metadata": {},
     "output_type": "execute_result"
    }
   ],
   "source": [
    "featureImportance = pd.DataFrame({\"feature\": data.drop('Style_transformed',axis=1).columns, \n",
    "                                  \"importance\": clf_tree.feature_importances_})\n",
    "\n",
    "featureImportance.set_index('feature', inplace=True)\n",
    "featureImportance.sort_values([\"importance\"], ascending=False, inplace=True)\n",
    "featureImportance"
   ]
  },
  {
   "cell_type": "code",
   "execution_count": 101,
   "metadata": {},
   "outputs": [
    {
     "data": {
      "text/plain": [
       "<matplotlib.axes._subplots.AxesSubplot at 0xeab60b8>"
      ]
     },
     "execution_count": 101,
     "metadata": {},
     "output_type": "execute_result"
    },
    {
     "data": {
      "image/png": "[encoded data removed]",
      "text/plain": [
       "<matplotlib.figure.Figure at 0xddb44a8>"
      ]
     },
     "metadata": {},
     "output_type": "display_data"
    }
   ],
   "source": [
    "featureImportance[\"importance\"].plot('bar')"
   ]
  },
  {
   "cell_type": "code",
   "execution_count": 102,
   "metadata": {
    "collapsed": true
   },
   "outputs": [],
   "source": [
    "from sklearn.ensemble import RandomForestClassifier"
   ]
  },
  {
   "cell_type": "code",
   "execution_count": 103,
   "metadata": {
    "collapsed": true
   },
   "outputs": [],
   "source": [
    "rfc = RandomForestClassifier(n_estimators=10) # число деревьев в лесе\n",
    "rfc.fit(X_train, y_train)\n",
    "y_predicted = rfc.predict(X_test)\n",
    "y_proba = rfc.predict_proba(X_test)"
   ]
  },
  {
   "cell_type": "code",
   "execution_count": 104,
   "metadata": {},
   "outputs": [
    {
     "name": "stdout",
     "output_type": "stream",
     "text": [
      "             precision    recall  f1-score   support\n",
      "\n",
      "        Ale       0.45      0.53      0.49      5714\n",
      "        IPA       0.71      0.75      0.73      5120\n",
      "      Lager       0.25      0.10      0.14      1213\n",
      "      Other       0.54      0.56      0.55      6238\n",
      "     Porter       0.35      0.30      0.32       778\n",
      "     Saison       0.42      0.16      0.23       801\n",
      "      Stout       0.68      0.72      0.69      1811\n",
      "    Witbier       0.25      0.07      0.11       305\n",
      "\n",
      "avg / total       0.54      0.55      0.54     21980\n",
      "\n"
     ]
    },
    {
     "data": {
      "image/png": "[encoded data removed]",
      "text/plain": [
       "<matplotlib.figure.Figure at 0x10215d68>"
      ]
     },
     "metadata": {},
     "output_type": "display_data"
    }
   ],
   "source": [
    "\n",
    "print(metrics.classification_report(y_test, y_predicted))\n",
    "\n",
    "\n",
    "\n",
    "plt.plot([0, 1], [0, 1])\n",
    "plt.xlim([0.0, 1.0])\n",
    "plt.ylim([0.0, 1.05])\n",
    "plt.xlabel('False Positive Rate')\n",
    "plt.ylabel('True Positive Rate')\n",
    "plt.title('ROC curve')\n",
    "plt.show()"
   ]
  },
  {
   "cell_type": "code",
   "execution_count": 105,
   "metadata": {},
   "outputs": [
    {
     "data": {
      "text/plain": [
       "<matplotlib.axes._subplots.AxesSubplot at 0x101e3978>"
      ]
     },
     "execution_count": 105,
     "metadata": {},
     "output_type": "execute_result"
    },
    {
     "data": {
      "image/png": "[encoded data removed]",
      "text/plain": [
       "<matplotlib.figure.Figure at 0xdbe96d8>"
      ]
     },
     "metadata": {},
     "output_type": "display_data"
    }
   ],
   "source": [
    "featureImportance = pd.DataFrame({\"feature\": data.drop('Style_transformed',axis=1).columns, \n",
    "                                  \"importance\": rfc.feature_importances_})\n",
    "\n",
    "featureImportance.set_index('feature', inplace=True)\n",
    "featureImportance.sort_values([\"importance\"], ascending=False, inplace=True)\n",
    "featureImportance[\"importance\"].plot('bar')"
   ]
  },
  {
   "cell_type": "markdown",
   "metadata": {},
   "source": [
    "#  Подбор гиперпараметров"
   ]
  },
  {
   "cell_type": "code",
   "execution_count": 106,
   "metadata": {},
   "outputs": [
    {
     "data": {
      "text/plain": [
       "KNeighborsClassifier(algorithm='auto', leaf_size=30, metric='minkowski',\n",
       "           metric_params=None, n_jobs=1, n_neighbors=22, p=2,\n",
       "           weights='distance')"
      ]
     },
     "execution_count": 106,
     "metadata": {},
     "output_type": "execute_result"
    }
   ],
   "source": [
    "from sklearn.model_selection import GridSearchCV\n",
    "\n",
    "parameters = {'n_neighbors':range(2, 25, 5), 'weights':['uniform', 'distance']}\n",
    "\n",
    "knc = KNeighborsClassifier()\n",
    "\n",
    "clf = GridSearchCV(knc, parameters)\n",
    "\n",
    "clf.fit(X_train, y_train)\n",
    "clf.best_estimator_"
   ]
  },
  {
   "cell_type": "code",
   "execution_count": 107,
   "metadata": {},
   "outputs": [
    {
     "name": "stdout",
     "output_type": "stream",
     "text": [
      "             precision    recall  f1-score   support\n",
      "\n",
      "        Ale       0.45      0.53      0.49      5714\n",
      "        IPA       0.71      0.75      0.73      5120\n",
      "      Lager       0.25      0.10      0.14      1213\n",
      "      Other       0.54      0.56      0.55      6238\n",
      "     Porter       0.35      0.30      0.32       778\n",
      "     Saison       0.42      0.16      0.23       801\n",
      "      Stout       0.68      0.72      0.69      1811\n",
      "    Witbier       0.25      0.07      0.11       305\n",
      "\n",
      "avg / total       0.54      0.55      0.54     21980\n",
      "\n"
     ]
    }
   ],
   "source": [
    "\n",
    "y_proba = clf.predict(X_test)\n",
    "print(metrics.classification_report(y_test, y_predicted))"
   ]
  },
  {
   "cell_type": "code",
   "execution_count": 108,
   "metadata": {},
   "outputs": [
    {
     "data": {
      "text/plain": [
       "RandomForestClassifier(bootstrap=True, class_weight=None, criterion='gini',\n",
       "            max_depth=None, max_features='auto', max_leaf_nodes=None,\n",
       "            min_impurity_decrease=0.0, min_impurity_split=None,\n",
       "            min_samples_leaf=5, min_samples_split=2,\n",
       "            min_weight_fraction_leaf=0.0, n_estimators=30, n_jobs=1,\n",
       "            oob_score=False, random_state=42, verbose=0, warm_start=False)"
      ]
     },
     "execution_count": 108,
     "metadata": {},
     "output_type": "execute_result"
    }
   ],
   "source": [
    "parameters = {\n",
    "              'n_estimators': [10,15,20,25,30],           # число деревьев в лесу\n",
    "              'min_samples_leaf': [1, 3, 5, 7, 10],        # минимальное число объектов в каждом листе\n",
    "             }\n",
    "# Можно перебирать и другие параметры \n",
    "\n",
    "rfc = RandomForestClassifier(random_state=42)   # random_state = 42 фиксируем для воспроизводимости результата\n",
    "\n",
    "gcv = GridSearchCV(rfc, parameters, n_jobs= -1) # параметр n_jobs=-1 распаралеливает перебор на все ядра компухтера\n",
    "gcv.fit(X_train, y_train)\n",
    "gcv.best_estimator_"
   ]
  },
  {
   "cell_type": "code",
   "execution_count": 109,
   "metadata": {
    "collapsed": true
   },
   "outputs": [],
   "source": [
    "y_predicted = gcv.predict(X_test)\n",
    "y_proba = gcv.predict_proba(X_test)"
   ]
  },
  {
   "cell_type": "code",
   "execution_count": 110,
   "metadata": {},
   "outputs": [
    {
     "name": "stdout",
     "output_type": "stream",
     "text": [
      "             precision    recall  f1-score   support\n",
      "\n",
      "        Ale       0.51      0.50      0.51      5714\n",
      "        IPA       0.72      0.79      0.75      5120\n",
      "      Lager       0.47      0.05      0.08      1213\n",
      "      Other       0.54      0.65      0.59      6238\n",
      "     Porter       0.42      0.28      0.33       778\n",
      "     Saison       0.54      0.19      0.29       801\n",
      "      Stout       0.67      0.82      0.74      1811\n",
      "    Witbier       0.41      0.04      0.08       305\n",
      "\n",
      "avg / total       0.57      0.59      0.56     21980\n",
      "\n"
     ]
    }
   ],
   "source": [
    "y_proba = clf.predict_proba(X_test)\n",
    "print(metrics.classification_report(y_test, y_predicted))"
   ]
  },
  {
   "cell_type": "markdown",
   "metadata": {},
   "source": [
    "# Логистическая регрессия"
   ]
  },
  {
   "cell_type": "code",
   "execution_count": 111,
   "metadata": {},
   "outputs": [
    {
     "data": {
      "text/plain": [
       "array(['IPA', 'Stout', 'IPA', ..., 'Ale', 'Other', 'Other'], dtype=object)"
      ]
     },
     "execution_count": 111,
     "metadata": {},
     "output_type": "execute_result"
    }
   ],
   "source": [
    "from sklearn.linear_model import LogisticRegression\n",
    "# объявляем модель\n",
    "logit = LogisticRegression()\n",
    "# обучаем на тренировочной выборке\n",
    "logit.fit(X_train, y_train)\n",
    "# предсказываем вероятности\n",
    "logit.predict_proba(X_test)\n",
    "# предсказываем сами метки классов\n",
    "logit.predict(X_test)"
   ]
  },
  {
   "cell_type": "code",
   "execution_count": 112,
   "metadata": {},
   "outputs": [
    {
     "data": {
      "text/plain": [
       "<matplotlib.axes._subplots.AxesSubplot at 0xdbd24a8>"
      ]
     },
     "execution_count": 112,
     "metadata": {},
     "output_type": "execute_result"
    },
    {
     "data": {
      "image/png": "[encoded data removed]",
      "text/plain": [
       "<matplotlib.figure.Figure at 0xdbd2898>"
      ]
     },
     "metadata": {},
     "output_type": "display_data"
    }
   ],
   "source": [
    "featureImportance = pd.DataFrame({\"Style_transformed\": X_train.columns, \n",
    "\"importance\": logit.coef_[0]})\n",
    "\n",
    "featureImportance.set_index('Style_transformed', inplace=True)\n",
    "featureImportance.sort_values([\"importance\"], ascending=False, inplace=True)\n",
    "featureImportance[\"importance\"].head(30).plot('bar', figsize=(12,5))\n",
    "featureImportance[\"importance\"].tail(30).plot('bar', figsize=(12,5))"
   ]
  },
  {
   "cell_type": "markdown",
   "metadata": {},
   "source": [
    "# Результатыыыыы по пивасику "
   ]
  },
  {
   "cell_type": "code",
   "execution_count": 113,
   "metadata": {},
   "outputs": [
    {
     "data": {
      "image/png": "[encoded data removed]",
      "text/plain": [
       "<matplotlib.figure.Figure at 0xc58c780>"
      ]
     },
     "metadata": {},
     "output_type": "display_data"
    }
   ],
   "source": [
    "import seaborn as sns\n",
    "from sklearn.metrics import confusion_matrix\n",
    "array = confusion_matrix(y_test, y_predicted)\n",
    "df_cm = pd.DataFrame(array)\n",
    "plt.figure(figsize = (6,6))\n",
    "sns.heatmap(df_cm, annot=True, fmt='g', cbar=False)\n",
    "plt.ylabel(\"Actual\")\n",
    "plt.xlabel(\"Predicted\");\n"
   ]
  },
  {
   "cell_type": "markdown",
   "metadata": {},
   "source": [
    "<img src='http://image3.thematicnews.com/uploads/images/00/00/41/2017/09/24/f0fceb8445.jpg'height=\"1000\" width=\"530\">"
   ]
  },
  {
   "cell_type": "markdown",
   "metadata": {},
   "source": [
    "\n",
    "## Пейте ПИВО!!!"
   ]
  },
  {
   "cell_type": "code",
   "execution_count": null,
   "metadata": {
    "collapsed": true
   },
   "outputs": [],
   "source": []
  }
 ],
 "metadata": {
  "kernelspec": {
   "display_name": "Python 3",
   "language": "python",
   "name": "python3"
  },
  "language_info": {
   "codemirror_mode": {
    "name": "ipython",
    "version": 3
   },
   "file_extension": ".py",
   "mimetype": "text/x-python",
   "name": "python",
   "nbconvert_exporter": "python",
   "pygments_lexer": "ipython3",
   "version": "3.6.1"
  },
  "varInspector": {
   "cols": {
    "lenName": 16,
    "lenType": 16,
    "lenVar": 40
   },
   "kernels_config": {
    "python": {
     "delete_cmd_postfix": "",
     "delete_cmd_prefix": "del ",
     "library": "var_list.py",
     "varRefreshCmd": "print(var_dic_list())"
    },
    "r": {
     "delete_cmd_postfix": ") ",
     "delete_cmd_prefix": "rm(",
     "library": "var_list.r",
     "varRefreshCmd": "cat(var_dic_list()) "
    }
   },
   "types_to_exclude": [
    "module",
    "function",
    "builtin_function_or_method",
    "instance",
    "_Feature"
   ],
   "window_display": false
  }
 },
 "nbformat": 4,
 "nbformat_minor": 2
}
