{
 "cells": [
  {
   "cell_type": "code",
   "execution_count": 1,
   "metadata": {},
   "outputs": [],
   "source": [
    "import pandas as pd               \n",
    "import numpy as np               \n",
    "import matplotlib.pyplot as plt   \n",
    "import seaborn as sns             \n",
    "\n",
    "%matplotlib inline"
   ]
  },
  {
   "cell_type": "code",
   "execution_count": 2,
   "metadata": {},
   "outputs": [
    {
     "name": "stdout",
     "output_type": "stream",
     "text": [
      "               id             date    price  bedrooms  bathrooms  sqft_living  \\\n",
      "0      7129300520  20141013T000000   221900         3       1.00         1180   \n",
      "1      6414100192  20141209T000000   538000         3       2.25         2570   \n",
      "2      5631500400  20150225T000000   180000         2       1.00          770   \n",
      "3      2487200875  20141209T000000   604000         4       3.00         1960   \n",
      "4      1954400510  20150218T000000   510000         3       2.00         1680   \n",
      "5      7237550310  20140512T000000  1225000         4       4.50         5420   \n",
      "6      1321400060  20140627T000000   257500         3       2.25         1715   \n",
      "7      2008000270  20150115T000000   291850         3       1.50         1060   \n",
      "8      2414600126  20150415T000000   229500         3       1.00         1780   \n",
      "9      3793500160  20150312T000000   323000         3       2.50         1890   \n",
      "10     1736800520  20150403T000000   662500         3       2.50         3560   \n",
      "11     9212900260  20140527T000000   468000         2       1.00         1160   \n",
      "12      114101516  20140528T000000   310000         3       1.00         1430   \n",
      "13     6054650070  20141007T000000   400000         3       1.75         1370   \n",
      "14     1175000570  20150312T000000   530000         5       2.00         1810   \n",
      "15     9297300055  20150124T000000   650000         4       3.00         2950   \n",
      "16     1875500060  20140731T000000   395000         3       2.00         1890   \n",
      "17     6865200140  20140529T000000   485000         4       1.00         1600   \n",
      "18       16000397  20141205T000000   189000         2       1.00         1200   \n",
      "19     7983200060  20150424T000000   230000         3       1.00         1250   \n",
      "20     6300500875  20140514T000000   385000         4       1.75         1620   \n",
      "21     2524049179  20140826T000000  2000000         3       2.75         3050   \n",
      "22     7137970340  20140703T000000   285000         5       2.50         2270   \n",
      "23     8091400200  20140516T000000   252700         2       1.50         1070   \n",
      "24     3814700200  20141120T000000   329000         3       2.25         2450   \n",
      "25     1202000200  20141103T000000   233000         3       2.00         1710   \n",
      "26     1794500383  20140626T000000   937000         3       1.75         2450   \n",
      "27     3303700376  20141201T000000   667000         3       1.00         1400   \n",
      "28     5101402488  20140624T000000   438000         3       1.75         1520   \n",
      "29     1873100390  20150302T000000   719000         4       2.50         2570   \n",
      "...           ...              ...      ...       ...        ...          ...   \n",
      "21583  2025049203  20140610T000000   399950         2       1.00          710   \n",
      "21584   952006823  20141202T000000   380000         3       2.50         1260   \n",
      "21585  3832050760  20140828T000000   270000         3       2.50         1870   \n",
      "21586  2767604724  20141015T000000   505000         2       2.50         1430   \n",
      "21587  6632300207  20150305T000000   385000         3       2.50         1520   \n",
      "21588  2767600688  20141113T000000   414500         2       1.50         1210   \n",
      "21589  7570050450  20140910T000000   347500         3       2.50         2540   \n",
      "21590  7430200100  20140514T000000  1222500         4       3.50         4910   \n",
      "21591  4140940150  20141002T000000   572000         4       2.75         2770   \n",
      "21592  1931300412  20150416T000000   475000         3       2.25         1190   \n",
      "21593  8672200110  20150317T000000  1088000         5       3.75         4170   \n",
      "21594  5087900040  20141017T000000   350000         4       2.75         2500   \n",
      "21595  1972201967  20141031T000000   520000         2       2.25         1530   \n",
      "21596  7502800100  20140813T000000   679950         5       2.75         3600   \n",
      "21597   191100405  20150421T000000  1575000         4       3.25         3410   \n",
      "21598  8956200760  20141013T000000   541800         4       2.50         3118   \n",
      "21599  7202300110  20140915T000000   810000         4       3.00         3990   \n",
      "21600   249000205  20141015T000000  1537000         5       3.75         4470   \n",
      "21601  5100403806  20150407T000000   467000         3       2.50         1425   \n",
      "21602   844000965  20140626T000000   224000         3       1.75         1500   \n",
      "21603  7852140040  20140825T000000   507250         3       2.50         2270   \n",
      "21604  9834201367  20150126T000000   429000         3       2.00         1490   \n",
      "21605  3448900210  20141014T000000   610685         4       2.50         2520   \n",
      "21606  7936000429  20150326T000000  1007500         4       3.50         3510   \n",
      "21607  2997800021  20150219T000000   475000         3       2.50         1310   \n",
      "21608   263000018  20140521T000000   360000         3       2.50         1530   \n",
      "21609  6600060120  20150223T000000   400000         4       2.50         2310   \n",
      "21610  1523300141  20140623T000000   402101         2       0.75         1020   \n",
      "21611   291310100  20150116T000000   400000         3       2.50         1600   \n",
      "21612  1523300157  20141015T000000   325000         2       0.75         1020   \n",
      "\n",
      "       sqft_lot  floors  waterfront  view     ...      grade  sqft_above  \\\n",
      "0          5650     1.0           0     0     ...          7        1180   \n",
      "1          7242     2.0           0     0     ...          7        2170   \n",
      "2         10000     1.0           0     0     ...          6         770   \n",
      "3          5000     1.0           0     0     ...          7        1050   \n",
      "4          8080     1.0           0     0     ...          8        1680   \n",
      "5        101930     1.0           0     0     ...         11        3890   \n",
      "6          6819     2.0           0     0     ...          7        1715   \n",
      "7          9711     1.0           0     0     ...          7        1060   \n",
      "8          7470     1.0           0     0     ...          7        1050   \n",
      "9          6560     2.0           0     0     ...          7        1890   \n",
      "10         9796     1.0           0     0     ...          8        1860   \n",
      "11         6000     1.0           0     0     ...          7         860   \n",
      "12        19901     1.5           0     0     ...          7        1430   \n",
      "13         9680     1.0           0     0     ...          7        1370   \n",
      "14         4850     1.5           0     0     ...          7        1810   \n",
      "15         5000     2.0           0     3     ...          9        1980   \n",
      "16        14040     2.0           0     0     ...          7        1890   \n",
      "17         4300     1.5           0     0     ...          7        1600   \n",
      "18         9850     1.0           0     0     ...          7        1200   \n",
      "19         9774     1.0           0     0     ...          7        1250   \n",
      "20         4980     1.0           0     0     ...          7         860   \n",
      "21        44867     1.0           0     4     ...          9        2330   \n",
      "22         6300     2.0           0     0     ...          8        2270   \n",
      "23         9643     1.0           0     0     ...          7        1070   \n",
      "24         6500     2.0           0     0     ...          8        2450   \n",
      "25         4697     1.5           0     0     ...          6        1710   \n",
      "26         2691     2.0           0     0     ...          8        1750   \n",
      "27         1581     1.5           0     0     ...          8        1400   \n",
      "28         6380     1.0           0     0     ...          7         790   \n",
      "29         7173     2.0           0     0     ...          8        2570   \n",
      "...         ...     ...         ...   ...     ...        ...         ...   \n",
      "21583      1157     2.0           0     0     ...          7         710   \n",
      "21584       900     2.0           0     0     ...          7         940   \n",
      "21585      5000     2.0           0     0     ...          7        1870   \n",
      "21586      1201     3.0           0     0     ...          8        1430   \n",
      "21587      1488     3.0           0     0     ...          8        1520   \n",
      "21588      1278     2.0           0     0     ...          8        1020   \n",
      "21589      4760     2.0           0     0     ...          8        2540   \n",
      "21590      9444     1.5           0     0     ...         11        3110   \n",
      "21591      3852     2.0           0     0     ...          8        2770   \n",
      "21592      1200     3.0           0     0     ...          8        1190   \n",
      "21593      8142     2.0           0     2     ...         10        4170   \n",
      "21594      5995     2.0           0     0     ...          8        2500   \n",
      "21595       981     3.0           0     0     ...          8        1480   \n",
      "21596      9437     2.0           0     0     ...          9        3600   \n",
      "21597     10125     2.0           0     0     ...         10        3410   \n",
      "21598      7866     2.0           0     2     ...          9        3118   \n",
      "21599      7838     2.0           0     0     ...          9        3990   \n",
      "21600      8088     2.0           0     0     ...         11        4470   \n",
      "21601      1179     3.0           0     0     ...          8        1425   \n",
      "21602     11968     1.0           0     0     ...          6        1500   \n",
      "21603      5536     2.0           0     0     ...          8        2270   \n",
      "21604      1126     3.0           0     0     ...          8        1490   \n",
      "21605      6023     2.0           0     0     ...          9        2520   \n",
      "21606      7200     2.0           0     0     ...          9        2600   \n",
      "21607      1294     2.0           0     0     ...          8        1180   \n",
      "21608      1131     3.0           0     0     ...          8        1530   \n",
      "21609      5813     2.0           0     0     ...          8        2310   \n",
      "21610      1350     2.0           0     0     ...          7        1020   \n",
      "21611      2388     2.0           0     0     ...          8        1600   \n",
      "21612      1076     2.0           0     0     ...          7        1020   \n",
      "\n",
      "       sqft_basement  yr_built  yr_renovated  zipcode      lat     long  \\\n",
      "0                  0      1955             0    98178  47.5112 -122.257   \n",
      "1                400      1951          1991    98125  47.7210 -122.319   \n",
      "2                  0      1933             0    98028  47.7379 -122.233   \n",
      "3                910      1965             0    98136  47.5208 -122.393   \n",
      "4                  0      1987             0    98074  47.6168 -122.045   \n",
      "5               1530      2001             0    98053  47.6561 -122.005   \n",
      "6                  0      1995             0    98003  47.3097 -122.327   \n",
      "7                  0      1963             0    98198  47.4095 -122.315   \n",
      "8                730      1960             0    98146  47.5123 -122.337   \n",
      "9                  0      2003             0    98038  47.3684 -122.031   \n",
      "10              1700      1965             0    98007  47.6007 -122.145   \n",
      "11               300      1942             0    98115  47.6900 -122.292   \n",
      "12                 0      1927             0    98028  47.7558 -122.229   \n",
      "13                 0      1977             0    98074  47.6127 -122.045   \n",
      "14                 0      1900             0    98107  47.6700 -122.394   \n",
      "15               970      1979             0    98126  47.5714 -122.375   \n",
      "16                 0      1994             0    98019  47.7277 -121.962   \n",
      "17                 0      1916             0    98103  47.6648 -122.343   \n",
      "18                 0      1921             0    98002  47.3089 -122.210   \n",
      "19                 0      1969             0    98003  47.3343 -122.306   \n",
      "20               760      1947             0    98133  47.7025 -122.341   \n",
      "21               720      1968             0    98040  47.5316 -122.233   \n",
      "22                 0      1995             0    98092  47.3266 -122.169   \n",
      "23                 0      1985             0    98030  47.3533 -122.166   \n",
      "24                 0      1985             0    98030  47.3739 -122.172   \n",
      "25                 0      1941             0    98002  47.3048 -122.218   \n",
      "26               700      1915             0    98119  47.6386 -122.360   \n",
      "27                 0      1909             0    98112  47.6221 -122.314   \n",
      "28               730      1948             0    98115  47.6950 -122.304   \n",
      "29                 0      2005             0    98052  47.7073 -122.110   \n",
      "...              ...       ...           ...      ...      ...      ...   \n",
      "21583              0      1943             0    98102  47.6413 -122.329   \n",
      "21584            320      2007             0    98116  47.5621 -122.384   \n",
      "21585              0      2009             0    98042  47.3339 -122.055   \n",
      "21586              0      2009             0    98107  47.6707 -122.381   \n",
      "21587              0      2006             0    98125  47.7337 -122.309   \n",
      "21588            190      2007             0    98117  47.6756 -122.375   \n",
      "21589              0      2010             0    98038  47.3452 -122.022   \n",
      "21590           1800      2007             0    98074  47.6502 -122.066   \n",
      "21591              0      2014             0    98178  47.5001 -122.232   \n",
      "21592              0      2008             0    98103  47.6542 -122.346   \n",
      "21593              0      2006             0    98056  47.5354 -122.181   \n",
      "21594              0      2008             0    98042  47.3749 -122.107   \n",
      "21595             50      2006             0    98103  47.6533 -122.346   \n",
      "21596              0      2014             0    98059  47.4822 -122.131   \n",
      "21597              0      2007             0    98040  47.5653 -122.223   \n",
      "21598              0      2014             0    98001  47.2931 -122.264   \n",
      "21599              0      2003             0    98053  47.6857 -122.046   \n",
      "21600              0      2008             0    98004  47.6321 -122.200   \n",
      "21601              0      2008             0    98125  47.6963 -122.318   \n",
      "21602              0      2014             0    98010  47.3095 -122.002   \n",
      "21603              0      2003             0    98065  47.5389 -121.881   \n",
      "21604              0      2014             0    98144  47.5699 -122.288   \n",
      "21605              0      2014             0    98056  47.5137 -122.167   \n",
      "21606            910      2009             0    98136  47.5537 -122.398   \n",
      "21607            130      2008             0    98116  47.5773 -122.409   \n",
      "21608              0      2009             0    98103  47.6993 -122.346   \n",
      "21609              0      2014             0    98146  47.5107 -122.362   \n",
      "21610              0      2009             0    98144  47.5944 -122.299   \n",
      "21611              0      2004             0    98027  47.5345 -122.069   \n",
      "21612              0      2008             0    98144  47.5941 -122.299   \n",
      "\n",
      "       sqft_living15  sqft_lot15  \n",
      "0               1340        5650  \n",
      "1               1690        7639  \n",
      "2               2720        8062  \n",
      "3               1360        5000  \n",
      "4               1800        7503  \n",
      "5               4760      101930  \n",
      "6               2238        6819  \n",
      "7               1650        9711  \n",
      "8               1780        8113  \n",
      "9               2390        7570  \n",
      "10              2210        8925  \n",
      "11              1330        6000  \n",
      "12              1780       12697  \n",
      "13              1370       10208  \n",
      "14              1360        4850  \n",
      "15              2140        4000  \n",
      "16              1890       14018  \n",
      "17              1610        4300  \n",
      "18              1060        5095  \n",
      "19              1280        8850  \n",
      "20              1400        4980  \n",
      "21              4110       20336  \n",
      "22              2240        7005  \n",
      "23              1220        8386  \n",
      "24              2200        6865  \n",
      "25              1030        4705  \n",
      "26              1760        3573  \n",
      "27              1860        3861  \n",
      "28              1520        6235  \n",
      "29              2630        6026  \n",
      "...              ...         ...  \n",
      "21583           1370        1173  \n",
      "21584           1310        1415  \n",
      "21585           2170        5399  \n",
      "21586           1430        1249  \n",
      "21587           1520        1497  \n",
      "21588           1210        1118  \n",
      "21589           2540        4571  \n",
      "21590           4560       11063  \n",
      "21591           1810        5641  \n",
      "21592           1180        1224  \n",
      "21593           3030        7980  \n",
      "21594           2530        5988  \n",
      "21595           1530        1282  \n",
      "21596           3550        9421  \n",
      "21597           2290       10125  \n",
      "21598           2673        6500  \n",
      "21599           3370        6814  \n",
      "21600           2780        8964  \n",
      "21601           1285        1253  \n",
      "21602           1320       11303  \n",
      "21603           2270        5731  \n",
      "21604           1400        1230  \n",
      "21605           2520        6023  \n",
      "21606           2050        6200  \n",
      "21607           1330        1265  \n",
      "21608           1530        1509  \n",
      "21609           1830        7200  \n",
      "21610           1020        2007  \n",
      "21611           1410        1287  \n",
      "21612           1020        1357  \n",
      "\n",
      "[21613 rows x 21 columns]\n"
     ]
    }
   ],
   "source": [
    "import pandas as pd\n",
    "data = pd.read_csv(\"/Users/alenazaharova/Desktop/Zaharova_Alena_home_data.csv\")\n",
    "print(data)"
   ]
  },
  {
   "cell_type": "code",
   "execution_count": 3,
   "metadata": {},
   "outputs": [],
   "source": [
    "# Для начала я выкину ненужные переменные\n",
    "\n",
    "data = data.drop('id', axis=1)"
   ]
  },
  {
   "cell_type": "code",
   "execution_count": 4,
   "metadata": {},
   "outputs": [],
   "source": [
    "data = data.drop('zipcode', axis=1)"
   ]
  },
  {
   "cell_type": "code",
   "execution_count": 5,
   "metadata": {},
   "outputs": [
    {
     "data": {
      "text/html": [
       "<div>\n",
       "<style scoped>\n",
       "    .dataframe tbody tr th:only-of-type {\n",
       "        vertical-align: middle;\n",
       "    }\n",
       "\n",
       "    .dataframe tbody tr th {\n",
       "        vertical-align: top;\n",
       "    }\n",
       "\n",
       "    .dataframe thead th {\n",
       "        text-align: right;\n",
       "    }\n",
       "</style>\n",
       "<table border=\"1\" class=\"dataframe\">\n",
       "  <thead>\n",
       "    <tr style=\"text-align: right;\">\n",
       "      <th></th>\n",
       "      <th>date</th>\n",
       "      <th>price</th>\n",
       "      <th>bedrooms</th>\n",
       "      <th>bathrooms</th>\n",
       "      <th>sqft_living</th>\n",
       "      <th>sqft_lot</th>\n",
       "      <th>floors</th>\n",
       "      <th>waterfront</th>\n",
       "      <th>view</th>\n",
       "      <th>condition</th>\n",
       "      <th>grade</th>\n",
       "      <th>sqft_above</th>\n",
       "      <th>sqft_basement</th>\n",
       "      <th>yr_built</th>\n",
       "      <th>yr_renovated</th>\n",
       "      <th>lat</th>\n",
       "      <th>long</th>\n",
       "      <th>sqft_living15</th>\n",
       "      <th>sqft_lot15</th>\n",
       "    </tr>\n",
       "  </thead>\n",
       "  <tbody>\n",
       "    <tr>\n",
       "      <th>0</th>\n",
       "      <td>20141013T000000</td>\n",
       "      <td>221900</td>\n",
       "      <td>3</td>\n",
       "      <td>1.00</td>\n",
       "      <td>1180</td>\n",
       "      <td>5650</td>\n",
       "      <td>1.0</td>\n",
       "      <td>0</td>\n",
       "      <td>0</td>\n",
       "      <td>3</td>\n",
       "      <td>7</td>\n",
       "      <td>1180</td>\n",
       "      <td>0</td>\n",
       "      <td>1955</td>\n",
       "      <td>0</td>\n",
       "      <td>47.5112</td>\n",
       "      <td>-122.257</td>\n",
       "      <td>1340</td>\n",
       "      <td>5650</td>\n",
       "    </tr>\n",
       "    <tr>\n",
       "      <th>1</th>\n",
       "      <td>20141209T000000</td>\n",
       "      <td>538000</td>\n",
       "      <td>3</td>\n",
       "      <td>2.25</td>\n",
       "      <td>2570</td>\n",
       "      <td>7242</td>\n",
       "      <td>2.0</td>\n",
       "      <td>0</td>\n",
       "      <td>0</td>\n",
       "      <td>3</td>\n",
       "      <td>7</td>\n",
       "      <td>2170</td>\n",
       "      <td>400</td>\n",
       "      <td>1951</td>\n",
       "      <td>1991</td>\n",
       "      <td>47.7210</td>\n",
       "      <td>-122.319</td>\n",
       "      <td>1690</td>\n",
       "      <td>7639</td>\n",
       "    </tr>\n",
       "    <tr>\n",
       "      <th>2</th>\n",
       "      <td>20150225T000000</td>\n",
       "      <td>180000</td>\n",
       "      <td>2</td>\n",
       "      <td>1.00</td>\n",
       "      <td>770</td>\n",
       "      <td>10000</td>\n",
       "      <td>1.0</td>\n",
       "      <td>0</td>\n",
       "      <td>0</td>\n",
       "      <td>3</td>\n",
       "      <td>6</td>\n",
       "      <td>770</td>\n",
       "      <td>0</td>\n",
       "      <td>1933</td>\n",
       "      <td>0</td>\n",
       "      <td>47.7379</td>\n",
       "      <td>-122.233</td>\n",
       "      <td>2720</td>\n",
       "      <td>8062</td>\n",
       "    </tr>\n",
       "    <tr>\n",
       "      <th>3</th>\n",
       "      <td>20141209T000000</td>\n",
       "      <td>604000</td>\n",
       "      <td>4</td>\n",
       "      <td>3.00</td>\n",
       "      <td>1960</td>\n",
       "      <td>5000</td>\n",
       "      <td>1.0</td>\n",
       "      <td>0</td>\n",
       "      <td>0</td>\n",
       "      <td>5</td>\n",
       "      <td>7</td>\n",
       "      <td>1050</td>\n",
       "      <td>910</td>\n",
       "      <td>1965</td>\n",
       "      <td>0</td>\n",
       "      <td>47.5208</td>\n",
       "      <td>-122.393</td>\n",
       "      <td>1360</td>\n",
       "      <td>5000</td>\n",
       "    </tr>\n",
       "    <tr>\n",
       "      <th>4</th>\n",
       "      <td>20150218T000000</td>\n",
       "      <td>510000</td>\n",
       "      <td>3</td>\n",
       "      <td>2.00</td>\n",
       "      <td>1680</td>\n",
       "      <td>8080</td>\n",
       "      <td>1.0</td>\n",
       "      <td>0</td>\n",
       "      <td>0</td>\n",
       "      <td>3</td>\n",
       "      <td>8</td>\n",
       "      <td>1680</td>\n",
       "      <td>0</td>\n",
       "      <td>1987</td>\n",
       "      <td>0</td>\n",
       "      <td>47.6168</td>\n",
       "      <td>-122.045</td>\n",
       "      <td>1800</td>\n",
       "      <td>7503</td>\n",
       "    </tr>\n",
       "  </tbody>\n",
       "</table>\n",
       "</div>"
      ],
      "text/plain": [
       "              date   price  bedrooms  bathrooms  sqft_living  sqft_lot  \\\n",
       "0  20141013T000000  221900         3       1.00         1180      5650   \n",
       "1  20141209T000000  538000         3       2.25         2570      7242   \n",
       "2  20150225T000000  180000         2       1.00          770     10000   \n",
       "3  20141209T000000  604000         4       3.00         1960      5000   \n",
       "4  20150218T000000  510000         3       2.00         1680      8080   \n",
       "\n",
       "   floors  waterfront  view  condition  grade  sqft_above  sqft_basement  \\\n",
       "0     1.0           0     0          3      7        1180              0   \n",
       "1     2.0           0     0          3      7        2170            400   \n",
       "2     1.0           0     0          3      6         770              0   \n",
       "3     1.0           0     0          5      7        1050            910   \n",
       "4     1.0           0     0          3      8        1680              0   \n",
       "\n",
       "   yr_built  yr_renovated      lat     long  sqft_living15  sqft_lot15  \n",
       "0      1955             0  47.5112 -122.257           1340        5650  \n",
       "1      1951          1991  47.7210 -122.319           1690        7639  \n",
       "2      1933             0  47.7379 -122.233           2720        8062  \n",
       "3      1965             0  47.5208 -122.393           1360        5000  \n",
       "4      1987             0  47.6168 -122.045           1800        7503  "
      ]
     },
     "execution_count": 5,
     "metadata": {},
     "output_type": "execute_result"
    }
   ],
   "source": [
    "data.head( )"
   ]
  },
  {
   "cell_type": "code",
   "execution_count": 6,
   "metadata": {},
   "outputs": [],
   "source": [
    "# Ура! Их не оказалось"
   ]
  },
  {
   "cell_type": "code",
   "execution_count": 7,
   "metadata": {},
   "outputs": [
    {
     "data": {
      "text/plain": [
       "<matplotlib.axes._subplots.AxesSubplot at 0x10d039c50>"
      ]
     },
     "execution_count": 7,
     "metadata": {},
     "output_type": "execute_result"
    },
    {
     "data": {
      "image/png": "[encoded data removed]",
      "text/plain": [
       "<matplotlib.figure.Figure at 0x10d039a58>"
      ]
     },
     "metadata": {},
     "output_type": "display_data"
    }
   ],
   "source": [
    "# Посмотрим как выглядит распределение цен.\n",
    "\n",
    "data.price.hist()"
   ]
  },
  {
   "cell_type": "code",
   "execution_count": 8,
   "metadata": {},
   "outputs": [],
   "source": [
    "# Хвост оказалось очень длинным, как и следовало ожидать, так как в выборке встречаются квартиры с довольно большой стоимостью. Такие наблюдения называются выбросами. Поэтому нужно сгладить распределние цен, прологарифмировав эту переменную. "
   ]
  },
  {
   "cell_type": "code",
   "execution_count": 9,
   "metadata": {},
   "outputs": [
    {
     "data": {
      "text/plain": [
       "<matplotlib.axes._subplots.AxesSubplot at 0x10d0391d0>"
      ]
     },
     "execution_count": 9,
     "metadata": {},
     "output_type": "execute_result"
    },
    {
     "data": {
      "image/png": "[encoded data removed]",
      "text/plain": [
       "<matplotlib.figure.Figure at 0x10d0975f8>"
      ]
     },
     "metadata": {},
     "output_type": "display_data"
    }
   ],
   "source": [
    "data['price'] = np.log(data['price'])\n",
    "data.price.hist()"
   ]
  },
  {
   "cell_type": "code",
   "execution_count": 10,
   "metadata": {},
   "outputs": [],
   "source": [
    "# Теперь перейдём к предобработке категориальных переменных."
   ]
  },
  {
   "cell_type": "code",
   "execution_count": 11,
   "metadata": {},
   "outputs": [],
   "source": [
    "# Для начала из date сделаем datetime формат\n",
    "\n",
    "data['date'] = pd.to_datetime(data['date'])"
   ]
  },
  {
   "cell_type": "code",
   "execution_count": 12,
   "metadata": {},
   "outputs": [],
   "source": [
    "# Затем вытаскиваем месяц и год, чтобы сделать из них категориальные переменные.\n",
    "data[\"month\"] = data.date.apply(lambda row: row.month)"
   ]
  },
  {
   "cell_type": "code",
   "execution_count": 13,
   "metadata": {},
   "outputs": [],
   "source": [
    "data[\"year\"] = data.date.apply(lambda row: row.year)\n"
   ]
  },
  {
   "cell_type": "code",
   "execution_count": 14,
   "metadata": {},
   "outputs": [],
   "source": [
    "# Обязательно дропаем date, а то ничего не получится. \n",
    "data = data.drop('date', axis=1)"
   ]
  },
  {
   "cell_type": "code",
   "execution_count": 15,
   "metadata": {},
   "outputs": [
    {
     "data": {
      "text/plain": [
       "12"
      ]
     },
     "execution_count": 15,
     "metadata": {},
     "output_type": "execute_result"
    }
   ],
   "source": [
    "# Подсчитаем, сколько уникальных значений принимает каждая переменная\n",
    "\n",
    "len(data['month'].unique())"
   ]
  },
  {
   "cell_type": "code",
   "execution_count": 16,
   "metadata": {},
   "outputs": [
    {
     "data": {
      "text/plain": [
       "2"
      ]
     },
     "execution_count": 16,
     "metadata": {},
     "output_type": "execute_result"
    }
   ],
   "source": [
    "len(data['year'].unique())"
   ]
  },
  {
   "cell_type": "code",
   "execution_count": 17,
   "metadata": {},
   "outputs": [
    {
     "data": {
      "text/plain": [
       "2"
      ]
     },
     "execution_count": 17,
     "metadata": {},
     "output_type": "execute_result"
    }
   ],
   "source": [
    "len(data['waterfront'].unique())"
   ]
  },
  {
   "cell_type": "code",
   "execution_count": 18,
   "metadata": {},
   "outputs": [
    {
     "data": {
      "text/plain": [
       "5"
      ]
     },
     "execution_count": 18,
     "metadata": {},
     "output_type": "execute_result"
    }
   ],
   "source": [
    "len(data['view'].unique())"
   ]
  },
  {
   "cell_type": "code",
   "execution_count": 19,
   "metadata": {},
   "outputs": [
    {
     "data": {
      "text/plain": [
       "12"
      ]
     },
     "execution_count": 19,
     "metadata": {},
     "output_type": "execute_result"
    }
   ],
   "source": [
    "len(data['grade'].unique())"
   ]
  },
  {
   "cell_type": "code",
   "execution_count": 20,
   "metadata": {},
   "outputs": [
    {
     "data": {
      "text/plain": [
       "5"
      ]
     },
     "execution_count": 20,
     "metadata": {},
     "output_type": "execute_result"
    }
   ],
   "source": [
    "len(data['condition'].unique())"
   ]
  },
  {
   "cell_type": "code",
   "execution_count": 21,
   "metadata": {},
   "outputs": [],
   "source": [
    "# Отлично! Они все меньше 20. Значит к ним можно применить One Hot Encoding. "
   ]
  },
  {
   "cell_type": "code",
   "execution_count": 22,
   "metadata": {},
   "outputs": [],
   "source": [
    "dummies = pd.get_dummies(data['month'], prefix='month', drop_first=True)\n",
    "data = pd.concat([data, dummies], axis=1)\n",
    "data.drop(['month'], axis=1, inplace=True)"
   ]
  },
  {
   "cell_type": "code",
   "execution_count": 23,
   "metadata": {},
   "outputs": [],
   "source": [
    "dummies = pd.get_dummies(data['year'], prefix='year', drop_first=True)\n",
    "data = pd.concat([data, dummies], axis=1)\n",
    "data.drop(['year'], axis=1, inplace=True)"
   ]
  },
  {
   "cell_type": "code",
   "execution_count": 24,
   "metadata": {},
   "outputs": [],
   "source": [
    "dummies = pd.get_dummies(data['waterfront'], prefix='waterfront', drop_first=True)\n",
    "data = pd.concat([data, dummies], axis=1)\n",
    "data.drop(['waterfront'], axis=1, inplace=True)"
   ]
  },
  {
   "cell_type": "code",
   "execution_count": 25,
   "metadata": {},
   "outputs": [],
   "source": [
    "dummies = pd.get_dummies(data['view'], prefix='view', drop_first=True)\n",
    "data = pd.concat([data, dummies], axis=1)\n",
    "data.drop(['view'], axis=1, inplace=True)"
   ]
  },
  {
   "cell_type": "code",
   "execution_count": 26,
   "metadata": {},
   "outputs": [],
   "source": [
    "dummies = pd.get_dummies(data['grade'], prefix='grade', drop_first=True)\n",
    "data = pd.concat([data, dummies], axis=1)\n",
    "data.drop(['grade'], axis=1, inplace=True)"
   ]
  },
  {
   "cell_type": "code",
   "execution_count": 27,
   "metadata": {},
   "outputs": [],
   "source": [
    "dummies = pd.get_dummies(data['condition'], prefix='condition', drop_first=True)\n",
    "data = pd.concat([data, dummies], axis=1)\n",
    "data.drop(['condition'], axis=1, inplace=True)"
   ]
  },
  {
   "cell_type": "code",
   "execution_count": 28,
   "metadata": {},
   "outputs": [
    {
     "data": {
      "text/html": [
       "<div>\n",
       "<style scoped>\n",
       "    .dataframe tbody tr th:only-of-type {\n",
       "        vertical-align: middle;\n",
       "    }\n",
       "\n",
       "    .dataframe tbody tr th {\n",
       "        vertical-align: top;\n",
       "    }\n",
       "\n",
       "    .dataframe thead th {\n",
       "        text-align: right;\n",
       "    }\n",
       "</style>\n",
       "<table border=\"1\" class=\"dataframe\">\n",
       "  <thead>\n",
       "    <tr style=\"text-align: right;\">\n",
       "      <th></th>\n",
       "      <th>price</th>\n",
       "      <th>bedrooms</th>\n",
       "      <th>bathrooms</th>\n",
       "      <th>sqft_living</th>\n",
       "      <th>sqft_lot</th>\n",
       "      <th>floors</th>\n",
       "      <th>sqft_above</th>\n",
       "      <th>sqft_basement</th>\n",
       "      <th>yr_built</th>\n",
       "      <th>yr_renovated</th>\n",
       "      <th>...</th>\n",
       "      <th>grade_8</th>\n",
       "      <th>grade_9</th>\n",
       "      <th>grade_10</th>\n",
       "      <th>grade_11</th>\n",
       "      <th>grade_12</th>\n",
       "      <th>grade_13</th>\n",
       "      <th>condition_2</th>\n",
       "      <th>condition_3</th>\n",
       "      <th>condition_4</th>\n",
       "      <th>condition_5</th>\n",
       "    </tr>\n",
       "  </thead>\n",
       "  <tbody>\n",
       "    <tr>\n",
       "      <th>0</th>\n",
       "      <td>12.309982</td>\n",
       "      <td>3</td>\n",
       "      <td>1.00</td>\n",
       "      <td>1180</td>\n",
       "      <td>5650</td>\n",
       "      <td>1.0</td>\n",
       "      <td>1180</td>\n",
       "      <td>0</td>\n",
       "      <td>1955</td>\n",
       "      <td>0</td>\n",
       "      <td>...</td>\n",
       "      <td>0</td>\n",
       "      <td>0</td>\n",
       "      <td>0</td>\n",
       "      <td>0</td>\n",
       "      <td>0</td>\n",
       "      <td>0</td>\n",
       "      <td>0</td>\n",
       "      <td>1</td>\n",
       "      <td>0</td>\n",
       "      <td>0</td>\n",
       "    </tr>\n",
       "    <tr>\n",
       "      <th>1</th>\n",
       "      <td>13.195614</td>\n",
       "      <td>3</td>\n",
       "      <td>2.25</td>\n",
       "      <td>2570</td>\n",
       "      <td>7242</td>\n",
       "      <td>2.0</td>\n",
       "      <td>2170</td>\n",
       "      <td>400</td>\n",
       "      <td>1951</td>\n",
       "      <td>1991</td>\n",
       "      <td>...</td>\n",
       "      <td>0</td>\n",
       "      <td>0</td>\n",
       "      <td>0</td>\n",
       "      <td>0</td>\n",
       "      <td>0</td>\n",
       "      <td>0</td>\n",
       "      <td>0</td>\n",
       "      <td>1</td>\n",
       "      <td>0</td>\n",
       "      <td>0</td>\n",
       "    </tr>\n",
       "    <tr>\n",
       "      <th>2</th>\n",
       "      <td>12.100712</td>\n",
       "      <td>2</td>\n",
       "      <td>1.00</td>\n",
       "      <td>770</td>\n",
       "      <td>10000</td>\n",
       "      <td>1.0</td>\n",
       "      <td>770</td>\n",
       "      <td>0</td>\n",
       "      <td>1933</td>\n",
       "      <td>0</td>\n",
       "      <td>...</td>\n",
       "      <td>0</td>\n",
       "      <td>0</td>\n",
       "      <td>0</td>\n",
       "      <td>0</td>\n",
       "      <td>0</td>\n",
       "      <td>0</td>\n",
       "      <td>0</td>\n",
       "      <td>1</td>\n",
       "      <td>0</td>\n",
       "      <td>0</td>\n",
       "    </tr>\n",
       "    <tr>\n",
       "      <th>3</th>\n",
       "      <td>13.311329</td>\n",
       "      <td>4</td>\n",
       "      <td>3.00</td>\n",
       "      <td>1960</td>\n",
       "      <td>5000</td>\n",
       "      <td>1.0</td>\n",
       "      <td>1050</td>\n",
       "      <td>910</td>\n",
       "      <td>1965</td>\n",
       "      <td>0</td>\n",
       "      <td>...</td>\n",
       "      <td>0</td>\n",
       "      <td>0</td>\n",
       "      <td>0</td>\n",
       "      <td>0</td>\n",
       "      <td>0</td>\n",
       "      <td>0</td>\n",
       "      <td>0</td>\n",
       "      <td>0</td>\n",
       "      <td>0</td>\n",
       "      <td>1</td>\n",
       "    </tr>\n",
       "    <tr>\n",
       "      <th>4</th>\n",
       "      <td>13.142166</td>\n",
       "      <td>3</td>\n",
       "      <td>2.00</td>\n",
       "      <td>1680</td>\n",
       "      <td>8080</td>\n",
       "      <td>1.0</td>\n",
       "      <td>1680</td>\n",
       "      <td>0</td>\n",
       "      <td>1987</td>\n",
       "      <td>0</td>\n",
       "      <td>...</td>\n",
       "      <td>1</td>\n",
       "      <td>0</td>\n",
       "      <td>0</td>\n",
       "      <td>0</td>\n",
       "      <td>0</td>\n",
       "      <td>0</td>\n",
       "      <td>0</td>\n",
       "      <td>1</td>\n",
       "      <td>0</td>\n",
       "      <td>0</td>\n",
       "    </tr>\n",
       "  </tbody>\n",
       "</table>\n",
       "<p>5 rows × 46 columns</p>\n",
       "</div>"
      ],
      "text/plain": [
       "       price  bedrooms  bathrooms  sqft_living  sqft_lot  floors  sqft_above  \\\n",
       "0  12.309982         3       1.00         1180      5650     1.0        1180   \n",
       "1  13.195614         3       2.25         2570      7242     2.0        2170   \n",
       "2  12.100712         2       1.00          770     10000     1.0         770   \n",
       "3  13.311329         4       3.00         1960      5000     1.0        1050   \n",
       "4  13.142166         3       2.00         1680      8080     1.0        1680   \n",
       "\n",
       "   sqft_basement  yr_built  yr_renovated     ...       grade_8  grade_9  \\\n",
       "0              0      1955             0     ...             0        0   \n",
       "1            400      1951          1991     ...             0        0   \n",
       "2              0      1933             0     ...             0        0   \n",
       "3            910      1965             0     ...             0        0   \n",
       "4              0      1987             0     ...             1        0   \n",
       "\n",
       "   grade_10  grade_11  grade_12  grade_13  condition_2  condition_3  \\\n",
       "0         0         0         0         0            0            1   \n",
       "1         0         0         0         0            0            1   \n",
       "2         0         0         0         0            0            1   \n",
       "3         0         0         0         0            0            0   \n",
       "4         0         0         0         0            0            1   \n",
       "\n",
       "   condition_4  condition_5  \n",
       "0            0            0  \n",
       "1            0            0  \n",
       "2            0            0  \n",
       "3            0            1  \n",
       "4            0            0  \n",
       "\n",
       "[5 rows x 46 columns]"
      ]
     },
     "execution_count": 28,
     "metadata": {},
     "output_type": "execute_result"
    }
   ],
   "source": [
    "# Посмотрим, как всё выглядит\n",
    "\n",
    "data.head()"
   ]
  },
  {
   "cell_type": "code",
   "execution_count": 29,
   "metadata": {},
   "outputs": [],
   "source": [
    "# Теперь делим данные на тренировочные и тестовые\n",
    "\n",
    "from sklearn.model_selection import train_test_split\n",
    "data_train, data_test = train_test_split(data, test_size = 0.3)\n",
    "\n",
    "price_train = data_train['price']\n",
    "price_test = data_test['price']\n",
    "\n",
    "X_train = data_train.drop(['price'], axis=1)\n",
    "X_test = data_test.drop(['price'], axis=1)"
   ]
  },
  {
   "cell_type": "code",
   "execution_count": 30,
   "metadata": {},
   "outputs": [
    {
     "data": {
      "text/plain": [
       "(15129, 46)"
      ]
     },
     "execution_count": 30,
     "metadata": {},
     "output_type": "execute_result"
    }
   ],
   "source": [
    "# Посмотрим на их размеры\n",
    "\n",
    "data_train.shape"
   ]
  },
  {
   "cell_type": "code",
   "execution_count": 31,
   "metadata": {},
   "outputs": [
    {
     "data": {
      "text/plain": [
       "(6484, 46)"
      ]
     },
     "execution_count": 31,
     "metadata": {},
     "output_type": "execute_result"
    }
   ],
   "source": [
    "data_test.shape"
   ]
  },
  {
   "cell_type": "code",
   "execution_count": 32,
   "metadata": {},
   "outputs": [],
   "source": [
    "# А теперь учим на трэйне скалировщик скалировать, чтобы стохастический градиентый спуск быстрее обучил нашу регрессию."
   ]
  },
  {
   "cell_type": "code",
   "execution_count": 33,
   "metadata": {},
   "outputs": [
    {
     "data": {
      "text/plain": [
       "StandardScaler(copy=True, with_mean=True, with_std=True)"
      ]
     },
     "execution_count": 33,
     "metadata": {},
     "output_type": "execute_result"
    }
   ],
   "source": [
    "from sklearn.preprocessing import StandardScaler\n",
    "\n",
    "scaler = StandardScaler()\n",
    "\n",
    "scaler.fit(data_train[['bedrooms', 'bathrooms', 'sqft_living', 'sqft_lot', 'floors', 'sqft_above', 'sqft_basement', 'yr_built', 'yr_renovated', 'lat', 'long', 'sqft_living15', 'sqft_lot15']]) "
   ]
  },
  {
   "cell_type": "code",
   "execution_count": 34,
   "metadata": {},
   "outputs": [],
   "source": [
    "# Применяем скалировщик к трэйну и к тесту.\n",
    "\n",
    "data_train_scale = scaler.transform(data_train[['bedrooms', 'bathrooms', 'sqft_living', 'sqft_lot', 'floors', 'sqft_above', 'sqft_basement', 'yr_built', 'yr_renovated', 'lat', 'long', 'sqft_living15', 'sqft_lot15']])\n",
    "data_test_scale = scaler.transform(data_test[['bedrooms', 'bathrooms', 'sqft_living', 'sqft_lot', 'floors', 'sqft_above', 'sqft_basement', 'yr_built', 'yr_renovated', 'lat', 'long', 'sqft_living15', 'sqft_lot15']])"
   ]
  },
  {
   "cell_type": "code",
   "execution_count": 35,
   "metadata": {},
   "outputs": [
    {
     "name": "stderr",
     "output_type": "stream",
     "text": [
      "/anaconda3/lib/python3.6/site-packages/ipykernel_launcher.py:3: SettingWithCopyWarning: \n",
      "A value is trying to be set on a copy of a slice from a DataFrame.\n",
      "Try using .loc[row_indexer,col_indexer] = value instead\n",
      "\n",
      "See the caveats in the documentation: http://pandas.pydata.org/pandas-docs/stable/indexing.html#indexing-view-versus-copy\n",
      "  This is separate from the ipykernel package so we can avoid doing imports until\n",
      "/anaconda3/lib/python3.6/site-packages/pandas/core/indexing.py:537: SettingWithCopyWarning: \n",
      "A value is trying to be set on a copy of a slice from a DataFrame.\n",
      "Try using .loc[row_indexer,col_indexer] = value instead\n",
      "\n",
      "See the caveats in the documentation: http://pandas.pydata.org/pandas-docs/stable/indexing.html#indexing-view-versus-copy\n",
      "  self.obj[item] = s\n",
      "/anaconda3/lib/python3.6/site-packages/ipykernel_launcher.py:4: SettingWithCopyWarning: \n",
      "A value is trying to be set on a copy of a slice from a DataFrame.\n",
      "Try using .loc[row_indexer,col_indexer] = value instead\n",
      "\n",
      "See the caveats in the documentation: http://pandas.pydata.org/pandas-docs/stable/indexing.html#indexing-view-versus-copy\n",
      "  after removing the cwd from sys.path.\n"
     ]
    }
   ],
   "source": [
    "# Заменяем значения на роскалированные \n",
    "\n",
    "data_train[['bedrooms', 'bathrooms', 'sqft_living', 'sqft_lot', 'floors', 'sqft_above', 'sqft_basement', 'yr_built', 'yr_renovated', 'lat', 'long', 'sqft_living15', 'sqft_lot15']] = data_train_scale\n",
    "data_test[['bedrooms', 'bathrooms', 'sqft_living', 'sqft_lot', 'floors', 'sqft_above', 'sqft_basement', 'yr_built', 'yr_renovated', 'lat', 'long', 'sqft_living15', 'sqft_lot15']] = data_test_scale"
   ]
  },
  {
   "cell_type": "code",
   "execution_count": 36,
   "metadata": {},
   "outputs": [
    {
     "name": "stdout",
     "output_type": "stream",
     "text": [
      "(15129, 46)\n",
      "(6484, 46)\n"
     ]
    }
   ],
   "source": [
    "# Снова размерчики.\n",
    "\n",
    "print(data_train.shape) \n",
    "print(data_test.shape)"
   ]
  },
  {
   "cell_type": "code",
   "execution_count": 37,
   "metadata": {},
   "outputs": [
    {
     "data": {
      "text/html": [
       "<div>\n",
       "<style scoped>\n",
       "    .dataframe tbody tr th:only-of-type {\n",
       "        vertical-align: middle;\n",
       "    }\n",
       "\n",
       "    .dataframe tbody tr th {\n",
       "        vertical-align: top;\n",
       "    }\n",
       "\n",
       "    .dataframe thead th {\n",
       "        text-align: right;\n",
       "    }\n",
       "</style>\n",
       "<table border=\"1\" class=\"dataframe\">\n",
       "  <thead>\n",
       "    <tr style=\"text-align: right;\">\n",
       "      <th></th>\n",
       "      <th>price</th>\n",
       "      <th>bedrooms</th>\n",
       "      <th>bathrooms</th>\n",
       "      <th>sqft_living</th>\n",
       "      <th>sqft_lot</th>\n",
       "      <th>floors</th>\n",
       "      <th>sqft_above</th>\n",
       "      <th>sqft_basement</th>\n",
       "      <th>yr_built</th>\n",
       "      <th>yr_renovated</th>\n",
       "      <th>...</th>\n",
       "      <th>grade_8</th>\n",
       "      <th>grade_9</th>\n",
       "      <th>grade_10</th>\n",
       "      <th>grade_11</th>\n",
       "      <th>grade_12</th>\n",
       "      <th>grade_13</th>\n",
       "      <th>condition_2</th>\n",
       "      <th>condition_3</th>\n",
       "      <th>condition_4</th>\n",
       "      <th>condition_5</th>\n",
       "    </tr>\n",
       "  </thead>\n",
       "  <tbody>\n",
       "    <tr>\n",
       "      <th>5928</th>\n",
       "      <td>13.173056</td>\n",
       "      <td>-1.459998</td>\n",
       "      <td>-0.144141</td>\n",
       "      <td>-0.572884</td>\n",
       "      <td>-0.308683</td>\n",
       "      <td>0.011190</td>\n",
       "      <td>-0.286212</td>\n",
       "      <td>-0.655815</td>\n",
       "      <td>-2.423764</td>\n",
       "      <td>-0.208789</td>\n",
       "      <td>...</td>\n",
       "      <td>0</td>\n",
       "      <td>0</td>\n",
       "      <td>0</td>\n",
       "      <td>0</td>\n",
       "      <td>0</td>\n",
       "      <td>0</td>\n",
       "      <td>0</td>\n",
       "      <td>0</td>\n",
       "      <td>1</td>\n",
       "      <td>0</td>\n",
       "    </tr>\n",
       "    <tr>\n",
       "      <th>17313</th>\n",
       "      <td>12.491064</td>\n",
       "      <td>-0.396065</td>\n",
       "      <td>0.506527</td>\n",
       "      <td>-0.638132</td>\n",
       "      <td>-0.273300</td>\n",
       "      <td>0.936269</td>\n",
       "      <td>-0.358531</td>\n",
       "      <td>-0.655815</td>\n",
       "      <td>1.056676</td>\n",
       "      <td>-0.208789</td>\n",
       "      <td>...</td>\n",
       "      <td>0</td>\n",
       "      <td>0</td>\n",
       "      <td>0</td>\n",
       "      <td>0</td>\n",
       "      <td>0</td>\n",
       "      <td>0</td>\n",
       "      <td>0</td>\n",
       "      <td>1</td>\n",
       "      <td>0</td>\n",
       "      <td>0</td>\n",
       "    </tr>\n",
       "    <tr>\n",
       "      <th>6813</th>\n",
       "      <td>12.220961</td>\n",
       "      <td>-0.396065</td>\n",
       "      <td>-0.794809</td>\n",
       "      <td>-0.953499</td>\n",
       "      <td>-0.143563</td>\n",
       "      <td>-0.913889</td>\n",
       "      <td>-0.949134</td>\n",
       "      <td>-0.202504</td>\n",
       "      <td>-0.274081</td>\n",
       "      <td>-0.208789</td>\n",
       "      <td>...</td>\n",
       "      <td>0</td>\n",
       "      <td>0</td>\n",
       "      <td>0</td>\n",
       "      <td>0</td>\n",
       "      <td>0</td>\n",
       "      <td>0</td>\n",
       "      <td>0</td>\n",
       "      <td>1</td>\n",
       "      <td>0</td>\n",
       "      <td>0</td>\n",
       "    </tr>\n",
       "    <tr>\n",
       "      <th>10340</th>\n",
       "      <td>12.821258</td>\n",
       "      <td>-1.459998</td>\n",
       "      <td>-1.445477</td>\n",
       "      <td>-0.877376</td>\n",
       "      <td>-0.333279</td>\n",
       "      <td>2.786427</td>\n",
       "      <td>-0.623700</td>\n",
       "      <td>-0.655815</td>\n",
       "      <td>0.988432</td>\n",
       "      <td>-0.208789</td>\n",
       "      <td>...</td>\n",
       "      <td>0</td>\n",
       "      <td>0</td>\n",
       "      <td>0</td>\n",
       "      <td>0</td>\n",
       "      <td>0</td>\n",
       "      <td>0</td>\n",
       "      <td>0</td>\n",
       "      <td>1</td>\n",
       "      <td>0</td>\n",
       "      <td>0</td>\n",
       "    </tr>\n",
       "    <tr>\n",
       "      <th>19496</th>\n",
       "      <td>12.765688</td>\n",
       "      <td>-0.396065</td>\n",
       "      <td>-1.445477</td>\n",
       "      <td>-0.170519</td>\n",
       "      <td>-0.202780</td>\n",
       "      <td>-0.913889</td>\n",
       "      <td>-0.563434</td>\n",
       "      <td>0.704119</td>\n",
       "      <td>-0.410569</td>\n",
       "      <td>-0.208789</td>\n",
       "      <td>...</td>\n",
       "      <td>0</td>\n",
       "      <td>0</td>\n",
       "      <td>0</td>\n",
       "      <td>0</td>\n",
       "      <td>0</td>\n",
       "      <td>0</td>\n",
       "      <td>0</td>\n",
       "      <td>1</td>\n",
       "      <td>0</td>\n",
       "      <td>0</td>\n",
       "    </tr>\n",
       "  </tbody>\n",
       "</table>\n",
       "<p>5 rows × 46 columns</p>\n",
       "</div>"
      ],
      "text/plain": [
       "           price  bedrooms  bathrooms  sqft_living  sqft_lot    floors  \\\n",
       "5928   13.173056 -1.459998  -0.144141    -0.572884 -0.308683  0.011190   \n",
       "17313  12.491064 -0.396065   0.506527    -0.638132 -0.273300  0.936269   \n",
       "6813   12.220961 -0.396065  -0.794809    -0.953499 -0.143563 -0.913889   \n",
       "10340  12.821258 -1.459998  -1.445477    -0.877376 -0.333279  2.786427   \n",
       "19496  12.765688 -0.396065  -1.445477    -0.170519 -0.202780 -0.913889   \n",
       "\n",
       "       sqft_above  sqft_basement  yr_built  yr_renovated     ...       \\\n",
       "5928    -0.286212      -0.655815 -2.423764     -0.208789     ...        \n",
       "17313   -0.358531      -0.655815  1.056676     -0.208789     ...        \n",
       "6813    -0.949134      -0.202504 -0.274081     -0.208789     ...        \n",
       "10340   -0.623700      -0.655815  0.988432     -0.208789     ...        \n",
       "19496   -0.563434       0.704119 -0.410569     -0.208789     ...        \n",
       "\n",
       "       grade_8  grade_9  grade_10  grade_11  grade_12  grade_13  condition_2  \\\n",
       "5928         0        0         0         0         0         0            0   \n",
       "17313        0        0         0         0         0         0            0   \n",
       "6813         0        0         0         0         0         0            0   \n",
       "10340        0        0         0         0         0         0            0   \n",
       "19496        0        0         0         0         0         0            0   \n",
       "\n",
       "       condition_3  condition_4  condition_5  \n",
       "5928             0            1            0  \n",
       "17313            1            0            0  \n",
       "6813             1            0            0  \n",
       "10340            1            0            0  \n",
       "19496            1            0            0  \n",
       "\n",
       "[5 rows x 46 columns]"
      ]
     },
     "execution_count": 37,
     "metadata": {},
     "output_type": "execute_result"
    }
   ],
   "source": [
    "data_train.head()"
   ]
  },
  {
   "cell_type": "code",
   "execution_count": 38,
   "metadata": {},
   "outputs": [],
   "source": [
    "# Вытаскиваем цены и параметры квартир по разным переменным для удобства \n",
    "\n",
    "y_train = data_train.price \n",
    "y_test = data_test.price \n",
    "\n",
    "X_train = data_train.drop('price', axis=1).get_values()\n",
    "X_test = data_test.drop('price', axis=1).get_values()"
   ]
  },
  {
   "cell_type": "code",
   "execution_count": 39,
   "metadata": {},
   "outputs": [],
   "source": [
    "# А теперь самый глупый прогноз! Будем говорить, что стоимость любой квартиры равна среднему значению"
   ]
  },
  {
   "cell_type": "code",
   "execution_count": 40,
   "metadata": {},
   "outputs": [
    {
     "data": {
      "text/plain": [
       "array([13.04678239, 13.04678239, 13.04678239, 13.04678239, 13.04678239])"
      ]
     },
     "execution_count": 40,
     "metadata": {},
     "output_type": "execute_result"
    }
   ],
   "source": [
    "# посчитаем среднее \n",
    "y_mean = np.mean(y_train)                      \n",
    "\n",
    "# спрогнозируем им цену всех квартир в тестовой выборке\n",
    "y_pred_naive = np.ones(len(y_test)) * y_mean  \n",
    "y_pred_naive[:5]"
   ]
  },
  {
   "cell_type": "code",
   "execution_count": 41,
   "metadata": {},
   "outputs": [],
   "source": [
    "# Перейдём к метрикам. Узнаем, насколько этот прогноз хорош."
   ]
  },
  {
   "cell_type": "code",
   "execution_count": 42,
   "metadata": {},
   "outputs": [],
   "source": [
    "from sklearn import metrics"
   ]
  },
  {
   "cell_type": "code",
   "execution_count": 43,
   "metadata": {},
   "outputs": [
    {
     "data": {
      "text/plain": [
       "219805.0526917176"
      ]
     },
     "execution_count": 43,
     "metadata": {},
     "output_type": "execute_result"
    }
   ],
   "source": [
    "# Средняя абсолютная ошибка - это средняя сумма рублей, на которую мы облажались.\n",
    "\n",
    "metrics.mean_absolute_error(np.exp(y_test), np.exp(y_pred_naive))"
   ]
  },
  {
   "cell_type": "code",
   "execution_count": 44,
   "metadata": {},
   "outputs": [
    {
     "data": {
      "text/plain": [
       "132516254858.65018"
      ]
     },
     "execution_count": 44,
     "metadata": {},
     "output_type": "execute_result"
    }
   ],
   "source": [
    "# Средняя квадратичная ошибка. Смысл этой метрики в том, чтобы штрафовать за большие ошибки сильнее, чем за маленькие. В рублях.\n",
    "metrics.mean_squared_error(np.exp(y_test), np.exp(y_pred_naive))"
   ]
  },
  {
   "cell_type": "code",
   "execution_count": 45,
   "metadata": {},
   "outputs": [
    {
     "data": {
      "text/plain": [
       "3.1287039175619245"
      ]
     },
     "execution_count": 45,
     "metadata": {},
     "output_type": "execute_result"
    }
   ],
   "source": [
    "# Средняя абсолютная процентная ошибка. Метрика, которая отлавливает процентную ошибку.\n",
    "def mean_absolute_percentage_error(y_true, y_pred): \n",
    "    y_true, y_pred = np.array(y_true), np.array(y_pred)\n",
    "    return np.mean(np.abs((y_true - y_pred) / y_true)) * 100\n",
    "\n",
    "mean_absolute_percentage_error(y_test, y_pred_naive)"
   ]
  },
  {
   "cell_type": "code",
   "execution_count": 46,
   "metadata": {},
   "outputs": [
    {
     "data": {
      "text/plain": [
       "-4.382312802952981e-05"
      ]
     },
     "execution_count": 46,
     "metadata": {},
     "output_type": "execute_result"
    }
   ],
   "source": [
    "# Коэффициент детерминации. Эта метрика отражает, какую долю дисперсии объясняемой переменной мы объяснили с помощью нашей модели.\n",
    "metrics.r2_score(y_test, y_pred_naive)"
   ]
  },
  {
   "cell_type": "code",
   "execution_count": 47,
   "metadata": {},
   "outputs": [],
   "source": [
    "# А теперь для удобства закинем все метрики в одну общую функцию"
   ]
  },
  {
   "cell_type": "code",
   "execution_count": 48,
   "metadata": {},
   "outputs": [],
   "source": [
    "def print_metrics(y_test,y_pred):\n",
    "    print('MAE:', metrics.mean_absolute_error(np.exp(y_test), np.exp(y_pred)))\n",
    "    print('RMSE:', np.sqrt(metrics.mean_squared_error(np.exp(y_test), np.exp(y_pred))))\n",
    "    print('R2:',  metrics.r2_score(y_test, y_pred))\n",
    "    print('MAPE:', mean_absolute_percentage_error(y_test, y_pred))\n",
    "    pass"
   ]
  },
  {
   "cell_type": "code",
   "execution_count": 49,
   "metadata": {},
   "outputs": [
    {
     "name": "stdout",
     "output_type": "stream",
     "text": [
      "MAE: 219805.0526917176\n",
      "RMSE: 364027.82154479646\n",
      "R2: -4.382312802952981e-05\n",
      "MAPE: 3.1287039175619245\n"
     ]
    }
   ],
   "source": [
    "print_metrics(y_test, y_pred_naive)"
   ]
  },
  {
   "cell_type": "code",
   "execution_count": 50,
   "metadata": {},
   "outputs": [],
   "source": [
    "# Строим нашу первую регрессию!¶"
   ]
  },
  {
   "cell_type": "code",
   "execution_count": 51,
   "metadata": {},
   "outputs": [],
   "source": [
    "from sklearn.linear_model import LinearRegression\n",
    "\n",
    "# Объявили модель\n",
    "model_regression = LinearRegression()\n",
    "\n",
    "# Обучили модель на тренировочной выборке \n",
    "model_regression.fit(X_train, y_train)\n",
    "\n",
    "# Сделали прогнозы на тестовой выборке\n",
    "y_pred_regr = model_regression.predict(X_test)"
   ]
  },
  {
   "cell_type": "code",
   "execution_count": 52,
   "metadata": {},
   "outputs": [
    {
     "name": "stdout",
     "output_type": "stream",
     "text": [
      "MAE: 108289.80931682234\n",
      "RMSE: 179844.54916055544\n",
      "R2: 0.7696689290574366\n",
      "MAPE: 1.4739127205188776\n"
     ]
    }
   ],
   "source": [
    "# Посмотрим на качество прогнозов. Мы стали ошибаться меньше, чем раньше.\n",
    "print_metrics(y_test,y_pred_regr)"
   ]
  },
  {
   "cell_type": "code",
   "execution_count": 53,
   "metadata": {},
   "outputs": [
    {
     "data": {
      "image/png": "[encoded data removed]",
      "text/plain": [
       "<matplotlib.figure.Figure at 0x112173dd8>"
      ]
     },
     "metadata": {},
     "output_type": "display_data"
    }
   ],
   "source": [
    "# Посмотрим на то, какие признаки вносят в цену наибольший вклад.\n",
    "\n",
    "featureImportance = pd.DataFrame({\"feature\": data.drop('price',axis=1).columns, \n",
    "                                  \"importance\": model_regression.coef_})\n",
    "\n",
    "featureImportance.set_index('feature', inplace=True)\n",
    "featureImportance.sort_values([\"importance\"], ascending=False, inplace=True)\n",
    "featureImportance[\"importance\"].plot('bar');"
   ]
  },
  {
   "cell_type": "code",
   "execution_count": 54,
   "metadata": {},
   "outputs": [],
   "source": [
    "# Случайный лес"
   ]
  },
  {
   "cell_type": "code",
   "execution_count": 55,
   "metadata": {},
   "outputs": [],
   "source": [
    "from sklearn.ensemble import RandomForestRegressor\n",
    "\n",
    "# Объявили лес из 100 деревьев\n",
    "rf = RandomForestRegressor(n_estimators=100)\n",
    "\n",
    "# Обучили лес \n",
    "rf.fit(X_train, y_train)\n",
    "\n",
    "# Сделали по лесу прогнозы \n",
    "y_pred_forest = rf.predict(X_test)"
   ]
  },
  {
   "cell_type": "code",
   "execution_count": 56,
   "metadata": {},
   "outputs": [
    {
     "data": {
      "image/png": "[encoded data removed]",
      "text/plain": [
       "<matplotlib.figure.Figure at 0x1118dbd68>"
      ]
     },
     "metadata": {},
     "output_type": "display_data"
    }
   ],
   "source": [
    "# Посмотрим на важность факторов.\n",
    "\n",
    "featureImportance = pd.DataFrame({\"feature\": data.drop('price',axis=1).columns, \n",
    "                                  \"importance\": rf.feature_importances_})\n",
    "\n",
    "featureImportance.set_index('feature', inplace=True)\n",
    "featureImportance.sort_values([\"importance\"], ascending=False, inplace=True)\n",
    "featureImportance[\"importance\"].plot('bar');"
   ]
  },
  {
   "cell_type": "code",
   "execution_count": 57,
   "metadata": {},
   "outputs": [],
   "source": [
    "rf = RandomForestRegressor()\n",
    "estimators = ('n_estimator')"
   ]
  },
  {
   "cell_type": "code",
   "execution_count": null,
   "metadata": {},
   "outputs": [],
   "source": [
    "# А теперь сравним все модели между собой."
   ]
  },
  {
   "cell_type": "code",
   "execution_count": 58,
   "metadata": {},
   "outputs": [
    {
     "name": "stdout",
     "output_type": "stream",
     "text": [
      "MAE: 219805.0526917176\n",
      "RMSE: 364027.82154479646\n",
      "R2: -4.382312802952981e-05\n",
      "MAPE: 3.1287039175619245\n"
     ]
    }
   ],
   "source": [
    "print_metrics(y_test,y_pred_naive)"
   ]
  },
  {
   "cell_type": "code",
   "execution_count": 59,
   "metadata": {},
   "outputs": [
    {
     "name": "stdout",
     "output_type": "stream",
     "text": [
      "MAE: 108289.80931682234\n",
      "RMSE: 179844.54916055544\n",
      "R2: 0.7696689290574366\n",
      "MAPE: 1.4739127205188776\n"
     ]
    }
   ],
   "source": [
    "print_metrics(y_test,y_pred_regr)"
   ]
  },
  {
   "cell_type": "code",
   "execution_count": 60,
   "metadata": {
    "scrolled": true
   },
   "outputs": [
    {
     "name": "stdout",
     "output_type": "stream",
     "text": [
      "MAE: 70951.4664633469\n",
      "RMSE: 129257.1122579124\n",
      "R2: 0.8793434114336168\n",
      "MAPE: 0.9755735733445223\n"
     ]
    }
   ],
   "source": [
    "print_metrics(y_test,y_pred_forest)"
   ]
  },
  {
   "cell_type": "code",
   "execution_count": 61,
   "metadata": {},
   "outputs": [],
   "source": [
    "# Случайные лес оказался самым эффективным."
   ]
  }
 ],
 "metadata": {
  "kernelspec": {
   "display_name": "Python 3",
   "language": "python",
   "name": "python3"
  },
  "language_info": {
   "codemirror_mode": {
    "name": "ipython",
    "version": 3
   },
   "file_extension": ".py",
   "mimetype": "text/x-python",
   "name": "python",
   "nbconvert_exporter": "python",
   "pygments_lexer": "ipython3",
   "version": "3.6.4"
  },
  "varInspector": {
   "cols": {
    "lenName": 16,
    "lenType": 16,
    "lenVar": 40
   },
   "kernels_config": {
    "python": {
     "delete_cmd_postfix": "",
     "delete_cmd_prefix": "del ",
     "library": "var_list.py",
     "varRefreshCmd": "print(var_dic_list())"
    },
    "r": {
     "delete_cmd_postfix": ") ",
     "delete_cmd_prefix": "rm(",
     "library": "var_list.r",
     "varRefreshCmd": "cat(var_dic_list()) "
    }
   },
   "types_to_exclude": [
    "module",
    "function",
    "builtin_function_or_method",
    "instance",
    "_Feature"
   ],
   "window_display": false
  }
 },
 "nbformat": 4,
 "nbformat_minor": 2
}
