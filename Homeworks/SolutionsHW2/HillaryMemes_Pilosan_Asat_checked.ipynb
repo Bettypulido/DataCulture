{
 "cells": [
  {
   "cell_type": "markdown",
   "metadata": {},
   "source": [
    "# Part 1, exploratory data analysis (EDA)\n",
    "\n",
    "Вопросы:\n",
    "\n",
    "1. [1 балл] Загрузка данных и предобработка - загрузите датасет так, чтобы нулевой столбец выступал в качестве индекса датафрейма. Посмотрите на его `head` и `tail`. Похоже, у нас есть одна лишняя переменная - `id`, которая совершенно не информативна и будет нам только мешать, давайте сразу её уберем.\n",
    "2. [1 балл] Какое среднее число лайков в датасете? А медианное?\n",
    "3. [1 балл] Какой источник (автор) создал больше всего мемов? \n",
    "4. [2 балла] Создайте переменные, отвечающие за месяц, день, час и день недели, в которые мем появлялся. В какой год было создано больше всего мемов? \n",
    "5. [1 балл] Визуализация - Постройте гистограммы всех числовых переменных датасета при помощи одной команды. Для удобства отображения задайте размер графика `figsize` равным (25, 20).\n",
    "6. [3 балла] Похоже, что наши созданные переменные не очень хорошо смотреть на одном общем графике. Давайте потсроим отдельные для каждого. Постройте гистограмму для месяца выхода мема, указав число число разбиений равное 12 (по количеству месяцев в году). В какой месяц наплодили максимальное число мемов? Почему? Теперь постройте гистограмму для часа дня, указав логичное число разбиений. Как вы можете объяснить получившийся вид графика?\n",
    "7. [1 балл] Вопрос-сюрприз! Попробуйте самостоятельно придумать какой-нибудь осмысленный вопрос для вашего датасета и ответьте на  него. Инициатива не наказуема ;)"
   ]
  },
  {
   "cell_type": "code",
   "execution_count": 1,
   "metadata": {
    "collapsed": true
   },
   "outputs": [],
   "source": [
    "import pandas as pd\n",
    "import matplotlib.pyplot as plt\n",
    "import seaborn as sns\n",
    "%matplotlib inline"
   ]
  },
  {
   "cell_type": "code",
   "execution_count": 2,
   "metadata": {},
   "outputs": [
    {
     "data": {
      "text/plain": [
       "'/Users/dmitrys/Desktop/DataProjects/DataCulture/Homeworks/SolutionsHW2'"
      ]
     },
     "execution_count": 2,
     "metadata": {},
     "output_type": "execute_result"
    }
   ],
   "source": [
    "import os\n",
    "os.getcwd()"
   ]
  },
  {
   "cell_type": "code",
   "execution_count": 3,
   "metadata": {
    "collapsed": true
   },
   "outputs": [],
   "source": [
    "data = pd.read_csv('../datasets/Pilosan_Asat_Hillary.csv', index_col = 0)"
   ]
  },
  {
   "cell_type": "code",
   "execution_count": 3,
   "metadata": {
    "collapsed": true
   },
   "outputs": [],
   "source": [
    "data = pd.read_csv('Pilosan_Asat_Hillary.csv', index_col = 0)"
   ]
  },
  {
   "cell_type": "code",
   "execution_count": 4,
   "metadata": {},
   "outputs": [
    {
     "data": {
      "text/html": [
       "<div>\n",
       "<style>\n",
       "    .dataframe thead tr:only-child th {\n",
       "        text-align: right;\n",
       "    }\n",
       "\n",
       "    .dataframe thead th {\n",
       "        text-align: left;\n",
       "    }\n",
       "\n",
       "    .dataframe tbody tr th {\n",
       "        vertical-align: top;\n",
       "    }\n",
       "</style>\n",
       "<table border=\"1\" class=\"dataframe\">\n",
       "  <thead>\n",
       "    <tr style=\"text-align: right;\">\n",
       "      <th></th>\n",
       "      <th>timestamp</th>\n",
       "      <th>id</th>\n",
       "      <th>link</th>\n",
       "      <th>caption</th>\n",
       "      <th>author</th>\n",
       "      <th>network</th>\n",
       "      <th>likes</th>\n",
       "    </tr>\n",
       "  </thead>\n",
       "  <tbody>\n",
       "    <tr>\n",
       "      <th>0</th>\n",
       "      <td>8/1/16 20:56</td>\n",
       "      <td>1742494</td>\n",
       "      <td>http://imgur.com/a/lNHED</td>\n",
       "      <td>Son killed by\\n country, in a\\n in a\\n war sta...</td>\n",
       "      <td>forwardsfromgrandma</td>\n",
       "      <td>imgur</td>\n",
       "      <td>-20</td>\n",
       "    </tr>\n",
       "    <tr>\n",
       "      <th>1</th>\n",
       "      <td>9/5/16 13:51</td>\n",
       "      <td>2278706</td>\n",
       "      <td>http://imgur.com/a/Cm6ls</td>\n",
       "      <td>TRUMP LOVES TRUMP, AND\\n DOES WHAT HIS FOLLOWE...</td>\n",
       "      <td>politicalhumor</td>\n",
       "      <td>imgur</td>\n",
       "      <td>-17</td>\n",
       "    </tr>\n",
       "    <tr>\n",
       "      <th>2</th>\n",
       "      <td>7/27/16 0:54</td>\n",
       "      <td>1633557</td>\n",
       "      <td>http://imgur.com/a/FRGrq</td>\n",
       "      <td>1h\\n Why end racism when we can just\\n end the...</td>\n",
       "      <td>TumblrInAction</td>\n",
       "      <td>imgur</td>\n",
       "      <td>-16</td>\n",
       "    </tr>\n",
       "    <tr>\n",
       "      <th>3</th>\n",
       "      <td>7/8/16 4:12</td>\n",
       "      <td>1297193</td>\n",
       "      <td>http://imgur.com/a/zF2Bw</td>\n",
       "      <td>Do jokes about not noticing someone\\n because ...</td>\n",
       "      <td>toosoon</td>\n",
       "      <td>imgur</td>\n",
       "      <td>-16</td>\n",
       "    </tr>\n",
       "    <tr>\n",
       "      <th>4</th>\n",
       "      <td>10/20/16 7:34</td>\n",
       "      <td>3017540</td>\n",
       "      <td>http://imgur.com/a/giimL</td>\n",
       "      <td>HILLARY CLINTON SAYS YOU CAN\\n KILL A BABY THE...</td>\n",
       "      <td>forwardsfromgrandma</td>\n",
       "      <td>imgur</td>\n",
       "      <td>-14</td>\n",
       "    </tr>\n",
       "  </tbody>\n",
       "</table>\n",
       "</div>"
      ],
      "text/plain": [
       "       timestamp       id                      link  \\\n",
       "0   8/1/16 20:56  1742494  http://imgur.com/a/lNHED   \n",
       "1   9/5/16 13:51  2278706  http://imgur.com/a/Cm6ls   \n",
       "2   7/27/16 0:54  1633557  http://imgur.com/a/FRGrq   \n",
       "3    7/8/16 4:12  1297193  http://imgur.com/a/zF2Bw   \n",
       "4  10/20/16 7:34  3017540  http://imgur.com/a/giimL   \n",
       "\n",
       "                                             caption               author  \\\n",
       "0  Son killed by\\n country, in a\\n in a\\n war sta...  forwardsfromgrandma   \n",
       "1  TRUMP LOVES TRUMP, AND\\n DOES WHAT HIS FOLLOWE...       politicalhumor   \n",
       "2  1h\\n Why end racism when we can just\\n end the...       TumblrInAction   \n",
       "3  Do jokes about not noticing someone\\n because ...              toosoon   \n",
       "4  HILLARY CLINTON SAYS YOU CAN\\n KILL A BABY THE...  forwardsfromgrandma   \n",
       "\n",
       "  network  likes  \n",
       "0   imgur    -20  \n",
       "1   imgur    -17  \n",
       "2   imgur    -16  \n",
       "3   imgur    -16  \n",
       "4   imgur    -14  "
      ]
     },
     "execution_count": 4,
     "metadata": {},
     "output_type": "execute_result"
    }
   ],
   "source": [
    "# посмотрим на начало таблицы\n",
    "data.head()"
   ]
  },
  {
   "cell_type": "code",
   "execution_count": 5,
   "metadata": {},
   "outputs": [
    {
     "data": {
      "text/html": [
       "<div>\n",
       "<style>\n",
       "    .dataframe thead tr:only-child th {\n",
       "        text-align: right;\n",
       "    }\n",
       "\n",
       "    .dataframe thead th {\n",
       "        text-align: left;\n",
       "    }\n",
       "\n",
       "    .dataframe tbody tr th {\n",
       "        vertical-align: top;\n",
       "    }\n",
       "</style>\n",
       "<table border=\"1\" class=\"dataframe\">\n",
       "  <thead>\n",
       "    <tr style=\"text-align: right;\">\n",
       "      <th></th>\n",
       "      <th>timestamp</th>\n",
       "      <th>id</th>\n",
       "      <th>link</th>\n",
       "      <th>caption</th>\n",
       "      <th>author</th>\n",
       "      <th>network</th>\n",
       "      <th>likes</th>\n",
       "    </tr>\n",
       "  </thead>\n",
       "  <tbody>\n",
       "    <tr>\n",
       "      <th>10891</th>\n",
       "      <td>7/29/16 18:09</td>\n",
       "      <td>1678766</td>\n",
       "      <td>https://instagram.com/p/BIdHVLJBUks</td>\n",
       "      <td>bill: hey hill check this out\\n hillary\\n hey ...</td>\n",
       "      <td>11762801</td>\n",
       "      <td>instagram</td>\n",
       "      <td>101480</td>\n",
       "    </tr>\n",
       "    <tr>\n",
       "      <th>10892</th>\n",
       "      <td>4/10/16 20:17</td>\n",
       "      <td>185734</td>\n",
       "      <td>https://instagram.com/p/BECGkcSq8jQ</td>\n",
       "      <td>hillary: i hate braids\\n black people: we love...</td>\n",
       "      <td>11762801</td>\n",
       "      <td>instagram</td>\n",
       "      <td>102093</td>\n",
       "    </tr>\n",
       "    <tr>\n",
       "      <th>10893</th>\n",
       "      <td>10/30/16 20:10</td>\n",
       "      <td>3398165</td>\n",
       "      <td>https://instagram.com/p/BMMzJFcD1vW</td>\n",
       "      <td>Katy Perry dressed as Hillary Clinton.\\n She h...</td>\n",
       "      <td>1419706373</td>\n",
       "      <td>instagram</td>\n",
       "      <td>127195</td>\n",
       "    </tr>\n",
       "    <tr>\n",
       "      <th>10894</th>\n",
       "      <td>9/27/16 2:45</td>\n",
       "      <td>2566120</td>\n",
       "      <td>https://instagram.com/p/BK19S3KDYgU</td>\n",
       "      <td>when u laughing at hillary and donald\\n debati...</td>\n",
       "      <td>1419706373</td>\n",
       "      <td>instagram</td>\n",
       "      <td>154988</td>\n",
       "    </tr>\n",
       "    <tr>\n",
       "      <th>10895</th>\n",
       "      <td>9/19/16 2:15</td>\n",
       "      <td>2427231</td>\n",
       "      <td>https://instagram.com/p/BKhTfWbghFL</td>\n",
       "      <td>Hilary Clinton Says \"Let's Make It Happen\"\\n W...</td>\n",
       "      <td>1419706373</td>\n",
       "      <td>instagram</td>\n",
       "      <td>231028</td>\n",
       "    </tr>\n",
       "  </tbody>\n",
       "</table>\n",
       "</div>"
      ],
      "text/plain": [
       "            timestamp       id                                 link  \\\n",
       "10891   7/29/16 18:09  1678766  https://instagram.com/p/BIdHVLJBUks   \n",
       "10892   4/10/16 20:17   185734  https://instagram.com/p/BECGkcSq8jQ   \n",
       "10893  10/30/16 20:10  3398165  https://instagram.com/p/BMMzJFcD1vW   \n",
       "10894    9/27/16 2:45  2566120  https://instagram.com/p/BK19S3KDYgU   \n",
       "10895    9/19/16 2:15  2427231  https://instagram.com/p/BKhTfWbghFL   \n",
       "\n",
       "                                                 caption      author  \\\n",
       "10891  bill: hey hill check this out\\n hillary\\n hey ...    11762801   \n",
       "10892  hillary: i hate braids\\n black people: we love...    11762801   \n",
       "10893  Katy Perry dressed as Hillary Clinton.\\n She h...  1419706373   \n",
       "10894  when u laughing at hillary and donald\\n debati...  1419706373   \n",
       "10895  Hilary Clinton Says \"Let's Make It Happen\"\\n W...  1419706373   \n",
       "\n",
       "         network   likes  \n",
       "10891  instagram  101480  \n",
       "10892  instagram  102093  \n",
       "10893  instagram  127195  \n",
       "10894  instagram  154988  \n",
       "10895  instagram  231028  "
      ]
     },
     "execution_count": 5,
     "metadata": {},
     "output_type": "execute_result"
    }
   ],
   "source": [
    "# на конец:\n",
    "data.tail()"
   ]
  },
  {
   "cell_type": "markdown",
   "metadata": {},
   "source": [
    "## Datetime features"
   ]
  },
  {
   "cell_type": "code",
   "execution_count": 6,
   "metadata": {
    "collapsed": true
   },
   "outputs": [],
   "source": [
    "# переводим таймстэмпы в формат datetime, чтобы с ними было удобнее работать в дальнейшем\n",
    "data['timestamp'] = data.timestamp.apply(lambda x: pd.to_datetime(x))\n",
    "\n",
    "# создаем переменную \"год\", в который вышел мемчик\n",
    "data['Year'] = data.timestamp.apply(lambda x: x.year)\n",
    "\n",
    "# аналогично создайте переменные Month, Day, Hour, Weekday\n",
    "data['Month'] = data.timestamp.apply(lambda x: x.month)\n",
    "data['Day'] = data.timestamp.apply(lambda x: x.day)\n",
    "data['Hour'] = data.timestamp.apply(lambda x: x.hour)\n",
    "data['Weekday'] = data.timestamp.apply(lambda x: x.weekday)"
   ]
  },
  {
   "cell_type": "code",
   "execution_count": 7,
   "metadata": {
    "collapsed": true
   },
   "outputs": [],
   "source": [
    "# выкидываем лишнюю переменную\n",
    "data = data.drop(['id'], axis=1)"
   ]
  },
  {
   "cell_type": "code",
   "execution_count": 8,
   "metadata": {},
   "outputs": [
    {
     "data": {
      "text/plain": [
       "38.0"
      ]
     },
     "execution_count": 8,
     "metadata": {},
     "output_type": "execute_result"
    }
   ],
   "source": [
    "# медианное число лайков\n",
    "data.likes.median()"
   ]
  },
  {
   "cell_type": "code",
   "execution_count": 9,
   "metadata": {},
   "outputs": [
    {
     "data": {
      "text/plain": [
       "864.2482562408223"
      ]
     },
     "execution_count": 9,
     "metadata": {},
     "output_type": "execute_result"
    }
   ],
   "source": [
    "# среднее число лайков\n",
    "data.likes.mean()"
   ]
  },
  {
   "cell_type": "code",
   "execution_count": 10,
   "metadata": {},
   "outputs": [
    {
     "data": {
      "text/plain": [
       "231028"
      ]
     },
     "execution_count": 10,
     "metadata": {},
     "output_type": "execute_result"
    }
   ],
   "source": [
    "# максимальное количество лайков\n",
    "data.likes.max()"
   ]
  },
  {
   "cell_type": "code",
   "execution_count": 11,
   "metadata": {},
   "outputs": [
    {
     "data": {
      "text/plain": [
       "forwardsfromgrandma     259\n",
       "6.63702E+14             243\n",
       "politicalhumor          212\n",
       "AdviceAnimals           165\n",
       "funny                   148\n",
       "7.91374E+14             139\n",
       "4chan                   128\n",
       "me_irl                   94\n",
       "1.64687E+15              87\n",
       "2.35087E+14              87\n",
       "3.34749E+14              86\n",
       "1.92264E+15              80\n",
       "1.4538E+14               78\n",
       "2.97176E+14              75\n",
       "Thathappened             71\n",
       "3.46787E+14              69\n",
       "facepalm                 67\n",
       "conservativecartoons     66\n",
       "1.88355E+11              66\n",
       "3.07189E+14              65\n",
       "iamverysmart             61\n",
       "2.46977E+14              56\n",
       "2.4852E+14               55\n",
       "3.52587E+14              54\n",
       "3.40862E+14              54\n",
       "1539151608               52\n",
       "1.12884E+14              51\n",
       "1.65978E+15              51\n",
       "2.17926E+14              48\n",
       "5.41886E+14              47\n",
       "                       ... \n",
       "Punny                     1\n",
       "1592489988                1\n",
       "4.89096E+14               1\n",
       "1.50742E+15               1\n",
       "1.59157E+15               1\n",
       "3.09703E+14               1\n",
       "2.36005E+14               1\n",
       "2.85425E+14               1\n",
       "fffffffuuuuuuuuuuuu       1\n",
       "1.51024E+14               1\n",
       "1.93268E+14               1\n",
       "NotBillWalton             1\n",
       "1.67558E+15               1\n",
       "1.57212E+11               1\n",
       "5.1921E+14                1\n",
       "2.66781E+14               1\n",
       "1.01907E+15               1\n",
       "1244330787                1\n",
       "635181300                 1\n",
       "5.44023E+14               1\n",
       "1.39357E+15               1\n",
       "1411892475                1\n",
       "1.15364E+14               1\n",
       "1.833E+15                 1\n",
       "1.50024E+15               1\n",
       "3.78763E+14               1\n",
       "1.91143E+14               1\n",
       "2.63803E+14               1\n",
       "1.25212E+14               1\n",
       "3.5444E+14                1\n",
       "Name: author, Length: 1924, dtype: int64"
      ]
     },
     "execution_count": 11,
     "metadata": {},
     "output_type": "execute_result"
    }
   ],
   "source": [
    "# топ авторов, создавших наибольшее количество мемчиков\n",
    "data['author'].value_counts()"
   ]
  },
  {
   "cell_type": "code",
   "execution_count": 12,
   "metadata": {},
   "outputs": [
    {
     "data": {
      "text/plain": [
       "259"
      ]
     },
     "execution_count": 12,
     "metadata": {},
     "output_type": "execute_result"
    }
   ],
   "source": [
    "# максимальное число мемов, созданных одним троллем\n",
    "data.author.value_counts().max()"
   ]
  },
  {
   "cell_type": "code",
   "execution_count": 13,
   "metadata": {},
   "outputs": [
    {
     "data": {
      "text/plain": [
       "2016    10717\n",
       "2015      169\n",
       "2014        8\n",
       "2013        2\n",
       "Name: Year, dtype: int64"
      ]
     },
     "execution_count": 13,
     "metadata": {},
     "output_type": "execute_result"
    }
   ],
   "source": [
    "# число мемов, созданных за определенный год\n",
    "data.Year.value_counts()"
   ]
  },
  {
   "cell_type": "code",
   "execution_count": 14,
   "metadata": {},
   "outputs": [
    {
     "data": {
      "image/png": "[encoded data removed]",
      "text/plain": [
       "<matplotlib.figure.Figure at 0x114b79400>"
      ]
     },
     "metadata": {},
     "output_type": "display_data"
    }
   ],
   "source": [
    "# гистограммы, показывающие в какой час, день, месяц и год было созданно определенное количество мемов\n",
    "data.hist(figsize=(25, 20));"
   ]
  },
  {
   "cell_type": "code",
   "execution_count": 15,
   "metadata": {},
   "outputs": [
    {
     "data": {
      "text/plain": [
       "<matplotlib.axes._subplots.AxesSubplot at 0x1154e1390>"
      ]
     },
     "execution_count": 15,
     "metadata": {},
     "output_type": "execute_result"
    },
    {
     "data": {
      "image/png": "[encoded data removed]",
      "text/plain": [
       "<matplotlib.figure.Figure at 0x1154e15f8>"
      ]
     },
     "metadata": {},
     "output_type": "display_data"
    }
   ],
   "source": [
    "# гистограмма показывает, что, чем ближе президентские выборы, тем больше мемчиков гуляет по сети\n",
    "data['Month'].hist(bins=12)"
   ]
  },
  {
   "cell_type": "code",
   "execution_count": 16,
   "metadata": {},
   "outputs": [
    {
     "data": {
      "text/plain": [
       "<matplotlib.axes._subplots.AxesSubplot at 0x1155f6518>"
      ]
     },
     "execution_count": 16,
     "metadata": {},
     "output_type": "execute_result"
    },
    {
     "data": {
      "image/png": "[encoded data removed]",
      "text/plain": [
       "<matplotlib.figure.Figure at 0x1154e1cf8>"
      ]
     },
     "metadata": {},
     "output_type": "display_data"
    }
   ],
   "source": [
    "# а тут мы видим, что мемы просматриваются в основном с 2 часов дня до 2 часов ночи\n",
    "data['Hour'].hist(bins=24)"
   ]
  },
  {
   "cell_type": "code",
   "execution_count": 17,
   "metadata": {},
   "outputs": [
    {
     "name": "stdout",
     "output_type": "stream",
     "text": [
      "В Facebook набралось больше всего лайков, а именно   4867389\n"
     ]
    }
   ],
   "source": [
    "#на какой платформе набралось больше всего лайков и сколько \n",
    "\n",
    "a = data.groupby('network').likes.sum().facebook\n",
    "b = data.groupby('network').likes.sum().imgur\n",
    "c = data.groupby('network').likes.sum().twitter\n",
    "d = data.groupby('network').likes.sum().instagram\n",
    "\n",
    "if a>d & a>b & a>c  :\n",
    "    print ('В Instagram набралось больше всего лайков, а именно  ', data.groupby('network').likes.sum().max())\n",
    "elif b>c & b>a & b>d:\n",
    "    print ('В Imgur набралось больше всего лайков, а именно  ', data.groupby('network').likes.sum().max())\n",
    "elif c>a & c>b & c>d:\n",
    "    print ('В Twitter набралось больше всего лайков, а именно  ', data.groupby('network').likes.sum().max())\n",
    "elif d>a & d>c & d>b:\n",
    "    print ('В Facebook набралось больше всего лайков, а именно  ', data.groupby('network').likes.sum().max())"
   ]
  },
  {
   "cell_type": "code",
   "execution_count": 18,
   "metadata": {},
   "outputs": [
    {
     "data": {
      "text/plain": [
       "timestamp     0\n",
       "link          0\n",
       "caption       0\n",
       "author       88\n",
       "network       0\n",
       "likes         0\n",
       "Year          0\n",
       "Month         0\n",
       "Day           0\n",
       "Hour          0\n",
       "Weekday       0\n",
       "dtype: int64"
      ]
     },
     "execution_count": 18,
     "metadata": {},
     "output_type": "execute_result"
    }
   ],
   "source": [
    "# тут мы смотрим где у нас пропуски на всякий случай\n",
    "data.isnull().sum()"
   ]
  },
  {
   "cell_type": "code",
   "execution_count": 19,
   "metadata": {},
   "outputs": [
    {
     "data": {
      "text/html": [
       "<div>\n",
       "<style>\n",
       "    .dataframe thead tr:only-child th {\n",
       "        text-align: right;\n",
       "    }\n",
       "\n",
       "    .dataframe thead th {\n",
       "        text-align: left;\n",
       "    }\n",
       "\n",
       "    .dataframe tbody tr th {\n",
       "        vertical-align: top;\n",
       "    }\n",
       "</style>\n",
       "<table border=\"1\" class=\"dataframe\">\n",
       "  <thead>\n",
       "    <tr style=\"text-align: right;\">\n",
       "      <th></th>\n",
       "      <th>timestamp</th>\n",
       "      <th>link</th>\n",
       "      <th>caption</th>\n",
       "      <th>author</th>\n",
       "      <th>network</th>\n",
       "      <th>likes</th>\n",
       "      <th>Year</th>\n",
       "      <th>Month</th>\n",
       "      <th>Day</th>\n",
       "      <th>Hour</th>\n",
       "      <th>Weekday</th>\n",
       "    </tr>\n",
       "  </thead>\n",
       "  <tbody>\n",
       "    <tr>\n",
       "      <th>0</th>\n",
       "      <td>2016-08-01 20:56:00</td>\n",
       "      <td>http://imgur.com/a/lNHED</td>\n",
       "      <td>Son killed by\\n country, in a\\n in a\\n war sta...</td>\n",
       "      <td>forwardsfromgrandma</td>\n",
       "      <td>imgur</td>\n",
       "      <td>-20</td>\n",
       "      <td>2016</td>\n",
       "      <td>8</td>\n",
       "      <td>1</td>\n",
       "      <td>20</td>\n",
       "      <td>&lt;built-in method weekday of Timestamp object a...</td>\n",
       "    </tr>\n",
       "    <tr>\n",
       "      <th>1</th>\n",
       "      <td>2016-09-05 13:51:00</td>\n",
       "      <td>http://imgur.com/a/Cm6ls</td>\n",
       "      <td>TRUMP LOVES TRUMP, AND\\n DOES WHAT HIS FOLLOWE...</td>\n",
       "      <td>politicalhumor</td>\n",
       "      <td>imgur</td>\n",
       "      <td>-17</td>\n",
       "      <td>2016</td>\n",
       "      <td>9</td>\n",
       "      <td>5</td>\n",
       "      <td>13</td>\n",
       "      <td>&lt;built-in method weekday of Timestamp object a...</td>\n",
       "    </tr>\n",
       "    <tr>\n",
       "      <th>2</th>\n",
       "      <td>2016-07-27 00:54:00</td>\n",
       "      <td>http://imgur.com/a/FRGrq</td>\n",
       "      <td>1h\\n Why end racism when we can just\\n end the...</td>\n",
       "      <td>TumblrInAction</td>\n",
       "      <td>imgur</td>\n",
       "      <td>-16</td>\n",
       "      <td>2016</td>\n",
       "      <td>7</td>\n",
       "      <td>27</td>\n",
       "      <td>0</td>\n",
       "      <td>&lt;built-in method weekday of Timestamp object a...</td>\n",
       "    </tr>\n",
       "    <tr>\n",
       "      <th>3</th>\n",
       "      <td>2016-07-08 04:12:00</td>\n",
       "      <td>http://imgur.com/a/zF2Bw</td>\n",
       "      <td>Do jokes about not noticing someone\\n because ...</td>\n",
       "      <td>toosoon</td>\n",
       "      <td>imgur</td>\n",
       "      <td>-16</td>\n",
       "      <td>2016</td>\n",
       "      <td>7</td>\n",
       "      <td>8</td>\n",
       "      <td>4</td>\n",
       "      <td>&lt;built-in method weekday of Timestamp object a...</td>\n",
       "    </tr>\n",
       "    <tr>\n",
       "      <th>4</th>\n",
       "      <td>2016-10-20 07:34:00</td>\n",
       "      <td>http://imgur.com/a/giimL</td>\n",
       "      <td>HILLARY CLINTON SAYS YOU CAN\\n KILL A BABY THE...</td>\n",
       "      <td>forwardsfromgrandma</td>\n",
       "      <td>imgur</td>\n",
       "      <td>-14</td>\n",
       "      <td>2016</td>\n",
       "      <td>10</td>\n",
       "      <td>20</td>\n",
       "      <td>7</td>\n",
       "      <td>&lt;built-in method weekday of Timestamp object a...</td>\n",
       "    </tr>\n",
       "  </tbody>\n",
       "</table>\n",
       "</div>"
      ],
      "text/plain": [
       "            timestamp                      link  \\\n",
       "0 2016-08-01 20:56:00  http://imgur.com/a/lNHED   \n",
       "1 2016-09-05 13:51:00  http://imgur.com/a/Cm6ls   \n",
       "2 2016-07-27 00:54:00  http://imgur.com/a/FRGrq   \n",
       "3 2016-07-08 04:12:00  http://imgur.com/a/zF2Bw   \n",
       "4 2016-10-20 07:34:00  http://imgur.com/a/giimL   \n",
       "\n",
       "                                             caption               author  \\\n",
       "0  Son killed by\\n country, in a\\n in a\\n war sta...  forwardsfromgrandma   \n",
       "1  TRUMP LOVES TRUMP, AND\\n DOES WHAT HIS FOLLOWE...       politicalhumor   \n",
       "2  1h\\n Why end racism when we can just\\n end the...       TumblrInAction   \n",
       "3  Do jokes about not noticing someone\\n because ...              toosoon   \n",
       "4  HILLARY CLINTON SAYS YOU CAN\\n KILL A BABY THE...  forwardsfromgrandma   \n",
       "\n",
       "  network  likes  Year  Month  Day  Hour  \\\n",
       "0   imgur    -20  2016      8    1    20   \n",
       "1   imgur    -17  2016      9    5    13   \n",
       "2   imgur    -16  2016      7   27     0   \n",
       "3   imgur    -16  2016      7    8     4   \n",
       "4   imgur    -14  2016     10   20     7   \n",
       "\n",
       "                                             Weekday  \n",
       "0  <built-in method weekday of Timestamp object a...  \n",
       "1  <built-in method weekday of Timestamp object a...  \n",
       "2  <built-in method weekday of Timestamp object a...  \n",
       "3  <built-in method weekday of Timestamp object a...  \n",
       "4  <built-in method weekday of Timestamp object a...  "
      ]
     },
     "execution_count": 19,
     "metadata": {},
     "output_type": "execute_result"
    }
   ],
   "source": [
    "# тут мы смотрим на начало датасета на всякий случай\n",
    "data.head()"
   ]
  },
  {
   "cell_type": "code",
   "execution_count": 20,
   "metadata": {
    "collapsed": true
   },
   "outputs": [],
   "source": [
    "# тут мы выкидываем не нужные данные\n",
    "data = data.drop(['link'], axis=1)\n",
    "data = data.drop(['timestamp'], axis=1)\n",
    "data = data.drop(['author'], axis=1)\n",
    "data = data.drop(['network'], axis=1)\n",
    "data = data.drop(['Year'], axis=1)"
   ]
  },
  {
   "cell_type": "code",
   "execution_count": 21,
   "metadata": {
    "collapsed": true
   },
   "outputs": [],
   "source": [
    "data = data.drop(['Month'], axis=1)\n",
    "data = data.drop(['Day'], axis=1)\n",
    "data = data.drop(['Hour'], axis=1)\n",
    "data = data.drop(['Weekday'], axis=1)"
   ]
  },
  {
   "cell_type": "code",
   "execution_count": 22,
   "metadata": {},
   "outputs": [
    {
     "data": {
      "text/html": [
       "<div>\n",
       "<style>\n",
       "    .dataframe thead tr:only-child th {\n",
       "        text-align: right;\n",
       "    }\n",
       "\n",
       "    .dataframe thead th {\n",
       "        text-align: left;\n",
       "    }\n",
       "\n",
       "    .dataframe tbody tr th {\n",
       "        vertical-align: top;\n",
       "    }\n",
       "</style>\n",
       "<table border=\"1\" class=\"dataframe\">\n",
       "  <thead>\n",
       "    <tr style=\"text-align: right;\">\n",
       "      <th></th>\n",
       "      <th>caption</th>\n",
       "      <th>likes</th>\n",
       "    </tr>\n",
       "  </thead>\n",
       "  <tbody>\n",
       "    <tr>\n",
       "      <th>0</th>\n",
       "      <td>Son killed by\\n country, in a\\n in a\\n war sta...</td>\n",
       "      <td>-20</td>\n",
       "    </tr>\n",
       "    <tr>\n",
       "      <th>1</th>\n",
       "      <td>TRUMP LOVES TRUMP, AND\\n DOES WHAT HIS FOLLOWE...</td>\n",
       "      <td>-17</td>\n",
       "    </tr>\n",
       "    <tr>\n",
       "      <th>2</th>\n",
       "      <td>1h\\n Why end racism when we can just\\n end the...</td>\n",
       "      <td>-16</td>\n",
       "    </tr>\n",
       "    <tr>\n",
       "      <th>3</th>\n",
       "      <td>Do jokes about not noticing someone\\n because ...</td>\n",
       "      <td>-16</td>\n",
       "    </tr>\n",
       "    <tr>\n",
       "      <th>4</th>\n",
       "      <td>HILLARY CLINTON SAYS YOU CAN\\n KILL A BABY THE...</td>\n",
       "      <td>-14</td>\n",
       "    </tr>\n",
       "  </tbody>\n",
       "</table>\n",
       "</div>"
      ],
      "text/plain": [
       "                                             caption  likes\n",
       "0  Son killed by\\n country, in a\\n in a\\n war sta...    -20\n",
       "1  TRUMP LOVES TRUMP, AND\\n DOES WHAT HIS FOLLOWE...    -17\n",
       "2  1h\\n Why end racism when we can just\\n end the...    -16\n",
       "3  Do jokes about not noticing someone\\n because ...    -16\n",
       "4  HILLARY CLINTON SAYS YOU CAN\\n KILL A BABY THE...    -14"
      ]
     },
     "execution_count": 22,
     "metadata": {},
     "output_type": "execute_result"
    }
   ],
   "source": [
    "# еще раз взглянем\n",
    "data.head()"
   ]
  },
  {
   "cell_type": "code",
   "execution_count": 23,
   "metadata": {
    "collapsed": true
   },
   "outputs": [],
   "source": [
    "# переводим в нижний регистр\n",
    "data['caption'] = data['caption'].str.lower()"
   ]
  },
  {
   "cell_type": "code",
   "execution_count": 24,
   "metadata": {
    "collapsed": true
   },
   "outputs": [],
   "source": [
    "# импортируем нужный нам метод\n",
    "from sklearn.feature_extraction.text import TfidfVectorizer"
   ]
  },
  {
   "cell_type": "markdown",
   "metadata": {},
   "source": [
    "### Комментарий\n",
    "Я тут добавил еще стоп-слова, чтобы  питон выкинул всякий мусор из текста, который не несет информации, то есть артикли, союзы, предлоги и вот это вот всё. Их очень много, но они только мешают и раздувают наше и без того большое признаковое пространство"
   ]
  },
  {
   "cell_type": "code",
   "execution_count": 25,
   "metadata": {
    "collapsed": true
   },
   "outputs": [],
   "source": [
    "# объявляем его\n",
    "tf_vectorizer = TfidfVectorizer(ngram_range=(1, 2), min_df=0.001, stop_words='english', norm='l2')"
   ]
  },
  {
   "cell_type": "code",
   "execution_count": 26,
   "metadata": {
    "collapsed": true
   },
   "outputs": [],
   "source": [
    "# выбираем для нашей матрицы признаков ТОЛЬКО столбец с текстом\n",
    "X = data['caption']"
   ]
  },
  {
   "cell_type": "code",
   "execution_count": 27,
   "metadata": {
    "collapsed": true
   },
   "outputs": [],
   "source": [
    "# импортим пакет для работы с матрицами, дальше может пригодиться\n",
    "import numpy as np"
   ]
  },
  {
   "cell_type": "code",
   "execution_count": 28,
   "metadata": {
    "collapsed": true
   },
   "outputs": [],
   "source": [
    "import matplotlib.pyplot as plt   # уже смутно знакомый вам пакет для картинок :3\n",
    "import seaborn as sns             # ещё один пакет для картинок \n",
    "\n",
    "%matplotlib inline"
   ]
  },
  {
   "cell_type": "code",
   "execution_count": 29,
   "metadata": {
    "collapsed": true
   },
   "outputs": [],
   "source": [
    "# так как мы хотим прологарифмировать лойсы, нам надо сделать так, чтобы среди них не было отрицательных чисел и равных нулю\n",
    "data.dropna(subset=['likes'], inplace = True)\n",
    "data['likes'] = np.log(data['likes'] + np.abs(data['likes'].min()) +1)"
   ]
  },
  {
   "cell_type": "markdown",
   "metadata": {},
   "source": [
    "### Комментарий\n",
    "Замечательно, что прологарифмировал, плохо, что игрек после этого не перезаписал - там по-прежнему были значения  без логарифма"
   ]
  },
  {
   "cell_type": "code",
   "execution_count": 30,
   "metadata": {
    "collapsed": true
   },
   "outputs": [],
   "source": [
    "# заодно выбираем целевую переменную\n",
    "y = data['likes']"
   ]
  },
  {
   "cell_type": "code",
   "execution_count": 31,
   "metadata": {},
   "outputs": [
    {
     "data": {
      "text/plain": [
       "<matplotlib.axes._subplots.AxesSubplot at 0x116a52f60>"
      ]
     },
     "execution_count": 31,
     "metadata": {},
     "output_type": "execute_result"
    },
    {
     "data": {
      "image/png": "[encoded data removed]",
      "text/plain": [
       "<matplotlib.figure.Figure at 0x111b51a58>"
      ]
     },
     "metadata": {},
     "output_type": "display_data"
    }
   ],
   "source": [
    "# построим лайковую гистограмму\n",
    "data.likes.hist()"
   ]
  },
  {
   "cell_type": "code",
   "execution_count": 32,
   "metadata": {
    "collapsed": true
   },
   "outputs": [],
   "source": [
    "# прогоняем через преобразование и получаем готовую матрицу признаков\n",
    "X = tf_vectorizer.fit_transform(X)"
   ]
  },
  {
   "cell_type": "code",
   "execution_count": 33,
   "metadata": {
    "collapsed": true
   },
   "outputs": [],
   "source": [
    "# Теперь делим данные на тренировочные и тестовые\n",
    "from sklearn.model_selection import train_test_split"
   ]
  },
  {
   "cell_type": "code",
   "execution_count": 34,
   "metadata": {
    "collapsed": true
   },
   "outputs": [],
   "source": [
    "X_train, X_test, y_train, y_test = train_test_split(X, y, test_size=0.30)"
   ]
  },
  {
   "cell_type": "code",
   "execution_count": 35,
   "metadata": {},
   "outputs": [
    {
     "name": "stdout",
     "output_type": "stream",
     "text": [
      "(7627, 6266)\n",
      "(3269, 6266)\n",
      "(7627,)\n",
      "(3269,)\n"
     ]
    }
   ],
   "source": [
    "print(X_train.shape) # Посмотрим на размеры трэйна и теста \n",
    "print(X_test.shape)\n",
    "print(y_train.shape)\n",
    "print(y_test.shape)"
   ]
  },
  {
   "cell_type": "code",
   "execution_count": 35,
   "metadata": {
    "collapsed": true
   },
   "outputs": [],
   "source": [
    "# импортим случайный лес и объявляем его\n",
    "from sklearn.ensemble import RandomForestRegressor"
   ]
  },
  {
   "cell_type": "code",
   "execution_count": 36,
   "metadata": {
    "collapsed": true
   },
   "outputs": [],
   "source": [
    "rf = RandomForestRegressor()"
   ]
  },
  {
   "cell_type": "code",
   "execution_count": 53,
   "metadata": {},
   "outputs": [
    {
     "data": {
      "text/plain": [
       "RandomForestRegressor(bootstrap=True, criterion='mse', max_depth=None,\n",
       "           max_features='auto', max_leaf_nodes=None,\n",
       "           min_impurity_decrease=0.0, min_impurity_split=None,\n",
       "           min_samples_leaf=1, min_samples_split=2,\n",
       "           min_weight_fraction_leaf=0.0, n_estimators=10, n_jobs=1,\n",
       "           oob_score=False, random_state=None, verbose=0, warm_start=False)"
      ]
     },
     "execution_count": 53,
     "metadata": {},
     "output_type": "execute_result"
    }
   ],
   "source": [
    "rf.fit(X_train, y_train)"
   ]
  },
  {
   "cell_type": "code",
   "execution_count": 54,
   "metadata": {},
   "outputs": [
    {
     "data": {
      "text/plain": [
       "<matplotlib.axes._subplots.AxesSubplot at 0x11b2a48d0>"
      ]
     },
     "execution_count": 54,
     "metadata": {},
     "output_type": "execute_result"
    },
    {
     "data": {
      "image/png": "[encoded data removed]",
      "text/plain": [
       "<matplotlib.figure.Figure at 0x11b39d7f0>"
      ]
     },
     "metadata": {},
     "output_type": "display_data"
    }
   ],
   "source": [
    "# Пытаемся  посмотреть на важность слов\n",
    "featureImportance = pd.DataFrame({\"feature\": tf_vectorizer.get_feature_names(), \n",
    "                                  \"importance\": rf.feature_importances_})\n",
    "featureImportance.set_index('feature', inplace=True)\n",
    "featureImportance.sort_values([\"importance\"], ascending=False, inplace=True)\n",
    "featureImportance[\"importance\"].head(30).plot('bar', figsize=(12,5))"
   ]
  },
  {
   "cell_type": "markdown",
   "metadata": {},
   "source": [
    "### Комментарий\n",
    "А метрики регрессионные посмотреть? ;) "
   ]
  },
  {
   "cell_type": "code",
   "execution_count": 36,
   "metadata": {
    "collapsed": true
   },
   "outputs": [],
   "source": [
    "from sklearn import metrics\n",
    "\n",
    "def print_metrics(y_test,y_pred):\n",
    "    print('MAE:', metrics.mean_absolute_error(y_test, y_pred))\n",
    "    print('RMSE:', np.sqrt(metrics.mean_squared_error(y_test, y_pred)))\n",
    "    print('R2:',  metrics.r2_score(y_test, y_pred))"
   ]
  },
  {
   "cell_type": "markdown",
   "metadata": {},
   "source": [
    "Запилим константный прогноз и посмотрим его качество"
   ]
  },
  {
   "cell_type": "code",
   "execution_count": 62,
   "metadata": {},
   "outputs": [
    {
     "data": {
      "text/plain": [
       "array([4.61970753, 4.61970753, 4.61970753, 4.61970753, 4.61970753])"
      ]
     },
     "execution_count": 62,
     "metadata": {},
     "output_type": "execute_result"
    }
   ],
   "source": [
    "y_mean = np.mean(y_train)                     # посчитали среднее \n",
    "y_pred_naive = np.ones(len(y_test)) * y_mean  # спрогнозировали им лойсы\n",
    "y_pred_naive[:5]"
   ]
  },
  {
   "cell_type": "code",
   "execution_count": 76,
   "metadata": {},
   "outputs": [
    {
     "name": "stdout",
     "output_type": "stream",
     "text": [
      "MAE: 1.421957897424021\n",
      "RMSE: 1.7311140177021003\n",
      "R2: -0.0018933129436271567\n"
     ]
    }
   ],
   "source": [
    "print_metrics(y_test, y_pred_naive)"
   ]
  },
  {
   "cell_type": "markdown",
   "metadata": {},
   "source": [
    "А теперь спрогнозируем моделькой"
   ]
  },
  {
   "cell_type": "code",
   "execution_count": 56,
   "metadata": {
    "collapsed": true
   },
   "outputs": [],
   "source": [
    "y_pred = rf.predict(X_test)"
   ]
  },
  {
   "cell_type": "code",
   "execution_count": 77,
   "metadata": {},
   "outputs": [
    {
     "name": "stdout",
     "output_type": "stream",
     "text": [
      "MAE: 1.3365653087316458\n",
      "RMSE: 1.758779234611434\n",
      "R2: -0.034172036653650206\n"
     ]
    }
   ],
   "source": [
    "print_metrics(y_test, y_pred)"
   ]
  },
  {
   "cell_type": "markdown",
   "metadata": {},
   "source": [
    "Похоже, моделька прогнозирует даже хуже, чем просто константа, возможно, если мы её попробуем настроить, качество будет получше :)"
   ]
  },
  {
   "cell_type": "code",
   "execution_count": 64,
   "metadata": {
    "collapsed": true
   },
   "outputs": [],
   "source": [
    "from sklearn.linear_model import LinearRegression\n",
    "\n",
    "# Объявили модель\n",
    "model_regression = LinearRegression()\n",
    "\n",
    "# Обучили модель на тренировочной выборке \n",
    "model_regression.fit(X_train, y_train)\n",
    "\n",
    "# Сделали прогнозы на тестовой выборке\n",
    "y_pred_regr = model_regression.predict(X_test)"
   ]
  },
  {
   "cell_type": "code",
   "execution_count": 78,
   "metadata": {},
   "outputs": [
    {
     "name": "stdout",
     "output_type": "stream",
     "text": [
      "MAE: 23.527745696949303\n",
      "RMSE: 52.26613671234392\n",
      "R2: -912.2946886675272\n"
     ]
    }
   ],
   "source": [
    "print_metrics(y_test, y_pred_regr)"
   ]
  },
  {
   "cell_type": "markdown",
   "metadata": {},
   "source": [
    "С линейной регрессией совсем тяжко :(\n",
    "\n",
    "А вот если попробовать немного другую регрессию, метрики, наконец, поднимаются над наивным прогнозом"
   ]
  },
  {
   "cell_type": "code",
   "execution_count": 37,
   "metadata": {},
   "outputs": [
    {
     "name": "stdout",
     "output_type": "stream",
     "text": [
      "MAE: 1.324665326012003\n",
      "RMSE: 1.6591041645730271\n",
      "R2: 0.07791333127716393\n"
     ]
    }
   ],
   "source": [
    "from sklearn.linear_model import Ridge\n",
    "\n",
    "# Объявили модель\n",
    "model_regression = Ridge()\n",
    "\n",
    "# Обучили модель на тренировочной выборке \n",
    "model_regression.fit(X_train, y_train)\n",
    "\n",
    "# Сделали прогнозы на тестовой выборке\n",
    "y_pred_regr = model_regression.predict(X_test)\n",
    "\n",
    "print_metrics(y_test, y_pred_regr)"
   ]
  },
  {
   "cell_type": "markdown",
   "metadata": {},
   "source": [
    "### Комментарий \n",
    "Сорян, нашел ошибку  - не надо было писать `.coef_[0]`, без нуля всё работает, как надо, так что я тут чуть-чуть поигрался с визуализацией, чтобы было красиво"
   ]
  },
  {
   "cell_type": "code",
   "execution_count": 59,
   "metadata": {
    "collapsed": true
   },
   "outputs": [],
   "source": [
    "# Пытаемся посмотреть на топ-слова, влияющие на увеличение и снижение числа лайков, upd: не вышло:(\n",
    "featureImportance = pd.DataFrame({\"feature\": tf_vectorizer.get_feature_names(), \n",
    "                                  \"importance\": model_regression.coef_})\n",
    "\n",
    "featureImportance.set_index('feature', inplace=True)\n",
    "featureImportance.sort_values([\"importance\"], ascending=False, inplace=True)"
   ]
  },
  {
   "cell_type": "code",
   "execution_count": 71,
   "metadata": {
    "collapsed": true
   },
   "outputs": [],
   "source": [
    "def plotImportance(featureImportance, top_words=20):\n",
    "    \"\"\"\n",
    "        Plot importance of words in linear model\n",
    "        \n",
    "        featureImportance: pd.DataFrame\n",
    "            data with coefs values\n",
    "        \n",
    "        top_words: int\n",
    "            how many words to plot on both negative and positive sides\n",
    "    \"\"\"\n",
    "    featureImportance = featureImportance.head(top_words).append(featureImportance.tail(top_words))\n",
    "    x = np.arange(len(featureImportance))\n",
    "    y = featureImportance.importance\n",
    "\n",
    "    mask1 = y < 0\n",
    "    mask2 = y >= 0\n",
    "\n",
    "    plt.figure(figsize=(18, 8))\n",
    "    plt.bar(x[mask1], y[mask1], color = 'red')\n",
    "    plt.bar(x[mask2], y[mask2], color = 'blue')\n",
    "    plt.xticks(np.arange(len(featureImportance)), \n",
    "                   featureImportance.index, rotation=90, ha=\"right\", fontsize=11)\n",
    "    plt.show()"
   ]
  },
  {
   "cell_type": "code",
   "execution_count": 72,
   "metadata": {},
   "outputs": [
    {
     "data": {
      "image/png": "[encoded data removed]",
      "text/plain": [
       "<matplotlib.figure.Figure at 0x119739c50>"
      ]
     },
     "metadata": {},
     "output_type": "display_data"
    }
   ],
   "source": [
    "plotImportance(featureImportance)"
   ]
  },
  {
   "cell_type": "markdown",
   "metadata": {},
   "source": [
    "А вот и топ признаков, влияющих на число лойсов, те, что слева - ведут к росту луизитаний, видно, что много раз встречается Хиллари, всякие тэги новостных агенств и т.д., а те, что справа - ведут в снижению, тут есть grandma, imguir и кандидат-конкурент bernie, так что, достаточно неплохо и информативно получилось :)"
   ]
  },
  {
   "cell_type": "markdown",
   "metadata": {},
   "source": [
    "### Резюмируя\n",
    "Предобработка данных - почти удалась, только вот логарифмировать надо до того, как разбиваешь данные на train-test\n",
    "\n",
    "Модельки - действительно построил, с этим всё ок\n",
    "\n",
    "Метрики - как-то упустил из виду\n",
    "\n",
    "Визуализация результатов - для леса всё супер получилось, для линейной модели - все-таки это был косяк :) "
   ]
  }
 ],
 "metadata": {
  "kernelspec": {
   "display_name": "Python 3",
   "language": "python",
   "name": "python3"
  },
  "language_info": {
   "codemirror_mode": {
    "name": "ipython",
    "version": 3
   },
   "file_extension": ".py",
   "mimetype": "text/x-python",
   "name": "python",
   "nbconvert_exporter": "python",
   "pygments_lexer": "ipython3",
   "version": "3.6.1"
  },
  "varInspector": {
   "cols": {
    "lenName": 16,
    "lenType": 16,
    "lenVar": 40
   },
   "kernels_config": {
    "python": {
     "delete_cmd_postfix": "",
     "delete_cmd_prefix": "del ",
     "library": "var_list.py",
     "varRefreshCmd": "print(var_dic_list())"
    },
    "r": {
     "delete_cmd_postfix": ") ",
     "delete_cmd_prefix": "rm(",
     "library": "var_list.r",
     "varRefreshCmd": "cat(var_dic_list()) "
    }
   },
   "types_to_exclude": [
    "module",
    "function",
    "builtin_function_or_method",
    "instance",
    "_Feature"
   ],
   "window_display": false
  }
 },
 "nbformat": 4,
 "nbformat_minor": 2
}
