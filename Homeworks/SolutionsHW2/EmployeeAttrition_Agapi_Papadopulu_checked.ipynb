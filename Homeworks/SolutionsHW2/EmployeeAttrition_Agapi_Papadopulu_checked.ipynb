{
 "cells": [
  {
   "cell_type": "markdown",
   "metadata": {},
   "source": [
    "# Прогнозируем, когда уйдет сотрудник :c\n",
    "<img src=\"https://zhazhda.biz/wp-content/uploads/2016/11/bolshaya-87-1024x890.png\" height=\"1000\" width=\"530\">"
   ]
  },
  {
   "cell_type": "code",
   "execution_count": 1,
   "metadata": {
    "collapsed": true
   },
   "outputs": [],
   "source": [
    "import warnings\n",
    "warnings.filterwarnings(\"ignore\")"
   ]
  },
  {
   "cell_type": "code",
   "execution_count": 2,
   "metadata": {
    "collapsed": true
   },
   "outputs": [],
   "source": [
    "import pandas as pd\n",
    "import matplotlib.pyplot as plt\n",
    "import seaborn as sns\n",
    "%matplotlib inline"
   ]
  },
  {
   "cell_type": "code",
   "execution_count": 3,
   "metadata": {
    "scrolled": true
   },
   "outputs": [
    {
     "name": "stdout",
     "output_type": "stream",
     "text": [
      "Размер выборки: (49653, 18)\n"
     ]
    },
    {
     "data": {
      "text/html": [
       "<div>\n",
       "<style scoped>\n",
       "    .dataframe tbody tr th:only-of-type {\n",
       "        vertical-align: middle;\n",
       "    }\n",
       "\n",
       "    .dataframe tbody tr th {\n",
       "        vertical-align: top;\n",
       "    }\n",
       "\n",
       "    .dataframe thead th {\n",
       "        text-align: right;\n",
       "    }\n",
       "</style>\n",
       "<table border=\"1\" class=\"dataframe\">\n",
       "  <thead>\n",
       "    <tr style=\"text-align: right;\">\n",
       "      <th></th>\n",
       "      <th>EmployeeID</th>\n",
       "      <th>orighiredate_key</th>\n",
       "      <th>terminationdate_key</th>\n",
       "      <th>age</th>\n",
       "      <th>length_of_service</th>\n",
       "      <th>department_name</th>\n",
       "      <th>job_title</th>\n",
       "      <th>store_name</th>\n",
       "      <th>gender_short</th>\n",
       "      <th>termreason_desc</th>\n",
       "      <th>termtype_desc</th>\n",
       "      <th>STATUS_YEAR</th>\n",
       "      <th>STATUS</th>\n",
       "      <th>BUSINESS_UNIT</th>\n",
       "    </tr>\n",
       "  </thead>\n",
       "  <tbody>\n",
       "    <tr>\n",
       "      <th>0</th>\n",
       "      <td>1318</td>\n",
       "      <td>8/28/1989</td>\n",
       "      <td>1/1/1900</td>\n",
       "      <td>52</td>\n",
       "      <td>17</td>\n",
       "      <td>Executive</td>\n",
       "      <td>CEO</td>\n",
       "      <td>35</td>\n",
       "      <td>M</td>\n",
       "      <td>Not Applicable</td>\n",
       "      <td>Not Applicable</td>\n",
       "      <td>2006</td>\n",
       "      <td>ACTIVE</td>\n",
       "      <td>HEADOFFICE</td>\n",
       "    </tr>\n",
       "    <tr>\n",
       "      <th>1</th>\n",
       "      <td>1318</td>\n",
       "      <td>8/28/1989</td>\n",
       "      <td>1/1/1900</td>\n",
       "      <td>53</td>\n",
       "      <td>18</td>\n",
       "      <td>Executive</td>\n",
       "      <td>CEO</td>\n",
       "      <td>35</td>\n",
       "      <td>M</td>\n",
       "      <td>Not Applicable</td>\n",
       "      <td>Not Applicable</td>\n",
       "      <td>2007</td>\n",
       "      <td>ACTIVE</td>\n",
       "      <td>HEADOFFICE</td>\n",
       "    </tr>\n",
       "    <tr>\n",
       "      <th>2</th>\n",
       "      <td>1318</td>\n",
       "      <td>8/28/1989</td>\n",
       "      <td>1/1/1900</td>\n",
       "      <td>54</td>\n",
       "      <td>19</td>\n",
       "      <td>Executive</td>\n",
       "      <td>CEO</td>\n",
       "      <td>35</td>\n",
       "      <td>M</td>\n",
       "      <td>Not Applicable</td>\n",
       "      <td>Not Applicable</td>\n",
       "      <td>2008</td>\n",
       "      <td>ACTIVE</td>\n",
       "      <td>HEADOFFICE</td>\n",
       "    </tr>\n",
       "    <tr>\n",
       "      <th>3</th>\n",
       "      <td>1318</td>\n",
       "      <td>8/28/1989</td>\n",
       "      <td>1/1/1900</td>\n",
       "      <td>55</td>\n",
       "      <td>20</td>\n",
       "      <td>Executive</td>\n",
       "      <td>CEO</td>\n",
       "      <td>35</td>\n",
       "      <td>M</td>\n",
       "      <td>Not Applicable</td>\n",
       "      <td>Not Applicable</td>\n",
       "      <td>2009</td>\n",
       "      <td>ACTIVE</td>\n",
       "      <td>HEADOFFICE</td>\n",
       "    </tr>\n",
       "    <tr>\n",
       "      <th>4</th>\n",
       "      <td>1318</td>\n",
       "      <td>8/28/1989</td>\n",
       "      <td>1/1/1900</td>\n",
       "      <td>56</td>\n",
       "      <td>21</td>\n",
       "      <td>Executive</td>\n",
       "      <td>CEO</td>\n",
       "      <td>35</td>\n",
       "      <td>M</td>\n",
       "      <td>Not Applicable</td>\n",
       "      <td>Not Applicable</td>\n",
       "      <td>2010</td>\n",
       "      <td>ACTIVE</td>\n",
       "      <td>HEADOFFICE</td>\n",
       "    </tr>\n",
       "  </tbody>\n",
       "</table>\n",
       "</div>"
      ],
      "text/plain": [
       "   EmployeeID orighiredate_key terminationdate_key  age  length_of_service  \\\n",
       "0        1318        8/28/1989            1/1/1900   52                 17   \n",
       "1        1318        8/28/1989            1/1/1900   53                 18   \n",
       "2        1318        8/28/1989            1/1/1900   54                 19   \n",
       "3        1318        8/28/1989            1/1/1900   55                 20   \n",
       "4        1318        8/28/1989            1/1/1900   56                 21   \n",
       "\n",
       "  department_name job_title  store_name gender_short termreason_desc  \\\n",
       "0       Executive       CEO          35            M  Not Applicable   \n",
       "1       Executive       CEO          35            M  Not Applicable   \n",
       "2       Executive       CEO          35            M  Not Applicable   \n",
       "3       Executive       CEO          35            M  Not Applicable   \n",
       "4       Executive       CEO          35            M  Not Applicable   \n",
       "\n",
       "    termtype_desc  STATUS_YEAR  STATUS BUSINESS_UNIT  \n",
       "0  Not Applicable         2006  ACTIVE    HEADOFFICE  \n",
       "1  Not Applicable         2007  ACTIVE    HEADOFFICE  \n",
       "2  Not Applicable         2008  ACTIVE    HEADOFFICE  \n",
       "3  Not Applicable         2009  ACTIVE    HEADOFFICE  \n",
       "4  Not Applicable         2010  ACTIVE    HEADOFFICE  "
      ]
     },
     "execution_count": 3,
     "metadata": {},
     "output_type": "execute_result"
    }
   ],
   "source": [
    "data = pd.read_csv('C:/Users/user/Desktop/agapi.csv')\n",
    "print('Размер выборки:', data.shape)                      \n",
    "data = data.drop(['city_name'], axis=1)\n",
    "data = data.drop(['gender_full'], axis=1)                      \n",
    "data = data.drop(['recorddate_key'], axis=1)\n",
    "data = data.drop(['birthdate_key'], axis=1)\n",
    "data.head() "
   ]
  },
  {
   "cell_type": "code",
   "execution_count": 4,
   "metadata": {
    "collapsed": true
   },
   "outputs": [],
   "source": [
    "data = data.drop (['termtype_desc', 'termreason_desc'], axis=1)"
   ]
  },
  {
   "cell_type": "markdown",
   "metadata": {},
   "source": [
    "## 1. Предобработка данных"
   ]
  },
  {
   "cell_type": "code",
   "execution_count": 5,
   "metadata": {
    "collapsed": true
   },
   "outputs": [],
   "source": [
    "# Скажем пандасу, что мы считаем store_name и STATUS_YEAR категориальной, а не числовой\n",
    "data['store_name'] = data['store_name'].astype(str)\n",
    "data['STATUS_YEAR'] = data['STATUS_YEAR'].astype(str)\n",
    "data['STATUS'] = data['STATUS'].astype(str)"
   ]
  },
  {
   "cell_type": "code",
   "execution_count": 6,
   "metadata": {
    "collapsed": true
   },
   "outputs": [],
   "source": [
    "target_var = ['STATUS']  # целевая переменнаяб далее буду иследовать как непрерывную\n",
    "categor_var = ['orighiredate_key','terminationdate_key', 'department_name', \n",
    "               'job_title','gender_short', 'store_name', 'BUSINESS_UNIT', 'STATUS_YEAR']     # категориальные\n",
    "contin_var = ['EmployeeID', 'age', 'length_of_service'] # непрерывные "
   ]
  },
  {
   "cell_type": "code",
   "execution_count": 7,
   "metadata": {},
   "outputs": [
    {
     "name": "stdout",
     "output_type": "stream",
     "text": [
      "<class 'pandas.core.frame.DataFrame'>\n",
      "RangeIndex: 49653 entries, 0 to 49652\n",
      "Data columns (total 12 columns):\n",
      "EmployeeID             49653 non-null int64\n",
      "orighiredate_key       49653 non-null object\n",
      "terminationdate_key    49653 non-null object\n",
      "age                    49653 non-null int64\n",
      "length_of_service      49653 non-null int64\n",
      "department_name        49653 non-null object\n",
      "job_title              49653 non-null object\n",
      "store_name             49653 non-null object\n",
      "gender_short           49653 non-null object\n",
      "STATUS_YEAR            49653 non-null object\n",
      "STATUS                 49653 non-null object\n",
      "BUSINESS_UNIT          49653 non-null object\n",
      "dtypes: int64(3), object(9)\n",
      "memory usage: 4.5+ MB\n"
     ]
    }
   ],
   "source": [
    "data.info()"
   ]
  },
  {
   "cell_type": "code",
   "execution_count": 8,
   "metadata": {},
   "outputs": [
    {
     "data": {
      "text/plain": [
       "EmployeeID             0\n",
       "orighiredate_key       0\n",
       "terminationdate_key    0\n",
       "age                    0\n",
       "length_of_service      0\n",
       "department_name        0\n",
       "job_title              0\n",
       "store_name             0\n",
       "gender_short           0\n",
       "STATUS_YEAR            0\n",
       "STATUS                 0\n",
       "BUSINESS_UNIT          0\n",
       "dtype: int64"
      ]
     },
     "execution_count": 8,
     "metadata": {},
     "output_type": "execute_result"
    }
   ],
   "source": [
    "data.isnull().sum()"
   ]
  },
  {
   "cell_type": "code",
   "execution_count": 9,
   "metadata": {},
   "outputs": [
    {
     "data": {
      "text/plain": [
       "EmployeeID             0.0\n",
       "orighiredate_key       0.0\n",
       "terminationdate_key    0.0\n",
       "age                    0.0\n",
       "length_of_service      0.0\n",
       "department_name        0.0\n",
       "job_title              0.0\n",
       "store_name             0.0\n",
       "gender_short           0.0\n",
       "STATUS_YEAR            0.0\n",
       "STATUS                 0.0\n",
       "BUSINESS_UNIT          0.0\n",
       "dtype: float64"
      ]
     },
     "execution_count": 9,
     "metadata": {},
     "output_type": "execute_result"
    }
   ],
   "source": [
    "data.isnull().sum()/len(data)"
   ]
  },
  {
   "cell_type": "code",
   "execution_count": 10,
   "metadata": {
    "collapsed": true
   },
   "outputs": [],
   "source": [
    "data.STATUS = data.STATUS.map({'ACTIVE':0, 'TERMINATED':1})"
   ]
  },
  {
   "cell_type": "markdown",
   "metadata": {},
   "source": [
    "## 2. Категориальные переменные"
   ]
  },
  {
   "cell_type": "code",
   "execution_count": 11,
   "metadata": {},
   "outputs": [
    {
     "data": {
      "text/html": [
       "<div>\n",
       "<style scoped>\n",
       "    .dataframe tbody tr th:only-of-type {\n",
       "        vertical-align: middle;\n",
       "    }\n",
       "\n",
       "    .dataframe tbody tr th {\n",
       "        vertical-align: top;\n",
       "    }\n",
       "\n",
       "    .dataframe thead th {\n",
       "        text-align: right;\n",
       "    }\n",
       "</style>\n",
       "<table border=\"1\" class=\"dataframe\">\n",
       "  <thead>\n",
       "    <tr style=\"text-align: right;\">\n",
       "      <th></th>\n",
       "      <th>orighiredate_key</th>\n",
       "      <th>terminationdate_key</th>\n",
       "      <th>department_name</th>\n",
       "      <th>job_title</th>\n",
       "      <th>gender_short</th>\n",
       "      <th>store_name</th>\n",
       "      <th>BUSINESS_UNIT</th>\n",
       "      <th>STATUS_YEAR</th>\n",
       "    </tr>\n",
       "  </thead>\n",
       "  <tbody>\n",
       "    <tr>\n",
       "      <th>0</th>\n",
       "      <td>8/28/1989</td>\n",
       "      <td>1/1/1900</td>\n",
       "      <td>Executive</td>\n",
       "      <td>CEO</td>\n",
       "      <td>M</td>\n",
       "      <td>35</td>\n",
       "      <td>HEADOFFICE</td>\n",
       "      <td>2006</td>\n",
       "    </tr>\n",
       "    <tr>\n",
       "      <th>1</th>\n",
       "      <td>8/28/1989</td>\n",
       "      <td>1/1/1900</td>\n",
       "      <td>Executive</td>\n",
       "      <td>CEO</td>\n",
       "      <td>M</td>\n",
       "      <td>35</td>\n",
       "      <td>HEADOFFICE</td>\n",
       "      <td>2007</td>\n",
       "    </tr>\n",
       "    <tr>\n",
       "      <th>2</th>\n",
       "      <td>8/28/1989</td>\n",
       "      <td>1/1/1900</td>\n",
       "      <td>Executive</td>\n",
       "      <td>CEO</td>\n",
       "      <td>M</td>\n",
       "      <td>35</td>\n",
       "      <td>HEADOFFICE</td>\n",
       "      <td>2008</td>\n",
       "    </tr>\n",
       "    <tr>\n",
       "      <th>3</th>\n",
       "      <td>8/28/1989</td>\n",
       "      <td>1/1/1900</td>\n",
       "      <td>Executive</td>\n",
       "      <td>CEO</td>\n",
       "      <td>M</td>\n",
       "      <td>35</td>\n",
       "      <td>HEADOFFICE</td>\n",
       "      <td>2009</td>\n",
       "    </tr>\n",
       "    <tr>\n",
       "      <th>4</th>\n",
       "      <td>8/28/1989</td>\n",
       "      <td>1/1/1900</td>\n",
       "      <td>Executive</td>\n",
       "      <td>CEO</td>\n",
       "      <td>M</td>\n",
       "      <td>35</td>\n",
       "      <td>HEADOFFICE</td>\n",
       "      <td>2010</td>\n",
       "    </tr>\n",
       "  </tbody>\n",
       "</table>\n",
       "</div>"
      ],
      "text/plain": [
       "  orighiredate_key terminationdate_key department_name job_title gender_short  \\\n",
       "0        8/28/1989            1/1/1900       Executive       CEO            M   \n",
       "1        8/28/1989            1/1/1900       Executive       CEO            M   \n",
       "2        8/28/1989            1/1/1900       Executive       CEO            M   \n",
       "3        8/28/1989            1/1/1900       Executive       CEO            M   \n",
       "4        8/28/1989            1/1/1900       Executive       CEO            M   \n",
       "\n",
       "  store_name BUSINESS_UNIT STATUS_YEAR  \n",
       "0         35    HEADOFFICE        2006  \n",
       "1         35    HEADOFFICE        2007  \n",
       "2         35    HEADOFFICE        2008  \n",
       "3         35    HEADOFFICE        2009  \n",
       "4         35    HEADOFFICE        2010  "
      ]
     },
     "execution_count": 11,
     "metadata": {},
     "output_type": "execute_result"
    }
   ],
   "source": [
    "\n",
    "data[categor_var].head()"
   ]
  },
  {
   "cell_type": "code",
   "execution_count": 12,
   "metadata": {},
   "outputs": [
    {
     "data": {
      "text/plain": [
       "4415"
      ]
     },
     "execution_count": 12,
     "metadata": {},
     "output_type": "execute_result"
    }
   ],
   "source": [
    "len(data['orighiredate_key'].unique())"
   ]
  },
  {
   "cell_type": "code",
   "execution_count": 13,
   "metadata": {},
   "outputs": [
    {
     "data": {
      "text/plain": [
       "1055"
      ]
     },
     "execution_count": 13,
     "metadata": {},
     "output_type": "execute_result"
    }
   ],
   "source": [
    "len(data['terminationdate_key'].unique())"
   ]
  },
  {
   "cell_type": "code",
   "execution_count": 14,
   "metadata": {},
   "outputs": [
    {
     "data": {
      "text/plain": [
       "21"
      ]
     },
     "execution_count": 14,
     "metadata": {},
     "output_type": "execute_result"
    }
   ],
   "source": [
    "len(data['department_name'].unique())"
   ]
  },
  {
   "cell_type": "code",
   "execution_count": 15,
   "metadata": {},
   "outputs": [
    {
     "data": {
      "text/plain": [
       "47"
      ]
     },
     "execution_count": 15,
     "metadata": {},
     "output_type": "execute_result"
    }
   ],
   "source": [
    "len(data['job_title'].unique())"
   ]
  },
  {
   "cell_type": "code",
   "execution_count": 16,
   "metadata": {},
   "outputs": [
    {
     "data": {
      "text/plain": [
       "2"
      ]
     },
     "execution_count": 16,
     "metadata": {},
     "output_type": "execute_result"
    }
   ],
   "source": [
    "len(data['gender_short'].unique())"
   ]
  },
  {
   "cell_type": "code",
   "execution_count": 17,
   "metadata": {},
   "outputs": [
    {
     "data": {
      "text/plain": [
       "2"
      ]
     },
     "execution_count": 17,
     "metadata": {},
     "output_type": "execute_result"
    }
   ],
   "source": [
    "len(data['STATUS'].unique())"
   ]
  },
  {
   "cell_type": "code",
   "execution_count": 18,
   "metadata": {},
   "outputs": [
    {
     "data": {
      "text/plain": [
       "46"
      ]
     },
     "execution_count": 18,
     "metadata": {},
     "output_type": "execute_result"
    }
   ],
   "source": [
    "len(data['store_name'].unique())"
   ]
  },
  {
   "cell_type": "code",
   "execution_count": 19,
   "metadata": {},
   "outputs": [
    {
     "data": {
      "text/plain": [
       "2"
      ]
     },
     "execution_count": 19,
     "metadata": {},
     "output_type": "execute_result"
    }
   ],
   "source": [
    "len(data['BUSINESS_UNIT'].unique())"
   ]
  },
  {
   "cell_type": "code",
   "execution_count": 20,
   "metadata": {},
   "outputs": [
    {
     "data": {
      "text/plain": [
       "10"
      ]
     },
     "execution_count": 20,
     "metadata": {},
     "output_type": "execute_result"
    }
   ],
   "source": [
    "len(data['STATUS_YEAR'].unique())"
   ]
  },
  {
   "cell_type": "markdown",
   "metadata": {},
   "source": [
    "## 3. Посчитаем частоты для каждого возможного значения переменной"
   ]
  },
  {
   "cell_type": "code",
   "execution_count": 21,
   "metadata": {
    "collapsed": true
   },
   "outputs": [],
   "source": [
    "# orighiredate_key уникальное значение > 20\n",
    "frequency_encoding = dict(data['orighiredate_key'].value_counts()/len(data))\n",
    "data['orighiredate_key'] = data['orighiredate_key'].map(frequency_encoding)"
   ]
  },
  {
   "cell_type": "code",
   "execution_count": 22,
   "metadata": {
    "collapsed": true
   },
   "outputs": [],
   "source": [
    "# terminationdate_key уникальное значение > 20\n",
    "frequency_encoding = dict(data['terminationdate_key'].value_counts()/len(data))\n",
    "data['terminationdate_key'] = data['terminationdate_key'].map(frequency_encoding)"
   ]
  },
  {
   "cell_type": "code",
   "execution_count": 23,
   "metadata": {
    "collapsed": true
   },
   "outputs": [],
   "source": [
    "# department_name уникальное значение > 20\n",
    "frequency_encoding = dict(data['department_name'].value_counts()/len(data))\n",
    "data['department_name'] = data['department_name'].map(frequency_encoding)"
   ]
  },
  {
   "cell_type": "code",
   "execution_count": 24,
   "metadata": {
    "collapsed": true
   },
   "outputs": [],
   "source": [
    "# job_title уникальное значение > 20\n",
    "frequency_encoding = dict(data['job_title'].value_counts()/len(data))\n",
    "data['job_title'] = data['job_title'].map(frequency_encoding)"
   ]
  },
  {
   "cell_type": "code",
   "execution_count": 25,
   "metadata": {
    "collapsed": true
   },
   "outputs": [],
   "source": [
    "# store_name уникальное значение > 20\n",
    "frequency_encoding = dict(data['store_name'].value_counts()/len(data))\n",
    "data['store_name'] = data['store_name'].map(frequency_encoding)"
   ]
  },
  {
   "cell_type": "code",
   "execution_count": 26,
   "metadata": {},
   "outputs": [
    {
     "data": {
      "text/html": [
       "<div>\n",
       "<style scoped>\n",
       "    .dataframe tbody tr th:only-of-type {\n",
       "        vertical-align: middle;\n",
       "    }\n",
       "\n",
       "    .dataframe tbody tr th {\n",
       "        vertical-align: top;\n",
       "    }\n",
       "\n",
       "    .dataframe thead th {\n",
       "        text-align: right;\n",
       "    }\n",
       "</style>\n",
       "<table border=\"1\" class=\"dataframe\">\n",
       "  <thead>\n",
       "    <tr style=\"text-align: right;\">\n",
       "      <th></th>\n",
       "      <th>orighiredate_key</th>\n",
       "      <th>terminationdate_key</th>\n",
       "      <th>department_name</th>\n",
       "      <th>job_title</th>\n",
       "      <th>store_name</th>\n",
       "    </tr>\n",
       "  </thead>\n",
       "  <tbody>\n",
       "    <tr>\n",
       "      <th>0</th>\n",
       "      <td>0.000806</td>\n",
       "      <td>0.854933</td>\n",
       "      <td>0.002014</td>\n",
       "      <td>0.000201</td>\n",
       "      <td>0.02302</td>\n",
       "    </tr>\n",
       "    <tr>\n",
       "      <th>1</th>\n",
       "      <td>0.000806</td>\n",
       "      <td>0.854933</td>\n",
       "      <td>0.002014</td>\n",
       "      <td>0.000201</td>\n",
       "      <td>0.02302</td>\n",
       "    </tr>\n",
       "    <tr>\n",
       "      <th>2</th>\n",
       "      <td>0.000806</td>\n",
       "      <td>0.854933</td>\n",
       "      <td>0.002014</td>\n",
       "      <td>0.000201</td>\n",
       "      <td>0.02302</td>\n",
       "    </tr>\n",
       "    <tr>\n",
       "      <th>3</th>\n",
       "      <td>0.000806</td>\n",
       "      <td>0.854933</td>\n",
       "      <td>0.002014</td>\n",
       "      <td>0.000201</td>\n",
       "      <td>0.02302</td>\n",
       "    </tr>\n",
       "    <tr>\n",
       "      <th>4</th>\n",
       "      <td>0.000806</td>\n",
       "      <td>0.854933</td>\n",
       "      <td>0.002014</td>\n",
       "      <td>0.000201</td>\n",
       "      <td>0.02302</td>\n",
       "    </tr>\n",
       "  </tbody>\n",
       "</table>\n",
       "</div>"
      ],
      "text/plain": [
       "   orighiredate_key  terminationdate_key  department_name  job_title  \\\n",
       "0          0.000806             0.854933         0.002014   0.000201   \n",
       "1          0.000806             0.854933         0.002014   0.000201   \n",
       "2          0.000806             0.854933         0.002014   0.000201   \n",
       "3          0.000806             0.854933         0.002014   0.000201   \n",
       "4          0.000806             0.854933         0.002014   0.000201   \n",
       "\n",
       "   store_name  \n",
       "0     0.02302  \n",
       "1     0.02302  \n",
       "2     0.02302  \n",
       "3     0.02302  \n",
       "4     0.02302  "
      ]
     },
     "execution_count": 26,
     "metadata": {},
     "output_type": "execute_result"
    }
   ],
   "source": [
    "catt_var = ['orighiredate_key', 'terminationdate_key', 'department_name', 'job_title', 'store_name']     # категориальные\n",
    "data_catt = data[catt_var]\n",
    "data_catt.head()"
   ]
  },
  {
   "cell_type": "code",
   "execution_count": 27,
   "metadata": {
    "collapsed": true
   },
   "outputs": [],
   "source": [
    "cat_var = ['gender_short', 'BUSINESS_UNIT', 'STATUS_YEAR']"
   ]
  },
  {
   "cell_type": "code",
   "execution_count": 28,
   "metadata": {},
   "outputs": [
    {
     "data": {
      "text/html": [
       "<div>\n",
       "<style scoped>\n",
       "    .dataframe tbody tr th:only-of-type {\n",
       "        vertical-align: middle;\n",
       "    }\n",
       "\n",
       "    .dataframe tbody tr th {\n",
       "        vertical-align: top;\n",
       "    }\n",
       "\n",
       "    .dataframe thead th {\n",
       "        text-align: right;\n",
       "    }\n",
       "</style>\n",
       "<table border=\"1\" class=\"dataframe\">\n",
       "  <thead>\n",
       "    <tr style=\"text-align: right;\">\n",
       "      <th></th>\n",
       "      <th>gender_short</th>\n",
       "      <th>BUSINESS_UNIT</th>\n",
       "      <th>STATUS_YEAR</th>\n",
       "    </tr>\n",
       "  </thead>\n",
       "  <tbody>\n",
       "    <tr>\n",
       "      <th>0</th>\n",
       "      <td>M</td>\n",
       "      <td>HEADOFFICE</td>\n",
       "      <td>2006</td>\n",
       "    </tr>\n",
       "    <tr>\n",
       "      <th>1</th>\n",
       "      <td>M</td>\n",
       "      <td>HEADOFFICE</td>\n",
       "      <td>2007</td>\n",
       "    </tr>\n",
       "    <tr>\n",
       "      <th>2</th>\n",
       "      <td>M</td>\n",
       "      <td>HEADOFFICE</td>\n",
       "      <td>2008</td>\n",
       "    </tr>\n",
       "    <tr>\n",
       "      <th>3</th>\n",
       "      <td>M</td>\n",
       "      <td>HEADOFFICE</td>\n",
       "      <td>2009</td>\n",
       "    </tr>\n",
       "    <tr>\n",
       "      <th>4</th>\n",
       "      <td>M</td>\n",
       "      <td>HEADOFFICE</td>\n",
       "      <td>2010</td>\n",
       "    </tr>\n",
       "  </tbody>\n",
       "</table>\n",
       "</div>"
      ],
      "text/plain": [
       "  gender_short BUSINESS_UNIT STATUS_YEAR\n",
       "0            M    HEADOFFICE        2006\n",
       "1            M    HEADOFFICE        2007\n",
       "2            M    HEADOFFICE        2008\n",
       "3            M    HEADOFFICE        2009\n",
       "4            M    HEADOFFICE        2010"
      ]
     },
     "execution_count": 28,
     "metadata": {},
     "output_type": "execute_result"
    }
   ],
   "source": [
    "data_cat = data[cat_var]\n",
    "data_cat.head()"
   ]
  },
  {
   "cell_type": "code",
   "execution_count": 29,
   "metadata": {
    "scrolled": true
   },
   "outputs": [
    {
     "data": {
      "text/html": [
       "<div>\n",
       "<style scoped>\n",
       "    .dataframe tbody tr th:only-of-type {\n",
       "        vertical-align: middle;\n",
       "    }\n",
       "\n",
       "    .dataframe tbody tr th {\n",
       "        vertical-align: top;\n",
       "    }\n",
       "\n",
       "    .dataframe thead th {\n",
       "        text-align: right;\n",
       "    }\n",
       "</style>\n",
       "<table border=\"1\" class=\"dataframe\">\n",
       "  <thead>\n",
       "    <tr style=\"text-align: right;\">\n",
       "      <th></th>\n",
       "      <th>gender_short_M</th>\n",
       "      <th>gender_short_nan</th>\n",
       "      <th>BUSINESS_UNIT_STORES</th>\n",
       "      <th>BUSINESS_UNIT_nan</th>\n",
       "      <th>STATUS_YEAR_2007</th>\n",
       "      <th>STATUS_YEAR_2008</th>\n",
       "      <th>STATUS_YEAR_2009</th>\n",
       "      <th>STATUS_YEAR_2010</th>\n",
       "      <th>STATUS_YEAR_2011</th>\n",
       "      <th>STATUS_YEAR_2012</th>\n",
       "      <th>STATUS_YEAR_2013</th>\n",
       "      <th>STATUS_YEAR_2014</th>\n",
       "      <th>STATUS_YEAR_2015</th>\n",
       "      <th>STATUS_YEAR_nan</th>\n",
       "    </tr>\n",
       "  </thead>\n",
       "  <tbody>\n",
       "    <tr>\n",
       "      <th>0</th>\n",
       "      <td>1</td>\n",
       "      <td>0</td>\n",
       "      <td>0</td>\n",
       "      <td>0</td>\n",
       "      <td>0</td>\n",
       "      <td>0</td>\n",
       "      <td>0</td>\n",
       "      <td>0</td>\n",
       "      <td>0</td>\n",
       "      <td>0</td>\n",
       "      <td>0</td>\n",
       "      <td>0</td>\n",
       "      <td>0</td>\n",
       "      <td>0</td>\n",
       "    </tr>\n",
       "    <tr>\n",
       "      <th>1</th>\n",
       "      <td>1</td>\n",
       "      <td>0</td>\n",
       "      <td>0</td>\n",
       "      <td>0</td>\n",
       "      <td>1</td>\n",
       "      <td>0</td>\n",
       "      <td>0</td>\n",
       "      <td>0</td>\n",
       "      <td>0</td>\n",
       "      <td>0</td>\n",
       "      <td>0</td>\n",
       "      <td>0</td>\n",
       "      <td>0</td>\n",
       "      <td>0</td>\n",
       "    </tr>\n",
       "    <tr>\n",
       "      <th>2</th>\n",
       "      <td>1</td>\n",
       "      <td>0</td>\n",
       "      <td>0</td>\n",
       "      <td>0</td>\n",
       "      <td>0</td>\n",
       "      <td>1</td>\n",
       "      <td>0</td>\n",
       "      <td>0</td>\n",
       "      <td>0</td>\n",
       "      <td>0</td>\n",
       "      <td>0</td>\n",
       "      <td>0</td>\n",
       "      <td>0</td>\n",
       "      <td>0</td>\n",
       "    </tr>\n",
       "    <tr>\n",
       "      <th>3</th>\n",
       "      <td>1</td>\n",
       "      <td>0</td>\n",
       "      <td>0</td>\n",
       "      <td>0</td>\n",
       "      <td>0</td>\n",
       "      <td>0</td>\n",
       "      <td>1</td>\n",
       "      <td>0</td>\n",
       "      <td>0</td>\n",
       "      <td>0</td>\n",
       "      <td>0</td>\n",
       "      <td>0</td>\n",
       "      <td>0</td>\n",
       "      <td>0</td>\n",
       "    </tr>\n",
       "    <tr>\n",
       "      <th>4</th>\n",
       "      <td>1</td>\n",
       "      <td>0</td>\n",
       "      <td>0</td>\n",
       "      <td>0</td>\n",
       "      <td>0</td>\n",
       "      <td>0</td>\n",
       "      <td>0</td>\n",
       "      <td>1</td>\n",
       "      <td>0</td>\n",
       "      <td>0</td>\n",
       "      <td>0</td>\n",
       "      <td>0</td>\n",
       "      <td>0</td>\n",
       "      <td>0</td>\n",
       "    </tr>\n",
       "  </tbody>\n",
       "</table>\n",
       "</div>"
      ],
      "text/plain": [
       "   gender_short_M  gender_short_nan  BUSINESS_UNIT_STORES  BUSINESS_UNIT_nan  \\\n",
       "0               1                 0                     0                  0   \n",
       "1               1                 0                     0                  0   \n",
       "2               1                 0                     0                  0   \n",
       "3               1                 0                     0                  0   \n",
       "4               1                 0                     0                  0   \n",
       "\n",
       "   STATUS_YEAR_2007  STATUS_YEAR_2008  STATUS_YEAR_2009  STATUS_YEAR_2010  \\\n",
       "0                 0                 0                 0                 0   \n",
       "1                 1                 0                 0                 0   \n",
       "2                 0                 1                 0                 0   \n",
       "3                 0                 0                 1                 0   \n",
       "4                 0                 0                 0                 1   \n",
       "\n",
       "   STATUS_YEAR_2011  STATUS_YEAR_2012  STATUS_YEAR_2013  STATUS_YEAR_2014  \\\n",
       "0                 0                 0                 0                 0   \n",
       "1                 0                 0                 0                 0   \n",
       "2                 0                 0                 0                 0   \n",
       "3                 0                 0                 0                 0   \n",
       "4                 0                 0                 0                 0   \n",
       "\n",
       "   STATUS_YEAR_2015  STATUS_YEAR_nan  \n",
       "0                 0                0  \n",
       "1                 0                0  \n",
       "2                 0                0  \n",
       "3                 0                0  \n",
       "4                 0                0  "
      ]
     },
     "execution_count": 29,
     "metadata": {},
     "output_type": "execute_result"
    }
   ],
   "source": [
    "data_cat = pd.get_dummies(data[cat_var], dummy_na=True, drop_first=True)\n",
    "data_cat.head()"
   ]
  },
  {
   "cell_type": "code",
   "execution_count": 30,
   "metadata": {},
   "outputs": [
    {
     "data": {
      "text/html": [
       "<div>\n",
       "<style scoped>\n",
       "    .dataframe tbody tr th:only-of-type {\n",
       "        vertical-align: middle;\n",
       "    }\n",
       "\n",
       "    .dataframe tbody tr th {\n",
       "        vertical-align: top;\n",
       "    }\n",
       "\n",
       "    .dataframe thead th {\n",
       "        text-align: right;\n",
       "    }\n",
       "</style>\n",
       "<table border=\"1\" class=\"dataframe\">\n",
       "  <thead>\n",
       "    <tr style=\"text-align: right;\">\n",
       "      <th></th>\n",
       "      <th>gender_short_M</th>\n",
       "      <th>gender_short_nan</th>\n",
       "      <th>BUSINESS_UNIT_STORES</th>\n",
       "      <th>BUSINESS_UNIT_nan</th>\n",
       "      <th>STATUS_YEAR_2007</th>\n",
       "      <th>STATUS_YEAR_2008</th>\n",
       "      <th>STATUS_YEAR_2009</th>\n",
       "      <th>STATUS_YEAR_2010</th>\n",
       "      <th>STATUS_YEAR_2011</th>\n",
       "      <th>STATUS_YEAR_2012</th>\n",
       "      <th>STATUS_YEAR_2013</th>\n",
       "      <th>STATUS_YEAR_2014</th>\n",
       "      <th>STATUS_YEAR_2015</th>\n",
       "      <th>STATUS_YEAR_nan</th>\n",
       "      <th>orighiredate_key</th>\n",
       "      <th>terminationdate_key</th>\n",
       "      <th>department_name</th>\n",
       "      <th>job_title</th>\n",
       "      <th>store_name</th>\n",
       "    </tr>\n",
       "  </thead>\n",
       "  <tbody>\n",
       "    <tr>\n",
       "      <th>0</th>\n",
       "      <td>1</td>\n",
       "      <td>0</td>\n",
       "      <td>0</td>\n",
       "      <td>0</td>\n",
       "      <td>0</td>\n",
       "      <td>0</td>\n",
       "      <td>0</td>\n",
       "      <td>0</td>\n",
       "      <td>0</td>\n",
       "      <td>0</td>\n",
       "      <td>0</td>\n",
       "      <td>0</td>\n",
       "      <td>0</td>\n",
       "      <td>0</td>\n",
       "      <td>0.000806</td>\n",
       "      <td>0.854933</td>\n",
       "      <td>0.002014</td>\n",
       "      <td>0.000201</td>\n",
       "      <td>0.02302</td>\n",
       "    </tr>\n",
       "    <tr>\n",
       "      <th>1</th>\n",
       "      <td>1</td>\n",
       "      <td>0</td>\n",
       "      <td>0</td>\n",
       "      <td>0</td>\n",
       "      <td>1</td>\n",
       "      <td>0</td>\n",
       "      <td>0</td>\n",
       "      <td>0</td>\n",
       "      <td>0</td>\n",
       "      <td>0</td>\n",
       "      <td>0</td>\n",
       "      <td>0</td>\n",
       "      <td>0</td>\n",
       "      <td>0</td>\n",
       "      <td>0.000806</td>\n",
       "      <td>0.854933</td>\n",
       "      <td>0.002014</td>\n",
       "      <td>0.000201</td>\n",
       "      <td>0.02302</td>\n",
       "    </tr>\n",
       "    <tr>\n",
       "      <th>2</th>\n",
       "      <td>1</td>\n",
       "      <td>0</td>\n",
       "      <td>0</td>\n",
       "      <td>0</td>\n",
       "      <td>0</td>\n",
       "      <td>1</td>\n",
       "      <td>0</td>\n",
       "      <td>0</td>\n",
       "      <td>0</td>\n",
       "      <td>0</td>\n",
       "      <td>0</td>\n",
       "      <td>0</td>\n",
       "      <td>0</td>\n",
       "      <td>0</td>\n",
       "      <td>0.000806</td>\n",
       "      <td>0.854933</td>\n",
       "      <td>0.002014</td>\n",
       "      <td>0.000201</td>\n",
       "      <td>0.02302</td>\n",
       "    </tr>\n",
       "    <tr>\n",
       "      <th>3</th>\n",
       "      <td>1</td>\n",
       "      <td>0</td>\n",
       "      <td>0</td>\n",
       "      <td>0</td>\n",
       "      <td>0</td>\n",
       "      <td>0</td>\n",
       "      <td>1</td>\n",
       "      <td>0</td>\n",
       "      <td>0</td>\n",
       "      <td>0</td>\n",
       "      <td>0</td>\n",
       "      <td>0</td>\n",
       "      <td>0</td>\n",
       "      <td>0</td>\n",
       "      <td>0.000806</td>\n",
       "      <td>0.854933</td>\n",
       "      <td>0.002014</td>\n",
       "      <td>0.000201</td>\n",
       "      <td>0.02302</td>\n",
       "    </tr>\n",
       "    <tr>\n",
       "      <th>4</th>\n",
       "      <td>1</td>\n",
       "      <td>0</td>\n",
       "      <td>0</td>\n",
       "      <td>0</td>\n",
       "      <td>0</td>\n",
       "      <td>0</td>\n",
       "      <td>0</td>\n",
       "      <td>1</td>\n",
       "      <td>0</td>\n",
       "      <td>0</td>\n",
       "      <td>0</td>\n",
       "      <td>0</td>\n",
       "      <td>0</td>\n",
       "      <td>0</td>\n",
       "      <td>0.000806</td>\n",
       "      <td>0.854933</td>\n",
       "      <td>0.002014</td>\n",
       "      <td>0.000201</td>\n",
       "      <td>0.02302</td>\n",
       "    </tr>\n",
       "  </tbody>\n",
       "</table>\n",
       "</div>"
      ],
      "text/plain": [
       "   gender_short_M  gender_short_nan  BUSINESS_UNIT_STORES  BUSINESS_UNIT_nan  \\\n",
       "0               1                 0                     0                  0   \n",
       "1               1                 0                     0                  0   \n",
       "2               1                 0                     0                  0   \n",
       "3               1                 0                     0                  0   \n",
       "4               1                 0                     0                  0   \n",
       "\n",
       "   STATUS_YEAR_2007  STATUS_YEAR_2008  STATUS_YEAR_2009  STATUS_YEAR_2010  \\\n",
       "0                 0                 0                 0                 0   \n",
       "1                 1                 0                 0                 0   \n",
       "2                 0                 1                 0                 0   \n",
       "3                 0                 0                 1                 0   \n",
       "4                 0                 0                 0                 1   \n",
       "\n",
       "   STATUS_YEAR_2011  STATUS_YEAR_2012  STATUS_YEAR_2013  STATUS_YEAR_2014  \\\n",
       "0                 0                 0                 0                 0   \n",
       "1                 0                 0                 0                 0   \n",
       "2                 0                 0                 0                 0   \n",
       "3                 0                 0                 0                 0   \n",
       "4                 0                 0                 0                 0   \n",
       "\n",
       "   STATUS_YEAR_2015  STATUS_YEAR_nan  orighiredate_key  terminationdate_key  \\\n",
       "0                 0                0          0.000806             0.854933   \n",
       "1                 0                0          0.000806             0.854933   \n",
       "2                 0                0          0.000806             0.854933   \n",
       "3                 0                0          0.000806             0.854933   \n",
       "4                 0                0          0.000806             0.854933   \n",
       "\n",
       "   department_name  job_title  store_name  \n",
       "0         0.002014   0.000201     0.02302  \n",
       "1         0.002014   0.000201     0.02302  \n",
       "2         0.002014   0.000201     0.02302  \n",
       "3         0.002014   0.000201     0.02302  \n",
       "4         0.002014   0.000201     0.02302  "
      ]
     },
     "execution_count": 30,
     "metadata": {},
     "output_type": "execute_result"
    }
   ],
   "source": [
    "data_categor = pd.concat([data_cat, data_catt], axis=1)\n",
    "data_categor.head()"
   ]
  },
  {
   "cell_type": "markdown",
   "metadata": {},
   "source": [
    "## 4. Непрерывные переменные"
   ]
  },
  {
   "cell_type": "code",
   "execution_count": 31,
   "metadata": {},
   "outputs": [
    {
     "data": {
      "text/html": [
       "<div>\n",
       "<style scoped>\n",
       "    .dataframe tbody tr th:only-of-type {\n",
       "        vertical-align: middle;\n",
       "    }\n",
       "\n",
       "    .dataframe tbody tr th {\n",
       "        vertical-align: top;\n",
       "    }\n",
       "\n",
       "    .dataframe thead th {\n",
       "        text-align: right;\n",
       "    }\n",
       "</style>\n",
       "<table border=\"1\" class=\"dataframe\">\n",
       "  <thead>\n",
       "    <tr style=\"text-align: right;\">\n",
       "      <th></th>\n",
       "      <th>EmployeeID</th>\n",
       "      <th>age</th>\n",
       "      <th>length_of_service</th>\n",
       "    </tr>\n",
       "  </thead>\n",
       "  <tbody>\n",
       "    <tr>\n",
       "      <th>0</th>\n",
       "      <td>1318</td>\n",
       "      <td>52</td>\n",
       "      <td>17</td>\n",
       "    </tr>\n",
       "    <tr>\n",
       "      <th>1</th>\n",
       "      <td>1318</td>\n",
       "      <td>53</td>\n",
       "      <td>18</td>\n",
       "    </tr>\n",
       "    <tr>\n",
       "      <th>2</th>\n",
       "      <td>1318</td>\n",
       "      <td>54</td>\n",
       "      <td>19</td>\n",
       "    </tr>\n",
       "    <tr>\n",
       "      <th>3</th>\n",
       "      <td>1318</td>\n",
       "      <td>55</td>\n",
       "      <td>20</td>\n",
       "    </tr>\n",
       "    <tr>\n",
       "      <th>4</th>\n",
       "      <td>1318</td>\n",
       "      <td>56</td>\n",
       "      <td>21</td>\n",
       "    </tr>\n",
       "  </tbody>\n",
       "</table>\n",
       "</div>"
      ],
      "text/plain": [
       "   EmployeeID  age  length_of_service\n",
       "0        1318   52                 17\n",
       "1        1318   53                 18\n",
       "2        1318   54                 19\n",
       "3        1318   55                 20\n",
       "4        1318   56                 21"
      ]
     },
     "execution_count": 31,
     "metadata": {},
     "output_type": "execute_result"
    }
   ],
   "source": [
    "data_contin = data[contin_var]\n",
    "data_contin.head() # непрерывные переменные"
   ]
  },
  {
   "cell_type": "code",
   "execution_count": 32,
   "metadata": {},
   "outputs": [
    {
     "data": {
      "text/plain": [
       "EmployeeID           0\n",
       "age                  0\n",
       "length_of_service    0\n",
       "dtype: int64"
      ]
     },
     "execution_count": 32,
     "metadata": {},
     "output_type": "execute_result"
    }
   ],
   "source": [
    "data_contin.isnull().sum()"
   ]
  },
  {
   "cell_type": "code",
   "execution_count": 33,
   "metadata": {},
   "outputs": [
    {
     "data": {
      "text/html": [
       "<div>\n",
       "<style scoped>\n",
       "    .dataframe tbody tr th:only-of-type {\n",
       "        vertical-align: middle;\n",
       "    }\n",
       "\n",
       "    .dataframe tbody tr th {\n",
       "        vertical-align: top;\n",
       "    }\n",
       "\n",
       "    .dataframe thead th {\n",
       "        text-align: right;\n",
       "    }\n",
       "</style>\n",
       "<table border=\"1\" class=\"dataframe\">\n",
       "  <thead>\n",
       "    <tr style=\"text-align: right;\">\n",
       "      <th></th>\n",
       "      <th>STATUS</th>\n",
       "      <th>EmployeeID</th>\n",
       "      <th>age</th>\n",
       "      <th>length_of_service</th>\n",
       "      <th>gender_short_M</th>\n",
       "      <th>gender_short_nan</th>\n",
       "      <th>BUSINESS_UNIT_STORES</th>\n",
       "      <th>BUSINESS_UNIT_nan</th>\n",
       "      <th>STATUS_YEAR_2007</th>\n",
       "      <th>STATUS_YEAR_2008</th>\n",
       "      <th>...</th>\n",
       "      <th>STATUS_YEAR_2012</th>\n",
       "      <th>STATUS_YEAR_2013</th>\n",
       "      <th>STATUS_YEAR_2014</th>\n",
       "      <th>STATUS_YEAR_2015</th>\n",
       "      <th>STATUS_YEAR_nan</th>\n",
       "      <th>orighiredate_key</th>\n",
       "      <th>terminationdate_key</th>\n",
       "      <th>department_name</th>\n",
       "      <th>job_title</th>\n",
       "      <th>store_name</th>\n",
       "    </tr>\n",
       "  </thead>\n",
       "  <tbody>\n",
       "    <tr>\n",
       "      <th>0</th>\n",
       "      <td>0</td>\n",
       "      <td>1318</td>\n",
       "      <td>52</td>\n",
       "      <td>17</td>\n",
       "      <td>1</td>\n",
       "      <td>0</td>\n",
       "      <td>0</td>\n",
       "      <td>0</td>\n",
       "      <td>0</td>\n",
       "      <td>0</td>\n",
       "      <td>...</td>\n",
       "      <td>0</td>\n",
       "      <td>0</td>\n",
       "      <td>0</td>\n",
       "      <td>0</td>\n",
       "      <td>0</td>\n",
       "      <td>0.000806</td>\n",
       "      <td>0.854933</td>\n",
       "      <td>0.002014</td>\n",
       "      <td>0.000201</td>\n",
       "      <td>0.02302</td>\n",
       "    </tr>\n",
       "    <tr>\n",
       "      <th>1</th>\n",
       "      <td>0</td>\n",
       "      <td>1318</td>\n",
       "      <td>53</td>\n",
       "      <td>18</td>\n",
       "      <td>1</td>\n",
       "      <td>0</td>\n",
       "      <td>0</td>\n",
       "      <td>0</td>\n",
       "      <td>1</td>\n",
       "      <td>0</td>\n",
       "      <td>...</td>\n",
       "      <td>0</td>\n",
       "      <td>0</td>\n",
       "      <td>0</td>\n",
       "      <td>0</td>\n",
       "      <td>0</td>\n",
       "      <td>0.000806</td>\n",
       "      <td>0.854933</td>\n",
       "      <td>0.002014</td>\n",
       "      <td>0.000201</td>\n",
       "      <td>0.02302</td>\n",
       "    </tr>\n",
       "    <tr>\n",
       "      <th>2</th>\n",
       "      <td>0</td>\n",
       "      <td>1318</td>\n",
       "      <td>54</td>\n",
       "      <td>19</td>\n",
       "      <td>1</td>\n",
       "      <td>0</td>\n",
       "      <td>0</td>\n",
       "      <td>0</td>\n",
       "      <td>0</td>\n",
       "      <td>1</td>\n",
       "      <td>...</td>\n",
       "      <td>0</td>\n",
       "      <td>0</td>\n",
       "      <td>0</td>\n",
       "      <td>0</td>\n",
       "      <td>0</td>\n",
       "      <td>0.000806</td>\n",
       "      <td>0.854933</td>\n",
       "      <td>0.002014</td>\n",
       "      <td>0.000201</td>\n",
       "      <td>0.02302</td>\n",
       "    </tr>\n",
       "    <tr>\n",
       "      <th>3</th>\n",
       "      <td>0</td>\n",
       "      <td>1318</td>\n",
       "      <td>55</td>\n",
       "      <td>20</td>\n",
       "      <td>1</td>\n",
       "      <td>0</td>\n",
       "      <td>0</td>\n",
       "      <td>0</td>\n",
       "      <td>0</td>\n",
       "      <td>0</td>\n",
       "      <td>...</td>\n",
       "      <td>0</td>\n",
       "      <td>0</td>\n",
       "      <td>0</td>\n",
       "      <td>0</td>\n",
       "      <td>0</td>\n",
       "      <td>0.000806</td>\n",
       "      <td>0.854933</td>\n",
       "      <td>0.002014</td>\n",
       "      <td>0.000201</td>\n",
       "      <td>0.02302</td>\n",
       "    </tr>\n",
       "    <tr>\n",
       "      <th>4</th>\n",
       "      <td>0</td>\n",
       "      <td>1318</td>\n",
       "      <td>56</td>\n",
       "      <td>21</td>\n",
       "      <td>1</td>\n",
       "      <td>0</td>\n",
       "      <td>0</td>\n",
       "      <td>0</td>\n",
       "      <td>0</td>\n",
       "      <td>0</td>\n",
       "      <td>...</td>\n",
       "      <td>0</td>\n",
       "      <td>0</td>\n",
       "      <td>0</td>\n",
       "      <td>0</td>\n",
       "      <td>0</td>\n",
       "      <td>0.000806</td>\n",
       "      <td>0.854933</td>\n",
       "      <td>0.002014</td>\n",
       "      <td>0.000201</td>\n",
       "      <td>0.02302</td>\n",
       "    </tr>\n",
       "  </tbody>\n",
       "</table>\n",
       "<p>5 rows × 23 columns</p>\n",
       "</div>"
      ],
      "text/plain": [
       "   STATUS  EmployeeID  age  length_of_service  gender_short_M  \\\n",
       "0       0        1318   52                 17               1   \n",
       "1       0        1318   53                 18               1   \n",
       "2       0        1318   54                 19               1   \n",
       "3       0        1318   55                 20               1   \n",
       "4       0        1318   56                 21               1   \n",
       "\n",
       "   gender_short_nan  BUSINESS_UNIT_STORES  BUSINESS_UNIT_nan  \\\n",
       "0                 0                     0                  0   \n",
       "1                 0                     0                  0   \n",
       "2                 0                     0                  0   \n",
       "3                 0                     0                  0   \n",
       "4                 0                     0                  0   \n",
       "\n",
       "   STATUS_YEAR_2007  STATUS_YEAR_2008     ...      STATUS_YEAR_2012  \\\n",
       "0                 0                 0     ...                     0   \n",
       "1                 1                 0     ...                     0   \n",
       "2                 0                 1     ...                     0   \n",
       "3                 0                 0     ...                     0   \n",
       "4                 0                 0     ...                     0   \n",
       "\n",
       "   STATUS_YEAR_2013  STATUS_YEAR_2014  STATUS_YEAR_2015  STATUS_YEAR_nan  \\\n",
       "0                 0                 0                 0                0   \n",
       "1                 0                 0                 0                0   \n",
       "2                 0                 0                 0                0   \n",
       "3                 0                 0                 0                0   \n",
       "4                 0                 0                 0                0   \n",
       "\n",
       "   orighiredate_key  terminationdate_key  department_name  job_title  \\\n",
       "0          0.000806             0.854933         0.002014   0.000201   \n",
       "1          0.000806             0.854933         0.002014   0.000201   \n",
       "2          0.000806             0.854933         0.002014   0.000201   \n",
       "3          0.000806             0.854933         0.002014   0.000201   \n",
       "4          0.000806             0.854933         0.002014   0.000201   \n",
       "\n",
       "   store_name  \n",
       "0     0.02302  \n",
       "1     0.02302  \n",
       "2     0.02302  \n",
       "3     0.02302  \n",
       "4     0.02302  \n",
       "\n",
       "[5 rows x 23 columns]"
      ]
     },
     "execution_count": 33,
     "metadata": {},
     "output_type": "execute_result"
    }
   ],
   "source": [
    "data = pd.concat([data[target_var],data_contin, data_categor], axis=1)\n",
    "data.head()"
   ]
  },
  {
   "cell_type": "code",
   "execution_count": 34,
   "metadata": {},
   "outputs": [
    {
     "data": {
      "text/plain": [
       "<matplotlib.axes._subplots.AxesSubplot at 0x1896f4ff080>"
      ]
     },
     "execution_count": 34,
     "metadata": {},
     "output_type": "execute_result"
    },
    {
     "data": {
      "image/png": "[encoded data removed]",
      "text/plain": [
       "<matplotlib.figure.Figure at 0x1896eb95400>"
      ]
     },
     "metadata": {},
     "output_type": "display_data"
    }
   ],
   "source": [
    "data.STATUS.hist()"
   ]
  },
  {
   "cell_type": "markdown",
   "metadata": {},
   "source": [
    "## 5. Половина работы уже сделана!"
   ]
  },
  {
   "cell_type": "markdown",
   "metadata": {},
   "source": [
    "<img src=\"https://pp.userapi.com/c543104/v543104009/48e04/uVHHVlRULQU.jpg\" height=\"1500\" width=\"1030\">"
   ]
  },
  {
   "cell_type": "markdown",
   "metadata": {},
   "source": [
    "## 6. Разбиение на тренировочную выборку и тестовую"
   ]
  },
  {
   "cell_type": "code",
   "execution_count": 35,
   "metadata": {},
   "outputs": [
    {
     "data": {
      "text/plain": [
       "((49653, 22), (49653,))"
      ]
     },
     "execution_count": 35,
     "metadata": {},
     "output_type": "execute_result"
    }
   ],
   "source": [
    "y = data['STATUS'].values\n",
    "x = data.drop('STATUS', axis=1).values\n",
    "x.shape, y.shape"
   ]
  },
  {
   "cell_type": "code",
   "execution_count": 36,
   "metadata": {},
   "outputs": [
    {
     "name": "stdout",
     "output_type": "stream",
     "text": [
      "(34757, 22) (34757,)\n",
      "(14896, 22) (14896,)\n"
     ]
    }
   ],
   "source": [
    "from sklearn.model_selection import train_test_split\n",
    "\n",
    "x_train, x_test, y_train, y_test = train_test_split(x, y, test_size=0.3, random_state=42)\n",
    "\n",
    "print (x_train.shape, y_train.shape)\n",
    "print (x_test.shape, y_test.shape)"
   ]
  },
  {
   "cell_type": "markdown",
   "metadata": {},
   "source": [
    "## 7. Метод ближайшего соседа"
   ]
  },
  {
   "cell_type": "code",
   "execution_count": 37,
   "metadata": {},
   "outputs": [
    {
     "data": {
      "text/plain": [
       "KNeighborsClassifier(algorithm='auto', leaf_size=30, metric='minkowski',\n",
       "           metric_params=None, n_jobs=1, n_neighbors=1, p=2,\n",
       "           weights='uniform')"
      ]
     },
     "execution_count": 37,
     "metadata": {},
     "output_type": "execute_result"
    }
   ],
   "source": [
    "from sklearn.neighbors import KNeighborsClassifier\n",
    "\n",
    "clf_knn = KNeighborsClassifier(n_neighbors=1)\n",
    "clf_knn.fit(x_train, y_train)"
   ]
  },
  {
   "cell_type": "code",
   "execution_count": 38,
   "metadata": {},
   "outputs": [
    {
     "data": {
      "text/plain": [
       "array([0, 0, 0, ..., 0, 0, 0], dtype=int64)"
      ]
     },
     "execution_count": 38,
     "metadata": {},
     "output_type": "execute_result"
    }
   ],
   "source": [
    "y_predicted = clf_knn.predict(x_test)\n",
    "y_predicted"
   ]
  },
  {
   "cell_type": "code",
   "execution_count": 39,
   "metadata": {},
   "outputs": [
    {
     "name": "stdout",
     "output_type": "stream",
     "text": [
      "Accuracy = 0.964889903329753\n",
      "Precision = 0.3955773955773956\n",
      "Recall = 0.3675799086757991\n",
      "F1_score = 0.3810650887573964\n"
     ]
    }
   ],
   "source": [
    "from sklearn.metrics import accuracy_score, precision_score, recall_score, f1_score\n",
    "\n",
    "print('Accuracy =', accuracy_score(y_test, y_predicted))\n",
    "print('Precision =', precision_score(y_test, y_predicted))\n",
    "print('Recall =', recall_score(y_test, y_predicted))\n",
    "print('F1_score =', f1_score(y_test, y_predicted))"
   ]
  },
  {
   "cell_type": "code",
   "execution_count": 40,
   "metadata": {
    "collapsed": true
   },
   "outputs": [],
   "source": [
    "clf_knn = KNeighborsClassifier(n_neighbors=10)  # возьмем не один ближайший объект, а 10\n",
    "clf_knn.fit(x_train, y_train)\n",
    "y_predicted = clf_knn.predict(x_test)"
   ]
  },
  {
   "cell_type": "code",
   "execution_count": 41,
   "metadata": {},
   "outputs": [
    {
     "name": "stdout",
     "output_type": "stream",
     "text": [
      "Accuracy = 0.9702604726100966\n",
      "Precision = 0.2727272727272727\n",
      "Recall = 0.00684931506849315\n",
      "F1_score = 0.013363028953229395\n"
     ]
    }
   ],
   "source": [
    "print('Accuracy =', accuracy_score(y_test, y_predicted))\n",
    "print('Precision =', precision_score(y_test, y_predicted))\n",
    "print('Recall =', recall_score(y_test, y_predicted))\n",
    "print('F1_score =', f1_score(y_test, y_predicted))"
   ]
  },
  {
   "cell_type": "code",
   "execution_count": 42,
   "metadata": {},
   "outputs": [
    {
     "data": {
      "text/plain": [
       "array([[1. , 0. ],\n",
       "       [1. , 0. ],\n",
       "       [1. , 0. ],\n",
       "       [1. , 0. ],\n",
       "       [1. , 0. ],\n",
       "       [1. , 0. ],\n",
       "       [0.7, 0.3],\n",
       "       [1. , 0. ],\n",
       "       [1. , 0. ],\n",
       "       [1. , 0. ]])"
      ]
     },
     "execution_count": 42,
     "metadata": {},
     "output_type": "execute_result"
    }
   ],
   "source": [
    "y_proba = clf_knn.predict_proba(x_test)\n",
    "y_proba[:10]"
   ]
  },
  {
   "cell_type": "code",
   "execution_count": 43,
   "metadata": {},
   "outputs": [
    {
     "data": {
      "text/plain": [
       "array([False, False, False, False, False, False, False, False, False,\n",
       "       False])"
      ]
     },
     "execution_count": 43,
     "metadata": {},
     "output_type": "execute_result"
    }
   ],
   "source": [
    "y_predicted = (y_proba [:,1] >= 0.5)\n",
    "y_predicted[:10]"
   ]
  },
  {
   "cell_type": "code",
   "execution_count": 44,
   "metadata": {},
   "outputs": [
    {
     "name": "stdout",
     "output_type": "stream",
     "text": [
      "Accuracy = 0.9693877551020408\n",
      "Precision = 0.32\n",
      "Recall = 0.0365296803652968\n",
      "F1_score = 0.06557377049180328\n"
     ]
    }
   ],
   "source": [
    "print('Accuracy =', accuracy_score(y_test, y_predicted))\n",
    "print('Precision =', precision_score(y_test, y_predicted))\n",
    "print('Recall =', recall_score(y_test, y_predicted))\n",
    "print('F1_score =', f1_score(y_test, y_predicted))"
   ]
  },
  {
   "cell_type": "code",
   "execution_count": 45,
   "metadata": {},
   "outputs": [
    {
     "data": {
      "image/png": "[encoded data removed]",
      "text/plain": [
       "<matplotlib.figure.Figure at 0x18970304780>"
      ]
     },
     "metadata": {},
     "output_type": "display_data"
    }
   ],
   "source": [
    "from sklearn.metrics import roc_auc_score, roc_curve\n",
    "\n",
    "\n",
    "fpr, tpr, thresholds = roc_curve(y_test, y_proba[:,1])\n",
    "\n",
    "\n",
    "plt.plot(fpr, tpr, label='ROC curve ')\n",
    "plt.plot([0, 1], [0, 1])\n",
    "plt.xlim([0.0, 1.0])\n",
    "plt.ylim([0.0, 1.05])\n",
    "plt.xlabel('False Positive Rate')\n",
    "plt.ylabel('True Positive Rate')\n",
    "plt.title('ROC curve')\n",
    "plt.show()"
   ]
  },
  {
   "cell_type": "code",
   "execution_count": 46,
   "metadata": {},
   "outputs": [
    {
     "name": "stdout",
     "output_type": "stream",
     "text": [
      "AUC = 0.8132462569900155\n"
     ]
    }
   ],
   "source": [
    "# считаем площадь под кривой\n",
    "print('AUC =', roc_auc_score(y_test, y_proba[:,1]))"
   ]
  },
  {
   "cell_type": "markdown",
   "metadata": {},
   "source": [
    "## 8. Деревья и лес"
   ]
  },
  {
   "cell_type": "code",
   "execution_count": 47,
   "metadata": {
    "collapsed": true
   },
   "outputs": [],
   "source": [
    "from sklearn.tree import DecisionTreeClassifier "
   ]
  },
  {
   "cell_type": "code",
   "execution_count": 48,
   "metadata": {
    "collapsed": true
   },
   "outputs": [],
   "source": [
    "clf_tree = DecisionTreeClassifier()     \n",
    "clf_tree.fit(x_train, y_train)          \n",
    "y_predicted = clf_tree.predict(x_test)  \n",
    "y_proba = clf_tree.predict_proba(x_test)"
   ]
  },
  {
   "cell_type": "code",
   "execution_count": 49,
   "metadata": {},
   "outputs": [
    {
     "name": "stdout",
     "output_type": "stream",
     "text": [
      "Accuracy = 0.9963077336197637\n",
      "Precision = 0.9284116331096197\n",
      "Recall = 0.9474885844748858\n",
      "F1_score = 0.9378531073446327\n",
      "AUC = 0.9737766643864041\n"
     ]
    },
    {
     "data": {
      "image/png": "[encoded data removed]",
      "text/plain": [
       "<matplotlib.figure.Figure at 0x189703992e8>"
      ]
     },
     "metadata": {},
     "output_type": "display_data"
    }
   ],
   "source": [
    "print('Accuracy =', accuracy_score(y_test, y_predicted))\n",
    "print('Precision =', precision_score(y_test, y_predicted))\n",
    "print('Recall =', recall_score(y_test, y_predicted))\n",
    "print('F1_score =', f1_score(y_test, y_predicted))\n",
    "print('AUC =', roc_auc_score(y_test, y_proba[:,1]))\n",
    "\n",
    "# Рисуем картиночку\n",
    "plt.plot(fpr, tpr, label='ROC curve ')\n",
    "plt.plot([0, 1], [0, 1])\n",
    "plt.xlim([0.0, 1.0])\n",
    "plt.ylim([0.0, 1.05])\n",
    "plt.xlabel('False Positive Rate')\n",
    "plt.ylabel('True Positive Rate')\n",
    "plt.title('ROC curve')\n",
    "plt.show()"
   ]
  },
  {
   "cell_type": "code",
   "execution_count": 50,
   "metadata": {},
   "outputs": [
    {
     "data": {
      "text/html": [
       "<div>\n",
       "<style scoped>\n",
       "    .dataframe tbody tr th:only-of-type {\n",
       "        vertical-align: middle;\n",
       "    }\n",
       "\n",
       "    .dataframe tbody tr th {\n",
       "        vertical-align: top;\n",
       "    }\n",
       "\n",
       "    .dataframe thead th {\n",
       "        text-align: right;\n",
       "    }\n",
       "</style>\n",
       "<table border=\"1\" class=\"dataframe\">\n",
       "  <thead>\n",
       "    <tr style=\"text-align: right;\">\n",
       "      <th></th>\n",
       "      <th>importance</th>\n",
       "    </tr>\n",
       "    <tr>\n",
       "      <th>feature</th>\n",
       "      <th></th>\n",
       "    </tr>\n",
       "  </thead>\n",
       "  <tbody>\n",
       "    <tr>\n",
       "      <th>age</th>\n",
       "      <td>0.564358</td>\n",
       "    </tr>\n",
       "    <tr>\n",
       "      <th>terminationdate_key</th>\n",
       "      <td>0.204599</td>\n",
       "    </tr>\n",
       "    <tr>\n",
       "      <th>STATUS_YEAR_2015</th>\n",
       "      <td>0.060595</td>\n",
       "    </tr>\n",
       "    <tr>\n",
       "      <th>STATUS_YEAR_2014</th>\n",
       "      <td>0.039909</td>\n",
       "    </tr>\n",
       "    <tr>\n",
       "      <th>EmployeeID</th>\n",
       "      <td>0.035363</td>\n",
       "    </tr>\n",
       "    <tr>\n",
       "      <th>length_of_service</th>\n",
       "      <td>0.024938</td>\n",
       "    </tr>\n",
       "    <tr>\n",
       "      <th>orighiredate_key</th>\n",
       "      <td>0.012760</td>\n",
       "    </tr>\n",
       "    <tr>\n",
       "      <th>store_name</th>\n",
       "      <td>0.010670</td>\n",
       "    </tr>\n",
       "    <tr>\n",
       "      <th>STATUS_YEAR_2011</th>\n",
       "      <td>0.007141</td>\n",
       "    </tr>\n",
       "    <tr>\n",
       "      <th>STATUS_YEAR_2010</th>\n",
       "      <td>0.006750</td>\n",
       "    </tr>\n",
       "    <tr>\n",
       "      <th>STATUS_YEAR_2012</th>\n",
       "      <td>0.006502</td>\n",
       "    </tr>\n",
       "    <tr>\n",
       "      <th>gender_short_M</th>\n",
       "      <td>0.006483</td>\n",
       "    </tr>\n",
       "    <tr>\n",
       "      <th>STATUS_YEAR_2008</th>\n",
       "      <td>0.005199</td>\n",
       "    </tr>\n",
       "    <tr>\n",
       "      <th>STATUS_YEAR_2007</th>\n",
       "      <td>0.004934</td>\n",
       "    </tr>\n",
       "    <tr>\n",
       "      <th>STATUS_YEAR_2009</th>\n",
       "      <td>0.004446</td>\n",
       "    </tr>\n",
       "    <tr>\n",
       "      <th>STATUS_YEAR_2013</th>\n",
       "      <td>0.002678</td>\n",
       "    </tr>\n",
       "    <tr>\n",
       "      <th>department_name</th>\n",
       "      <td>0.002511</td>\n",
       "    </tr>\n",
       "    <tr>\n",
       "      <th>job_title</th>\n",
       "      <td>0.000164</td>\n",
       "    </tr>\n",
       "    <tr>\n",
       "      <th>BUSINESS_UNIT_nan</th>\n",
       "      <td>0.000000</td>\n",
       "    </tr>\n",
       "    <tr>\n",
       "      <th>BUSINESS_UNIT_STORES</th>\n",
       "      <td>0.000000</td>\n",
       "    </tr>\n",
       "    <tr>\n",
       "      <th>STATUS_YEAR_nan</th>\n",
       "      <td>0.000000</td>\n",
       "    </tr>\n",
       "    <tr>\n",
       "      <th>gender_short_nan</th>\n",
       "      <td>0.000000</td>\n",
       "    </tr>\n",
       "  </tbody>\n",
       "</table>\n",
       "</div>"
      ],
      "text/plain": [
       "                      importance\n",
       "feature                         \n",
       "age                     0.564358\n",
       "terminationdate_key     0.204599\n",
       "STATUS_YEAR_2015        0.060595\n",
       "STATUS_YEAR_2014        0.039909\n",
       "EmployeeID              0.035363\n",
       "length_of_service       0.024938\n",
       "orighiredate_key        0.012760\n",
       "store_name              0.010670\n",
       "STATUS_YEAR_2011        0.007141\n",
       "STATUS_YEAR_2010        0.006750\n",
       "STATUS_YEAR_2012        0.006502\n",
       "gender_short_M          0.006483\n",
       "STATUS_YEAR_2008        0.005199\n",
       "STATUS_YEAR_2007        0.004934\n",
       "STATUS_YEAR_2009        0.004446\n",
       "STATUS_YEAR_2013        0.002678\n",
       "department_name         0.002511\n",
       "job_title               0.000164\n",
       "BUSINESS_UNIT_nan       0.000000\n",
       "BUSINESS_UNIT_STORES    0.000000\n",
       "STATUS_YEAR_nan         0.000000\n",
       "gender_short_nan        0.000000"
      ]
     },
     "execution_count": 50,
     "metadata": {},
     "output_type": "execute_result"
    }
   ],
   "source": [
    "featureImportance = pd.DataFrame({\"feature\": data.drop('STATUS',axis=1).columns, \n",
    "                                  \"importance\": clf_tree.feature_importances_})\n",
    "\n",
    "featureImportance.set_index('feature', inplace=True)\n",
    "featureImportance.sort_values([\"importance\"], ascending=False, inplace=True)\n",
    "featureImportance"
   ]
  },
  {
   "cell_type": "code",
   "execution_count": 51,
   "metadata": {},
   "outputs": [
    {
     "data": {
      "text/plain": [
       "<matplotlib.axes._subplots.AxesSubplot at 0x18970390ba8>"
      ]
     },
     "execution_count": 51,
     "metadata": {},
     "output_type": "execute_result"
    },
    {
     "data": {
      "image/png": "[encoded data removed]",
      "text/plain": [
       "<matplotlib.figure.Figure at 0x18970390550>"
      ]
     },
     "metadata": {},
     "output_type": "display_data"
    }
   ],
   "source": [
    "featureImportance[\"importance\"].plot('bar')"
   ]
  },
  {
   "cell_type": "code",
   "execution_count": 52,
   "metadata": {
    "collapsed": true
   },
   "outputs": [],
   "source": [
    "from sklearn.ensemble import RandomForestClassifier"
   ]
  },
  {
   "cell_type": "code",
   "execution_count": 53,
   "metadata": {
    "collapsed": true
   },
   "outputs": [],
   "source": [
    "rfc = RandomForestClassifier(n_estimators=10) # число деревьев в лесе\n",
    "rfc.fit(x_train, y_train)\n",
    "y_predicted = rfc.predict(x_test)\n",
    "y_proba = rfc.predict_proba(x_test)"
   ]
  },
  {
   "cell_type": "code",
   "execution_count": 54,
   "metadata": {},
   "outputs": [
    {
     "name": "stdout",
     "output_type": "stream",
     "text": [
      "Accuracy = 0.9956364124597207\n",
      "Precision = 0.9745547073791349\n",
      "Recall = 0.8744292237442922\n",
      "F1_score = 0.9217809867629362\n",
      "AUC = 0.9945820076543552\n"
     ]
    },
    {
     "data": {
      "image/png": "[encoded data removed]",
      "text/plain": [
       "<matplotlib.figure.Figure at 0x18970757c50>"
      ]
     },
     "metadata": {},
     "output_type": "display_data"
    }
   ],
   "source": [
    "print('Accuracy =', accuracy_score(y_test, y_predicted))\n",
    "print('Precision =', precision_score(y_test, y_predicted))\n",
    "print('Recall =', recall_score(y_test, y_predicted))\n",
    "print('F1_score =', f1_score(y_test, y_predicted))\n",
    "print('AUC =', roc_auc_score(y_test, y_proba[:,1]))\n",
    "\n",
    "fpr, tpr, thresholds = roc_curve(y_test, y_proba[:,1])\n",
    "\n",
    "plt.plot(fpr, tpr, label='ROC curve ')\n",
    "plt.plot([0, 1], [0, 1])\n",
    "plt.xlim([0.0, 1.0])\n",
    "plt.ylim([0.0, 1.05])\n",
    "plt.xlabel('False Positive Rate')\n",
    "plt.ylabel('True Positive Rate')\n",
    "plt.title('ROC curve')\n",
    "plt.show()"
   ]
  },
  {
   "cell_type": "code",
   "execution_count": 55,
   "metadata": {},
   "outputs": [
    {
     "data": {
      "text/plain": [
       "array([0, 0, 0, ..., 0, 0, 0], dtype=int64)"
      ]
     },
     "execution_count": 55,
     "metadata": {},
     "output_type": "execute_result"
    }
   ],
   "source": [
    "from sklearn.linear_model import LogisticRegression\n",
    "# объявляем модель\n",
    "logit = LogisticRegression()\n",
    "# обучаем на тренировочной выборке\n",
    "logit.fit(x_train, y_train)\n",
    "# предсказываем вероятности\n",
    "logit.predict_proba(x_test)\n",
    "# предсказываем сами метки классов\n",
    "logit.predict(x_test)"
   ]
  },
  {
   "cell_type": "code",
   "execution_count": 56,
   "metadata": {},
   "outputs": [
    {
     "data": {
      "text/plain": [
       "<matplotlib.axes._subplots.AxesSubplot at 0x18970351358>"
      ]
     },
     "execution_count": 56,
     "metadata": {},
     "output_type": "execute_result"
    },
    {
     "data": {
      "image/png": "[encoded data removed]",
      "text/plain": [
       "<matplotlib.figure.Figure at 0x189703299e8>"
      ]
     },
     "metadata": {},
     "output_type": "display_data"
    }
   ],
   "source": [
    "featureImportance = pd.DataFrame({\"feature\": data.drop('STATUS',axis=1).columns, \n",
    "\"importance\": logit.coef_[0]})\n",
    "\n",
    "featureImportance.set_index('feature', inplace=True)\n",
    "featureImportance.sort_values([\"importance\"], ascending=False, inplace=True)\n",
    "featureImportance[\"importance\"].head(30).plot('bar', figsize=(12,5))\n",
    "featureImportance[\"importance\"].tail(30).plot('bar', figsize=(12,5))"
   ]
  },
  {
   "cell_type": "markdown",
   "metadata": {},
   "source": [
    "## 9. Подбор гиперпараметров"
   ]
  },
  {
   "cell_type": "code",
   "execution_count": 57,
   "metadata": {},
   "outputs": [
    {
     "data": {
      "text/plain": [
       "KNeighborsClassifier(algorithm='auto', leaf_size=30, metric='minkowski',\n",
       "           metric_params=None, n_jobs=1, n_neighbors=2, p=2,\n",
       "           weights='uniform')"
      ]
     },
     "execution_count": 57,
     "metadata": {},
     "output_type": "execute_result"
    }
   ],
   "source": [
    "from sklearn.model_selection import GridSearchCV\n",
    "\n",
    "parameters = {'n_neighbors':range(2, 25, 5), 'weights':['uniform', 'distance']}\n",
    "\n",
    "knc = KNeighborsClassifier()\n",
    "\n",
    "clf = GridSearchCV(knc, parameters)\n",
    "\n",
    "clf.fit(x_train, y_train)\n",
    "clf.best_estimator_"
   ]
  },
  {
   "cell_type": "code",
   "execution_count": 58,
   "metadata": {},
   "outputs": [
    {
     "name": "stdout",
     "output_type": "stream",
     "text": [
      "AUC = 0.7294494492313115\n"
     ]
    }
   ],
   "source": [
    "y_proba = clf.predict_proba(x_test)[:,1]\n",
    "print('AUC =', roc_auc_score(y_test, y_proba))"
   ]
  },
  {
   "cell_type": "code",
   "execution_count": 59,
   "metadata": {},
   "outputs": [
    {
     "data": {
      "text/plain": [
       "RandomForestClassifier(bootstrap=True, class_weight=None, criterion='gini',\n",
       "            max_depth=None, max_features='auto', max_leaf_nodes=None,\n",
       "            min_impurity_decrease=0.0, min_impurity_split=None,\n",
       "            min_samples_leaf=7, min_samples_split=2,\n",
       "            min_weight_fraction_leaf=0.0, n_estimators=20, n_jobs=1,\n",
       "            oob_score=False, random_state=42, verbose=0, warm_start=False)"
      ]
     },
     "execution_count": 59,
     "metadata": {},
     "output_type": "execute_result"
    }
   ],
   "source": [
    "parameters = {\n",
    "              'n_estimators': [10,15,20,25,30],           \n",
    "              'min_samples_leaf': [1, 3, 5, 7, 10],        \n",
    "             } \n",
    "\n",
    "rfc = RandomForestClassifier(random_state=42)   \n",
    "\n",
    "gcv = GridSearchCV(rfc, parameters, n_jobs= -1) \n",
    "gcv.fit(x, y)\n",
    "gcv.best_estimator_"
   ]
  },
  {
   "cell_type": "code",
   "execution_count": 60,
   "metadata": {
    "collapsed": true
   },
   "outputs": [],
   "source": [
    "y_predicted = gcv.predict(x_test)\n",
    "y_proba = gcv.predict_proba(x_test)"
   ]
  },
  {
   "cell_type": "markdown",
   "metadata": {},
   "source": [
    "## 10. Метрики"
   ]
  },
  {
   "cell_type": "code",
   "execution_count": 61,
   "metadata": {
    "collapsed": true
   },
   "outputs": [],
   "source": [
    "from sklearn import metrics  "
   ]
  },
  {
   "cell_type": "code",
   "execution_count": 62,
   "metadata": {},
   "outputs": [
    {
     "name": "stdout",
     "output_type": "stream",
     "text": [
      "Accuracy = 0.9964419978517723\n"
     ]
    }
   ],
   "source": [
    "print('Accuracy =', metrics.accuracy_score(y_test, y_predicted))"
   ]
  },
  {
   "cell_type": "code",
   "execution_count": 63,
   "metadata": {},
   "outputs": [
    {
     "name": "stdout",
     "output_type": "stream",
     "text": [
      "Precision = 0.9974160206718347\n"
     ]
    }
   ],
   "source": [
    "print('Precision =', metrics.precision_score(y_test, y_predicted))"
   ]
  },
  {
   "cell_type": "code",
   "execution_count": 64,
   "metadata": {},
   "outputs": [
    {
     "name": "stdout",
     "output_type": "stream",
     "text": [
      "Recall = 0.8812785388127854\n"
     ]
    }
   ],
   "source": [
    "print('Recall =', metrics.recall_score(y_test, y_predicted))"
   ]
  },
  {
   "cell_type": "code",
   "execution_count": 65,
   "metadata": {},
   "outputs": [
    {
     "name": "stdout",
     "output_type": "stream",
     "text": [
      "F1_score = 0.9357575757575758\n"
     ]
    }
   ],
   "source": [
    "print('F1_score =', metrics.f1_score(y_test, y_predicted))"
   ]
  },
  {
   "cell_type": "code",
   "execution_count": 66,
   "metadata": {},
   "outputs": [
    {
     "name": "stdout",
     "output_type": "stream",
     "text": [
      "AUC = 0.7294494492313115\n"
     ]
    }
   ],
   "source": [
    "y_proba = clf.predict_proba(x_test)[:,1]\n",
    "print('AUC =', roc_auc_score(y_test, y_proba))"
   ]
  },
  {
   "cell_type": "code",
   "execution_count": 67,
   "metadata": {},
   "outputs": [
    {
     "name": "stdout",
     "output_type": "stream",
     "text": [
      "             precision    recall  f1-score   support\n",
      "\n",
      "          0       1.00      1.00      1.00     14458\n",
      "          1       1.00      0.88      0.94       438\n",
      "\n",
      "avg / total       1.00      1.00      1.00     14896\n",
      "\n"
     ]
    }
   ],
   "source": [
    "print(metrics.classification_report(y_test, y_predicted))"
   ]
  },
  {
   "cell_type": "code",
   "execution_count": 68,
   "metadata": {},
   "outputs": [
    {
     "data": {
      "image/png": "[encoded data removed]",
      "text/plain": [
       "<matplotlib.figure.Figure at 0x189714bf128>"
      ]
     },
     "metadata": {},
     "output_type": "display_data"
    }
   ],
   "source": [
    "import seaborn as sns \n",
    "from sklearn.metrics import confusion_matrix \n",
    "array = confusion_matrix(y_test, y_predicted) \n",
    "df_cm = pd.DataFrame(array) \n",
    "plt.figure(figsize = (6,6)) \n",
    "sns.heatmap(df_cm, annot=True, fmt='g', cbar=False) \n",
    "plt.ylabel(\"Actual\") \n",
    "plt.xlabel(\"Predicted\");"
   ]
  },
  {
   "cell_type": "markdown",
   "metadata": {},
   "source": [
    "# That's all!!!"
   ]
  },
  {
   "cell_type": "markdown",
   "metadata": {},
   "source": [
    "<img src=\"https://pp.userapi.com/c543104/v543104009/48df2/osaDAMmd_dc.jpg\" height=\"1500\" width=\"1030\">"
   ]
  }
 ],
 "metadata": {
  "kernelspec": {
   "display_name": "Python 3",
   "language": "python",
   "name": "python3"
  },
  "language_info": {
   "codemirror_mode": {
    "name": "ipython",
    "version": 3
   },
   "file_extension": ".py",
   "mimetype": "text/x-python",
   "name": "python",
   "nbconvert_exporter": "python",
   "pygments_lexer": "ipython3",
   "version": "3.6.1"
  },
  "varInspector": {
   "cols": {
    "lenName": 16,
    "lenType": 16,
    "lenVar": 40
   },
   "kernels_config": {
    "python": {
     "delete_cmd_postfix": "",
     "delete_cmd_prefix": "del ",
     "library": "var_list.py",
     "varRefreshCmd": "print(var_dic_list())"
    },
    "r": {
     "delete_cmd_postfix": ") ",
     "delete_cmd_prefix": "rm(",
     "library": "var_list.r",
     "varRefreshCmd": "cat(var_dic_list()) "
    }
   },
   "types_to_exclude": [
    "module",
    "function",
    "builtin_function_or_method",
    "instance",
    "_Feature"
   ],
   "window_display": false
  }
 },
 "nbformat": 4,
 "nbformat_minor": 2
}
