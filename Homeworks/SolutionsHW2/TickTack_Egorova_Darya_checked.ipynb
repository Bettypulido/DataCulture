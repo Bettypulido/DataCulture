{
 "cells": [
  {
   "cell_type": "markdown",
   "metadata": {},
   "source": [
    "\n",
    "### Описание датасета (из документации):\n",
    "*This database encodes the complete set of possible board configurations\n",
    "at the end of tic-tac-toe games, where \"x\" is assumed to have played\n",
    "first.  The target concept is \"win for x\" (i.e., true when \"x\" has one\n",
    "of 8 possible ways to create a \"three-in-a-row\").*\n",
    "\n",
    "*Attribute Information: (x=player x has taken, o=player o has taken, b=blank)*\n",
    "\n",
    "    1. top-left-square: {x,o,b}\n",
    "    2. top-middle-square: {x,o,b}\n",
    "    3. top-right-square: {x,o,b}\n",
    "    4. middle-left-square: {x,o,b}\n",
    "    5. middle-middle-square: {x,o,b}\n",
    "    6. middle-right-square: {x,o,b}\n",
    "    7. bottom-left-square: {x,o,b}\n",
    "    8. bottom-middle-square: {x,o,b}\n",
    "    9. bottom-right-square: {x,o,b}\n",
    "    10. Class: {positive,negative}"
   ]
  },
  {
   "cell_type": "markdown",
   "metadata": {},
   "source": [
    "# Part 1, exploratory data analysis (EDA)\n",
    "\n",
    "Вопросы:\n",
    "\n",
    "1. [1 балл] Загрузите датасет, указав, что header равен None, так как первая строка не является строкой с названиями переменных. Посмотрите на начало датасета при помощи `.head()`. \n",
    "2. [1 балл] Похоже, нужно основательно поработать с датасетом, так как нет ни названий столбцов, ни нормальных числовых переменных. Давайте начнем со столюцов - переименуйте их на 'topleft', 'topmiddle', 'topright','middleleft', 'middlemiddle', 'middleright','bottomleft', 'bottommiddle', 'bottomright','Class' (именно в таком порядке) и снова посмотрите на начало датасета.\n",
    "3. [3 балла] Отлично, теперь стало уже приятнее, но по-прежнему беда с переменными. Давайте их все перекодируем в числа. Задайте в качестве иксов единички, пустым значениям поставьте в соответствие нолики, а нолики замените на минус единички. Аналогично поработаем с целевой переменной - Class, которая отвечает за победу или поражение крестиков. В качестве positive поставьте единички, а negative - нули.\n",
    "4. [1 балл] Наконец, после всех этих преобразований, посчитайте, сколько в датасете случаев, когда крестики проиграли, а также воспользуйтесь функцией describe() для отображения базовых статистик переменных.\n",
    "5. [2 балла] В какую клетку чаще всего ставят крестики? Подсказка - это можно подсчитать при помощи count(), примененному к соответствующему срезу датасета. А какая клетка чаще всего оказывается не пустой на доске? (То есть в датасете в этом столбце реже всего встречается пустое значение - ноль)\n",
    "6. [1 балл] Визуализация - при помощи функции plotBoard постройте по несколько примеров для случаев, когда победили крестики, и когда победили нолики\n",
    "7. [1 балл] Вопрос-сюрприз! Попробуйте самостоятельно придумать какой-нибудь осмысленный вопрос или визуализацию для вашего датасета. Инициатива не наказуема, так что удивите меня ;)\n"
   ]
  },
  {
   "cell_type": "code",
   "execution_count": 1,
   "metadata": {
    "collapsed": true
   },
   "outputs": [],
   "source": [
    "import warnings\n",
    "warnings.filterwarnings('ignore')\n",
    "import pandas as pd\n",
    "import matplotlib.pyplot as plt\n",
    "import seaborn as sns\n",
    "plt.style.use('ggplot') \n",
    "%matplotlib inline\n"
   ]
  },
  {
   "cell_type": "code",
   "execution_count": 2,
   "metadata": {
    "collapsed": true
   },
   "outputs": [],
   "source": [
    "tic = pd.read_csv('./egorova_tic-tac-toe.txt', header = None)"
   ]
  },
  {
   "cell_type": "code",
   "execution_count": 3,
   "metadata": {},
   "outputs": [
    {
     "data": {
      "text/html": [
       "<div>\n",
       "<style scoped>\n",
       "    .dataframe tbody tr th:only-of-type {\n",
       "        vertical-align: middle;\n",
       "    }\n",
       "\n",
       "    .dataframe tbody tr th {\n",
       "        vertical-align: top;\n",
       "    }\n",
       "\n",
       "    .dataframe thead th {\n",
       "        text-align: right;\n",
       "    }\n",
       "</style>\n",
       "<table border=\"1\" class=\"dataframe\">\n",
       "  <thead>\n",
       "    <tr style=\"text-align: right;\">\n",
       "      <th></th>\n",
       "      <th>0</th>\n",
       "      <th>1</th>\n",
       "      <th>2</th>\n",
       "      <th>3</th>\n",
       "      <th>4</th>\n",
       "      <th>5</th>\n",
       "      <th>6</th>\n",
       "      <th>7</th>\n",
       "      <th>8</th>\n",
       "      <th>9</th>\n",
       "    </tr>\n",
       "  </thead>\n",
       "  <tbody>\n",
       "    <tr>\n",
       "      <th>0</th>\n",
       "      <td>x</td>\n",
       "      <td>x</td>\n",
       "      <td>x</td>\n",
       "      <td>x</td>\n",
       "      <td>o</td>\n",
       "      <td>o</td>\n",
       "      <td>x</td>\n",
       "      <td>o</td>\n",
       "      <td>o</td>\n",
       "      <td>positive</td>\n",
       "    </tr>\n",
       "    <tr>\n",
       "      <th>1</th>\n",
       "      <td>x</td>\n",
       "      <td>x</td>\n",
       "      <td>x</td>\n",
       "      <td>x</td>\n",
       "      <td>o</td>\n",
       "      <td>o</td>\n",
       "      <td>o</td>\n",
       "      <td>x</td>\n",
       "      <td>o</td>\n",
       "      <td>positive</td>\n",
       "    </tr>\n",
       "    <tr>\n",
       "      <th>2</th>\n",
       "      <td>x</td>\n",
       "      <td>x</td>\n",
       "      <td>x</td>\n",
       "      <td>x</td>\n",
       "      <td>o</td>\n",
       "      <td>o</td>\n",
       "      <td>o</td>\n",
       "      <td>o</td>\n",
       "      <td>x</td>\n",
       "      <td>positive</td>\n",
       "    </tr>\n",
       "    <tr>\n",
       "      <th>3</th>\n",
       "      <td>x</td>\n",
       "      <td>x</td>\n",
       "      <td>x</td>\n",
       "      <td>x</td>\n",
       "      <td>o</td>\n",
       "      <td>o</td>\n",
       "      <td>o</td>\n",
       "      <td>b</td>\n",
       "      <td>b</td>\n",
       "      <td>positive</td>\n",
       "    </tr>\n",
       "    <tr>\n",
       "      <th>4</th>\n",
       "      <td>x</td>\n",
       "      <td>x</td>\n",
       "      <td>x</td>\n",
       "      <td>x</td>\n",
       "      <td>o</td>\n",
       "      <td>o</td>\n",
       "      <td>b</td>\n",
       "      <td>o</td>\n",
       "      <td>b</td>\n",
       "      <td>positive</td>\n",
       "    </tr>\n",
       "  </tbody>\n",
       "</table>\n",
       "</div>"
      ],
      "text/plain": [
       "   0  1  2  3  4  5  6  7  8         9\n",
       "0  x  x  x  x  o  o  x  o  o  positive\n",
       "1  x  x  x  x  o  o  o  x  o  positive\n",
       "2  x  x  x  x  o  o  o  o  x  positive\n",
       "3  x  x  x  x  o  o  o  b  b  positive\n",
       "4  x  x  x  x  o  o  b  o  b  positive"
      ]
     },
     "execution_count": 3,
     "metadata": {},
     "output_type": "execute_result"
    }
   ],
   "source": [
    "tic.head()"
   ]
  },
  {
   "cell_type": "code",
   "execution_count": 4,
   "metadata": {},
   "outputs": [
    {
     "data": {
      "text/plain": [
       "{0: 'topleft',\n",
       " 1: 'topmiddle',\n",
       " 2: 'topright',\n",
       " 3: 'middleleft',\n",
       " 4: 'middlemiddle',\n",
       " 5: 'middleright',\n",
       " 6: 'bottomleft',\n",
       " 7: 'bottommiddle',\n",
       " 8: 'bottomright',\n",
       " 9: 'Class'}"
      ]
     },
     "execution_count": 4,
     "metadata": {},
     "output_type": "execute_result"
    }
   ],
   "source": [
    "names = ['topleft',\n",
    " 'topmiddle',\n",
    " 'topright',\n",
    " 'middleleft',\n",
    " 'middlemiddle',\n",
    " 'middleright',\n",
    " 'bottomleft',\n",
    " 'bottommiddle',\n",
    " 'bottomright',\n",
    " 'Class']\n",
    "\n",
    "dict(enumerate(names))"
   ]
  },
  {
   "cell_type": "code",
   "execution_count": 5,
   "metadata": {
    "collapsed": true
   },
   "outputs": [],
   "source": [
    "tic.rename(columns=dict(enumerate(names)), inplace=True)"
   ]
  },
  {
   "cell_type": "code",
   "execution_count": 6,
   "metadata": {},
   "outputs": [
    {
     "data": {
      "text/html": [
       "<div>\n",
       "<style scoped>\n",
       "    .dataframe tbody tr th:only-of-type {\n",
       "        vertical-align: middle;\n",
       "    }\n",
       "\n",
       "    .dataframe tbody tr th {\n",
       "        vertical-align: top;\n",
       "    }\n",
       "\n",
       "    .dataframe thead th {\n",
       "        text-align: right;\n",
       "    }\n",
       "</style>\n",
       "<table border=\"1\" class=\"dataframe\">\n",
       "  <thead>\n",
       "    <tr style=\"text-align: right;\">\n",
       "      <th></th>\n",
       "      <th>topleft</th>\n",
       "      <th>topmiddle</th>\n",
       "      <th>topright</th>\n",
       "      <th>middleleft</th>\n",
       "      <th>middlemiddle</th>\n",
       "      <th>middleright</th>\n",
       "      <th>bottomleft</th>\n",
       "      <th>bottommiddle</th>\n",
       "      <th>bottomright</th>\n",
       "      <th>Class</th>\n",
       "    </tr>\n",
       "  </thead>\n",
       "  <tbody>\n",
       "    <tr>\n",
       "      <th>0</th>\n",
       "      <td>x</td>\n",
       "      <td>x</td>\n",
       "      <td>x</td>\n",
       "      <td>x</td>\n",
       "      <td>o</td>\n",
       "      <td>o</td>\n",
       "      <td>x</td>\n",
       "      <td>o</td>\n",
       "      <td>o</td>\n",
       "      <td>positive</td>\n",
       "    </tr>\n",
       "    <tr>\n",
       "      <th>1</th>\n",
       "      <td>x</td>\n",
       "      <td>x</td>\n",
       "      <td>x</td>\n",
       "      <td>x</td>\n",
       "      <td>o</td>\n",
       "      <td>o</td>\n",
       "      <td>o</td>\n",
       "      <td>x</td>\n",
       "      <td>o</td>\n",
       "      <td>positive</td>\n",
       "    </tr>\n",
       "    <tr>\n",
       "      <th>2</th>\n",
       "      <td>x</td>\n",
       "      <td>x</td>\n",
       "      <td>x</td>\n",
       "      <td>x</td>\n",
       "      <td>o</td>\n",
       "      <td>o</td>\n",
       "      <td>o</td>\n",
       "      <td>o</td>\n",
       "      <td>x</td>\n",
       "      <td>positive</td>\n",
       "    </tr>\n",
       "    <tr>\n",
       "      <th>3</th>\n",
       "      <td>x</td>\n",
       "      <td>x</td>\n",
       "      <td>x</td>\n",
       "      <td>x</td>\n",
       "      <td>o</td>\n",
       "      <td>o</td>\n",
       "      <td>o</td>\n",
       "      <td>b</td>\n",
       "      <td>b</td>\n",
       "      <td>positive</td>\n",
       "    </tr>\n",
       "    <tr>\n",
       "      <th>4</th>\n",
       "      <td>x</td>\n",
       "      <td>x</td>\n",
       "      <td>x</td>\n",
       "      <td>x</td>\n",
       "      <td>o</td>\n",
       "      <td>o</td>\n",
       "      <td>b</td>\n",
       "      <td>o</td>\n",
       "      <td>b</td>\n",
       "      <td>positive</td>\n",
       "    </tr>\n",
       "  </tbody>\n",
       "</table>\n",
       "</div>"
      ],
      "text/plain": [
       "  topleft topmiddle topright middleleft middlemiddle middleright bottomleft  \\\n",
       "0       x         x        x          x            o           o          x   \n",
       "1       x         x        x          x            o           o          o   \n",
       "2       x         x        x          x            o           o          o   \n",
       "3       x         x        x          x            o           o          o   \n",
       "4       x         x        x          x            o           o          b   \n",
       "\n",
       "  bottommiddle bottomright     Class  \n",
       "0            o           o  positive  \n",
       "1            x           o  positive  \n",
       "2            o           x  positive  \n",
       "3            b           b  positive  \n",
       "4            o           b  positive  "
      ]
     },
     "execution_count": 6,
     "metadata": {},
     "output_type": "execute_result"
    }
   ],
   "source": [
    "tic.head()"
   ]
  },
  {
   "cell_type": "code",
   "execution_count": 7,
   "metadata": {
    "collapsed": true
   },
   "outputs": [],
   "source": [
    "tic[tic=='x'] = 1\n",
    "tic[tic=='b'] = 0\n",
    "tic[tic=='o'] = -1\n",
    "tic[tic=='positive'] = 1\n",
    "tic[tic=='negative'] = 0\n"
   ]
  },
  {
   "cell_type": "code",
   "execution_count": 8,
   "metadata": {},
   "outputs": [
    {
     "data": {
      "text/html": [
       "<div>\n",
       "<style scoped>\n",
       "    .dataframe tbody tr th:only-of-type {\n",
       "        vertical-align: middle;\n",
       "    }\n",
       "\n",
       "    .dataframe tbody tr th {\n",
       "        vertical-align: top;\n",
       "    }\n",
       "\n",
       "    .dataframe thead th {\n",
       "        text-align: right;\n",
       "    }\n",
       "</style>\n",
       "<table border=\"1\" class=\"dataframe\">\n",
       "  <thead>\n",
       "    <tr style=\"text-align: right;\">\n",
       "      <th></th>\n",
       "      <th>topleft</th>\n",
       "      <th>topmiddle</th>\n",
       "      <th>topright</th>\n",
       "      <th>middleleft</th>\n",
       "      <th>middlemiddle</th>\n",
       "      <th>middleright</th>\n",
       "      <th>bottomleft</th>\n",
       "      <th>bottommiddle</th>\n",
       "      <th>bottomright</th>\n",
       "      <th>Class</th>\n",
       "    </tr>\n",
       "  </thead>\n",
       "  <tbody>\n",
       "    <tr>\n",
       "      <th>0</th>\n",
       "      <td>1</td>\n",
       "      <td>1</td>\n",
       "      <td>1</td>\n",
       "      <td>1</td>\n",
       "      <td>-1</td>\n",
       "      <td>-1</td>\n",
       "      <td>1</td>\n",
       "      <td>-1</td>\n",
       "      <td>-1</td>\n",
       "      <td>1</td>\n",
       "    </tr>\n",
       "    <tr>\n",
       "      <th>1</th>\n",
       "      <td>1</td>\n",
       "      <td>1</td>\n",
       "      <td>1</td>\n",
       "      <td>1</td>\n",
       "      <td>-1</td>\n",
       "      <td>-1</td>\n",
       "      <td>-1</td>\n",
       "      <td>1</td>\n",
       "      <td>-1</td>\n",
       "      <td>1</td>\n",
       "    </tr>\n",
       "    <tr>\n",
       "      <th>2</th>\n",
       "      <td>1</td>\n",
       "      <td>1</td>\n",
       "      <td>1</td>\n",
       "      <td>1</td>\n",
       "      <td>-1</td>\n",
       "      <td>-1</td>\n",
       "      <td>-1</td>\n",
       "      <td>-1</td>\n",
       "      <td>1</td>\n",
       "      <td>1</td>\n",
       "    </tr>\n",
       "    <tr>\n",
       "      <th>3</th>\n",
       "      <td>1</td>\n",
       "      <td>1</td>\n",
       "      <td>1</td>\n",
       "      <td>1</td>\n",
       "      <td>-1</td>\n",
       "      <td>-1</td>\n",
       "      <td>-1</td>\n",
       "      <td>0</td>\n",
       "      <td>0</td>\n",
       "      <td>1</td>\n",
       "    </tr>\n",
       "    <tr>\n",
       "      <th>4</th>\n",
       "      <td>1</td>\n",
       "      <td>1</td>\n",
       "      <td>1</td>\n",
       "      <td>1</td>\n",
       "      <td>-1</td>\n",
       "      <td>-1</td>\n",
       "      <td>0</td>\n",
       "      <td>-1</td>\n",
       "      <td>0</td>\n",
       "      <td>1</td>\n",
       "    </tr>\n",
       "  </tbody>\n",
       "</table>\n",
       "</div>"
      ],
      "text/plain": [
       "  topleft topmiddle topright middleleft middlemiddle middleright bottomleft  \\\n",
       "0       1         1        1          1           -1          -1          1   \n",
       "1       1         1        1          1           -1          -1         -1   \n",
       "2       1         1        1          1           -1          -1         -1   \n",
       "3       1         1        1          1           -1          -1         -1   \n",
       "4       1         1        1          1           -1          -1          0   \n",
       "\n",
       "  bottommiddle bottomright Class  \n",
       "0           -1          -1     1  \n",
       "1            1          -1     1  \n",
       "2           -1           1     1  \n",
       "3            0           0     1  \n",
       "4           -1           0     1  "
      ]
     },
     "execution_count": 8,
     "metadata": {},
     "output_type": "execute_result"
    }
   ],
   "source": [
    "tic.head()"
   ]
  },
  {
   "cell_type": "code",
   "execution_count": 9,
   "metadata": {},
   "outputs": [
    {
     "data": {
      "text/plain": [
       "1    626\n",
       "0    332\n",
       "Name: Class, dtype: int64"
      ]
     },
     "execution_count": 9,
     "metadata": {},
     "output_type": "execute_result"
    }
   ],
   "source": [
    "tic['Class'].value_counts()"
   ]
  },
  {
   "cell_type": "code",
   "execution_count": 10,
   "metadata": {},
   "outputs": [
    {
     "data": {
      "text/html": [
       "<div>\n",
       "<style scoped>\n",
       "    .dataframe tbody tr th:only-of-type {\n",
       "        vertical-align: middle;\n",
       "    }\n",
       "\n",
       "    .dataframe tbody tr th {\n",
       "        vertical-align: top;\n",
       "    }\n",
       "\n",
       "    .dataframe thead th {\n",
       "        text-align: right;\n",
       "    }\n",
       "</style>\n",
       "<table border=\"1\" class=\"dataframe\">\n",
       "  <thead>\n",
       "    <tr style=\"text-align: right;\">\n",
       "      <th></th>\n",
       "      <th>topleft</th>\n",
       "      <th>topmiddle</th>\n",
       "      <th>topright</th>\n",
       "      <th>middleleft</th>\n",
       "      <th>middlemiddle</th>\n",
       "      <th>middleright</th>\n",
       "      <th>bottomleft</th>\n",
       "      <th>bottommiddle</th>\n",
       "      <th>bottomright</th>\n",
       "      <th>Class</th>\n",
       "    </tr>\n",
       "  </thead>\n",
       "  <tbody>\n",
       "    <tr>\n",
       "      <th>count</th>\n",
       "      <td>958</td>\n",
       "      <td>958</td>\n",
       "      <td>958</td>\n",
       "      <td>958</td>\n",
       "      <td>958</td>\n",
       "      <td>958</td>\n",
       "      <td>958</td>\n",
       "      <td>958</td>\n",
       "      <td>958</td>\n",
       "      <td>958</td>\n",
       "    </tr>\n",
       "    <tr>\n",
       "      <th>unique</th>\n",
       "      <td>3</td>\n",
       "      <td>3</td>\n",
       "      <td>3</td>\n",
       "      <td>3</td>\n",
       "      <td>3</td>\n",
       "      <td>3</td>\n",
       "      <td>3</td>\n",
       "      <td>3</td>\n",
       "      <td>3</td>\n",
       "      <td>2</td>\n",
       "    </tr>\n",
       "    <tr>\n",
       "      <th>top</th>\n",
       "      <td>1</td>\n",
       "      <td>1</td>\n",
       "      <td>1</td>\n",
       "      <td>1</td>\n",
       "      <td>1</td>\n",
       "      <td>1</td>\n",
       "      <td>1</td>\n",
       "      <td>1</td>\n",
       "      <td>1</td>\n",
       "      <td>1</td>\n",
       "    </tr>\n",
       "    <tr>\n",
       "      <th>freq</th>\n",
       "      <td>418</td>\n",
       "      <td>378</td>\n",
       "      <td>418</td>\n",
       "      <td>378</td>\n",
       "      <td>458</td>\n",
       "      <td>378</td>\n",
       "      <td>418</td>\n",
       "      <td>378</td>\n",
       "      <td>418</td>\n",
       "      <td>626</td>\n",
       "    </tr>\n",
       "  </tbody>\n",
       "</table>\n",
       "</div>"
      ],
      "text/plain": [
       "        topleft  topmiddle  topright  middleleft  middlemiddle  middleright  \\\n",
       "count       958        958       958         958           958          958   \n",
       "unique        3          3         3           3             3            3   \n",
       "top           1          1         1           1             1            1   \n",
       "freq        418        378       418         378           458          378   \n",
       "\n",
       "        bottomleft  bottommiddle  bottomright  Class  \n",
       "count          958           958          958    958  \n",
       "unique           3             3            3      2  \n",
       "top              1             1            1      1  \n",
       "freq           418           378          418    626  "
      ]
     },
     "execution_count": 10,
     "metadata": {},
     "output_type": "execute_result"
    }
   ],
   "source": [
    "tic.describe()"
   ]
  },
  {
   "cell_type": "code",
   "execution_count": 11,
   "metadata": {},
   "outputs": [
    {
     "data": {
      "text/plain": [
       "topleft         418\n",
       "topmiddle       378\n",
       "topright        418\n",
       "middleleft      378\n",
       "middlemiddle    458\n",
       "middleright     378\n",
       "bottomleft      418\n",
       "bottommiddle    378\n",
       "bottomright     418\n",
       "Class           626\n",
       "dtype: int64"
      ]
     },
     "execution_count": 11,
     "metadata": {},
     "output_type": "execute_result"
    }
   ],
   "source": [
    "tic[tic==1].count()\n"
   ]
  },
  {
   "cell_type": "code",
   "execution_count": 12,
   "metadata": {
    "collapsed": true
   },
   "outputs": [],
   "source": [
    "#В клетку middlemiddle крестик ставили чаще всего!"
   ]
  },
  {
   "cell_type": "code",
   "execution_count": 13,
   "metadata": {},
   "outputs": [
    {
     "data": {
      "text/plain": [
       "topleft         753\n",
       "topmiddle       708\n",
       "topright        753\n",
       "middleleft      708\n",
       "middlemiddle    798\n",
       "middleright     708\n",
       "bottomleft      753\n",
       "bottommiddle    708\n",
       "bottomright     753\n",
       "Class           626\n",
       "dtype: int64"
      ]
     },
     "execution_count": 13,
     "metadata": {},
     "output_type": "execute_result"
    }
   ],
   "source": [
    "tic[tic!=0].count()"
   ]
  },
  {
   "cell_type": "code",
   "execution_count": 14,
   "metadata": {
    "collapsed": true
   },
   "outputs": [],
   "source": [
    "#Клетка middlemiddle чаще всего была не пустая!"
   ]
  },
  {
   "cell_type": "code",
   "execution_count": 60,
   "metadata": {
    "collapsed": true
   },
   "outputs": [],
   "source": [
    "def plotBoard(row_number, ax, markersize=50, title=True):\n",
    "    \n",
    "    board =  tic.iloc[row_number]\n",
    "    # positions for ticks and toes\n",
    "    coords = {\n",
    "        'topleft': (0.5, 2.5),\n",
    "        'topmiddle':(1.5, 2.5),\n",
    "        'topright':(2.5, 2.5),\n",
    "        'middleleft':(0.5, 1.5),\n",
    "        'middlemiddle':(1.5, 1.5),\n",
    "        'middleright':(2.5, 1.5),\n",
    "        'bottomleft':(0.5, 0.5),\n",
    "        'bottommiddle':(1.5, 0.5),\n",
    "        'bottomright':(2.5, 0.5)\n",
    "    }\n",
    "    \n",
    "    # draw the grid\n",
    "    for x in range(4):\n",
    "        ax.plot([x, x], [0,3], 'k')\n",
    "    for y in range(4):\n",
    "        ax.plot([0, 3], [y,y], 'k')\n",
    "\n",
    "\n",
    "    # get rid of axes and everything (the figure background will show through)\n",
    "    ax.set_axis_off()\n",
    "\n",
    "    # scale the plot area \n",
    "    ax.set_xlim(0,3)\n",
    "    ax.set_ylim(0,3)\n",
    "\n",
    "    # iteratively fill the board\n",
    "    for index, value in board[:-1].items():\n",
    "        if value == 1:\n",
    "            ax.plot(*coords[index],'X',markersize=markersize, markeredgecolor=(0,0,0), markerfacecolor='black', markeredgewidth=2)\n",
    "        elif value == -1:\n",
    "            ax.plot(*coords[index],'o',markersize=markersize, markeredgecolor=(0,0,0), markerfacecolor='w', markeredgewidth=2)\n",
    "    \n",
    "    if title:\n",
    "        if board[-1] == 1:\n",
    "            ax.set_title(\"Победили крестики\")\n",
    "        else:\n",
    "            ax.set_title(\"Победили нолики\")"
   ]
  },
  {
   "cell_type": "code",
   "execution_count": 249,
   "metadata": {
    "scrolled": false
   },
   "outputs": [
    {
     "data": {
      "image/png": "[encoded data removed]",
      "text/plain": [
       "<matplotlib.figure.Figure at 0x1a2f564c88>"
      ]
     },
     "metadata": {},
     "output_type": "display_data"
    }
   ],
   "source": [
    "fig, axes = plt.subplots(2, 3, figsize=(15, 10))\n",
    "fig.patch.set_facecolor((1,1,.8))\n",
    "\n",
    "set1 = tic[tic['Class']==1].sample(3).index\n",
    "for i in range(3):\n",
    "    plotBoard(set1[i], axes[0, i])\n",
    "    \n",
    "set0 = tic[tic['Class']==0].sample(3).index\n",
    "for i in range(3):\n",
    "    plotBoard(set0[i], axes[1, i])"
   ]
  },
  {
   "cell_type": "markdown",
   "metadata": {},
   "source": [
    "## Самые быстрые партии"
   ]
  },
  {
   "cell_type": "code",
   "execution_count": 250,
   "metadata": {},
   "outputs": [
    {
     "data": {
      "text/plain": [
       "Int64Index([ 33,  43,  47,  48,  49,  62,  66,  67,  68,  72,\n",
       "            ...\n",
       "            613, 617, 618, 619, 620, 621, 622, 623, 624, 625],\n",
       "           dtype='int64', length=120)"
      ]
     },
     "execution_count": 250,
     "metadata": {},
     "output_type": "execute_result"
    }
   ],
   "source": [
    "count_b = tic[tic==0].iloc[:,:-1].count(axis=1)\n",
    "count_b_ind = count_b[count_b==4].index\n",
    "count_b_ind"
   ]
  },
  {
   "cell_type": "code",
   "execution_count": 251,
   "metadata": {
    "scrolled": true
   },
   "outputs": [
    {
     "data": {
      "image/png": "[encoded data removed]",
      "text/plain": [
       "<matplotlib.figure.Figure at 0x1a2f823710>"
      ]
     },
     "metadata": {},
     "output_type": "display_data"
    }
   ],
   "source": [
    "fig, axes = plt.subplots(10, 12, figsize=(17, 18))\n",
    "fig.patch.set_facecolor((1,1,.8))\n",
    "axes = axes.flatten()\n",
    "for i in range(len(count_b_ind)):\n",
    "    plotBoard(count_b_ind[i], axes[i], markersize=15, title=False)"
   ]
  },
  {
   "cell_type": "markdown",
   "metadata": {},
   "source": [
    "Домашнее Задание 2"
   ]
  },
  {
   "cell_type": "code",
   "execution_count": 15,
   "metadata": {},
   "outputs": [
    {
     "data": {
      "text/plain": [
       "topleft         0\n",
       "topmiddle       0\n",
       "topright        0\n",
       "middleleft      0\n",
       "middlemiddle    0\n",
       "middleright     0\n",
       "bottomleft      0\n",
       "bottommiddle    0\n",
       "bottomright     0\n",
       "Class           0\n",
       "dtype: int64"
      ]
     },
     "execution_count": 15,
     "metadata": {},
     "output_type": "execute_result"
    }
   ],
   "source": [
    "tic.isnull().sum()"
   ]
  },
  {
   "cell_type": "code",
   "execution_count": 16,
   "metadata": {},
   "outputs": [
    {
     "data": {
      "text/plain": [
       "topleft         0.0\n",
       "topmiddle       0.0\n",
       "topright        0.0\n",
       "middleleft      0.0\n",
       "middlemiddle    0.0\n",
       "middleright     0.0\n",
       "bottomleft      0.0\n",
       "bottommiddle    0.0\n",
       "bottomright     0.0\n",
       "Class           0.0\n",
       "dtype: float64"
      ]
     },
     "execution_count": 16,
     "metadata": {},
     "output_type": "execute_result"
    }
   ],
   "source": [
    "tic.isnull().sum()/len(tic)"
   ]
  },
  {
   "cell_type": "markdown",
   "metadata": {},
   "source": [
    "Как мы видим в моем датасете нет пропусков, поэтому и процентное соотношение пропусков равно 0"
   ]
  },
  {
   "cell_type": "markdown",
   "metadata": {},
   "source": [
    "Как мне кажется, в моем датасете нет пременных, которые были бы явно связаны с целевой, поэтому никакие переменные не нужно удалять "
   ]
  },
  {
   "cell_type": "markdown",
   "metadata": {},
   "source": [
    "Так как мы знаем, что у нас нет пропусков в датасете, нам не нужно заполнять их медианой или средним"
   ]
  },
  {
   "cell_type": "code",
   "execution_count": 17,
   "metadata": {},
   "outputs": [
    {
     "data": {
      "text/plain": [
       "<matplotlib.axes._subplots.AxesSubplot at 0x1a0b2bb710>"
      ]
     },
     "execution_count": 17,
     "metadata": {},
     "output_type": "execute_result"
    },
    {
     "data": {
      "image/png": "[encoded data removed]",
      "text/plain": [
       "<matplotlib.figure.Figure at 0x1a0b26f1d0>"
      ]
     },
     "metadata": {},
     "output_type": "display_data"
    }
   ],
   "source": [
    "tic.Class.hist()"
   ]
  },
  {
   "cell_type": "markdown",
   "metadata": {},
   "source": [
    "Разобъем выборку на обущающую и тестовую и оставим 30% датасета"
   ]
  },
  {
   "cell_type": "code",
   "execution_count": 18,
   "metadata": {},
   "outputs": [
    {
     "data": {
      "text/plain": [
       "((958,), (958, 9))"
      ]
     },
     "execution_count": 18,
     "metadata": {},
     "output_type": "execute_result"
    }
   ],
   "source": [
    "D = tic['Class'].values\n",
    "C = tic.drop('Class',axis=1).values\n",
    "D.shape, C.shape"
   ]
  },
  {
   "cell_type": "code",
   "execution_count": 19,
   "metadata": {},
   "outputs": [
    {
     "name": "stdout",
     "output_type": "stream",
     "text": [
      "(670,) (670, 9)\n",
      "(288,) (288, 9)\n"
     ]
    }
   ],
   "source": [
    "from sklearn.model_selection import train_test_split\n",
    "\n",
    "D_train, D_test, C_train, C_test = train_test_split(D, C, test_size=0.3, random_state=42)\n",
    "\n",
    "print (D_train.shape, C_train.shape)\n",
    "print (D_test.shape, C_test.shape)"
   ]
  },
  {
   "cell_type": "code",
   "execution_count": 20,
   "metadata": {
    "collapsed": true
   },
   "outputs": [],
   "source": [
    "from sklearn.model_selection import train_test_split\n",
    "from sklearn.metrics import accuracy_score"
   ]
  },
  {
   "cell_type": "code",
   "execution_count": 21,
   "metadata": {
    "collapsed": true
   },
   "outputs": [],
   "source": [
    "D_train = D_train.astype('int')\n",
    "D_test = D_test.astype('int')"
   ]
  },
  {
   "cell_type": "markdown",
   "metadata": {},
   "source": [
    "Для начала воспользуемся методом ближайшего соседа"
   ]
  },
  {
   "cell_type": "code",
   "execution_count": 22,
   "metadata": {},
   "outputs": [
    {
     "data": {
      "text/plain": [
       "KNeighborsClassifier(algorithm='auto', leaf_size=30, metric='minkowski',\n",
       "           metric_params=None, n_jobs=1, n_neighbors=60, p=2,\n",
       "           weights='uniform')"
      ]
     },
     "execution_count": 22,
     "metadata": {},
     "output_type": "execute_result"
    }
   ],
   "source": [
    "from sklearn.neighbors import KNeighborsClassifier \n",
    "\n",
    "clf_knn = KNeighborsClassifier(n_neighbors=60)\n",
    "clf_knn.fit(C_train, D_train)"
   ]
  },
  {
   "cell_type": "code",
   "execution_count": 23,
   "metadata": {},
   "outputs": [
    {
     "data": {
      "text/plain": [
       "array([1, 1, 1, 1, 0, 1, 1, 1, 1, 0, 1, 1, 1, 0, 1, 1, 1, 1, 0, 0, 1, 1,\n",
       "       1, 1, 1, 1, 1, 1, 1, 1, 1, 1, 1, 1, 1, 1, 1, 1, 1, 0, 1, 1, 0, 1,\n",
       "       1, 0, 1, 1, 1, 1, 1, 0, 1, 1, 1, 1, 1, 1, 1, 1, 1, 1, 0, 1, 1, 1,\n",
       "       1, 1, 1, 1, 1, 1, 0, 1, 0, 1, 1, 1, 1, 1, 1, 1, 1, 1, 1, 1, 1, 1,\n",
       "       1, 1, 1, 1, 1, 0, 1, 1, 1, 1, 1, 1, 1, 1, 0, 1, 1, 1, 1, 1, 1, 1,\n",
       "       1, 1, 1, 1, 1, 1, 1, 1, 0, 1, 1, 0, 1, 0, 1, 1, 1, 1, 1, 1, 1, 1,\n",
       "       0, 1, 1, 1, 1, 1, 0, 1, 1, 1, 1, 1, 0, 1, 1, 0, 1, 1, 1, 1, 1, 1,\n",
       "       1, 1, 0, 1, 0, 1, 0, 1, 1, 1, 1, 1, 1, 1, 1, 1, 1, 1, 0, 1, 1, 1,\n",
       "       0, 1, 1, 1, 1, 1, 1, 0, 1, 1, 1, 1, 1, 1, 0, 1, 1, 1, 1, 1, 1, 1,\n",
       "       1, 0, 1, 1, 1, 1, 1, 1, 1, 1, 1, 1, 0, 1, 1, 1, 1, 0, 1, 1, 1, 0,\n",
       "       1, 1, 1, 1, 1, 1, 1, 1, 1, 1, 1, 1, 1, 1, 1, 1, 1, 1, 1, 1, 1, 1,\n",
       "       1, 1, 1, 0, 0, 1, 1, 1, 1, 1, 1, 1, 1, 1, 1, 1, 1, 1, 0, 1, 1, 1,\n",
       "       0, 1, 1, 1, 1, 0, 1, 0, 1, 1, 1, 1, 1, 0, 1, 1, 1, 0, 0, 1, 0, 0,\n",
       "       1, 0])"
      ]
     },
     "execution_count": 23,
     "metadata": {},
     "output_type": "execute_result"
    }
   ],
   "source": [
    "D_predicted = clf_knn.predict(C_test)\n",
    "D_predicted"
   ]
  },
  {
   "cell_type": "code",
   "execution_count": 24,
   "metadata": {},
   "outputs": [
    {
     "name": "stdout",
     "output_type": "stream",
     "text": [
      "Accuracy = 0.7951388888888888\n",
      "Precision = 0.7745901639344263\n",
      "Recall = 0.9792746113989638\n",
      "F1_score = 0.8649885583524028\n"
     ]
    }
   ],
   "source": [
    "from sklearn.metrics import accuracy_score, precision_score, recall_score, f1_score\n",
    "\n",
    "print('Accuracy =', accuracy_score(D_test, D_predicted))\n",
    "print('Precision =', precision_score(D_test, D_predicted))\n",
    "print('Recall =', recall_score(D_test, D_predicted))\n",
    "print('F1_score =', f1_score(D_test, D_predicted))"
   ]
  },
  {
   "cell_type": "code",
   "execution_count": 25,
   "metadata": {},
   "outputs": [
    {
     "data": {
      "text/plain": [
       "array([[0.28333333, 0.71666667],\n",
       "       [0.28333333, 0.71666667],\n",
       "       [0.38333333, 0.61666667],\n",
       "       [0.26666667, 0.73333333],\n",
       "       [0.56666667, 0.43333333],\n",
       "       [0.05      , 0.95      ],\n",
       "       [0.15      , 0.85      ],\n",
       "       [0.46666667, 0.53333333],\n",
       "       [0.33333333, 0.66666667],\n",
       "       [0.53333333, 0.46666667]])"
      ]
     },
     "execution_count": 25,
     "metadata": {},
     "output_type": "execute_result"
    }
   ],
   "source": [
    "D_probe = clf_knn.predict_proba(C_test)\n",
    "D_probe[:10]"
   ]
  },
  {
   "cell_type": "code",
   "execution_count": 26,
   "metadata": {},
   "outputs": [
    {
     "data": {
      "text/plain": [
       "array([ True,  True,  True,  True, False,  True,  True, False,  True,\n",
       "       False])"
      ]
     },
     "execution_count": 26,
     "metadata": {},
     "output_type": "execute_result"
    }
   ],
   "source": [
    "D_predicted = (D_probe[:,1] >= 0.6)\n",
    "D_predicted[:10]"
   ]
  },
  {
   "cell_type": "code",
   "execution_count": 27,
   "metadata": {},
   "outputs": [
    {
     "name": "stdout",
     "output_type": "stream",
     "text": [
      "Accuracy = 0.8541666666666666\n",
      "Precision = 0.8756218905472637\n",
      "Recall = 0.9119170984455959\n",
      "F1_score = 0.8934010152284263\n"
     ]
    }
   ],
   "source": [
    "print('Accuracy =', accuracy_score(D_test, D_predicted))\n",
    "print('Precision =', precision_score(D_test, D_predicted))\n",
    "print('Recall =', recall_score(D_test, D_predicted))\n",
    "print('F1_score =', f1_score(D_test, D_predicted))"
   ]
  },
  {
   "cell_type": "code",
   "execution_count": 28,
   "metadata": {},
   "outputs": [
    {
     "data": {
      "image/png": "[encoded data removed]",
      "text/plain": [
       "<matplotlib.figure.Figure at 0x1a15ecaf28>"
      ]
     },
     "metadata": {},
     "output_type": "display_data"
    }
   ],
   "source": [
    "from sklearn.metrics import roc_auc_score, roc_curve \n",
    "fpr, tpr, thresholds = roc_curve(D_test, D_probe[:,1])\n",
    "plt.plot(fpr, tpr, label='ROC curve ')\n",
    "plt.plot([0, 1], [0, 1])\n",
    "plt.xlim([0.0, 1.0])\n",
    "plt.ylim([0.0, 1.05])\n",
    "plt.xlabel('False Positive Rate')\n",
    "plt.ylabel('True Positive Rate')\n",
    "plt.title('ROC curve')\n",
    "plt.show()"
   ]
  },
  {
   "cell_type": "code",
   "execution_count": 29,
   "metadata": {},
   "outputs": [
    {
     "name": "stdout",
     "output_type": "stream",
     "text": [
      "AUC = 0.9184346877556586\n"
     ]
    }
   ],
   "source": [
    "# считаем площадь под кривой\n",
    "print('AUC =', roc_auc_score(D_test, D_probe[:,1]))"
   ]
  },
  {
   "cell_type": "markdown",
   "metadata": {},
   "source": [
    "У нас довольно большая площадь под кривой, следовательно наш классификатор довольно качественный"
   ]
  },
  {
   "cell_type": "code",
   "execution_count": 30,
   "metadata": {},
   "outputs": [
    {
     "data": {
      "text/plain": [
       "<matplotlib.legend.Legend at 0x1a16b70c18>"
      ]
     },
     "execution_count": 30,
     "metadata": {},
     "output_type": "execute_result"
    },
    {
     "data": {
      "image/png": "[encoded data removed]",
      "text/plain": [
       "<matplotlib.figure.Figure at 0x1a142b6320>"
      ]
     },
     "metadata": {},
     "output_type": "display_data"
    }
   ],
   "source": [
    "rocauc_train = [ ]\n",
    "rocauc_test = [ ]\n",
    "\n",
    "for k in range(5,500):\n",
    "    clf_knn = KNeighborsClassifier(n_neighbors=k)\n",
    "    clf_knn.fit(C_train, D_train)\n",
    "    \n",
    "    # Ошибка на тестовой выборке \n",
    "    D_probe = clf_knn.predict_proba(C_test)\n",
    "    rocauc_test.append(roc_auc_score(D_test, D_probe[:,1]))\n",
    "    \n",
    "plt.plot(rocauc_test, label='test score')\n",
    "plt.legend()"
   ]
  },
  {
   "cell_type": "code",
   "execution_count": 31,
   "metadata": {},
   "outputs": [
    {
     "data": {
      "text/plain": [
       "1.0"
      ]
     },
     "execution_count": 31,
     "metadata": {},
     "output_type": "execute_result"
    }
   ],
   "source": [
    "max(rocauc_test) #Максимальное значение достигает 1 - это очень высокий показатель качетсва"
   ]
  },
  {
   "cell_type": "markdown",
   "metadata": {},
   "source": [
    "Теперь попробуем сделать не одно дерево, а лес, посмотрим насколько изменятся наши показатели "
   ]
  },
  {
   "cell_type": "code",
   "execution_count": 32,
   "metadata": {
    "collapsed": true
   },
   "outputs": [],
   "source": [
    "from sklearn.tree import DecisionTreeClassifier #прогрузили дерево"
   ]
  },
  {
   "cell_type": "code",
   "execution_count": 33,
   "metadata": {
    "collapsed": true
   },
   "outputs": [],
   "source": [
    "clf_tree = DecisionTreeClassifier()     \n",
    "clf_tree.fit(C_train, D_train)          \n",
    "D_predicted = clf_tree.predict(C_test)  \n",
    "D_probe = clf_tree.predict_proba(C_test)"
   ]
  },
  {
   "cell_type": "code",
   "execution_count": 34,
   "metadata": {},
   "outputs": [
    {
     "name": "stdout",
     "output_type": "stream",
     "text": [
      "Accuracy = 0.9513888888888888\n",
      "Precision = 0.9637305699481865\n",
      "Recall = 0.9637305699481865\n",
      "F1_score = 0.9637305699481865\n"
     ]
    }
   ],
   "source": [
    "print('Accuracy =', accuracy_score(D_test, D_predicted))\n",
    "print('Precision =', precision_score(D_test, D_predicted))\n",
    "print('Recall =', recall_score(D_test, D_predicted))\n",
    "print('F1_score =', f1_score(D_test, D_predicted))"
   ]
  },
  {
   "cell_type": "markdown",
   "metadata": {},
   "source": [
    "Показатели стали еще больше, а значит классификатор стал еще точнее"
   ]
  },
  {
   "cell_type": "code",
   "execution_count": 35,
   "metadata": {},
   "outputs": [
    {
     "name": "stdout",
     "output_type": "stream",
     "text": [
      "AUC = 0.9450231797109353\n"
     ]
    },
    {
     "data": {
      "image/png": "[encoded data removed]",
      "text/plain": [
       "<matplotlib.figure.Figure at 0x1a0b26f4a8>"
      ]
     },
     "metadata": {},
     "output_type": "display_data"
    }
   ],
   "source": [
    "print('AUC =', roc_auc_score(D_test, D_probe[:,1]))\n",
    "\n",
    "#рисуем картиночку\n",
    "plt.plot(fpr, tpr, label='ROC curve ')\n",
    "plt.plot([0, 1], [0, 1])\n",
    "plt.xlim([0.0, 1.0])\n",
    "plt.ylim([0.0, 1.05])\n",
    "plt.xlabel('False Positive Rate')\n",
    "plt.ylabel('True Positive Rate')\n",
    "plt.title('ROC curve')\n",
    "plt.show()"
   ]
  },
  {
   "cell_type": "code",
   "execution_count": 36,
   "metadata": {},
   "outputs": [
    {
     "data": {
      "text/html": [
       "<div>\n",
       "<style scoped>\n",
       "    .dataframe tbody tr th:only-of-type {\n",
       "        vertical-align: middle;\n",
       "    }\n",
       "\n",
       "    .dataframe tbody tr th {\n",
       "        vertical-align: top;\n",
       "    }\n",
       "\n",
       "    .dataframe thead th {\n",
       "        text-align: right;\n",
       "    }\n",
       "</style>\n",
       "<table border=\"1\" class=\"dataframe\">\n",
       "  <thead>\n",
       "    <tr style=\"text-align: right;\">\n",
       "      <th></th>\n",
       "      <th>importance</th>\n",
       "    </tr>\n",
       "    <tr>\n",
       "      <th>feature</th>\n",
       "      <th></th>\n",
       "    </tr>\n",
       "  </thead>\n",
       "  <tbody>\n",
       "    <tr>\n",
       "      <th>topright</th>\n",
       "      <td>0.156281</td>\n",
       "    </tr>\n",
       "    <tr>\n",
       "      <th>middleright</th>\n",
       "      <td>0.125590</td>\n",
       "    </tr>\n",
       "    <tr>\n",
       "      <th>middlemiddle</th>\n",
       "      <td>0.121395</td>\n",
       "    </tr>\n",
       "    <tr>\n",
       "      <th>bottomleft</th>\n",
       "      <td>0.120911</td>\n",
       "    </tr>\n",
       "    <tr>\n",
       "      <th>bottommiddle</th>\n",
       "      <td>0.116678</td>\n",
       "    </tr>\n",
       "    <tr>\n",
       "      <th>middleleft</th>\n",
       "      <td>0.091253</td>\n",
       "    </tr>\n",
       "    <tr>\n",
       "      <th>topleft</th>\n",
       "      <td>0.090893</td>\n",
       "    </tr>\n",
       "    <tr>\n",
       "      <th>bottomright</th>\n",
       "      <td>0.088877</td>\n",
       "    </tr>\n",
       "    <tr>\n",
       "      <th>topmiddle</th>\n",
       "      <td>0.088121</td>\n",
       "    </tr>\n",
       "  </tbody>\n",
       "</table>\n",
       "</div>"
      ],
      "text/plain": [
       "              importance\n",
       "feature                 \n",
       "topright        0.156281\n",
       "middleright     0.125590\n",
       "middlemiddle    0.121395\n",
       "bottomleft      0.120911\n",
       "bottommiddle    0.116678\n",
       "middleleft      0.091253\n",
       "topleft         0.090893\n",
       "bottomright     0.088877\n",
       "topmiddle       0.088121"
      ]
     },
     "execution_count": 36,
     "metadata": {},
     "output_type": "execute_result"
    }
   ],
   "source": [
    "featureImportance = pd.DataFrame({\"feature\": tic.drop('Class',axis=1).columns, \n",
    "                                  \"importance\": clf_tree.feature_importances_})\n",
    "\n",
    "featureImportance.set_index('feature', inplace=True)\n",
    "featureImportance.sort_values([\"importance\"], ascending=False, inplace=True)\n",
    "featureImportance\n",
    "#На решающем дереве мы видим насколько сильно какая из переменных уменьшала ошибку при разбиении. Чем сильнее она это сделала, тем она важнее."
   ]
  },
  {
   "cell_type": "code",
   "execution_count": 37,
   "metadata": {},
   "outputs": [
    {
     "data": {
      "text/plain": [
       "<matplotlib.axes._subplots.AxesSubplot at 0x1a17129a58>"
      ]
     },
     "execution_count": 37,
     "metadata": {},
     "output_type": "execute_result"
    },
    {
     "data": {
      "image/png": "[encoded data removed]",
      "text/plain": [
       "<matplotlib.figure.Figure at 0x1a1701e0b8>"
      ]
     },
     "metadata": {},
     "output_type": "display_data"
    }
   ],
   "source": [
    "featureImportance[\"importance\"].plot('bar')"
   ]
  },
  {
   "cell_type": "markdown",
   "metadata": {},
   "source": [
    "Подберем оптимальное число деревьев "
   ]
  },
  {
   "cell_type": "code",
   "execution_count": 38,
   "metadata": {},
   "outputs": [
    {
     "data": {
      "text/plain": [
       "KNeighborsClassifier(algorithm='auto', leaf_size=30, metric='minkowski',\n",
       "           metric_params=None, n_jobs=1, n_neighbors=10, p=2,\n",
       "           weights='distance')"
      ]
     },
     "execution_count": 38,
     "metadata": {},
     "output_type": "execute_result"
    }
   ],
   "source": [
    "from sklearn.model_selection import GridSearchCV\n",
    "\n",
    "parameters = {'n_neighbors':range(5, 100), 'weights':['uniform', 'distance']}\n",
    "\n",
    "knc = KNeighborsClassifier()\n",
    "\n",
    "clf = GridSearchCV(knc, parameters)\n",
    "\n",
    "clf.fit(C_train, D_train)\n",
    "clf.best_estimator_"
   ]
  },
  {
   "cell_type": "code",
   "execution_count": 39,
   "metadata": {},
   "outputs": [
    {
     "name": "stdout",
     "output_type": "stream",
     "text": [
      "AUC = 0.998309244614126\n"
     ]
    }
   ],
   "source": [
    "D_proba = clf.predict_proba(C_test)[:,1]\n",
    "print('AUC =', roc_auc_score(D_test, D_proba))"
   ]
  },
  {
   "cell_type": "code",
   "execution_count": 40,
   "metadata": {
    "collapsed": true
   },
   "outputs": [],
   "source": [
    "from sklearn.ensemble import RandomForestClassifier #создаем лес\n",
    "rfc = RandomForestClassifier(n_estimators=10) \n",
    "rfc.fit(C_train, D_train)\n",
    "y_predicted = rfc.predict(C_test)\n",
    "y_proba = rfc.predict_proba(C_test)"
   ]
  },
  {
   "cell_type": "code",
   "execution_count": 41,
   "metadata": {},
   "outputs": [
    {
     "data": {
      "text/plain": [
       "<matplotlib.axes._subplots.AxesSubplot at 0x1a1731d668>"
      ]
     },
     "execution_count": 41,
     "metadata": {},
     "output_type": "execute_result"
    },
    {
     "data": {
      "image/png": "[encoded data removed]",
      "text/plain": [
       "<matplotlib.figure.Figure at 0x1a17503908>"
      ]
     },
     "metadata": {},
     "output_type": "display_data"
    }
   ],
   "source": [
    "featureImportance = pd.DataFrame({\"feature\": tic.drop('Class',axis=1).columns, \n",
    "                                  \"importance\": rfc.feature_importances_})\n",
    "\n",
    "featureImportance.set_index('feature', inplace=True)\n",
    "featureImportance.sort_values([\"importance\"], ascending=False, inplace=True)\n",
    "featureImportance[\"importance\"].plot('bar', figsize=(5,5))"
   ]
  },
  {
   "cell_type": "code",
   "execution_count": 44,
   "metadata": {},
   "outputs": [
    {
     "name": "stdout",
     "output_type": "stream",
     "text": [
      "AUC = 0.998309244614126\n"
     ]
    }
   ],
   "source": [
    "D_probe = clf.predict_proba(C_test)[:,1]\n",
    "print('AUC =', roc_auc_score(D_test, D_proba))"
   ]
  },
  {
   "cell_type": "code",
   "execution_count": 45,
   "metadata": {},
   "outputs": [
    {
     "data": {
      "text/plain": [
       "array([0, 1, 1, 0, 0, 1, 1, 1, 1, 0, 1, 1, 1, 1, 1, 1, 1, 1, 0, 0, 0, 1,\n",
       "       0, 1, 0, 1, 1, 1, 1, 1, 1, 1, 1, 1, 0, 0, 1, 1, 1, 0, 1, 1, 0, 0,\n",
       "       1, 1, 1, 1, 0, 0, 0, 0, 1, 1, 1, 1, 1, 0, 0, 1, 1, 1, 0, 1, 1, 1,\n",
       "       1, 0, 1, 1, 0, 0, 0, 1, 0, 1, 1, 0, 1, 0, 1, 1, 1, 1, 1, 1, 0, 0,\n",
       "       1, 1, 1, 0, 1, 0, 1, 1, 0, 1, 1, 1, 1, 1, 0, 1, 1, 1, 1, 1, 1, 1,\n",
       "       1, 1, 1, 0, 1, 1, 0, 1, 0, 0, 1, 1, 1, 0, 1, 1, 0, 1, 0, 1, 1, 1,\n",
       "       0, 1, 0, 1, 1, 1, 0, 1, 1, 1, 1, 1, 0, 1, 1, 0, 1, 1, 1, 0, 0, 0,\n",
       "       1, 1, 0, 1, 0, 1, 0, 0, 1, 1, 1, 1, 1, 1, 1, 1, 1, 0, 0, 1, 1, 1,\n",
       "       0, 1, 1, 0, 1, 1, 0, 0, 1, 1, 1, 1, 0, 1, 1, 0, 1, 1, 1, 1, 1, 1,\n",
       "       1, 0, 1, 1, 1, 1, 1, 1, 1, 1, 1, 1, 1, 1, 1, 1, 1, 1, 0, 0, 1, 0,\n",
       "       1, 0, 1, 1, 0, 0, 1, 1, 0, 1, 1, 1, 1, 1, 1, 1, 1, 1, 1, 1, 1, 1,\n",
       "       1, 1, 1, 0, 0, 1, 1, 1, 1, 0, 1, 1, 0, 1, 0, 1, 0, 0, 0, 1, 0, 1,\n",
       "       0, 1, 0, 1, 1, 0, 1, 1, 1, 1, 0, 1, 1, 0, 1, 0, 1, 0, 0, 1, 0, 0,\n",
       "       1, 0])"
      ]
     },
     "execution_count": 45,
     "metadata": {},
     "output_type": "execute_result"
    }
   ],
   "source": [
    "from sklearn.linear_model import LogisticRegression\n",
    "# объявляем модель\n",
    "logit = LogisticRegression()\n",
    "# обучаем на тренировочной выборке\n",
    "logit.fit(C_train, D_train)\n",
    "# предсказываем вероятности\n",
    "logit.predict_proba(C_test)\n",
    "# предсказываем сами метки классов\n",
    "logit.predict(C_test)"
   ]
  },
  {
   "cell_type": "code",
   "execution_count": 46,
   "metadata": {},
   "outputs": [
    {
     "data": {
      "text/plain": [
       "<matplotlib.axes._subplots.AxesSubplot at 0x1a1a9a5240>"
      ]
     },
     "execution_count": 46,
     "metadata": {},
     "output_type": "execute_result"
    },
    {
     "data": {
      "image/png": "[encoded data removed]",
      "text/plain": [
       "<matplotlib.figure.Figure at 0x1a1a9a4b70>"
      ]
     },
     "metadata": {},
     "output_type": "display_data"
    }
   ],
   "source": [
    "featureImportance = pd.DataFrame({\"feature\": tic.drop('Class',axis=1).columns, \n",
    "\"importance\": logit.coef_[0]})\n",
    "\n",
    "featureImportance.set_index('feature', inplace=True)\n",
    "featureImportance.sort_values([\"importance\"], ascending=False, inplace=True)\n",
    "featureImportance[\"importance\"].head(30).plot('bar', figsize=(8,5))\n",
    "featureImportance[\"importance\"].tail(30).plot('bar', figsize=(8,5))"
   ]
  },
  {
   "cell_type": "code",
   "execution_count": 47,
   "metadata": {},
   "outputs": [
    {
     "data": {
      "image/png": "[encoded data removed]",
      "text/plain": [
       "<matplotlib.figure.Figure at 0x1a1a9b1780>"
      ]
     },
     "metadata": {},
     "output_type": "display_data"
    }
   ],
   "source": [
    "import seaborn as sns \n",
    "from sklearn.metrics import confusion_matrix \n",
    "array = confusion_matrix(D_test, D_predicted) \n",
    "df_cm = pd.DataFrame(array) \n",
    "plt.figure(figsize = (6,6)) \n",
    "sns.heatmap(df_cm, annot=True, fmt='g', cbar=False) \n",
    "plt.ylabel(\"Actual\") \n",
    "plt.xlabel(\"Predicted\");"
   ]
  },
  {
   "cell_type": "code",
   "execution_count": null,
   "metadata": {
    "collapsed": true
   },
   "outputs": [],
   "source": []
  }
 ],
 "metadata": {
  "kernelspec": {
   "display_name": "Python 3",
   "language": "python",
   "name": "python3"
  },
  "language_info": {
   "codemirror_mode": {
    "name": "ipython",
    "version": 3
   },
   "file_extension": ".py",
   "mimetype": "text/x-python",
   "name": "python",
   "nbconvert_exporter": "python",
   "pygments_lexer": "ipython3",
   "version": "3.6.1"
  },
  "varInspector": {
   "cols": {
    "lenName": 16,
    "lenType": 16,
    "lenVar": 40
   },
   "kernels_config": {
    "python": {
     "delete_cmd_postfix": "",
     "delete_cmd_prefix": "del ",
     "library": "var_list.py",
     "varRefreshCmd": "print(var_dic_list())"
    },
    "r": {
     "delete_cmd_postfix": ") ",
     "delete_cmd_prefix": "rm(",
     "library": "var_list.r",
     "varRefreshCmd": "cat(var_dic_list()) "
    }
   },
   "types_to_exclude": [
    "module",
    "function",
    "builtin_function_or_method",
    "instance",
    "_Feature"
   ],
   "window_display": false
  }
 },
 "nbformat": 4,
 "nbformat_minor": 2
}
