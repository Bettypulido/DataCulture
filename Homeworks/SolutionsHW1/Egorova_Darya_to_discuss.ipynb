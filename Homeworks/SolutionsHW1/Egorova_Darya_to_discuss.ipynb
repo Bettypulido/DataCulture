{
 "cells": [
  {
   "cell_type": "markdown",
   "metadata": {},
   "source": [
    "\n",
    "### Описание датасета (из документации):\n",
    "*This database encodes the complete set of possible board configurations\n",
    "at the end of tic-tac-toe games, where \"x\" is assumed to have played\n",
    "first.  The target concept is \"win for x\" (i.e., true when \"x\" has one\n",
    "of 8 possible ways to create a \"three-in-a-row\").*\n",
    "\n",
    "*Attribute Information: (x=player x has taken, o=player o has taken, b=blank)*\n",
    "\n",
    "    1. top-left-square: {x,o,b}\n",
    "    2. top-middle-square: {x,o,b}\n",
    "    3. top-right-square: {x,o,b}\n",
    "    4. middle-left-square: {x,o,b}\n",
    "    5. middle-middle-square: {x,o,b}\n",
    "    6. middle-right-square: {x,o,b}\n",
    "    7. bottom-left-square: {x,o,b}\n",
    "    8. bottom-middle-square: {x,o,b}\n",
    "    9. bottom-right-square: {x,o,b}\n",
    "    10. Class: {positive,negative}"
   ]
  },
  {
   "cell_type": "markdown",
   "metadata": {},
   "source": [
    "# Part 1, exploratory data analysis (EDA)\n",
    "\n",
    "Вопросы:\n",
    "\n",
    "1. [1 балл] Загрузите датасет, указав, что header равен None, так как первая строка не является строкой с названиями переменных. Посмотрите на начало датасета при помощи `.head()`. \n",
    "2. [1 балл] Похоже, нужно основательно поработать с датасетом, так как нет ни названий столбцов, ни нормальных числовых переменных. Давайте начнем со столюцов - переименуйте их на 'topleft', 'topmiddle', 'topright','middleleft', 'middlemiddle', 'middleright','bottomleft', 'bottommiddle', 'bottomright','Class' (именно в таком порядке) и снова посмотрите на начало датасета.\n",
    "3. [3 балла] Отлично, теперь стало уже приятнее, но по-прежнему беда с переменными. Давайте их все перекодируем в числа. Задайте в качестве иксов единички, пустым значениям поставьте в соответствие нолики, а нолики замените на минус единички. Аналогично поработаем с целевой переменной - Class, которая отвечает за победу или поражение крестиков. В качестве positive поставьте единички, а negative - нули.\n",
    "4. [1 балл] Наконец, после всех этих преобразований, посчитайте, сколько в датасете случаев, когда крестики проиграли, а также воспользуйтесь функцией describe() для отображения базовых статистик переменных.\n",
    "5. [2 балла] В какую клетку чаще всего ставят крестики? Подсказка - это можно подсчитать при помощи count(), примененному к соответствующему срезу датасета. А какая клетка чаще всего оказывается не пустой на доске? (То есть в датасете в этом столбце реже всего встречается пустое значение - ноль)\n",
    "6. [1 балл] Визуализация - при помощи функции plotBoard постройте по несколько примеров для случаев, когда победили крестики, и когда победили нолики\n",
    "7. [1 балл] Вопрос-сюрприз! Попробуйте самостоятельно придумать какой-нибудь осмысленный вопрос или визуализацию для вашего датасета. Инициатива не наказуема, так что удивите меня ;)\n"
   ]
  },
  {
   "cell_type": "code",
   "execution_count": 1,
   "metadata": {
    "collapsed": true
   },
   "outputs": [],
   "source": [
    "import pandas as pd\n",
    "import matplotlib.pyplot as plt\n",
    "import seaborn as sns\n",
    "%matplotlib inline"
   ]
  },
  {
   "cell_type": "code",
   "execution_count": 34,
   "metadata": {
    "collapsed": true
   },
   "outputs": [],
   "source": [
    "tic = pd.read_csv('./egorova_tic-tac-toe.txt', header = None)"
   ]
  },
  {
   "cell_type": "code",
   "execution_count": 3,
   "metadata": {},
   "outputs": [
    {
     "data": {
      "text/html": [
       "<div>\n",
       "<style scoped>\n",
       "    .dataframe tbody tr th:only-of-type {\n",
       "        vertical-align: middle;\n",
       "    }\n",
       "\n",
       "    .dataframe tbody tr th {\n",
       "        vertical-align: top;\n",
       "    }\n",
       "\n",
       "    .dataframe thead th {\n",
       "        text-align: right;\n",
       "    }\n",
       "</style>\n",
       "<table border=\"1\" class=\"dataframe\">\n",
       "  <thead>\n",
       "    <tr style=\"text-align: right;\">\n",
       "      <th></th>\n",
       "      <th>0</th>\n",
       "      <th>1</th>\n",
       "      <th>2</th>\n",
       "      <th>3</th>\n",
       "      <th>4</th>\n",
       "      <th>5</th>\n",
       "      <th>6</th>\n",
       "      <th>7</th>\n",
       "      <th>8</th>\n",
       "      <th>9</th>\n",
       "    </tr>\n",
       "  </thead>\n",
       "  <tbody>\n",
       "    <tr>\n",
       "      <th>0</th>\n",
       "      <td>x</td>\n",
       "      <td>x</td>\n",
       "      <td>x</td>\n",
       "      <td>x</td>\n",
       "      <td>o</td>\n",
       "      <td>o</td>\n",
       "      <td>x</td>\n",
       "      <td>o</td>\n",
       "      <td>o</td>\n",
       "      <td>positive</td>\n",
       "    </tr>\n",
       "    <tr>\n",
       "      <th>1</th>\n",
       "      <td>x</td>\n",
       "      <td>x</td>\n",
       "      <td>x</td>\n",
       "      <td>x</td>\n",
       "      <td>o</td>\n",
       "      <td>o</td>\n",
       "      <td>o</td>\n",
       "      <td>x</td>\n",
       "      <td>o</td>\n",
       "      <td>positive</td>\n",
       "    </tr>\n",
       "    <tr>\n",
       "      <th>2</th>\n",
       "      <td>x</td>\n",
       "      <td>x</td>\n",
       "      <td>x</td>\n",
       "      <td>x</td>\n",
       "      <td>o</td>\n",
       "      <td>o</td>\n",
       "      <td>o</td>\n",
       "      <td>o</td>\n",
       "      <td>x</td>\n",
       "      <td>positive</td>\n",
       "    </tr>\n",
       "    <tr>\n",
       "      <th>3</th>\n",
       "      <td>x</td>\n",
       "      <td>x</td>\n",
       "      <td>x</td>\n",
       "      <td>x</td>\n",
       "      <td>o</td>\n",
       "      <td>o</td>\n",
       "      <td>o</td>\n",
       "      <td>b</td>\n",
       "      <td>b</td>\n",
       "      <td>positive</td>\n",
       "    </tr>\n",
       "    <tr>\n",
       "      <th>4</th>\n",
       "      <td>x</td>\n",
       "      <td>x</td>\n",
       "      <td>x</td>\n",
       "      <td>x</td>\n",
       "      <td>o</td>\n",
       "      <td>o</td>\n",
       "      <td>b</td>\n",
       "      <td>o</td>\n",
       "      <td>b</td>\n",
       "      <td>positive</td>\n",
       "    </tr>\n",
       "  </tbody>\n",
       "</table>\n",
       "</div>"
      ],
      "text/plain": [
       "   0  1  2  3  4  5  6  7  8         9\n",
       "0  x  x  x  x  o  o  x  o  o  positive\n",
       "1  x  x  x  x  o  o  o  x  o  positive\n",
       "2  x  x  x  x  o  o  o  o  x  positive\n",
       "3  x  x  x  x  o  o  o  b  b  positive\n",
       "4  x  x  x  x  o  o  b  o  b  positive"
      ]
     },
     "execution_count": 3,
     "metadata": {},
     "output_type": "execute_result"
    }
   ],
   "source": [
    "tic.head()"
   ]
  },
  {
   "cell_type": "code",
   "execution_count": 16,
   "metadata": {},
   "outputs": [
    {
     "data": {
      "text/plain": [
       "{0: 'topleft',\n",
       " 1: 'topmiddle',\n",
       " 2: 'topright',\n",
       " 3: 'middleleft',\n",
       " 4: 'middlemiddle',\n",
       " 5: 'middleright',\n",
       " 6: 'bottomleft',\n",
       " 7: 'bottommiddle',\n",
       " 8: 'bottomright',\n",
       " 9: 'Class'}"
      ]
     },
     "execution_count": 16,
     "metadata": {},
     "output_type": "execute_result"
    }
   ],
   "source": [
    "names = ['topleft',\n",
    " 'topmiddle',\n",
    " 'topright',\n",
    " 'middleleft',\n",
    " 'middlemiddle',\n",
    " 'middleright',\n",
    " 'bottomleft',\n",
    " 'bottommiddle',\n",
    " 'bottomright',\n",
    " 'Class']\n",
    "\n",
    "dict(enumerate(names))"
   ]
  },
  {
   "cell_type": "code",
   "execution_count": 35,
   "metadata": {
    "collapsed": true
   },
   "outputs": [],
   "source": [
    "tic.rename(columns=dict(enumerate(names)), inplace=True)"
   ]
  },
  {
   "cell_type": "code",
   "execution_count": 36,
   "metadata": {},
   "outputs": [
    {
     "data": {
      "text/html": [
       "<div>\n",
       "<style scoped>\n",
       "    .dataframe tbody tr th:only-of-type {\n",
       "        vertical-align: middle;\n",
       "    }\n",
       "\n",
       "    .dataframe tbody tr th {\n",
       "        vertical-align: top;\n",
       "    }\n",
       "\n",
       "    .dataframe thead th {\n",
       "        text-align: right;\n",
       "    }\n",
       "</style>\n",
       "<table border=\"1\" class=\"dataframe\">\n",
       "  <thead>\n",
       "    <tr style=\"text-align: right;\">\n",
       "      <th></th>\n",
       "      <th>topleft</th>\n",
       "      <th>topmiddle</th>\n",
       "      <th>topright</th>\n",
       "      <th>middleleft</th>\n",
       "      <th>middlemiddle</th>\n",
       "      <th>middleright</th>\n",
       "      <th>bottomleft</th>\n",
       "      <th>bottommiddle</th>\n",
       "      <th>bottomright</th>\n",
       "      <th>Class</th>\n",
       "    </tr>\n",
       "  </thead>\n",
       "  <tbody>\n",
       "    <tr>\n",
       "      <th>0</th>\n",
       "      <td>x</td>\n",
       "      <td>x</td>\n",
       "      <td>x</td>\n",
       "      <td>x</td>\n",
       "      <td>o</td>\n",
       "      <td>o</td>\n",
       "      <td>x</td>\n",
       "      <td>o</td>\n",
       "      <td>o</td>\n",
       "      <td>positive</td>\n",
       "    </tr>\n",
       "    <tr>\n",
       "      <th>1</th>\n",
       "      <td>x</td>\n",
       "      <td>x</td>\n",
       "      <td>x</td>\n",
       "      <td>x</td>\n",
       "      <td>o</td>\n",
       "      <td>o</td>\n",
       "      <td>o</td>\n",
       "      <td>x</td>\n",
       "      <td>o</td>\n",
       "      <td>positive</td>\n",
       "    </tr>\n",
       "    <tr>\n",
       "      <th>2</th>\n",
       "      <td>x</td>\n",
       "      <td>x</td>\n",
       "      <td>x</td>\n",
       "      <td>x</td>\n",
       "      <td>o</td>\n",
       "      <td>o</td>\n",
       "      <td>o</td>\n",
       "      <td>o</td>\n",
       "      <td>x</td>\n",
       "      <td>positive</td>\n",
       "    </tr>\n",
       "    <tr>\n",
       "      <th>3</th>\n",
       "      <td>x</td>\n",
       "      <td>x</td>\n",
       "      <td>x</td>\n",
       "      <td>x</td>\n",
       "      <td>o</td>\n",
       "      <td>o</td>\n",
       "      <td>o</td>\n",
       "      <td>b</td>\n",
       "      <td>b</td>\n",
       "      <td>positive</td>\n",
       "    </tr>\n",
       "    <tr>\n",
       "      <th>4</th>\n",
       "      <td>x</td>\n",
       "      <td>x</td>\n",
       "      <td>x</td>\n",
       "      <td>x</td>\n",
       "      <td>o</td>\n",
       "      <td>o</td>\n",
       "      <td>b</td>\n",
       "      <td>o</td>\n",
       "      <td>b</td>\n",
       "      <td>positive</td>\n",
       "    </tr>\n",
       "  </tbody>\n",
       "</table>\n",
       "</div>"
      ],
      "text/plain": [
       "  topleft topmiddle topright middleleft middlemiddle middleright bottomleft  \\\n",
       "0       x         x        x          x            o           o          x   \n",
       "1       x         x        x          x            o           o          o   \n",
       "2       x         x        x          x            o           o          o   \n",
       "3       x         x        x          x            o           o          o   \n",
       "4       x         x        x          x            o           o          b   \n",
       "\n",
       "  bottommiddle bottomright     Class  \n",
       "0            o           o  positive  \n",
       "1            x           o  positive  \n",
       "2            o           x  positive  \n",
       "3            b           b  positive  \n",
       "4            o           b  positive  "
      ]
     },
     "execution_count": 36,
     "metadata": {},
     "output_type": "execute_result"
    }
   ],
   "source": [
    "tic.head()"
   ]
  },
  {
   "cell_type": "code",
   "execution_count": 37,
   "metadata": {
    "collapsed": true
   },
   "outputs": [],
   "source": [
    "tic[tic=='x'] = 1\n",
    "tic[tic=='b'] = 0\n",
    "tic[tic=='o'] = -1\n",
    "tic[tic=='positive'] = 1\n",
    "tic[tic=='negative'] = 0\n"
   ]
  },
  {
   "cell_type": "code",
   "execution_count": 38,
   "metadata": {},
   "outputs": [
    {
     "data": {
      "text/html": [
       "<div>\n",
       "<style scoped>\n",
       "    .dataframe tbody tr th:only-of-type {\n",
       "        vertical-align: middle;\n",
       "    }\n",
       "\n",
       "    .dataframe tbody tr th {\n",
       "        vertical-align: top;\n",
       "    }\n",
       "\n",
       "    .dataframe thead th {\n",
       "        text-align: right;\n",
       "    }\n",
       "</style>\n",
       "<table border=\"1\" class=\"dataframe\">\n",
       "  <thead>\n",
       "    <tr style=\"text-align: right;\">\n",
       "      <th></th>\n",
       "      <th>topleft</th>\n",
       "      <th>topmiddle</th>\n",
       "      <th>topright</th>\n",
       "      <th>middleleft</th>\n",
       "      <th>middlemiddle</th>\n",
       "      <th>middleright</th>\n",
       "      <th>bottomleft</th>\n",
       "      <th>bottommiddle</th>\n",
       "      <th>bottomright</th>\n",
       "      <th>Class</th>\n",
       "    </tr>\n",
       "  </thead>\n",
       "  <tbody>\n",
       "    <tr>\n",
       "      <th>0</th>\n",
       "      <td>1</td>\n",
       "      <td>1</td>\n",
       "      <td>1</td>\n",
       "      <td>1</td>\n",
       "      <td>-1</td>\n",
       "      <td>-1</td>\n",
       "      <td>1</td>\n",
       "      <td>-1</td>\n",
       "      <td>-1</td>\n",
       "      <td>1</td>\n",
       "    </tr>\n",
       "    <tr>\n",
       "      <th>1</th>\n",
       "      <td>1</td>\n",
       "      <td>1</td>\n",
       "      <td>1</td>\n",
       "      <td>1</td>\n",
       "      <td>-1</td>\n",
       "      <td>-1</td>\n",
       "      <td>-1</td>\n",
       "      <td>1</td>\n",
       "      <td>-1</td>\n",
       "      <td>1</td>\n",
       "    </tr>\n",
       "    <tr>\n",
       "      <th>2</th>\n",
       "      <td>1</td>\n",
       "      <td>1</td>\n",
       "      <td>1</td>\n",
       "      <td>1</td>\n",
       "      <td>-1</td>\n",
       "      <td>-1</td>\n",
       "      <td>-1</td>\n",
       "      <td>-1</td>\n",
       "      <td>1</td>\n",
       "      <td>1</td>\n",
       "    </tr>\n",
       "    <tr>\n",
       "      <th>3</th>\n",
       "      <td>1</td>\n",
       "      <td>1</td>\n",
       "      <td>1</td>\n",
       "      <td>1</td>\n",
       "      <td>-1</td>\n",
       "      <td>-1</td>\n",
       "      <td>-1</td>\n",
       "      <td>0</td>\n",
       "      <td>0</td>\n",
       "      <td>1</td>\n",
       "    </tr>\n",
       "    <tr>\n",
       "      <th>4</th>\n",
       "      <td>1</td>\n",
       "      <td>1</td>\n",
       "      <td>1</td>\n",
       "      <td>1</td>\n",
       "      <td>-1</td>\n",
       "      <td>-1</td>\n",
       "      <td>0</td>\n",
       "      <td>-1</td>\n",
       "      <td>0</td>\n",
       "      <td>1</td>\n",
       "    </tr>\n",
       "  </tbody>\n",
       "</table>\n",
       "</div>"
      ],
      "text/plain": [
       "  topleft topmiddle topright middleleft middlemiddle middleright bottomleft  \\\n",
       "0       1         1        1          1           -1          -1          1   \n",
       "1       1         1        1          1           -1          -1         -1   \n",
       "2       1         1        1          1           -1          -1         -1   \n",
       "3       1         1        1          1           -1          -1         -1   \n",
       "4       1         1        1          1           -1          -1          0   \n",
       "\n",
       "  bottommiddle bottomright Class  \n",
       "0           -1          -1     1  \n",
       "1            1          -1     1  \n",
       "2           -1           1     1  \n",
       "3            0           0     1  \n",
       "4           -1           0     1  "
      ]
     },
     "execution_count": 38,
     "metadata": {},
     "output_type": "execute_result"
    }
   ],
   "source": [
    "tic.head()"
   ]
  },
  {
   "cell_type": "code",
   "execution_count": 32,
   "metadata": {},
   "outputs": [
    {
     "data": {
      "text/plain": [
       "1    626\n",
       "0    332\n",
       "Name: Class, dtype: int64"
      ]
     },
     "execution_count": 32,
     "metadata": {},
     "output_type": "execute_result"
    }
   ],
   "source": [
    "tic['Class'].value_counts()"
   ]
  },
  {
   "cell_type": "code",
   "execution_count": 110,
   "metadata": {},
   "outputs": [
    {
     "data": {
      "text/html": [
       "<div>\n",
       "<style scoped>\n",
       "    .dataframe tbody tr th:only-of-type {\n",
       "        vertical-align: middle;\n",
       "    }\n",
       "\n",
       "    .dataframe tbody tr th {\n",
       "        vertical-align: top;\n",
       "    }\n",
       "\n",
       "    .dataframe thead th {\n",
       "        text-align: right;\n",
       "    }\n",
       "</style>\n",
       "<table border=\"1\" class=\"dataframe\">\n",
       "  <thead>\n",
       "    <tr style=\"text-align: right;\">\n",
       "      <th></th>\n",
       "      <th>topleft</th>\n",
       "      <th>topmiddle</th>\n",
       "      <th>topright</th>\n",
       "      <th>middleleft</th>\n",
       "      <th>middlemiddle</th>\n",
       "      <th>middleright</th>\n",
       "      <th>bottomleft</th>\n",
       "      <th>bottommiddle</th>\n",
       "      <th>bottomright</th>\n",
       "      <th>Class</th>\n",
       "    </tr>\n",
       "  </thead>\n",
       "  <tbody>\n",
       "    <tr>\n",
       "      <th>count</th>\n",
       "      <td>958</td>\n",
       "      <td>958</td>\n",
       "      <td>958</td>\n",
       "      <td>958</td>\n",
       "      <td>958</td>\n",
       "      <td>958</td>\n",
       "      <td>958</td>\n",
       "      <td>958</td>\n",
       "      <td>958</td>\n",
       "      <td>958</td>\n",
       "    </tr>\n",
       "    <tr>\n",
       "      <th>unique</th>\n",
       "      <td>3</td>\n",
       "      <td>3</td>\n",
       "      <td>3</td>\n",
       "      <td>3</td>\n",
       "      <td>3</td>\n",
       "      <td>3</td>\n",
       "      <td>3</td>\n",
       "      <td>3</td>\n",
       "      <td>3</td>\n",
       "      <td>2</td>\n",
       "    </tr>\n",
       "    <tr>\n",
       "      <th>top</th>\n",
       "      <td>1</td>\n",
       "      <td>1</td>\n",
       "      <td>1</td>\n",
       "      <td>1</td>\n",
       "      <td>1</td>\n",
       "      <td>1</td>\n",
       "      <td>1</td>\n",
       "      <td>1</td>\n",
       "      <td>1</td>\n",
       "      <td>1</td>\n",
       "    </tr>\n",
       "    <tr>\n",
       "      <th>freq</th>\n",
       "      <td>418</td>\n",
       "      <td>378</td>\n",
       "      <td>418</td>\n",
       "      <td>378</td>\n",
       "      <td>458</td>\n",
       "      <td>378</td>\n",
       "      <td>418</td>\n",
       "      <td>378</td>\n",
       "      <td>418</td>\n",
       "      <td>626</td>\n",
       "    </tr>\n",
       "  </tbody>\n",
       "</table>\n",
       "</div>"
      ],
      "text/plain": [
       "        topleft  topmiddle  topright  middleleft  middlemiddle  middleright  \\\n",
       "count       958        958       958         958           958          958   \n",
       "unique        3          3         3           3             3            3   \n",
       "top           1          1         1           1             1            1   \n",
       "freq        418        378       418         378           458          378   \n",
       "\n",
       "        bottomleft  bottommiddle  bottomright  Class  \n",
       "count          958           958          958    958  \n",
       "unique           3             3            3      2  \n",
       "top              1             1            1      1  \n",
       "freq           418           378          418    626  "
      ]
     },
     "execution_count": 110,
     "metadata": {},
     "output_type": "execute_result"
    }
   ],
   "source": [
    "tic.describe()"
   ]
  },
  {
   "cell_type": "code",
   "execution_count": 122,
   "metadata": {},
   "outputs": [
    {
     "data": {
      "text/plain": [
       "topleft         418\n",
       "topmiddle       378\n",
       "topright        418\n",
       "middleleft      378\n",
       "middlemiddle    458\n",
       "middleright     378\n",
       "bottomleft      418\n",
       "bottommiddle    378\n",
       "bottomright     418\n",
       "Class           626\n",
       "dtype: int64"
      ]
     },
     "execution_count": 122,
     "metadata": {},
     "output_type": "execute_result"
    }
   ],
   "source": [
    "tic[tic==1].count()\n"
   ]
  },
  {
   "cell_type": "code",
   "execution_count": null,
   "metadata": {
    "collapsed": true
   },
   "outputs": [],
   "source": [
    "#В клетку middlemiddle крестик ставили чаще всего!"
   ]
  },
  {
   "cell_type": "code",
   "execution_count": 123,
   "metadata": {},
   "outputs": [
    {
     "data": {
      "text/plain": [
       "topleft         753\n",
       "topmiddle       708\n",
       "topright        753\n",
       "middleleft      708\n",
       "middlemiddle    798\n",
       "middleright     708\n",
       "bottomleft      753\n",
       "bottommiddle    708\n",
       "bottomright     753\n",
       "Class           626\n",
       "dtype: int64"
      ]
     },
     "execution_count": 123,
     "metadata": {},
     "output_type": "execute_result"
    }
   ],
   "source": [
    "tic[tic!=0].count()"
   ]
  },
  {
   "cell_type": "code",
   "execution_count": null,
   "metadata": {
    "collapsed": true
   },
   "outputs": [],
   "source": [
    "#Клетка middlemiddle чаще всего была не пустая!"
   ]
  },
  {
   "cell_type": "code",
   "execution_count": 124,
   "metadata": {
    "collapsed": true
   },
   "outputs": [],
   "source": [
    "def plotBoard(row_number, ax, markersize=50, title=True):\n",
    "    \n",
    "    board =  tic.iloc[row_number]\n",
    "    # positions for ticks and toes\n",
    "    coords = {\n",
    "        'topleft': (0.5, 2.5),\n",
    "        'topmiddle':(1.5, 2.5),\n",
    "        'topright':(2.5, 2.5),\n",
    "        'middleleft':(0.5, 1.5),\n",
    "        'middlemiddle':(1.5, 1.5),\n",
    "        'middleright':(2.5, 1.5),\n",
    "        'bottomleft':(0.5, 0.5),\n",
    "        'bottommiddle':(1.5, 0.5),\n",
    "        'bottomright':(2.5, 0.5)\n",
    "    }\n",
    "    \n",
    "    # draw the grid\n",
    "    for x in range(4):\n",
    "        ax.plot([x, x], [0,3], 'k')\n",
    "    for y in range(4):\n",
    "        ax.plot([0, 3], [y,y], 'k')\n",
    "\n",
    "\n",
    "    # get rid of axes and everything (the figure background will show through)\n",
    "    ax.set_axis_off()\n",
    "\n",
    "    # scale the plot area \n",
    "    ax.set_xlim(0,3)\n",
    "    ax.set_ylim(0,3)\n",
    "\n",
    "    # iteratively fill the board\n",
    "    for index, value in board[:-1].items():\n",
    "        if value == 1:\n",
    "            ax.plot(*coords[index],'X',markersize=markersize, markeredgecolor=(0,0,0), markerfacecolor='black', markeredgewidth=2)\n",
    "        elif value == -1:\n",
    "            ax.plot(*coords[index],'o',markersize=markersize, markeredgecolor=(0,0,0), markerfacecolor='w', markeredgewidth=2)\n",
    "    \n",
    "    if title:\n",
    "        if board[-1] == 1:\n",
    "            ax.set_title(\"Победили крестики\")\n",
    "        else:\n",
    "            ax.set_title(\"Победили нолики\")"
   ]
  },
  {
   "cell_type": "code",
   "execution_count": 125,
   "metadata": {
    "scrolled": false
   },
   "outputs": [
    {
     "data": {
      "image/png": "[encoded data removed]",
      "text/plain": [
       "<matplotlib.figure.Figure at 0x1a2de4fc18>"
      ]
     },
     "metadata": {},
     "output_type": "display_data"
    }
   ],
   "source": [
    "fig, axes = plt.subplots(2, 3, figsize=(15, 10))\n",
    "fig.patch.set_facecolor((1,1,.8))\n",
    "\n",
    "set1 = tic[tic['Class']==1].sample(3).index\n",
    "for i in range(3):\n",
    "    plotBoard(set1[i], axes[0, i])\n",
    "    \n",
    "set0 = tic[tic['Class']==0].sample(3).index\n",
    "for i in range(3):\n",
    "    plotBoard(set0[i], axes[1, i])"
   ]
  },
  {
   "cell_type": "markdown",
   "metadata": {},
   "source": [
    "## Самые быстрые партии"
   ]
  },
  {
   "cell_type": "code",
   "execution_count": 126,
   "metadata": {},
   "outputs": [
    {
     "data": {
      "text/plain": [
       "Int64Index([ 33,  43,  47,  48,  49,  62,  66,  67,  68,  72,\n",
       "            ...\n",
       "            613, 617, 618, 619, 620, 621, 622, 623, 624, 625],\n",
       "           dtype='int64', length=120)"
      ]
     },
     "execution_count": 126,
     "metadata": {},
     "output_type": "execute_result"
    }
   ],
   "source": [
    "count_b = tic[tic==0].iloc[:,:-1].count(axis=1)\n",
    "count_b_ind = count_b[count_b==4].index\n",
    "count_b_ind"
   ]
  },
  {
   "cell_type": "code",
   "execution_count": 109,
   "metadata": {},
   "outputs": [
    {
     "data": {
      "image/png": "[encoded data removed]",
      "text/plain": [
       "<matplotlib.figure.Figure at 0x1a2a17ff98>"
      ]
     },
     "metadata": {},
     "output_type": "display_data"
    }
   ],
   "source": [
    "fig, axes = plt.subplots(10, 12, figsize=(17, 18))\n",
    "fig.patch.set_facecolor((1,1,.8))\n",
    "axes = axes.flatten()\n",
    "for i in range(len(count_b_ind)):\n",
    "    plotBoard(count_b_ind[i], axes[i], markersize=15, title=False)"
   ]
  }
 ],
 "metadata": {
  "kernelspec": {
   "display_name": "Python 3",
   "language": "python",
   "name": "python3"
  },
  "language_info": {
   "codemirror_mode": {
    "name": "ipython",
    "version": 3
   },
   "file_extension": ".py",
   "mimetype": "text/x-python",
   "name": "python",
   "nbconvert_exporter": "python",
   "pygments_lexer": "ipython3",
   "version": "3.6.1"
  },
  "varInspector": {
   "cols": {
    "lenName": 16,
    "lenType": 16,
    "lenVar": 40
   },
   "kernels_config": {
    "python": {
     "delete_cmd_postfix": "",
     "delete_cmd_prefix": "del ",
     "library": "var_list.py",
     "varRefreshCmd": "print(var_dic_list())"
    },
    "r": {
     "delete_cmd_postfix": ") ",
     "delete_cmd_prefix": "rm(",
     "library": "var_list.r",
     "varRefreshCmd": "cat(var_dic_list()) "
    }
   },
   "types_to_exclude": [
    "module",
    "function",
    "builtin_function_or_method",
    "instance",
    "_Feature"
   ],
   "window_display": false
  }
 },
 "nbformat": 4,
 "nbformat_minor": 2
}
