{
 "cells": [
  {
   "cell_type": "markdown",
   "metadata": {},
   "source": [
    "# Part 1, exploratory data analysis (EDA)\n",
    "\n",
    "Вопросы:\n",
    "\n",
    "1. [1 балл] Загрузка данных и предобработка - загрузите датасет так, чтобы нулевой столбец выступал в качестве индекса датафрейма. Посмотрите на его `head` и `tail`. Похоже, у нас есть одна лишняя переменная - `id`, которая совершенно не информативна и будет нам только мешать, давайте сразу её уберем.\n",
    "2. [1 балл] Какое среднее число лайков в датасете? А медианное?\n",
    "3. [1 балл] Какой источник (автор) создал больше всего мемов? \n",
    "4. [2 балла] Создайте переменные, отвечающие за месяц, день, час и день недели, в которые мем появлялся. В какой год было создано больше всего мемов? \n",
    "5. [1 балл] Визуализация - Постройте гистограммы всех числовых переменных датасета при помощи одной команды. Для удобства отображения задайте размер графика `figsize` равным (25, 20).\n",
    "6. [3 балла] Похоже, что наши созданные переменные не очень хорошо смотреть на одном общем графике. Давайте потсроим отдельные для каждого. Постройте гистограмму для месяца выхода мема, указав число число разбиений равное 12 (по количеству месяцев в году). В какой месяц наплодили максимальное число мемов? Почему? Теперь постройте гистограмму для часа дня, указав логичное число разбиений. Как вы можете объяснить получившийся вид графика?\n",
    "7. [1 балл] Вопрос-сюрприз! Попробуйте самостоятельно придумать какой-нибудь осмысленный вопрос для вашего датасета и ответьте на  него. Инициатива не наказуема ;)"
   ]
  },
  {
   "cell_type": "markdown",
   "metadata": {},
   "source": [
    "## Итого - 10 баллов, супер :)"
   ]
  },
  {
   "cell_type": "code",
   "execution_count": 1,
   "metadata": {
    "collapsed": true
   },
   "outputs": [],
   "source": [
    "import pandas as pd\n",
    "import matplotlib.pyplot as plt\n",
    "import seaborn as sns\n",
    "%matplotlib inline"
   ]
  },
  {
   "cell_type": "code",
   "execution_count": 7,
   "metadata": {},
   "outputs": [
    {
     "data": {
      "text/plain": [
       "'C:\\\\Users\\\\DELL\\\\Desktop'"
      ]
     },
     "execution_count": 7,
     "metadata": {},
     "output_type": "execute_result"
    }
   ],
   "source": [
    "import os\n",
    "os.getcwd()"
   ]
  },
  {
   "cell_type": "markdown",
   "metadata": {},
   "source": [
    "### Комментарий к решению\n",
    "Отлично, с загрузкой данных справились"
   ]
  },
  {
   "cell_type": "code",
   "execution_count": 41,
   "metadata": {
    "collapsed": true
   },
   "outputs": [],
   "source": [
    "data = pd.read_csv('Pilosan_Asat_Hillary.csv', index_col = 0)"
   ]
  },
  {
   "cell_type": "code",
   "execution_count": 56,
   "metadata": {},
   "outputs": [
    {
     "data": {
      "text/html": [
       "<div>\n",
       "<style scoped>\n",
       "    .dataframe tbody tr th:only-of-type {\n",
       "        vertical-align: middle;\n",
       "    }\n",
       "\n",
       "    .dataframe tbody tr th {\n",
       "        vertical-align: top;\n",
       "    }\n",
       "\n",
       "    .dataframe thead th {\n",
       "        text-align: right;\n",
       "    }\n",
       "</style>\n",
       "<table border=\"1\" class=\"dataframe\">\n",
       "  <thead>\n",
       "    <tr style=\"text-align: right;\">\n",
       "      <th></th>\n",
       "      <th>timestamp</th>\n",
       "      <th>link</th>\n",
       "      <th>caption</th>\n",
       "      <th>author</th>\n",
       "      <th>network</th>\n",
       "      <th>likes</th>\n",
       "      <th>Year</th>\n",
       "      <th>Month</th>\n",
       "      <th>Day</th>\n",
       "      <th>Hour</th>\n",
       "      <th>Weekday</th>\n",
       "    </tr>\n",
       "  </thead>\n",
       "  <tbody>\n",
       "    <tr>\n",
       "      <th>0</th>\n",
       "      <td>2016-08-01 20:56:00</td>\n",
       "      <td>http://imgur.com/a/lNHED</td>\n",
       "      <td>Son killed by\\n country, in a\\n in a\\n war sta...</td>\n",
       "      <td>forwardsfromgrandma</td>\n",
       "      <td>imgur</td>\n",
       "      <td>-20</td>\n",
       "      <td>2016</td>\n",
       "      <td>8</td>\n",
       "      <td>1</td>\n",
       "      <td>20</td>\n",
       "      <td>&lt;built-in method weekday of Timestamp object a...</td>\n",
       "    </tr>\n",
       "    <tr>\n",
       "      <th>1</th>\n",
       "      <td>2016-09-05 13:51:00</td>\n",
       "      <td>http://imgur.com/a/Cm6ls</td>\n",
       "      <td>TRUMP LOVES TRUMP, AND\\n DOES WHAT HIS FOLLOWE...</td>\n",
       "      <td>politicalhumor</td>\n",
       "      <td>imgur</td>\n",
       "      <td>-17</td>\n",
       "      <td>2016</td>\n",
       "      <td>9</td>\n",
       "      <td>5</td>\n",
       "      <td>13</td>\n",
       "      <td>&lt;built-in method weekday of Timestamp object a...</td>\n",
       "    </tr>\n",
       "    <tr>\n",
       "      <th>2</th>\n",
       "      <td>2016-07-27 00:54:00</td>\n",
       "      <td>http://imgur.com/a/FRGrq</td>\n",
       "      <td>1h\\n Why end racism when we can just\\n end the...</td>\n",
       "      <td>TumblrInAction</td>\n",
       "      <td>imgur</td>\n",
       "      <td>-16</td>\n",
       "      <td>2016</td>\n",
       "      <td>7</td>\n",
       "      <td>27</td>\n",
       "      <td>0</td>\n",
       "      <td>&lt;built-in method weekday of Timestamp object a...</td>\n",
       "    </tr>\n",
       "    <tr>\n",
       "      <th>3</th>\n",
       "      <td>2016-07-08 04:12:00</td>\n",
       "      <td>http://imgur.com/a/zF2Bw</td>\n",
       "      <td>Do jokes about not noticing someone\\n because ...</td>\n",
       "      <td>toosoon</td>\n",
       "      <td>imgur</td>\n",
       "      <td>-16</td>\n",
       "      <td>2016</td>\n",
       "      <td>7</td>\n",
       "      <td>8</td>\n",
       "      <td>4</td>\n",
       "      <td>&lt;built-in method weekday of Timestamp object a...</td>\n",
       "    </tr>\n",
       "    <tr>\n",
       "      <th>4</th>\n",
       "      <td>2016-10-20 07:34:00</td>\n",
       "      <td>http://imgur.com/a/giimL</td>\n",
       "      <td>HILLARY CLINTON SAYS YOU CAN\\n KILL A BABY THE...</td>\n",
       "      <td>forwardsfromgrandma</td>\n",
       "      <td>imgur</td>\n",
       "      <td>-14</td>\n",
       "      <td>2016</td>\n",
       "      <td>10</td>\n",
       "      <td>20</td>\n",
       "      <td>7</td>\n",
       "      <td>&lt;built-in method weekday of Timestamp object a...</td>\n",
       "    </tr>\n",
       "  </tbody>\n",
       "</table>\n",
       "</div>"
      ],
      "text/plain": [
       "            timestamp                      link  \\\n",
       "0 2016-08-01 20:56:00  http://imgur.com/a/lNHED   \n",
       "1 2016-09-05 13:51:00  http://imgur.com/a/Cm6ls   \n",
       "2 2016-07-27 00:54:00  http://imgur.com/a/FRGrq   \n",
       "3 2016-07-08 04:12:00  http://imgur.com/a/zF2Bw   \n",
       "4 2016-10-20 07:34:00  http://imgur.com/a/giimL   \n",
       "\n",
       "                                             caption               author  \\\n",
       "0  Son killed by\\n country, in a\\n in a\\n war sta...  forwardsfromgrandma   \n",
       "1  TRUMP LOVES TRUMP, AND\\n DOES WHAT HIS FOLLOWE...       politicalhumor   \n",
       "2  1h\\n Why end racism when we can just\\n end the...       TumblrInAction   \n",
       "3  Do jokes about not noticing someone\\n because ...              toosoon   \n",
       "4  HILLARY CLINTON SAYS YOU CAN\\n KILL A BABY THE...  forwardsfromgrandma   \n",
       "\n",
       "  network  likes  Year  Month  Day  Hour  \\\n",
       "0   imgur    -20  2016      8    1    20   \n",
       "1   imgur    -17  2016      9    5    13   \n",
       "2   imgur    -16  2016      7   27     0   \n",
       "3   imgur    -16  2016      7    8     4   \n",
       "4   imgur    -14  2016     10   20     7   \n",
       "\n",
       "                                             Weekday  \n",
       "0  <built-in method weekday of Timestamp object a...  \n",
       "1  <built-in method weekday of Timestamp object a...  \n",
       "2  <built-in method weekday of Timestamp object a...  \n",
       "3  <built-in method weekday of Timestamp object a...  \n",
       "4  <built-in method weekday of Timestamp object a...  "
      ]
     },
     "execution_count": 56,
     "metadata": {},
     "output_type": "execute_result"
    }
   ],
   "source": [
    "# посмотрим на начало таблицы\n",
    "data.head()"
   ]
  },
  {
   "cell_type": "code",
   "execution_count": 55,
   "metadata": {},
   "outputs": [
    {
     "data": {
      "text/html": [
       "<div>\n",
       "<style scoped>\n",
       "    .dataframe tbody tr th:only-of-type {\n",
       "        vertical-align: middle;\n",
       "    }\n",
       "\n",
       "    .dataframe tbody tr th {\n",
       "        vertical-align: top;\n",
       "    }\n",
       "\n",
       "    .dataframe thead th {\n",
       "        text-align: right;\n",
       "    }\n",
       "</style>\n",
       "<table border=\"1\" class=\"dataframe\">\n",
       "  <thead>\n",
       "    <tr style=\"text-align: right;\">\n",
       "      <th></th>\n",
       "      <th>timestamp</th>\n",
       "      <th>link</th>\n",
       "      <th>caption</th>\n",
       "      <th>author</th>\n",
       "      <th>network</th>\n",
       "      <th>likes</th>\n",
       "      <th>Year</th>\n",
       "      <th>Month</th>\n",
       "      <th>Day</th>\n",
       "      <th>Hour</th>\n",
       "      <th>Weekday</th>\n",
       "    </tr>\n",
       "  </thead>\n",
       "  <tbody>\n",
       "    <tr>\n",
       "      <th>10891</th>\n",
       "      <td>2016-07-29 18:09:00</td>\n",
       "      <td>https://instagram.com/p/BIdHVLJBUks</td>\n",
       "      <td>bill: hey hill check this out\\n hillary\\n hey ...</td>\n",
       "      <td>11762801</td>\n",
       "      <td>instagram</td>\n",
       "      <td>101480</td>\n",
       "      <td>2016</td>\n",
       "      <td>7</td>\n",
       "      <td>29</td>\n",
       "      <td>18</td>\n",
       "      <td>&lt;built-in method weekday of Timestamp object a...</td>\n",
       "    </tr>\n",
       "    <tr>\n",
       "      <th>10892</th>\n",
       "      <td>2016-04-10 20:17:00</td>\n",
       "      <td>https://instagram.com/p/BECGkcSq8jQ</td>\n",
       "      <td>hillary: i hate braids\\n black people: we love...</td>\n",
       "      <td>11762801</td>\n",
       "      <td>instagram</td>\n",
       "      <td>102093</td>\n",
       "      <td>2016</td>\n",
       "      <td>4</td>\n",
       "      <td>10</td>\n",
       "      <td>20</td>\n",
       "      <td>&lt;built-in method weekday of Timestamp object a...</td>\n",
       "    </tr>\n",
       "    <tr>\n",
       "      <th>10893</th>\n",
       "      <td>2016-10-30 20:10:00</td>\n",
       "      <td>https://instagram.com/p/BMMzJFcD1vW</td>\n",
       "      <td>Katy Perry dressed as Hillary Clinton.\\n She h...</td>\n",
       "      <td>1419706373</td>\n",
       "      <td>instagram</td>\n",
       "      <td>127195</td>\n",
       "      <td>2016</td>\n",
       "      <td>10</td>\n",
       "      <td>30</td>\n",
       "      <td>20</td>\n",
       "      <td>&lt;built-in method weekday of Timestamp object a...</td>\n",
       "    </tr>\n",
       "    <tr>\n",
       "      <th>10894</th>\n",
       "      <td>2016-09-27 02:45:00</td>\n",
       "      <td>https://instagram.com/p/BK19S3KDYgU</td>\n",
       "      <td>when u laughing at hillary and donald\\n debati...</td>\n",
       "      <td>1419706373</td>\n",
       "      <td>instagram</td>\n",
       "      <td>154988</td>\n",
       "      <td>2016</td>\n",
       "      <td>9</td>\n",
       "      <td>27</td>\n",
       "      <td>2</td>\n",
       "      <td>&lt;built-in method weekday of Timestamp object a...</td>\n",
       "    </tr>\n",
       "    <tr>\n",
       "      <th>10895</th>\n",
       "      <td>2016-09-19 02:15:00</td>\n",
       "      <td>https://instagram.com/p/BKhTfWbghFL</td>\n",
       "      <td>Hilary Clinton Says \"Let's Make It Happen\"\\n W...</td>\n",
       "      <td>1419706373</td>\n",
       "      <td>instagram</td>\n",
       "      <td>231028</td>\n",
       "      <td>2016</td>\n",
       "      <td>9</td>\n",
       "      <td>19</td>\n",
       "      <td>2</td>\n",
       "      <td>&lt;built-in method weekday of Timestamp object a...</td>\n",
       "    </tr>\n",
       "  </tbody>\n",
       "</table>\n",
       "</div>"
      ],
      "text/plain": [
       "                timestamp                                 link  \\\n",
       "10891 2016-07-29 18:09:00  https://instagram.com/p/BIdHVLJBUks   \n",
       "10892 2016-04-10 20:17:00  https://instagram.com/p/BECGkcSq8jQ   \n",
       "10893 2016-10-30 20:10:00  https://instagram.com/p/BMMzJFcD1vW   \n",
       "10894 2016-09-27 02:45:00  https://instagram.com/p/BK19S3KDYgU   \n",
       "10895 2016-09-19 02:15:00  https://instagram.com/p/BKhTfWbghFL   \n",
       "\n",
       "                                                 caption      author  \\\n",
       "10891  bill: hey hill check this out\\n hillary\\n hey ...    11762801   \n",
       "10892  hillary: i hate braids\\n black people: we love...    11762801   \n",
       "10893  Katy Perry dressed as Hillary Clinton.\\n She h...  1419706373   \n",
       "10894  when u laughing at hillary and donald\\n debati...  1419706373   \n",
       "10895  Hilary Clinton Says \"Let's Make It Happen\"\\n W...  1419706373   \n",
       "\n",
       "         network   likes  Year  Month  Day  Hour  \\\n",
       "10891  instagram  101480  2016      7   29    18   \n",
       "10892  instagram  102093  2016      4   10    20   \n",
       "10893  instagram  127195  2016     10   30    20   \n",
       "10894  instagram  154988  2016      9   27     2   \n",
       "10895  instagram  231028  2016      9   19     2   \n",
       "\n",
       "                                                 Weekday  \n",
       "10891  <built-in method weekday of Timestamp object a...  \n",
       "10892  <built-in method weekday of Timestamp object a...  \n",
       "10893  <built-in method weekday of Timestamp object a...  \n",
       "10894  <built-in method weekday of Timestamp object a...  \n",
       "10895  <built-in method weekday of Timestamp object a...  "
      ]
     },
     "execution_count": 55,
     "metadata": {},
     "output_type": "execute_result"
    }
   ],
   "source": [
    "# на конец:\n",
    "data.tail()"
   ]
  },
  {
   "cell_type": "markdown",
   "metadata": {},
   "source": [
    "## Datetime features"
   ]
  },
  {
   "cell_type": "markdown",
   "metadata": {},
   "source": [
    "### Комментарий к решению\n",
    "С weekday немного стоило посмотреть, что выходит - это на самом деле функция, поэтому нужно в конце писать круглые скобки, чтобы действительно вернулся день недели :) \n",
    "\n",
    "```python\n",
    "data['Weekday'] = data.timestamp.apply(lambda x: x.weekday())\n",
    "```"
   ]
  },
  {
   "cell_type": "code",
   "execution_count": 54,
   "metadata": {
    "collapsed": true
   },
   "outputs": [],
   "source": [
    "# переводим таймстэмпы в формат datetime, чтобы с ними было удобнее работать в дальнейшем\n",
    "data['timestamp'] = data.timestamp.apply(lambda x: pd.to_datetime(x))\n",
    "\n",
    "# создаем переменную \"год\", в который вышел мемчик\n",
    "data['Year'] = data.timestamp.apply(lambda x: x.year)\n",
    "\n",
    "# аналогично создайте переменные Month, Day, Hour, Weekday\n",
    "data['Month'] = data.timestamp.apply(lambda x: x.month)\n",
    "data['Day'] = data.timestamp.apply(lambda x: x.day)\n",
    "data['Hour'] = data.timestamp.apply(lambda x: x.hour)\n",
    "data['Weekday'] = data.timestamp.apply(lambda x: x.weekday)"
   ]
  },
  {
   "cell_type": "code",
   "execution_count": 44,
   "metadata": {
    "collapsed": true
   },
   "outputs": [],
   "source": [
    "# выкидываем лишнюю переменную\n",
    "data = data.drop(['id'], axis=1)"
   ]
  },
  {
   "cell_type": "markdown",
   "metadata": {},
   "source": [
    "### Комментарий к решению\n",
    "Всё верно"
   ]
  },
  {
   "cell_type": "code",
   "execution_count": 10,
   "metadata": {},
   "outputs": [
    {
     "data": {
      "text/plain": [
       "38.0"
      ]
     },
     "execution_count": 10,
     "metadata": {},
     "output_type": "execute_result"
    }
   ],
   "source": [
    "# медианное число лайков\n",
    "data.likes.median()"
   ]
  },
  {
   "cell_type": "code",
   "execution_count": 11,
   "metadata": {},
   "outputs": [
    {
     "data": {
      "text/plain": [
       "864.2482562408223"
      ]
     },
     "execution_count": 11,
     "metadata": {},
     "output_type": "execute_result"
    }
   ],
   "source": [
    "# среднее число лайков\n",
    "data.likes.mean()"
   ]
  },
  {
   "cell_type": "code",
   "execution_count": 17,
   "metadata": {},
   "outputs": [
    {
     "data": {
      "text/plain": [
       "231028"
      ]
     },
     "execution_count": 17,
     "metadata": {},
     "output_type": "execute_result"
    }
   ],
   "source": [
    "# максимальное количество лайков\n",
    "data.likes.max()"
   ]
  },
  {
   "cell_type": "code",
   "execution_count": 18,
   "metadata": {},
   "outputs": [
    {
     "data": {
      "text/plain": [
       "forwardsfromgrandma     259\n",
       "6.63702E+14             243\n",
       "politicalhumor          212\n",
       "AdviceAnimals           165\n",
       "funny                   148\n",
       "7.91374E+14             139\n",
       "4chan                   128\n",
       "me_irl                   94\n",
       "1.64687E+15              87\n",
       "2.35087E+14              87\n",
       "3.34749E+14              86\n",
       "1.92264E+15              80\n",
       "1.4538E+14               78\n",
       "2.97176E+14              75\n",
       "Thathappened             71\n",
       "3.46787E+14              69\n",
       "facepalm                 67\n",
       "1.88355E+11              66\n",
       "conservativecartoons     66\n",
       "3.07189E+14              65\n",
       "iamverysmart             61\n",
       "2.46977E+14              56\n",
       "2.4852E+14               55\n",
       "3.40862E+14              54\n",
       "3.52587E+14              54\n",
       "1539151608               52\n",
       "1.12884E+14              51\n",
       "1.65978E+15              51\n",
       "2.17926E+14              48\n",
       "5.41886E+14              47\n",
       "                       ... \n",
       "1.50747E+15               1\n",
       "1.90558E+11               1\n",
       "7.42233E+14               1\n",
       "3.73855E+14               1\n",
       "allthingsmlg              1\n",
       "2.01722E+14               1\n",
       "4.57638E+14               1\n",
       "1.12196E+14               1\n",
       "1.67859E+14               1\n",
       "418031494                 1\n",
       "1520517463                1\n",
       "4.68682E+14               1\n",
       "1.56812E+14               1\n",
       "1.17261E+14               1\n",
       "3.39385E+14               1\n",
       "1.45126E+15               1\n",
       "2.2737E+14                1\n",
       "1.04697E+14               1\n",
       "3.35639E+14               1\n",
       "4.89779E+14               1\n",
       "2.16707E+14               1\n",
       "6.68944E+14               1\n",
       "5.16887E+14               1\n",
       "femaIes                   1\n",
       "1.9854E+14                1\n",
       "494579659                 1\n",
       "3.01433E+14               1\n",
       "929312085                 1\n",
       "3.89688E+14               1\n",
       "1.02006E+15               1\n",
       "Name: author, Length: 1924, dtype: int64"
      ]
     },
     "execution_count": 18,
     "metadata": {},
     "output_type": "execute_result"
    }
   ],
   "source": [
    "# топ авторов, создавших наибольшее количество мемчиков\n",
    "data['author'].value_counts()"
   ]
  },
  {
   "cell_type": "code",
   "execution_count": 21,
   "metadata": {},
   "outputs": [
    {
     "data": {
      "text/plain": [
       "259"
      ]
     },
     "execution_count": 21,
     "metadata": {},
     "output_type": "execute_result"
    }
   ],
   "source": [
    "# максимальное число мемов, созданных одним троллем\n",
    "data.author.value_counts().max()"
   ]
  },
  {
   "cell_type": "code",
   "execution_count": 28,
   "metadata": {},
   "outputs": [
    {
     "data": {
      "text/plain": [
       "2016    10717\n",
       "2015      169\n",
       "2014        8\n",
       "2013        2\n",
       "Name: Year, dtype: int64"
      ]
     },
     "execution_count": 28,
     "metadata": {},
     "output_type": "execute_result"
    }
   ],
   "source": [
    "# число мемов, созданных за определенный год\n",
    "data.Year.value_counts()"
   ]
  },
  {
   "cell_type": "markdown",
   "metadata": {},
   "source": [
    "### Комментарий к решению\n",
    "И снова верно"
   ]
  },
  {
   "cell_type": "code",
   "execution_count": 29,
   "metadata": {},
   "outputs": [
    {
     "data": {
      "image/png": "[encoded data removed]",
      "text/plain": [
       "<matplotlib.figure.Figure at 0x24b8d959908>"
      ]
     },
     "metadata": {},
     "output_type": "display_data"
    }
   ],
   "source": [
    "# гистограммы, показывающие в какой час, день, месяц и год было созданно определенное количество мемов\n",
    "data.hist(figsize=(25, 20));"
   ]
  },
  {
   "cell_type": "markdown",
   "metadata": {},
   "source": [
    "### Комментарий к решению\n",
    "Шикарно ;) "
   ]
  },
  {
   "cell_type": "code",
   "execution_count": 33,
   "metadata": {},
   "outputs": [
    {
     "data": {
      "text/plain": [
       "<matplotlib.axes._subplots.AxesSubplot at 0x24b8e893748>"
      ]
     },
     "execution_count": 33,
     "metadata": {},
     "output_type": "execute_result"
    },
    {
     "data": {
      "image/png": "[encoded data removed]",
      "text/plain": [
       "<matplotlib.figure.Figure at 0x24b8e1860f0>"
      ]
     },
     "metadata": {},
     "output_type": "display_data"
    }
   ],
   "source": [
    "# гистограмма показывает, что, чем ближе президентские выборы, тем больше мемчиков гуляет по сети\n",
    "data['Month'].hist(bins=12)"
   ]
  },
  {
   "cell_type": "code",
   "execution_count": 38,
   "metadata": {},
   "outputs": [
    {
     "data": {
      "text/plain": [
       "<matplotlib.axes._subplots.AxesSubplot at 0x24b8df4c128>"
      ]
     },
     "execution_count": 38,
     "metadata": {},
     "output_type": "execute_result"
    },
    {
     "data": {
      "image/png": "[encoded data removed]",
      "text/plain": [
       "<matplotlib.figure.Figure at 0x24b8df9c6d8>"
      ]
     },
     "metadata": {},
     "output_type": "display_data"
    }
   ],
   "source": [
    "# а тут мы видим, что мемы просматриваются в основном с 2 часов дня до 2 часов ночи\n",
    "data['Hour'].hist(bins=24)"
   ]
  },
  {
   "cell_type": "markdown",
   "metadata": {},
   "source": [
    "### Комментарий к решению\n",
    "Круто :)"
   ]
  },
  {
   "cell_type": "code",
   "execution_count": 51,
   "metadata": {},
   "outputs": [
    {
     "name": "stdout",
     "output_type": "stream",
     "text": [
      "В Facebook набралось больше всего лайков, а именно   4867389\n"
     ]
    }
   ],
   "source": [
    "#на какой платформе набралось больше всего лайков и сколько \n",
    "\n",
    "a = data.groupby('network').likes.sum().facebook\n",
    "b = data.groupby('network').likes.sum().imgur\n",
    "c = data.groupby('network').likes.sum().twitter\n",
    "d = data.groupby('network').likes.sum().instagram\n",
    "\n",
    "if a>d & a>b & a>c  :\n",
    "    print ('В Instagram набралось больше всего лайков, а именно  ', data.groupby('network').likes.sum().max())\n",
    "elif b>c & b>a & b>d:\n",
    "    print ('В Imgur набралось больше всего лайков, а именно  ', data.groupby('network').likes.sum().max())\n",
    "elif c>a & c>b & c>d:\n",
    "    print ('В Twitter набралось больше всего лайков, а именно  ', data.groupby('network').likes.sum().max())\n",
    "elif d>a & d>c & d>b:\n",
    "    print ('В Facebook набралось больше всего лайков, а именно  ', data.groupby('network').likes.sum().max())"
   ]
  }
 ],
 "metadata": {
  "kernelspec": {
   "display_name": "Python 3",
   "language": "python",
   "name": "python3"
  },
  "language_info": {
   "codemirror_mode": {
    "name": "ipython",
    "version": 3
   },
   "file_extension": ".py",
   "mimetype": "text/x-python",
   "name": "python",
   "nbconvert_exporter": "python",
   "pygments_lexer": "ipython3",
   "version": "3.6.1"
  },
  "varInspector": {
   "cols": {
    "lenName": 16,
    "lenType": 16,
    "lenVar": 40
   },
   "kernels_config": {
    "python": {
     "delete_cmd_postfix": "",
     "delete_cmd_prefix": "del ",
     "library": "var_list.py",
     "varRefreshCmd": "print(var_dic_list())"
    },
    "r": {
     "delete_cmd_postfix": ") ",
     "delete_cmd_prefix": "rm(",
     "library": "var_list.r",
     "varRefreshCmd": "cat(var_dic_list()) "
    }
   },
   "types_to_exclude": [
    "module",
    "function",
    "builtin_function_or_method",
    "instance",
    "_Feature"
   ],
   "window_display": false
  }
 },
 "nbformat": 4,
 "nbformat_minor": 2
}
