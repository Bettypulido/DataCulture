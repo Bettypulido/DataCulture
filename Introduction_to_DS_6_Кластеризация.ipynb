{
 "cells": [
  {
   "cell_type": "code",
   "execution_count": 1,
   "metadata": {},
   "outputs": [],
   "source": [
    "import pandas as pd\n",
    "import numpy as np\n",
    "import matplotlib.pyplot as plt\n",
    "import seaborn as sns\n",
    "%matplotlib inline"
   ]
  },
  {
   "cell_type": "code",
   "execution_count": 2,
   "metadata": {
    "collapsed": true
   },
   "outputs": [],
   "source": [
    "import warnings\n",
    "warnings.filterwarnings(\"ignore\")"
   ]
  },
  {
   "cell_type": "code",
   "execution_count": 3,
   "metadata": {
    "collapsed": true
   },
   "outputs": [],
   "source": [
    "data = pd.read_excel('data/dataset.xlsx')"
   ]
  },
  {
   "cell_type": "code",
   "execution_count": 4,
   "metadata": {},
   "outputs": [
    {
     "data": {
      "text/html": [
       "<div>\n",
       "<style>\n",
       "    .dataframe thead tr:only-child th {\n",
       "        text-align: right;\n",
       "    }\n",
       "\n",
       "    .dataframe thead th {\n",
       "        text-align: left;\n",
       "    }\n",
       "\n",
       "    .dataframe tbody tr th {\n",
       "        vertical-align: top;\n",
       "    }\n",
       "</style>\n",
       "<table border=\"1\" class=\"dataframe\">\n",
       "  <thead>\n",
       "    <tr style=\"text-align: right;\">\n",
       "      <th></th>\n",
       "      <th>Name</th>\n",
       "      <th>FavoriteSeries</th>\n",
       "      <th>StarWars</th>\n",
       "      <th>MetroTime</th>\n",
       "      <th>ExamScore</th>\n",
       "      <th>HomeInternetSpeed</th>\n",
       "    </tr>\n",
       "  </thead>\n",
       "  <tbody>\n",
       "    <tr>\n",
       "      <th>0</th>\n",
       "      <td>Акчурина Анастасия Максимовна</td>\n",
       "      <td>Друзья, Шерлок, Стыд, Рик и Морти, Игра престо...</td>\n",
       "      <td>0.0</td>\n",
       "      <td>15.0</td>\n",
       "      <td>282.0</td>\n",
       "      <td>NaN</td>\n",
       "    </tr>\n",
       "    <tr>\n",
       "      <th>1</th>\n",
       "      <td>Асадуллин Амир Искандерович</td>\n",
       "      <td>Gravity Falls, South Park, Futurama, Star vs. ...</td>\n",
       "      <td>164523.0</td>\n",
       "      <td>0.0</td>\n",
       "      <td>329.0</td>\n",
       "      <td>плохо</td>\n",
       "    </tr>\n",
       "    <tr>\n",
       "      <th>2</th>\n",
       "      <td>Болотина Елизавета Александровна</td>\n",
       "      <td>Доктор хаус, Конец этого еххного мира, Оранжев...</td>\n",
       "      <td>543612.0</td>\n",
       "      <td>30.0</td>\n",
       "      <td>337.0</td>\n",
       "      <td>хорошо</td>\n",
       "    </tr>\n",
       "    <tr>\n",
       "      <th>3</th>\n",
       "      <td>Борщенюк Александра Витальевна</td>\n",
       "      <td>Черное зеркало, Как я встретил вашу маму, Спле...</td>\n",
       "      <td>456123.0</td>\n",
       "      <td>40.0</td>\n",
       "      <td>351.0</td>\n",
       "      <td>средне</td>\n",
       "    </tr>\n",
       "    <tr>\n",
       "      <th>4</th>\n",
       "      <td>Веденеев Степан Васильевич</td>\n",
       "      <td>Игра престолов, Теория большого взрыва</td>\n",
       "      <td>456321.0</td>\n",
       "      <td>30.0</td>\n",
       "      <td>300.0</td>\n",
       "      <td>хорошо</td>\n",
       "    </tr>\n",
       "  </tbody>\n",
       "</table>\n",
       "</div>"
      ],
      "text/plain": [
       "                               Name  \\\n",
       "0     Акчурина Анастасия Максимовна   \n",
       "1       Асадуллин Амир Искандерович   \n",
       "2  Болотина Елизавета Александровна   \n",
       "3    Борщенюк Александра Витальевна   \n",
       "4        Веденеев Степан Васильевич   \n",
       "\n",
       "                                      FavoriteSeries  StarWars  MetroTime  \\\n",
       "0  Друзья, Шерлок, Стыд, Рик и Морти, Игра престо...       0.0       15.0   \n",
       "1  Gravity Falls, South Park, Futurama, Star vs. ...  164523.0        0.0   \n",
       "2  Доктор хаус, Конец этого еххного мира, Оранжев...  543612.0       30.0   \n",
       "3  Черное зеркало, Как я встретил вашу маму, Спле...  456123.0       40.0   \n",
       "4             Игра престолов, Теория большого взрыва  456321.0       30.0   \n",
       "\n",
       "   ExamScore HomeInternetSpeed  \n",
       "0      282.0               NaN  \n",
       "1      329.0             плохо  \n",
       "2      337.0            хорошо  \n",
       "3      351.0            средне  \n",
       "4      300.0            хорошо  "
      ]
     },
     "execution_count": 4,
     "metadata": {},
     "output_type": "execute_result"
    }
   ],
   "source": [
    "data.head()"
   ]
  },
  {
   "cell_type": "code",
   "execution_count": 5,
   "metadata": {},
   "outputs": [
    {
     "data": {
      "text/html": [
       "<div>\n",
       "<style>\n",
       "    .dataframe thead tr:only-child th {\n",
       "        text-align: right;\n",
       "    }\n",
       "\n",
       "    .dataframe thead th {\n",
       "        text-align: left;\n",
       "    }\n",
       "\n",
       "    .dataframe tbody tr th {\n",
       "        vertical-align: top;\n",
       "    }\n",
       "</style>\n",
       "<table border=\"1\" class=\"dataframe\">\n",
       "  <thead>\n",
       "    <tr style=\"text-align: right;\">\n",
       "      <th></th>\n",
       "      <th>Name</th>\n",
       "      <th>FavoriteSeries</th>\n",
       "      <th>StarWars</th>\n",
       "      <th>MetroTime</th>\n",
       "      <th>ExamScore</th>\n",
       "      <th>HomeInternetSpeed</th>\n",
       "    </tr>\n",
       "  </thead>\n",
       "  <tbody>\n",
       "    <tr>\n",
       "      <th>51</th>\n",
       "      <td>Поляков Владимир Игоревич</td>\n",
       "      <td>Шерлок</td>\n",
       "      <td>312546.0</td>\n",
       "      <td>NaN</td>\n",
       "      <td>NaN</td>\n",
       "      <td>хорошо</td>\n",
       "    </tr>\n",
       "    <tr>\n",
       "      <th>52</th>\n",
       "      <td>Саторов Шерзод Музаффарович</td>\n",
       "      <td>Шерлок</td>\n",
       "      <td>NaN</td>\n",
       "      <td>NaN</td>\n",
       "      <td>NaN</td>\n",
       "      <td>плохо</td>\n",
       "    </tr>\n",
       "    <tr>\n",
       "      <th>53</th>\n",
       "      <td>Стахова Марианна Владимировна</td>\n",
       "      <td>Во все тяжкие, Чёрное зеркало</td>\n",
       "      <td>0.0</td>\n",
       "      <td>NaN</td>\n",
       "      <td>280.0</td>\n",
       "      <td>хорошо</td>\n",
       "    </tr>\n",
       "    <tr>\n",
       "      <th>54</th>\n",
       "      <td>Тябутов Иван Михайлович</td>\n",
       "      <td>Молодёжка</td>\n",
       "      <td>456132.0</td>\n",
       "      <td>90.0</td>\n",
       "      <td>320.0</td>\n",
       "      <td>средне</td>\n",
       "    </tr>\n",
       "    <tr>\n",
       "      <th>55</th>\n",
       "      <td>Шибаев Виктор Михайлович</td>\n",
       "      <td>Игра престолов, Рик и морти, Шерлок, Острые ко...</td>\n",
       "      <td>635412.0</td>\n",
       "      <td>60.0</td>\n",
       "      <td>323.0</td>\n",
       "      <td>средне</td>\n",
       "    </tr>\n",
       "  </tbody>\n",
       "</table>\n",
       "</div>"
      ],
      "text/plain": [
       "                             Name  \\\n",
       "51      Поляков Владимир Игоревич   \n",
       "52    Саторов Шерзод Музаффарович   \n",
       "53  Стахова Марианна Владимировна   \n",
       "54        Тябутов Иван Михайлович   \n",
       "55       Шибаев Виктор Михайлович   \n",
       "\n",
       "                                       FavoriteSeries  StarWars  MetroTime  \\\n",
       "51                                             Шерлок  312546.0        NaN   \n",
       "52                                             Шерлок       NaN        NaN   \n",
       "53                      Во все тяжкие, Чёрное зеркало       0.0        NaN   \n",
       "54                                          Молодёжка  456132.0       90.0   \n",
       "55  Игра престолов, Рик и морти, Шерлок, Острые ко...  635412.0       60.0   \n",
       "\n",
       "    ExamScore HomeInternetSpeed  \n",
       "51        NaN            хорошо  \n",
       "52        NaN             плохо  \n",
       "53      280.0            хорошо  \n",
       "54      320.0            средне  \n",
       "55      323.0            средне  "
      ]
     },
     "execution_count": 5,
     "metadata": {},
     "output_type": "execute_result"
    }
   ],
   "source": [
    "data.tail()"
   ]
  },
  {
   "cell_type": "code",
   "execution_count": 6,
   "metadata": {},
   "outputs": [
    {
     "data": {
      "text/plain": [
       "(56, 6)"
      ]
     },
     "execution_count": 6,
     "metadata": {},
     "output_type": "execute_result"
    }
   ],
   "source": [
    "data.shape"
   ]
  },
  {
   "cell_type": "code",
   "execution_count": 7,
   "metadata": {},
   "outputs": [
    {
     "data": {
      "text/plain": [
       "<matplotlib.axes._subplots.AxesSubplot at 0x11b815da0>"
      ]
     },
     "execution_count": 7,
     "metadata": {},
     "output_type": "execute_result"
    },
    {
     "data": {
      "image/png": "[encoded data removed]",
      "text/plain": [
       "<matplotlib.figure.Figure at 0x11060d5c0>"
      ]
     },
     "metadata": {},
     "output_type": "display_data"
    }
   ],
   "source": [
    "data.MetroTime.hist()"
   ]
  },
  {
   "cell_type": "code",
   "execution_count": 8,
   "metadata": {},
   "outputs": [
    {
     "data": {
      "text/plain": [
       "172800.0"
      ]
     },
     "execution_count": 8,
     "metadata": {},
     "output_type": "execute_result"
    }
   ],
   "source": [
    "data.MetroTime.max()"
   ]
  },
  {
   "cell_type": "code",
   "execution_count": 9,
   "metadata": {},
   "outputs": [],
   "source": [
    "data.MetroTime[data.MetroTime==data.MetroTime.max()] = 30"
   ]
  },
  {
   "cell_type": "code",
   "execution_count": 10,
   "metadata": {},
   "outputs": [
    {
     "data": {
      "text/plain": [
       "(0, 161.6)"
      ]
     },
     "execution_count": 10,
     "metadata": {},
     "output_type": "execute_result"
    },
    {
     "data": {
      "image/png": "[encoded data removed]",
      "text/plain": [
       "<matplotlib.figure.Figure at 0x11b9fb358>"
      ]
     },
     "metadata": {},
     "output_type": "display_data"
    }
   ],
   "source": [
    "data.MetroTime.hist(normed=True, bins=10)\n",
    "data.MetroTime.plot.kde()\n",
    "plt.xlim(0)"
   ]
  },
  {
   "cell_type": "code",
   "execution_count": 11,
   "metadata": {},
   "outputs": [],
   "source": [
    "data.MetroTime = data.MetroTime.fillna(0)"
   ]
  },
  {
   "cell_type": "code",
   "execution_count": 12,
   "metadata": {
    "collapsed": true
   },
   "outputs": [],
   "source": [
    "data['UseMetro'] = data.MetroTime != 0"
   ]
  },
  {
   "cell_type": "code",
   "execution_count": 13,
   "metadata": {},
   "outputs": [
    {
     "data": {
      "text/plain": [
       "True     43\n",
       "False    13\n",
       "Name: UseMetro, dtype: int64"
      ]
     },
     "execution_count": 13,
     "metadata": {},
     "output_type": "execute_result"
    }
   ],
   "source": [
    "data.UseMetro.value_counts()"
   ]
  },
  {
   "cell_type": "code",
   "execution_count": 14,
   "metadata": {},
   "outputs": [
    {
     "data": {
      "text/plain": [
       "<matplotlib.axes._subplots.AxesSubplot at 0x11bc34320>"
      ]
     },
     "execution_count": 14,
     "metadata": {},
     "output_type": "execute_result"
    },
    {
     "data": {
      "image/png": "[encoded data removed]",
      "text/plain": [
       "<matplotlib.figure.Figure at 0x11bc56d30>"
      ]
     },
     "metadata": {},
     "output_type": "display_data"
    }
   ],
   "source": [
    "data.StarWars.hist(bins=10)"
   ]
  },
  {
   "cell_type": "code",
   "execution_count": 15,
   "metadata": {},
   "outputs": [],
   "source": [
    "data.StarWars.fillna(0, inplace=True)"
   ]
  },
  {
   "cell_type": "code",
   "execution_count": 16,
   "metadata": {},
   "outputs": [
    {
     "data": {
      "text/plain": [
       "<matplotlib.axes._subplots.AxesSubplot at 0x11bdc8400>"
      ]
     },
     "execution_count": 16,
     "metadata": {},
     "output_type": "execute_result"
    },
    {
     "data": {
      "image/png": "[encoded data removed]",
      "text/plain": [
       "<matplotlib.figure.Figure at 0x11bd9f080>"
      ]
     },
     "metadata": {},
     "output_type": "display_data"
    }
   ],
   "source": [
    "data.StarWars[data.StarWars>0].hist(bins=10)"
   ]
  },
  {
   "cell_type": "code",
   "execution_count": 17,
   "metadata": {},
   "outputs": [],
   "source": [
    "data.StarWars = data.StarWars.astype(int).astype(str)"
   ]
  },
  {
   "cell_type": "code",
   "execution_count": 18,
   "metadata": {},
   "outputs": [],
   "source": [
    "data.StarWars = data.StarWars.replace('0', '000000')"
   ]
  },
  {
   "cell_type": "code",
   "execution_count": 19,
   "metadata": {},
   "outputs": [],
   "source": [
    "data.StarWars = data.StarWars.apply(lambda row: [x for x in row])"
   ]
  },
  {
   "cell_type": "code",
   "execution_count": 20,
   "metadata": {},
   "outputs": [],
   "source": [
    "StarWars = pd.DataFrame(data.StarWars.tolist())\n",
    "StarWars.columns = [\"SW_{}\".format(i) for i in range(1, 7)]"
   ]
  },
  {
   "cell_type": "code",
   "execution_count": 21,
   "metadata": {},
   "outputs": [
    {
     "data": {
      "text/html": [
       "<div>\n",
       "<style>\n",
       "    .dataframe thead tr:only-child th {\n",
       "        text-align: right;\n",
       "    }\n",
       "\n",
       "    .dataframe thead th {\n",
       "        text-align: left;\n",
       "    }\n",
       "\n",
       "    .dataframe tbody tr th {\n",
       "        vertical-align: top;\n",
       "    }\n",
       "</style>\n",
       "<table border=\"1\" class=\"dataframe\">\n",
       "  <thead>\n",
       "    <tr style=\"text-align: right;\">\n",
       "      <th></th>\n",
       "      <th>SW_1</th>\n",
       "      <th>SW_2</th>\n",
       "      <th>SW_3</th>\n",
       "      <th>SW_4</th>\n",
       "      <th>SW_5</th>\n",
       "      <th>SW_6</th>\n",
       "    </tr>\n",
       "  </thead>\n",
       "  <tbody>\n",
       "    <tr>\n",
       "      <th>0</th>\n",
       "      <td>0</td>\n",
       "      <td>0</td>\n",
       "      <td>0</td>\n",
       "      <td>0</td>\n",
       "      <td>0</td>\n",
       "      <td>0</td>\n",
       "    </tr>\n",
       "    <tr>\n",
       "      <th>1</th>\n",
       "      <td>1</td>\n",
       "      <td>6</td>\n",
       "      <td>4</td>\n",
       "      <td>5</td>\n",
       "      <td>2</td>\n",
       "      <td>3</td>\n",
       "    </tr>\n",
       "    <tr>\n",
       "      <th>2</th>\n",
       "      <td>5</td>\n",
       "      <td>4</td>\n",
       "      <td>3</td>\n",
       "      <td>6</td>\n",
       "      <td>1</td>\n",
       "      <td>2</td>\n",
       "    </tr>\n",
       "    <tr>\n",
       "      <th>3</th>\n",
       "      <td>4</td>\n",
       "      <td>5</td>\n",
       "      <td>6</td>\n",
       "      <td>1</td>\n",
       "      <td>2</td>\n",
       "      <td>3</td>\n",
       "    </tr>\n",
       "    <tr>\n",
       "      <th>4</th>\n",
       "      <td>4</td>\n",
       "      <td>5</td>\n",
       "      <td>6</td>\n",
       "      <td>3</td>\n",
       "      <td>2</td>\n",
       "      <td>1</td>\n",
       "    </tr>\n",
       "  </tbody>\n",
       "</table>\n",
       "</div>"
      ],
      "text/plain": [
       "  SW_1 SW_2 SW_3 SW_4 SW_5 SW_6\n",
       "0    0    0    0    0    0    0\n",
       "1    1    6    4    5    2    3\n",
       "2    5    4    3    6    1    2\n",
       "3    4    5    6    1    2    3\n",
       "4    4    5    6    3    2    1"
      ]
     },
     "execution_count": 21,
     "metadata": {},
     "output_type": "execute_result"
    }
   ],
   "source": [
    "StarWars.head()"
   ]
  },
  {
   "cell_type": "code",
   "execution_count": 22,
   "metadata": {},
   "outputs": [],
   "source": [
    "#data = pd.concat([data, StarWars.astype(int)], axis=1)"
   ]
  },
  {
   "cell_type": "code",
   "execution_count": 23,
   "metadata": {},
   "outputs": [
    {
     "data": {
      "text/html": [
       "<div>\n",
       "<style>\n",
       "    .dataframe thead tr:only-child th {\n",
       "        text-align: right;\n",
       "    }\n",
       "\n",
       "    .dataframe thead th {\n",
       "        text-align: left;\n",
       "    }\n",
       "\n",
       "    .dataframe tbody tr th {\n",
       "        vertical-align: top;\n",
       "    }\n",
       "</style>\n",
       "<table border=\"1\" class=\"dataframe\">\n",
       "  <thead>\n",
       "    <tr style=\"text-align: right;\">\n",
       "      <th></th>\n",
       "      <th>Name</th>\n",
       "      <th>FavoriteSeries</th>\n",
       "      <th>StarWars</th>\n",
       "      <th>MetroTime</th>\n",
       "      <th>ExamScore</th>\n",
       "      <th>HomeInternetSpeed</th>\n",
       "      <th>UseMetro</th>\n",
       "    </tr>\n",
       "  </thead>\n",
       "  <tbody>\n",
       "    <tr>\n",
       "      <th>0</th>\n",
       "      <td>Акчурина Анастасия Максимовна</td>\n",
       "      <td>Друзья, Шерлок, Стыд, Рик и Морти, Игра престо...</td>\n",
       "      <td>[0, 0, 0, 0, 0, 0]</td>\n",
       "      <td>15.0</td>\n",
       "      <td>282.0</td>\n",
       "      <td>NaN</td>\n",
       "      <td>True</td>\n",
       "    </tr>\n",
       "    <tr>\n",
       "      <th>1</th>\n",
       "      <td>Асадуллин Амир Искандерович</td>\n",
       "      <td>Gravity Falls, South Park, Futurama, Star vs. ...</td>\n",
       "      <td>[1, 6, 4, 5, 2, 3]</td>\n",
       "      <td>0.0</td>\n",
       "      <td>329.0</td>\n",
       "      <td>плохо</td>\n",
       "      <td>False</td>\n",
       "    </tr>\n",
       "    <tr>\n",
       "      <th>2</th>\n",
       "      <td>Болотина Елизавета Александровна</td>\n",
       "      <td>Доктор хаус, Конец этого еххного мира, Оранжев...</td>\n",
       "      <td>[5, 4, 3, 6, 1, 2]</td>\n",
       "      <td>30.0</td>\n",
       "      <td>337.0</td>\n",
       "      <td>хорошо</td>\n",
       "      <td>True</td>\n",
       "    </tr>\n",
       "    <tr>\n",
       "      <th>3</th>\n",
       "      <td>Борщенюк Александра Витальевна</td>\n",
       "      <td>Черное зеркало, Как я встретил вашу маму, Спле...</td>\n",
       "      <td>[4, 5, 6, 1, 2, 3]</td>\n",
       "      <td>40.0</td>\n",
       "      <td>351.0</td>\n",
       "      <td>средне</td>\n",
       "      <td>True</td>\n",
       "    </tr>\n",
       "    <tr>\n",
       "      <th>4</th>\n",
       "      <td>Веденеев Степан Васильевич</td>\n",
       "      <td>Игра престолов, Теория большого взрыва</td>\n",
       "      <td>[4, 5, 6, 3, 2, 1]</td>\n",
       "      <td>30.0</td>\n",
       "      <td>300.0</td>\n",
       "      <td>хорошо</td>\n",
       "      <td>True</td>\n",
       "    </tr>\n",
       "  </tbody>\n",
       "</table>\n",
       "</div>"
      ],
      "text/plain": [
       "                               Name  \\\n",
       "0     Акчурина Анастасия Максимовна   \n",
       "1       Асадуллин Амир Искандерович   \n",
       "2  Болотина Елизавета Александровна   \n",
       "3    Борщенюк Александра Витальевна   \n",
       "4        Веденеев Степан Васильевич   \n",
       "\n",
       "                                      FavoriteSeries            StarWars  \\\n",
       "0  Друзья, Шерлок, Стыд, Рик и Морти, Игра престо...  [0, 0, 0, 0, 0, 0]   \n",
       "1  Gravity Falls, South Park, Futurama, Star vs. ...  [1, 6, 4, 5, 2, 3]   \n",
       "2  Доктор хаус, Конец этого еххного мира, Оранжев...  [5, 4, 3, 6, 1, 2]   \n",
       "3  Черное зеркало, Как я встретил вашу маму, Спле...  [4, 5, 6, 1, 2, 3]   \n",
       "4             Игра престолов, Теория большого взрыва  [4, 5, 6, 3, 2, 1]   \n",
       "\n",
       "   MetroTime  ExamScore HomeInternetSpeed  UseMetro  \n",
       "0       15.0      282.0               NaN      True  \n",
       "1        0.0      329.0             плохо     False  \n",
       "2       30.0      337.0            хорошо      True  \n",
       "3       40.0      351.0            средне      True  \n",
       "4       30.0      300.0            хорошо      True  "
      ]
     },
     "execution_count": 23,
     "metadata": {},
     "output_type": "execute_result"
    }
   ],
   "source": [
    "data.head()"
   ]
  },
  {
   "cell_type": "code",
   "execution_count": 24,
   "metadata": {
    "collapsed": true
   },
   "outputs": [],
   "source": [
    "data.drop(['StarWars'], axis=1, inplace=True)"
   ]
  },
  {
   "cell_type": "code",
   "execution_count": 25,
   "metadata": {},
   "outputs": [
    {
     "data": {
      "text/plain": [
       "<matplotlib.axes._subplots.AxesSubplot at 0x11bfbab38>"
      ]
     },
     "execution_count": 25,
     "metadata": {},
     "output_type": "execute_result"
    },
    {
     "data": {
      "image/png": "[encoded data removed]",
      "text/plain": [
       "<matplotlib.figure.Figure at 0x11be87710>"
      ]
     },
     "metadata": {},
     "output_type": "display_data"
    }
   ],
   "source": [
    "data.ExamScore.hist()"
   ]
  },
  {
   "cell_type": "code",
   "execution_count": 26,
   "metadata": {},
   "outputs": [],
   "source": [
    "data.ExamScore[data.ExamScore==data.ExamScore.max()] = 337"
   ]
  },
  {
   "cell_type": "code",
   "execution_count": 27,
   "metadata": {},
   "outputs": [
    {
     "data": {
      "text/plain": [
       "<matplotlib.axes._subplots.AxesSubplot at 0x11bf46f60>"
      ]
     },
     "execution_count": 27,
     "metadata": {},
     "output_type": "execute_result"
    },
    {
     "data": {
      "image/png": "[encoded data removed]",
      "text/plain": [
       "<matplotlib.figure.Figure at 0x11c0b3e80>"
      ]
     },
     "metadata": {},
     "output_type": "display_data"
    }
   ],
   "source": [
    "data.ExamScore.hist()"
   ]
  },
  {
   "cell_type": "code",
   "execution_count": 28,
   "metadata": {},
   "outputs": [],
   "source": [
    "data['ExamQuantity'] = data.ExamScore//100 + (data.ExamScore%100 > 0).astype(int)\n",
    "data['ExamQuantity'] = data['ExamQuantity'].fillna(0).astype(int)"
   ]
  },
  {
   "cell_type": "code",
   "execution_count": 29,
   "metadata": {},
   "outputs": [
    {
     "data": {
      "image/png": "[encoded data removed]",
      "text/plain": [
       "<matplotlib.figure.Figure at 0x11bace208>"
      ]
     },
     "metadata": {},
     "output_type": "display_data"
    }
   ],
   "source": [
    "data.ExamQuantity.value_counts().plot.bar();"
   ]
  },
  {
   "cell_type": "code",
   "execution_count": 30,
   "metadata": {},
   "outputs": [],
   "source": [
    "data['AverageScore'] = data.ExamScore.div(data.ExamQuantity)"
   ]
  },
  {
   "cell_type": "code",
   "execution_count": 31,
   "metadata": {},
   "outputs": [
    {
     "data": {
      "image/png": "[encoded data removed]",
      "text/plain": [
       "<matplotlib.figure.Figure at 0x11c148080>"
      ]
     },
     "metadata": {},
     "output_type": "display_data"
    }
   ],
   "source": [
    "data.AverageScore.hist(bins=5, normed=True)\n",
    "data.AverageScore.plot.kde()\n",
    "plt.title(\"Распределение среднего балла ЕГЭ\");"
   ]
  },
  {
   "cell_type": "code",
   "execution_count": 32,
   "metadata": {},
   "outputs": [],
   "source": [
    "data.drop(['ExamScore'], axis=1, inplace=True)"
   ]
  },
  {
   "cell_type": "code",
   "execution_count": 33,
   "metadata": {
    "collapsed": true
   },
   "outputs": [],
   "source": [
    "data['ScoreUnknown'] = data.AverageScore.isnull()"
   ]
  },
  {
   "cell_type": "code",
   "execution_count": 34,
   "metadata": {},
   "outputs": [
    {
     "data": {
      "text/plain": [
       "False    35\n",
       "True     21\n",
       "Name: ScoreUnknown, dtype: int64"
      ]
     },
     "execution_count": 34,
     "metadata": {},
     "output_type": "execute_result"
    }
   ],
   "source": [
    "data.ScoreUnknown.value_counts()"
   ]
  },
  {
   "cell_type": "code",
   "execution_count": 35,
   "metadata": {},
   "outputs": [],
   "source": [
    "data.AverageScore = data.AverageScore.fillna(data.AverageScore.median())"
   ]
  },
  {
   "cell_type": "code",
   "execution_count": 36,
   "metadata": {},
   "outputs": [
    {
     "data": {
      "text/html": [
       "<div>\n",
       "<style>\n",
       "    .dataframe thead tr:only-child th {\n",
       "        text-align: right;\n",
       "    }\n",
       "\n",
       "    .dataframe thead th {\n",
       "        text-align: left;\n",
       "    }\n",
       "\n",
       "    .dataframe tbody tr th {\n",
       "        vertical-align: top;\n",
       "    }\n",
       "</style>\n",
       "<table border=\"1\" class=\"dataframe\">\n",
       "  <thead>\n",
       "    <tr style=\"text-align: right;\">\n",
       "      <th></th>\n",
       "      <th>Name</th>\n",
       "      <th>FavoriteSeries</th>\n",
       "      <th>MetroTime</th>\n",
       "      <th>HomeInternetSpeed</th>\n",
       "      <th>UseMetro</th>\n",
       "      <th>ExamQuantity</th>\n",
       "      <th>AverageScore</th>\n",
       "      <th>ScoreUnknown</th>\n",
       "    </tr>\n",
       "  </thead>\n",
       "  <tbody>\n",
       "    <tr>\n",
       "      <th>0</th>\n",
       "      <td>Акчурина Анастасия Максимовна</td>\n",
       "      <td>Друзья, Шерлок, Стыд, Рик и Морти, Игра престо...</td>\n",
       "      <td>15.0</td>\n",
       "      <td>NaN</td>\n",
       "      <td>True</td>\n",
       "      <td>3</td>\n",
       "      <td>94.00</td>\n",
       "      <td>False</td>\n",
       "    </tr>\n",
       "    <tr>\n",
       "      <th>1</th>\n",
       "      <td>Асадуллин Амир Искандерович</td>\n",
       "      <td>Gravity Falls, South Park, Futurama, Star vs. ...</td>\n",
       "      <td>0.0</td>\n",
       "      <td>плохо</td>\n",
       "      <td>False</td>\n",
       "      <td>4</td>\n",
       "      <td>82.25</td>\n",
       "      <td>False</td>\n",
       "    </tr>\n",
       "    <tr>\n",
       "      <th>2</th>\n",
       "      <td>Болотина Елизавета Александровна</td>\n",
       "      <td>Доктор хаус, Конец этого еххного мира, Оранжев...</td>\n",
       "      <td>30.0</td>\n",
       "      <td>хорошо</td>\n",
       "      <td>True</td>\n",
       "      <td>4</td>\n",
       "      <td>84.25</td>\n",
       "      <td>False</td>\n",
       "    </tr>\n",
       "    <tr>\n",
       "      <th>3</th>\n",
       "      <td>Борщенюк Александра Витальевна</td>\n",
       "      <td>Черное зеркало, Как я встретил вашу маму, Спле...</td>\n",
       "      <td>40.0</td>\n",
       "      <td>средне</td>\n",
       "      <td>True</td>\n",
       "      <td>4</td>\n",
       "      <td>87.75</td>\n",
       "      <td>False</td>\n",
       "    </tr>\n",
       "    <tr>\n",
       "      <th>4</th>\n",
       "      <td>Веденеев Степан Васильевич</td>\n",
       "      <td>Игра престолов, Теория большого взрыва</td>\n",
       "      <td>30.0</td>\n",
       "      <td>хорошо</td>\n",
       "      <td>True</td>\n",
       "      <td>3</td>\n",
       "      <td>100.00</td>\n",
       "      <td>False</td>\n",
       "    </tr>\n",
       "  </tbody>\n",
       "</table>\n",
       "</div>"
      ],
      "text/plain": [
       "                               Name  \\\n",
       "0     Акчурина Анастасия Максимовна   \n",
       "1       Асадуллин Амир Искандерович   \n",
       "2  Болотина Елизавета Александровна   \n",
       "3    Борщенюк Александра Витальевна   \n",
       "4        Веденеев Степан Васильевич   \n",
       "\n",
       "                                      FavoriteSeries  MetroTime  \\\n",
       "0  Друзья, Шерлок, Стыд, Рик и Морти, Игра престо...       15.0   \n",
       "1  Gravity Falls, South Park, Futurama, Star vs. ...        0.0   \n",
       "2  Доктор хаус, Конец этого еххного мира, Оранжев...       30.0   \n",
       "3  Черное зеркало, Как я встретил вашу маму, Спле...       40.0   \n",
       "4             Игра престолов, Теория большого взрыва       30.0   \n",
       "\n",
       "  HomeInternetSpeed  UseMetro  ExamQuantity  AverageScore  ScoreUnknown  \n",
       "0               NaN      True             3         94.00         False  \n",
       "1             плохо     False             4         82.25         False  \n",
       "2            хорошо      True             4         84.25         False  \n",
       "3            средне      True             4         87.75         False  \n",
       "4            хорошо      True             3        100.00         False  "
      ]
     },
     "execution_count": 36,
     "metadata": {},
     "output_type": "execute_result"
    }
   ],
   "source": [
    "data.head()"
   ]
  },
  {
   "cell_type": "code",
   "execution_count": 37,
   "metadata": {},
   "outputs": [
    {
     "data": {
      "text/plain": [
       "хорошо    19\n",
       "средне    17\n",
       "плохо      9\n",
       "Name: HomeInternetSpeed, dtype: int64"
      ]
     },
     "execution_count": 37,
     "metadata": {},
     "output_type": "execute_result"
    }
   ],
   "source": [
    "data.HomeInternetSpeed.value_counts()"
   ]
  },
  {
   "cell_type": "code",
   "execution_count": 38,
   "metadata": {},
   "outputs": [],
   "source": [
    "data.HomeInternetSpeed = data.HomeInternetSpeed.map({'хорошо':1, \"средне\":0, \"плохо\":-1})"
   ]
  },
  {
   "cell_type": "code",
   "execution_count": 39,
   "metadata": {},
   "outputs": [
    {
     "data": {
      "text/plain": [
       "Name                  0\n",
       "FavoriteSeries        6\n",
       "MetroTime             0\n",
       "HomeInternetSpeed    11\n",
       "UseMetro              0\n",
       "ExamQuantity          0\n",
       "AverageScore          0\n",
       "ScoreUnknown          0\n",
       "dtype: int64"
      ]
     },
     "execution_count": 39,
     "metadata": {},
     "output_type": "execute_result"
    }
   ],
   "source": [
    "data.isnull().sum()"
   ]
  },
  {
   "cell_type": "code",
   "execution_count": 40,
   "metadata": {
    "collapsed": true
   },
   "outputs": [],
   "source": [
    "data['InternetSpeedUnknown'] = data.HomeInternetSpeed.isnull()"
   ]
  },
  {
   "cell_type": "code",
   "execution_count": 41,
   "metadata": {},
   "outputs": [],
   "source": [
    "data.HomeInternetSpeed = data.HomeInternetSpeed.fillna(0).astype(int)"
   ]
  },
  {
   "cell_type": "code",
   "execution_count": 42,
   "metadata": {},
   "outputs": [
    {
     "data": {
      "text/html": [
       "<div>\n",
       "<style>\n",
       "    .dataframe thead tr:only-child th {\n",
       "        text-align: right;\n",
       "    }\n",
       "\n",
       "    .dataframe thead th {\n",
       "        text-align: left;\n",
       "    }\n",
       "\n",
       "    .dataframe tbody tr th {\n",
       "        vertical-align: top;\n",
       "    }\n",
       "</style>\n",
       "<table border=\"1\" class=\"dataframe\">\n",
       "  <thead>\n",
       "    <tr style=\"text-align: right;\">\n",
       "      <th></th>\n",
       "      <th>Name</th>\n",
       "      <th>FavoriteSeries</th>\n",
       "      <th>MetroTime</th>\n",
       "      <th>HomeInternetSpeed</th>\n",
       "      <th>UseMetro</th>\n",
       "      <th>ExamQuantity</th>\n",
       "      <th>AverageScore</th>\n",
       "      <th>ScoreUnknown</th>\n",
       "      <th>InternetSpeedUnknown</th>\n",
       "    </tr>\n",
       "  </thead>\n",
       "  <tbody>\n",
       "    <tr>\n",
       "      <th>0</th>\n",
       "      <td>Акчурина Анастасия Максимовна</td>\n",
       "      <td>Друзья, Шерлок, Стыд, Рик и Морти, Игра престо...</td>\n",
       "      <td>15.0</td>\n",
       "      <td>0</td>\n",
       "      <td>True</td>\n",
       "      <td>3</td>\n",
       "      <td>94.00</td>\n",
       "      <td>False</td>\n",
       "      <td>True</td>\n",
       "    </tr>\n",
       "    <tr>\n",
       "      <th>1</th>\n",
       "      <td>Асадуллин Амир Искандерович</td>\n",
       "      <td>Gravity Falls, South Park, Futurama, Star vs. ...</td>\n",
       "      <td>0.0</td>\n",
       "      <td>-1</td>\n",
       "      <td>False</td>\n",
       "      <td>4</td>\n",
       "      <td>82.25</td>\n",
       "      <td>False</td>\n",
       "      <td>False</td>\n",
       "    </tr>\n",
       "    <tr>\n",
       "      <th>2</th>\n",
       "      <td>Болотина Елизавета Александровна</td>\n",
       "      <td>Доктор хаус, Конец этого еххного мира, Оранжев...</td>\n",
       "      <td>30.0</td>\n",
       "      <td>1</td>\n",
       "      <td>True</td>\n",
       "      <td>4</td>\n",
       "      <td>84.25</td>\n",
       "      <td>False</td>\n",
       "      <td>False</td>\n",
       "    </tr>\n",
       "    <tr>\n",
       "      <th>3</th>\n",
       "      <td>Борщенюк Александра Витальевна</td>\n",
       "      <td>Черное зеркало, Как я встретил вашу маму, Спле...</td>\n",
       "      <td>40.0</td>\n",
       "      <td>0</td>\n",
       "      <td>True</td>\n",
       "      <td>4</td>\n",
       "      <td>87.75</td>\n",
       "      <td>False</td>\n",
       "      <td>False</td>\n",
       "    </tr>\n",
       "    <tr>\n",
       "      <th>4</th>\n",
       "      <td>Веденеев Степан Васильевич</td>\n",
       "      <td>Игра престолов, Теория большого взрыва</td>\n",
       "      <td>30.0</td>\n",
       "      <td>1</td>\n",
       "      <td>True</td>\n",
       "      <td>3</td>\n",
       "      <td>100.00</td>\n",
       "      <td>False</td>\n",
       "      <td>False</td>\n",
       "    </tr>\n",
       "  </tbody>\n",
       "</table>\n",
       "</div>"
      ],
      "text/plain": [
       "                               Name  \\\n",
       "0     Акчурина Анастасия Максимовна   \n",
       "1       Асадуллин Амир Искандерович   \n",
       "2  Болотина Елизавета Александровна   \n",
       "3    Борщенюк Александра Витальевна   \n",
       "4        Веденеев Степан Васильевич   \n",
       "\n",
       "                                      FavoriteSeries  MetroTime  \\\n",
       "0  Друзья, Шерлок, Стыд, Рик и Морти, Игра престо...       15.0   \n",
       "1  Gravity Falls, South Park, Futurama, Star vs. ...        0.0   \n",
       "2  Доктор хаус, Конец этого еххного мира, Оранжев...       30.0   \n",
       "3  Черное зеркало, Как я встретил вашу маму, Спле...       40.0   \n",
       "4             Игра престолов, Теория большого взрыва       30.0   \n",
       "\n",
       "   HomeInternetSpeed  UseMetro  ExamQuantity  AverageScore  ScoreUnknown  \\\n",
       "0                  0      True             3         94.00         False   \n",
       "1                 -1     False             4         82.25         False   \n",
       "2                  1      True             4         84.25         False   \n",
       "3                  0      True             4         87.75         False   \n",
       "4                  1      True             3        100.00         False   \n",
       "\n",
       "   InternetSpeedUnknown  \n",
       "0                  True  \n",
       "1                 False  \n",
       "2                 False  \n",
       "3                 False  \n",
       "4                 False  "
      ]
     },
     "execution_count": 42,
     "metadata": {},
     "output_type": "execute_result"
    }
   ],
   "source": [
    "data.head()"
   ]
  },
  {
   "cell_type": "code",
   "execution_count": 43,
   "metadata": {},
   "outputs": [],
   "source": [
    "data.FavoriteSeries = data.FavoriteSeries.str.lower()"
   ]
  },
  {
   "cell_type": "code",
   "execution_count": 44,
   "metadata": {},
   "outputs": [],
   "source": [
    "from sklearn.feature_extraction.text import CountVectorizer"
   ]
  },
  {
   "cell_type": "code",
   "execution_count": 45,
   "metadata": {
    "collapsed": true
   },
   "outputs": [],
   "source": [
    "vectorizer = CountVectorizer()"
   ]
  },
  {
   "cell_type": "code",
   "execution_count": 46,
   "metadata": {},
   "outputs": [],
   "source": [
    "data.FavoriteSeries.fillna('noseries', inplace=True)"
   ]
  },
  {
   "cell_type": "code",
   "execution_count": 47,
   "metadata": {},
   "outputs": [],
   "source": [
    "data.FavoriteSeries_processed = data.FavoriteSeries.str.split(',')\n",
    "\n",
    "data.FavoriteSeries_processed = data.FavoriteSeries_processed.apply(\n",
    "    lambda row: [x.strip().replace(' ', '_') for x in row])"
   ]
  },
  {
   "cell_type": "code",
   "execution_count": 48,
   "metadata": {},
   "outputs": [],
   "source": [
    "data.FavoriteSeries_processed = data.FavoriteSeries_processed.apply(lambda row: \",\".join(row))"
   ]
  },
  {
   "cell_type": "code",
   "execution_count": 49,
   "metadata": {},
   "outputs": [],
   "source": [
    "FavoriteSeries_processed = vectorizer.fit_transform(data.FavoriteSeries_processed)"
   ]
  },
  {
   "cell_type": "code",
   "execution_count": 50,
   "metadata": {},
   "outputs": [],
   "source": [
    "FavoriteSeries_processed = pd.DataFrame(FavoriteSeries_processed.toarray())\n",
    "FavoriteSeries_processed.columns = vectorizer.get_feature_names()"
   ]
  },
  {
   "cell_type": "code",
   "execution_count": 51,
   "metadata": {},
   "outputs": [
    {
     "data": {
      "text/plain": [
       "<matplotlib.axes._subplots.AxesSubplot at 0x11c4e5ef0>"
      ]
     },
     "execution_count": 51,
     "metadata": {},
     "output_type": "execute_result"
    },
    {
     "data": {
      "image/png": "[encoded data removed]",
      "text/plain": [
       "<matplotlib.figure.Figure at 0x11c4e5470>"
      ]
     },
     "metadata": {},
     "output_type": "display_data"
    }
   ],
   "source": [
    "FavoriteSeries_processed.sum().sort_values(ascending=False).head(10).plot.bar()"
   ]
  },
  {
   "cell_type": "code",
   "execution_count": 52,
   "metadata": {
    "collapsed": true
   },
   "outputs": [],
   "source": [
    "top_ten_series = FavoriteSeries_processed.sum().sort_values(ascending=False).head(10).index"
   ]
  },
  {
   "cell_type": "code",
   "execution_count": 53,
   "metadata": {},
   "outputs": [
    {
     "data": {
      "text/plain": [
       "<matplotlib.axes._subplots.AxesSubplot at 0x11c61b630>"
      ]
     },
     "execution_count": 53,
     "metadata": {},
     "output_type": "execute_result"
    },
    {
     "data": {
      "image/png": "[encoded data removed]",
      "text/plain": [
       "<matplotlib.figure.Figure at 0x11c5fa748>"
      ]
     },
     "metadata": {},
     "output_type": "display_data"
    }
   ],
   "source": [
    "plt.figure(figsize = (12, 10))\n",
    "sns.heatmap(FavoriteSeries_processed[top_ten_series].corr('spearman'))"
   ]
  },
  {
   "cell_type": "code",
   "execution_count": 54,
   "metadata": {},
   "outputs": [],
   "source": [
    "data = pd.concat([data, FavoriteSeries_processed[top_ten_series]], axis=1)"
   ]
  },
  {
   "cell_type": "code",
   "execution_count": 55,
   "metadata": {},
   "outputs": [],
   "source": [
    "data['TotalSeriesWatched'] = FavoriteSeries_processed.sum(1)"
   ]
  },
  {
   "cell_type": "code",
   "execution_count": 56,
   "metadata": {},
   "outputs": [
    {
     "data": {
      "text/html": [
       "<div>\n",
       "<style>\n",
       "    .dataframe thead tr:only-child th {\n",
       "        text-align: right;\n",
       "    }\n",
       "\n",
       "    .dataframe thead th {\n",
       "        text-align: left;\n",
       "    }\n",
       "\n",
       "    .dataframe tbody tr th {\n",
       "        vertical-align: top;\n",
       "    }\n",
       "</style>\n",
       "<table border=\"1\" class=\"dataframe\">\n",
       "  <thead>\n",
       "    <tr style=\"text-align: right;\">\n",
       "      <th></th>\n",
       "      <th>Name</th>\n",
       "      <th>FavoriteSeries</th>\n",
       "      <th>MetroTime</th>\n",
       "      <th>HomeInternetSpeed</th>\n",
       "      <th>UseMetro</th>\n",
       "      <th>ExamQuantity</th>\n",
       "      <th>AverageScore</th>\n",
       "      <th>ScoreUnknown</th>\n",
       "      <th>InternetSpeedUnknown</th>\n",
       "      <th>шерлок</th>\n",
       "      <th>игра_престолов</th>\n",
       "      <th>теория_большого_взрыва</th>\n",
       "      <th>черное_зеркало</th>\n",
       "      <th>noseries</th>\n",
       "      <th>suits</th>\n",
       "      <th>во_все_тяжкие</th>\n",
       "      <th>друзья</th>\n",
       "      <th>доктор_хаус</th>\n",
       "      <th>сплетница</th>\n",
       "      <th>TotalSeriesWatched</th>\n",
       "    </tr>\n",
       "  </thead>\n",
       "  <tbody>\n",
       "    <tr>\n",
       "      <th>0</th>\n",
       "      <td>Акчурина Анастасия Максимовна</td>\n",
       "      <td>друзья, шерлок, стыд, рик и морти, игра престо...</td>\n",
       "      <td>15.0</td>\n",
       "      <td>0</td>\n",
       "      <td>True</td>\n",
       "      <td>3</td>\n",
       "      <td>94.00</td>\n",
       "      <td>False</td>\n",
       "      <td>True</td>\n",
       "      <td>1</td>\n",
       "      <td>1</td>\n",
       "      <td>0</td>\n",
       "      <td>0</td>\n",
       "      <td>0</td>\n",
       "      <td>0</td>\n",
       "      <td>0</td>\n",
       "      <td>1</td>\n",
       "      <td>1</td>\n",
       "      <td>0</td>\n",
       "      <td>7</td>\n",
       "    </tr>\n",
       "    <tr>\n",
       "      <th>1</th>\n",
       "      <td>Асадуллин Амир Искандерович</td>\n",
       "      <td>gravity falls, south park, futurama, star vs. ...</td>\n",
       "      <td>0.0</td>\n",
       "      <td>-1</td>\n",
       "      <td>False</td>\n",
       "      <td>4</td>\n",
       "      <td>82.25</td>\n",
       "      <td>False</td>\n",
       "      <td>False</td>\n",
       "      <td>0</td>\n",
       "      <td>0</td>\n",
       "      <td>0</td>\n",
       "      <td>0</td>\n",
       "      <td>0</td>\n",
       "      <td>0</td>\n",
       "      <td>0</td>\n",
       "      <td>0</td>\n",
       "      <td>0</td>\n",
       "      <td>0</td>\n",
       "      <td>5</td>\n",
       "    </tr>\n",
       "    <tr>\n",
       "      <th>2</th>\n",
       "      <td>Болотина Елизавета Александровна</td>\n",
       "      <td>доктор хаус, конец этого еххного мира, оранжев...</td>\n",
       "      <td>30.0</td>\n",
       "      <td>1</td>\n",
       "      <td>True</td>\n",
       "      <td>4</td>\n",
       "      <td>84.25</td>\n",
       "      <td>False</td>\n",
       "      <td>False</td>\n",
       "      <td>0</td>\n",
       "      <td>0</td>\n",
       "      <td>0</td>\n",
       "      <td>0</td>\n",
       "      <td>0</td>\n",
       "      <td>0</td>\n",
       "      <td>0</td>\n",
       "      <td>0</td>\n",
       "      <td>1</td>\n",
       "      <td>0</td>\n",
       "      <td>6</td>\n",
       "    </tr>\n",
       "    <tr>\n",
       "      <th>3</th>\n",
       "      <td>Борщенюк Александра Витальевна</td>\n",
       "      <td>черное зеркало, как я встретил вашу маму, спле...</td>\n",
       "      <td>40.0</td>\n",
       "      <td>0</td>\n",
       "      <td>True</td>\n",
       "      <td>4</td>\n",
       "      <td>87.75</td>\n",
       "      <td>False</td>\n",
       "      <td>False</td>\n",
       "      <td>0</td>\n",
       "      <td>0</td>\n",
       "      <td>0</td>\n",
       "      <td>1</td>\n",
       "      <td>0</td>\n",
       "      <td>0</td>\n",
       "      <td>0</td>\n",
       "      <td>0</td>\n",
       "      <td>0</td>\n",
       "      <td>1</td>\n",
       "      <td>6</td>\n",
       "    </tr>\n",
       "    <tr>\n",
       "      <th>4</th>\n",
       "      <td>Веденеев Степан Васильевич</td>\n",
       "      <td>игра престолов, теория большого взрыва</td>\n",
       "      <td>30.0</td>\n",
       "      <td>1</td>\n",
       "      <td>True</td>\n",
       "      <td>3</td>\n",
       "      <td>100.00</td>\n",
       "      <td>False</td>\n",
       "      <td>False</td>\n",
       "      <td>0</td>\n",
       "      <td>1</td>\n",
       "      <td>1</td>\n",
       "      <td>0</td>\n",
       "      <td>0</td>\n",
       "      <td>0</td>\n",
       "      <td>0</td>\n",
       "      <td>0</td>\n",
       "      <td>0</td>\n",
       "      <td>0</td>\n",
       "      <td>2</td>\n",
       "    </tr>\n",
       "  </tbody>\n",
       "</table>\n",
       "</div>"
      ],
      "text/plain": [
       "                               Name  \\\n",
       "0     Акчурина Анастасия Максимовна   \n",
       "1       Асадуллин Амир Искандерович   \n",
       "2  Болотина Елизавета Александровна   \n",
       "3    Борщенюк Александра Витальевна   \n",
       "4        Веденеев Степан Васильевич   \n",
       "\n",
       "                                      FavoriteSeries  MetroTime  \\\n",
       "0  друзья, шерлок, стыд, рик и морти, игра престо...       15.0   \n",
       "1  gravity falls, south park, futurama, star vs. ...        0.0   \n",
       "2  доктор хаус, конец этого еххного мира, оранжев...       30.0   \n",
       "3  черное зеркало, как я встретил вашу маму, спле...       40.0   \n",
       "4             игра престолов, теория большого взрыва       30.0   \n",
       "\n",
       "   HomeInternetSpeed  UseMetro  ExamQuantity  AverageScore  ScoreUnknown  \\\n",
       "0                  0      True             3         94.00         False   \n",
       "1                 -1     False             4         82.25         False   \n",
       "2                  1      True             4         84.25         False   \n",
       "3                  0      True             4         87.75         False   \n",
       "4                  1      True             3        100.00         False   \n",
       "\n",
       "   InternetSpeedUnknown  шерлок  игра_престолов  теория_большого_взрыва  \\\n",
       "0                  True       1               1                       0   \n",
       "1                 False       0               0                       0   \n",
       "2                 False       0               0                       0   \n",
       "3                 False       0               0                       0   \n",
       "4                 False       0               1                       1   \n",
       "\n",
       "   черное_зеркало  noseries  suits  во_все_тяжкие  друзья  доктор_хаус  \\\n",
       "0               0         0      0              0       1            1   \n",
       "1               0         0      0              0       0            0   \n",
       "2               0         0      0              0       0            1   \n",
       "3               1         0      0              0       0            0   \n",
       "4               0         0      0              0       0            0   \n",
       "\n",
       "   сплетница  TotalSeriesWatched  \n",
       "0          0                   7  \n",
       "1          0                   5  \n",
       "2          0                   6  \n",
       "3          1                   6  \n",
       "4          0                   2  "
      ]
     },
     "execution_count": 56,
     "metadata": {},
     "output_type": "execute_result"
    }
   ],
   "source": [
    "data.head()"
   ]
  },
  {
   "cell_type": "code",
   "execution_count": 57,
   "metadata": {
    "collapsed": true
   },
   "outputs": [],
   "source": [
    "data['NameLength'] = data.Name.apply(len)\n",
    "data.set_index(data.Name, inplace=True)"
   ]
  },
  {
   "cell_type": "code",
   "execution_count": 58,
   "metadata": {
    "collapsed": true
   },
   "outputs": [],
   "source": [
    "data.drop(['Name', 'FavoriteSeries'], axis=1, inplace=True)"
   ]
  },
  {
   "cell_type": "code",
   "execution_count": 59,
   "metadata": {},
   "outputs": [
    {
     "data": {
      "text/plain": [
       "<matplotlib.axes._subplots.AxesSubplot at 0x11c7f2c50>"
      ]
     },
     "execution_count": 59,
     "metadata": {},
     "output_type": "execute_result"
    },
    {
     "data": {
      "image/png": "[encoded data removed]",
      "text/plain": [
       "<matplotlib.figure.Figure at 0x11caa7da0>"
      ]
     },
     "metadata": {},
     "output_type": "display_data"
    }
   ],
   "source": [
    "plt.figure(figsize = (12, 10))\n",
    "sns.heatmap(data.corr('spearman'))"
   ]
  },
  {
   "cell_type": "code",
   "execution_count": 60,
   "metadata": {},
   "outputs": [
    {
     "data": {
      "text/plain": [
       "Index(['MetroTime', 'HomeInternetSpeed', 'UseMetro', 'ExamQuantity',\n",
       "       'AverageScore', 'ScoreUnknown', 'InternetSpeedUnknown', 'шерлок',\n",
       "       'игра_престолов', 'теория_большого_взрыва', 'черное_зеркало',\n",
       "       'noseries', 'suits', 'во_все_тяжкие', 'друзья', 'доктор_хаус',\n",
       "       'сплетница', 'TotalSeriesWatched', 'NameLength'],\n",
       "      dtype='object')"
      ]
     },
     "execution_count": 60,
     "metadata": {},
     "output_type": "execute_result"
    }
   ],
   "source": [
    "data.columns"
   ]
  },
  {
   "cell_type": "code",
   "execution_count": 122,
   "metadata": {},
   "outputs": [],
   "source": [
    "from sklearn.manifold import TSNE\n",
    "from sklearn.preprocessing import StandardScaler\n",
    "\n",
    "# преобразуем все признаки в числовые\n",
    "X = data.copy()\n",
    "scaler = StandardScaler()\n",
    "X_scaled = X.copy()\n",
    "X_scaled[['MetroTime', 'AverageScore', 'NameLength', 'TotalSeriesWatched']] =\\\n",
    "scaler.fit_transform(X[['MetroTime', 'AverageScore', 'NameLength', 'TotalSeriesWatched']])"
   ]
  },
  {
   "cell_type": "code",
   "execution_count": 123,
   "metadata": {},
   "outputs": [
    {
     "name": "stdout",
     "output_type": "stream",
     "text": [
      "CPU times: user 549 ms, sys: 74.9 ms, total: 624 ms\n",
      "Wall time: 634 ms\n"
     ]
    }
   ],
   "source": [
    "%%time\n",
    "tsne = TSNE(random_state=17)\n",
    "tsne_representation = tsne.fit_transform(X_scaled)"
   ]
  },
  {
   "cell_type": "code",
   "execution_count": 124,
   "metadata": {},
   "outputs": [
    {
     "data": {
      "image/png": "[encoded data removed]",
      "text/plain": [
       "<matplotlib.figure.Figure at 0x11da71ba8>"
      ]
     },
     "metadata": {},
     "output_type": "display_data"
    }
   ],
   "source": [
    "plt.scatter(tsne_representation[:, 0], tsne_representation[:, 1]);"
   ]
  },
  {
   "cell_type": "code",
   "execution_count": 125,
   "metadata": {
    "collapsed": true
   },
   "outputs": [],
   "source": [
    "from sklearn.cluster import KMeans"
   ]
  },
  {
   "cell_type": "code",
   "execution_count": 126,
   "metadata": {},
   "outputs": [
    {
     "data": {
      "image/png": "[encoded data removed]",
      "text/plain": [
       "<matplotlib.figure.Figure at 0x11dd1c710>"
      ]
     },
     "metadata": {},
     "output_type": "display_data"
    }
   ],
   "source": [
    "from sklearn import metrics\n",
    "from scipy.spatial.distance import cdist\n",
    "\n",
    "# k means determine k\n",
    "distortions = []\n",
    "K = range(1, 10)\n",
    "for k in K:\n",
    "    kmeanModel = KMeans(n_clusters=k)\n",
    "    kmeanModel.fit(X_scaled)\n",
    "    distortions.append(sum(np.min(cdist(X_scaled, kmeanModel.cluster_centers_, 'euclidean'), axis=1)) / X_scaled.shape[0])\n",
    "\n",
    "# Plot the elbow\n",
    "plt.plot(K, distortions, 'bx-')\n",
    "plt.xlabel('k')\n",
    "plt.ylabel('Distortion')\n",
    "plt.title('The Elbow Method showing the optimal k')\n",
    "plt.show()\n"
   ]
  },
  {
   "cell_type": "code",
   "execution_count": 127,
   "metadata": {},
   "outputs": [
    {
     "data": {
      "text/plain": [
       "KMeans(algorithm='auto', copy_x=True, init='k-means++', max_iter=300,\n",
       "    n_clusters=2, n_init=10, n_jobs=1, precompute_distances='auto',\n",
       "    random_state=None, tol=0.0001, verbose=0)"
      ]
     },
     "execution_count": 127,
     "metadata": {},
     "output_type": "execute_result"
    }
   ],
   "source": [
    "kmeanModel = KMeans(n_clusters=2)\n",
    "kmeanModel.fit(X_scaled)"
   ]
  },
  {
   "cell_type": "code",
   "execution_count": 128,
   "metadata": {},
   "outputs": [
    {
     "data": {
      "text/plain": [
       "array([1, 1, 1, 1, 1, 1, 0, 0, 0, 1, 0, 1, 0, 1, 1, 1, 1, 1, 1, 1, 1, 1,\n",
       "       1, 1, 1, 0, 1, 0, 0, 1, 1, 1, 0, 1, 0, 1, 0, 0, 0, 0, 0, 1, 1, 0,\n",
       "       0, 0, 1, 1, 0, 1, 0, 0, 0, 1, 1, 1], dtype=int32)"
      ]
     },
     "execution_count": 128,
     "metadata": {},
     "output_type": "execute_result"
    }
   ],
   "source": [
    "kmeanModel.labels_"
   ]
  },
  {
   "cell_type": "code",
   "execution_count": 129,
   "metadata": {},
   "outputs": [],
   "source": [
    "X['clusterLabels'] = kmeanModel.labels_\n",
    "X_scaled['clusterLabels'] = kmeanModel.labels_"
   ]
  },
  {
   "cell_type": "code",
   "execution_count": 130,
   "metadata": {},
   "outputs": [
    {
     "data": {
      "text/plain": [
       "1    34\n",
       "0    22\n",
       "Name: clusterLabels, dtype: int64"
      ]
     },
     "execution_count": 130,
     "metadata": {},
     "output_type": "execute_result"
    }
   ],
   "source": [
    "X.clusterLabels.value_counts()"
   ]
  },
  {
   "cell_type": "code",
   "execution_count": 131,
   "metadata": {},
   "outputs": [
    {
     "data": {
      "image/png": "[encoded data removed]",
      "text/plain": [
       "<matplotlib.figure.Figure at 0x11c304c50>"
      ]
     },
     "metadata": {},
     "output_type": "display_data"
    }
   ],
   "source": [
    "X_scaled.groupby('clusterLabels').mean().T.plot.barh(figsize=(8, 10));"
   ]
  },
  {
   "cell_type": "code",
   "execution_count": 142,
   "metadata": {},
   "outputs": [
    {
     "data": {
      "image/png": "[encoded data removed]",
      "text/plain": [
       "<matplotlib.figure.Figure at 0x11d9424a8>"
      ]
     },
     "metadata": {},
     "output_type": "display_data"
    }
   ],
   "source": [
    "from scipy.cluster import hierarchy\n",
    "from scipy.spatial.distance import pdist\n",
    "\n",
    "distance_mat = pdist(X_scaled) # pdist посчитает нам верхний треугольник матрицы попарных расстояний\n",
    "\n",
    "Z = hierarchy.linkage(distance_mat, 'single') # linkage — реализация агломеративного алгоритма\n",
    "plt.figure(figsize=(10, 20))\n",
    "dn = hierarchy.dendrogram(Z, color_threshold=2.1, labels=X.index,leaf_font_size=12., orientation='left')"
   ]
  },
  {
   "cell_type": "code",
   "execution_count": 72,
   "metadata": {},
   "outputs": [
    {
     "data": {
      "text/plain": [
       "(55, 4)"
      ]
     },
     "execution_count": 72,
     "metadata": {},
     "output_type": "execute_result"
    }
   ],
   "source": [
    "Z.shape"
   ]
  },
  {
   "cell_type": "code",
   "execution_count": null,
   "metadata": {
    "collapsed": true
   },
   "outputs": [],
   "source": []
  }
 ],
 "metadata": {
  "kernelspec": {
   "display_name": "Python 3",
   "language": "python",
   "name": "python3"
  },
  "language_info": {
   "codemirror_mode": {
    "name": "ipython",
    "version": 3
   },
   "file_extension": ".py",
   "mimetype": "text/x-python",
   "name": "python",
   "nbconvert_exporter": "python",
   "pygments_lexer": "ipython3",
   "version": "3.6.1"
  },
  "varInspector": {
   "cols": {
    "lenName": 16,
    "lenType": 16,
    "lenVar": 40
   },
   "kernels_config": {
    "python": {
     "delete_cmd_postfix": "",
     "delete_cmd_prefix": "del ",
     "library": "var_list.py",
     "varRefreshCmd": "print(var_dic_list())"
    },
    "r": {
     "delete_cmd_postfix": ") ",
     "delete_cmd_prefix": "rm(",
     "library": "var_list.r",
     "varRefreshCmd": "cat(var_dic_list()) "
    }
   },
   "types_to_exclude": [
    "module",
    "function",
    "builtin_function_or_method",
    "instance",
    "_Feature"
   ],
   "window_display": false
  }
 },
 "nbformat": 4,
 "nbformat_minor": 2
}
